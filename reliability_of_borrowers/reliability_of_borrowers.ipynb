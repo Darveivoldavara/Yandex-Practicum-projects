{
 "cells": [
  {
   "cell_type": "markdown",
   "id": "4cfa7f39",
   "metadata": {
    "jp-MarkdownHeadingCollapsed": true,
    "tags": [],
    "toc": true
   },
   "source": [
    "<h1>Содержание<span class=\"tocSkip\"></span></h1>\n",
    "<div class=\"toc\"><ul class=\"toc-item\"><li><span><a href=\"#Обзор-данных\" data-toc-modified-id=\"Обзор-данных-1\"><span class=\"toc-item-num\">1&nbsp;&nbsp;</span>Обзор данных</a></span></li><li><span><a href=\"#Предобработка-данных\" data-toc-modified-id=\"Предобработка-данных-2\"><span class=\"toc-item-num\">2&nbsp;&nbsp;</span>Предобработка данных</a></span><ul class=\"toc-item\"><li><span><a href=\"#Заполнение-пропусков\" data-toc-modified-id=\"Заполнение-пропусков-2.1\"><span class=\"toc-item-num\">2.1&nbsp;&nbsp;</span>Заполнение пропусков</a></span></li><li><span><a href=\"#Проверка-данных-на-аномалии-и-исправления\" data-toc-modified-id=\"Проверка-данных-на-аномалии-и-исправления-2.2\"><span class=\"toc-item-num\">2.2&nbsp;&nbsp;</span>Проверка данных на аномалии и исправления</a></span></li><li><span><a href=\"#Изменение-типов-данных\" data-toc-modified-id=\"Изменение-типов-данных-2.3\"><span class=\"toc-item-num\">2.3&nbsp;&nbsp;</span>Изменение типов данных</a></span></li><li><span><a href=\"#Удаление-дубликатов\" data-toc-modified-id=\"Удаление-дубликатов-2.4\"><span class=\"toc-item-num\">2.4&nbsp;&nbsp;</span>Удаление дубликатов</a></span></li><li><span><a href=\"#Формирование-дополнительных-датафреймов-словарей,-декомпозиция-исходного-датафрейма\" data-toc-modified-id=\"Формирование-дополнительных-датафреймов-словарей,-декомпозиция-исходного-датафрейма-2.5\"><span class=\"toc-item-num\">2.5&nbsp;&nbsp;</span>Формирование дополнительных датафреймов словарей, декомпозиция исходного датафрейма</a></span></li><li><span><a href=\"#Категоризация-дохода\" data-toc-modified-id=\"Категоризация-дохода-2.6\"><span class=\"toc-item-num\">2.6&nbsp;&nbsp;</span>Категоризация дохода</a></span></li><li><span><a href=\"#Категоризация-целей-кредита\" data-toc-modified-id=\"Категоризация-целей-кредита-2.7\"><span class=\"toc-item-num\">2.7&nbsp;&nbsp;</span>Категоризация целей кредита</a></span></li></ul></li><li><span><a href=\"#Ответы-на-вопросы-исследования\" data-toc-modified-id=\"Ответы-на-вопросы-исследования-3\"><span class=\"toc-item-num\">3&nbsp;&nbsp;</span>Ответы на вопросы исследования</a></span><ul class=\"toc-item\"><li><span><a href=\"#Выяснение-зависимости-между-количеством-детей-клиента-и-возвратом-им-кредита-в-срок\" data-toc-modified-id=\"Выяснение-зависимости-между-количеством-детей-клиента-и-возвратом-им-кредита-в-срок-3.1\"><span class=\"toc-item-num\">3.1&nbsp;&nbsp;</span>Выяснение зависимости между количеством детей клиента и возвратом им кредита в срок</a></span></li><li><span><a href=\"#Выяснение-зависимости-возврата-кредита-в-срок-от-семейного-положения-клиента\" data-toc-modified-id=\"Выяснение-зависимости-возврата-кредита-в-срок-от-семейного-положения-клиента-3.2\"><span class=\"toc-item-num\">3.2&nbsp;&nbsp;</span>Выяснение зависимости возврата кредита в срок от семейного положения клиента</a></span></li><li><span><a href=\"#Выяснение-зависимости-уровня-дохода-клиента-и-возврата-кредита-в-срок\" data-toc-modified-id=\"Выяснение-зависимости-уровня-дохода-клиента-и-возврата-кредита-в-срок-3.3\"><span class=\"toc-item-num\">3.3&nbsp;&nbsp;</span>Выяснение зависимости уровня дохода клиента и возврата кредита в срок</a></span></li><li><span><a href=\"#Влияние-цели-кредита-на-его-своевременное-погашение\" data-toc-modified-id=\"Влияние-цели-кредита-на-его-своевременное-погашение-3.4\"><span class=\"toc-item-num\">3.4&nbsp;&nbsp;</span>Влияние цели кредита на его своевременное погашение</a></span></li></ul></li><li><span><a href=\"#Общий-вывод\" data-toc-modified-id=\"Общий-вывод-4\"><span class=\"toc-item-num\">4&nbsp;&nbsp;</span>Общий вывод</a></span></li></ul></div>"
   ]
  },
  {
   "cell_type": "markdown",
   "id": "11a1cf14",
   "metadata": {},
   "source": [
    "# Исследование надёжности заемщиков"
   ]
  },
  {
   "cell_type": "markdown",
   "id": "f6f51e7e-431b-49b5-9d69-6532e6bdec4e",
   "metadata": {},
   "source": [
    "Заказчик исследования — кредитный отдел банка.\n",
    "Нужно разобраться, какие из выбранных характеристик клиента влияют на факт погашения кредита в срок.\n",
    "Входные данные от банка — статистика о платёжеспособности клиентов.\n",
    "\n",
    "**Цель исследования** — ответить на четыре вопроса:\n",
    "1. Есть ли зависимость между количеством детей и возвратом кредита в срок?\n",
    "2. Есть ли зависимость между семейным положением и возвратом кредита в срок? \n",
    "3. Есть ли зависимость между уровнем дохода и возвратом кредита в срок?\n",
    "4. Как разные цели кредита влияют на его возврат в срок?\n",
    "\n",
    "**Ход исследования**\n",
    "\n",
    "О качестве полученных данных ничего не известно. Поэтому перед ответами на вопросы понадобится обзор данных. \n",
    "\n",
    "Проверим данные на пропущенные значения и артефакты. Затем исправим их на этапе предобработки. После чего ответим на поставленные вопросы исследования.\n",
    " \n",
    "Таким образом, исследование пройдёт в три этапа:\n",
    " 1. Обзор данных.\n",
    " 2. Предобработка данных.\n",
    " 3. Ответы на вопросы."
   ]
  },
  {
   "cell_type": "markdown",
   "id": "1748e816",
   "metadata": {},
   "source": [
    "## Обзор данных"
   ]
  },
  {
   "cell_type": "code",
   "execution_count": 1,
   "id": "cd2d5f35",
   "metadata": {},
   "outputs": [],
   "source": [
    "# чтение csv-файла и создание датафрейма\n",
    "import pandas as pd\n",
    "\n",
    "df = pd.read_csv('data_borrowers.csv')"
   ]
  },
  {
   "cell_type": "code",
   "execution_count": 2,
   "id": "e61cc43f-f003-4792-adbe-637c196ff8db",
   "metadata": {},
   "outputs": [
    {
     "data": {
      "text/html": [
       "<div>\n",
       "<style scoped>\n",
       "    .dataframe tbody tr th:only-of-type {\n",
       "        vertical-align: middle;\n",
       "    }\n",
       "\n",
       "    .dataframe tbody tr th {\n",
       "        vertical-align: top;\n",
       "    }\n",
       "\n",
       "    .dataframe thead th {\n",
       "        text-align: right;\n",
       "    }\n",
       "</style>\n",
       "<table border=\"1\" class=\"dataframe\">\n",
       "  <thead>\n",
       "    <tr style=\"text-align: right;\">\n",
       "      <th></th>\n",
       "      <th>children</th>\n",
       "      <th>days_employed</th>\n",
       "      <th>dob_years</th>\n",
       "      <th>education</th>\n",
       "      <th>education_id</th>\n",
       "      <th>family_status</th>\n",
       "      <th>family_status_id</th>\n",
       "      <th>gender</th>\n",
       "      <th>income_type</th>\n",
       "      <th>debt</th>\n",
       "      <th>total_income</th>\n",
       "      <th>purpose</th>\n",
       "    </tr>\n",
       "  </thead>\n",
       "  <tbody>\n",
       "    <tr>\n",
       "      <th>1383</th>\n",
       "      <td>0</td>\n",
       "      <td>353802.811675</td>\n",
       "      <td>37</td>\n",
       "      <td>среднее</td>\n",
       "      <td>1</td>\n",
       "      <td>вдовец / вдова</td>\n",
       "      <td>2</td>\n",
       "      <td>F</td>\n",
       "      <td>пенсионер</td>\n",
       "      <td>0</td>\n",
       "      <td>216452.226085</td>\n",
       "      <td>строительство недвижимости</td>\n",
       "    </tr>\n",
       "    <tr>\n",
       "      <th>300</th>\n",
       "      <td>1</td>\n",
       "      <td>-359.193975</td>\n",
       "      <td>33</td>\n",
       "      <td>СРЕДНЕЕ</td>\n",
       "      <td>1</td>\n",
       "      <td>гражданский брак</td>\n",
       "      <td>1</td>\n",
       "      <td>M</td>\n",
       "      <td>сотрудник</td>\n",
       "      <td>0</td>\n",
       "      <td>223001.623994</td>\n",
       "      <td>на проведение свадьбы</td>\n",
       "    </tr>\n",
       "    <tr>\n",
       "      <th>6565</th>\n",
       "      <td>2</td>\n",
       "      <td>-1064.854333</td>\n",
       "      <td>35</td>\n",
       "      <td>среднее</td>\n",
       "      <td>1</td>\n",
       "      <td>гражданский брак</td>\n",
       "      <td>1</td>\n",
       "      <td>F</td>\n",
       "      <td>компаньон</td>\n",
       "      <td>0</td>\n",
       "      <td>163591.209323</td>\n",
       "      <td>свадьба</td>\n",
       "    </tr>\n",
       "    <tr>\n",
       "      <th>17027</th>\n",
       "      <td>0</td>\n",
       "      <td>NaN</td>\n",
       "      <td>48</td>\n",
       "      <td>высшее</td>\n",
       "      <td>0</td>\n",
       "      <td>гражданский брак</td>\n",
       "      <td>1</td>\n",
       "      <td>F</td>\n",
       "      <td>сотрудник</td>\n",
       "      <td>0</td>\n",
       "      <td>NaN</td>\n",
       "      <td>операции с жильем</td>\n",
       "    </tr>\n",
       "    <tr>\n",
       "      <th>4077</th>\n",
       "      <td>0</td>\n",
       "      <td>-7059.100220</td>\n",
       "      <td>45</td>\n",
       "      <td>высшее</td>\n",
       "      <td>0</td>\n",
       "      <td>гражданский брак</td>\n",
       "      <td>1</td>\n",
       "      <td>F</td>\n",
       "      <td>компаньон</td>\n",
       "      <td>1</td>\n",
       "      <td>194820.185757</td>\n",
       "      <td>сыграть свадьбу</td>\n",
       "    </tr>\n",
       "    <tr>\n",
       "      <th>10437</th>\n",
       "      <td>0</td>\n",
       "      <td>-2258.301455</td>\n",
       "      <td>50</td>\n",
       "      <td>среднее</td>\n",
       "      <td>1</td>\n",
       "      <td>женат / замужем</td>\n",
       "      <td>0</td>\n",
       "      <td>F</td>\n",
       "      <td>сотрудник</td>\n",
       "      <td>0</td>\n",
       "      <td>146768.250599</td>\n",
       "      <td>операции с коммерческой недвижимостью</td>\n",
       "    </tr>\n",
       "    <tr>\n",
       "      <th>9631</th>\n",
       "      <td>1</td>\n",
       "      <td>-1045.752744</td>\n",
       "      <td>23</td>\n",
       "      <td>среднее</td>\n",
       "      <td>1</td>\n",
       "      <td>женат / замужем</td>\n",
       "      <td>0</td>\n",
       "      <td>M</td>\n",
       "      <td>сотрудник</td>\n",
       "      <td>0</td>\n",
       "      <td>81734.568425</td>\n",
       "      <td>операции с коммерческой недвижимостью</td>\n",
       "    </tr>\n",
       "    <tr>\n",
       "      <th>19867</th>\n",
       "      <td>0</td>\n",
       "      <td>NaN</td>\n",
       "      <td>39</td>\n",
       "      <td>среднее</td>\n",
       "      <td>1</td>\n",
       "      <td>женат / замужем</td>\n",
       "      <td>0</td>\n",
       "      <td>M</td>\n",
       "      <td>сотрудник</td>\n",
       "      <td>0</td>\n",
       "      <td>NaN</td>\n",
       "      <td>дополнительное образование</td>\n",
       "    </tr>\n",
       "    <tr>\n",
       "      <th>9124</th>\n",
       "      <td>0</td>\n",
       "      <td>-282.186487</td>\n",
       "      <td>48</td>\n",
       "      <td>среднее</td>\n",
       "      <td>1</td>\n",
       "      <td>в разводе</td>\n",
       "      <td>3</td>\n",
       "      <td>F</td>\n",
       "      <td>компаньон</td>\n",
       "      <td>0</td>\n",
       "      <td>284275.683334</td>\n",
       "      <td>строительство жилой недвижимости</td>\n",
       "    </tr>\n",
       "    <tr>\n",
       "      <th>19634</th>\n",
       "      <td>0</td>\n",
       "      <td>-1320.103813</td>\n",
       "      <td>46</td>\n",
       "      <td>среднее</td>\n",
       "      <td>1</td>\n",
       "      <td>женат / замужем</td>\n",
       "      <td>0</td>\n",
       "      <td>F</td>\n",
       "      <td>компаньон</td>\n",
       "      <td>0</td>\n",
       "      <td>184569.030590</td>\n",
       "      <td>автомобили</td>\n",
       "    </tr>\n",
       "    <tr>\n",
       "      <th>20389</th>\n",
       "      <td>0</td>\n",
       "      <td>NaN</td>\n",
       "      <td>58</td>\n",
       "      <td>среднее</td>\n",
       "      <td>1</td>\n",
       "      <td>женат / замужем</td>\n",
       "      <td>0</td>\n",
       "      <td>F</td>\n",
       "      <td>пенсионер</td>\n",
       "      <td>0</td>\n",
       "      <td>NaN</td>\n",
       "      <td>ремонт жилью</td>\n",
       "    </tr>\n",
       "    <tr>\n",
       "      <th>12257</th>\n",
       "      <td>2</td>\n",
       "      <td>NaN</td>\n",
       "      <td>38</td>\n",
       "      <td>высшее</td>\n",
       "      <td>0</td>\n",
       "      <td>женат / замужем</td>\n",
       "      <td>0</td>\n",
       "      <td>M</td>\n",
       "      <td>компаньон</td>\n",
       "      <td>0</td>\n",
       "      <td>NaN</td>\n",
       "      <td>заняться образованием</td>\n",
       "    </tr>\n",
       "    <tr>\n",
       "      <th>17051</th>\n",
       "      <td>1</td>\n",
       "      <td>NaN</td>\n",
       "      <td>30</td>\n",
       "      <td>высшее</td>\n",
       "      <td>0</td>\n",
       "      <td>Не женат / не замужем</td>\n",
       "      <td>4</td>\n",
       "      <td>F</td>\n",
       "      <td>сотрудник</td>\n",
       "      <td>0</td>\n",
       "      <td>NaN</td>\n",
       "      <td>ремонт жилью</td>\n",
       "    </tr>\n",
       "    <tr>\n",
       "      <th>3069</th>\n",
       "      <td>0</td>\n",
       "      <td>367871.226307</td>\n",
       "      <td>66</td>\n",
       "      <td>среднее</td>\n",
       "      <td>1</td>\n",
       "      <td>женат / замужем</td>\n",
       "      <td>0</td>\n",
       "      <td>M</td>\n",
       "      <td>пенсионер</td>\n",
       "      <td>0</td>\n",
       "      <td>63599.469061</td>\n",
       "      <td>на покупку подержанного автомобиля</td>\n",
       "    </tr>\n",
       "    <tr>\n",
       "      <th>8325</th>\n",
       "      <td>0</td>\n",
       "      <td>-535.611219</td>\n",
       "      <td>29</td>\n",
       "      <td>высшее</td>\n",
       "      <td>0</td>\n",
       "      <td>женат / замужем</td>\n",
       "      <td>0</td>\n",
       "      <td>M</td>\n",
       "      <td>сотрудник</td>\n",
       "      <td>1</td>\n",
       "      <td>238157.115151</td>\n",
       "      <td>автомобиль</td>\n",
       "    </tr>\n",
       "  </tbody>\n",
       "</table>\n",
       "</div>"
      ],
      "text/plain": [
       "       children  days_employed  dob_years education  education_id  \\\n",
       "1383          0  353802.811675         37   среднее             1   \n",
       "300           1    -359.193975         33   СРЕДНЕЕ             1   \n",
       "6565          2   -1064.854333         35   среднее             1   \n",
       "17027         0            NaN         48    высшее             0   \n",
       "4077          0   -7059.100220         45    высшее             0   \n",
       "10437         0   -2258.301455         50   среднее             1   \n",
       "9631          1   -1045.752744         23   среднее             1   \n",
       "19867         0            NaN         39   среднее             1   \n",
       "9124          0    -282.186487         48   среднее             1   \n",
       "19634         0   -1320.103813         46   среднее             1   \n",
       "20389         0            NaN         58   среднее             1   \n",
       "12257         2            NaN         38    высшее             0   \n",
       "17051         1            NaN         30    высшее             0   \n",
       "3069          0  367871.226307         66   среднее             1   \n",
       "8325          0    -535.611219         29    высшее             0   \n",
       "\n",
       "               family_status  family_status_id gender income_type  debt  \\\n",
       "1383          вдовец / вдова                 2      F   пенсионер     0   \n",
       "300         гражданский брак                 1      M   сотрудник     0   \n",
       "6565        гражданский брак                 1      F   компаньон     0   \n",
       "17027       гражданский брак                 1      F   сотрудник     0   \n",
       "4077        гражданский брак                 1      F   компаньон     1   \n",
       "10437        женат / замужем                 0      F   сотрудник     0   \n",
       "9631         женат / замужем                 0      M   сотрудник     0   \n",
       "19867        женат / замужем                 0      M   сотрудник     0   \n",
       "9124               в разводе                 3      F   компаньон     0   \n",
       "19634        женат / замужем                 0      F   компаньон     0   \n",
       "20389        женат / замужем                 0      F   пенсионер     0   \n",
       "12257        женат / замужем                 0      M   компаньон     0   \n",
       "17051  Не женат / не замужем                 4      F   сотрудник     0   \n",
       "3069         женат / замужем                 0      M   пенсионер     0   \n",
       "8325         женат / замужем                 0      M   сотрудник     1   \n",
       "\n",
       "        total_income                                purpose  \n",
       "1383   216452.226085             строительство недвижимости  \n",
       "300    223001.623994                  на проведение свадьбы  \n",
       "6565   163591.209323                                свадьба  \n",
       "17027            NaN                      операции с жильем  \n",
       "4077   194820.185757                        сыграть свадьбу  \n",
       "10437  146768.250599  операции с коммерческой недвижимостью  \n",
       "9631    81734.568425  операции с коммерческой недвижимостью  \n",
       "19867            NaN             дополнительное образование  \n",
       "9124   284275.683334       строительство жилой недвижимости  \n",
       "19634  184569.030590                             автомобили  \n",
       "20389            NaN                           ремонт жилью  \n",
       "12257            NaN                  заняться образованием  \n",
       "17051            NaN                           ремонт жилью  \n",
       "3069    63599.469061     на покупку подержанного автомобиля  \n",
       "8325   238157.115151                             автомобиль  "
      ]
     },
     "execution_count": 2,
     "metadata": {},
     "output_type": "execute_result"
    }
   ],
   "source": [
    "# получение случайных 15 строк таблицы df\n",
    "df.sample(15, random_state=1)"
   ]
  },
  {
   "cell_type": "code",
   "execution_count": 3,
   "id": "dc95b11d-622a-4aba-834f-ebd04863a695",
   "metadata": {},
   "outputs": [
    {
     "name": "stdout",
     "output_type": "stream",
     "text": [
      "<class 'pandas.core.frame.DataFrame'>\n",
      "RangeIndex: 21525 entries, 0 to 21524\n",
      "Data columns (total 12 columns):\n",
      " #   Column            Non-Null Count  Dtype  \n",
      "---  ------            --------------  -----  \n",
      " 0   children          21525 non-null  int64  \n",
      " 1   days_employed     19351 non-null  float64\n",
      " 2   dob_years         21525 non-null  int64  \n",
      " 3   education         21525 non-null  object \n",
      " 4   education_id      21525 non-null  int64  \n",
      " 5   family_status     21525 non-null  object \n",
      " 6   family_status_id  21525 non-null  int64  \n",
      " 7   gender            21525 non-null  object \n",
      " 8   income_type       21525 non-null  object \n",
      " 9   debt              21525 non-null  int64  \n",
      " 10  total_income      19351 non-null  float64\n",
      " 11  purpose           21525 non-null  object \n",
      "dtypes: float64(2), int64(5), object(5)\n",
      "memory usage: 2.0+ MB\n"
     ]
    }
   ],
   "source": [
    "# получение общей информации о данных в таблице df\n",
    "df.info()"
   ]
  },
  {
   "cell_type": "code",
   "execution_count": 4,
   "id": "953202fe-f360-41e6-83e2-af82f8b59aa5",
   "metadata": {},
   "outputs": [
    {
     "data": {
      "text/html": [
       "<style  type=\"text/css\" >\n",
       "</style><table id=\"T_96ce7_\" ><thead>    <tr>        <th class=\"blank level0\" ></th>        <th class=\"col_heading level0 col0\" >children</th>        <th class=\"col_heading level0 col1\" >days_employed</th>        <th class=\"col_heading level0 col2\" >dob_years</th>        <th class=\"col_heading level0 col3\" >education_id</th>        <th class=\"col_heading level0 col4\" >family_status_id</th>        <th class=\"col_heading level0 col5\" >debt</th>        <th class=\"col_heading level0 col6\" >total_income</th>    </tr></thead><tbody>\n",
       "                <tr>\n",
       "                        <th id=\"T_96ce7_level0_row0\" class=\"row_heading level0 row0\" >count</th>\n",
       "                        <td id=\"T_96ce7_row0_col0\" class=\"data row0 col0\" >21525.00</td>\n",
       "                        <td id=\"T_96ce7_row0_col1\" class=\"data row0 col1\" >19351.00</td>\n",
       "                        <td id=\"T_96ce7_row0_col2\" class=\"data row0 col2\" >21525.00</td>\n",
       "                        <td id=\"T_96ce7_row0_col3\" class=\"data row0 col3\" >21525.00</td>\n",
       "                        <td id=\"T_96ce7_row0_col4\" class=\"data row0 col4\" >21525.00</td>\n",
       "                        <td id=\"T_96ce7_row0_col5\" class=\"data row0 col5\" >21525.00</td>\n",
       "                        <td id=\"T_96ce7_row0_col6\" class=\"data row0 col6\" >19351.00</td>\n",
       "            </tr>\n",
       "            <tr>\n",
       "                        <th id=\"T_96ce7_level0_row1\" class=\"row_heading level0 row1\" >mean</th>\n",
       "                        <td id=\"T_96ce7_row1_col0\" class=\"data row1 col0\" >0.54</td>\n",
       "                        <td id=\"T_96ce7_row1_col1\" class=\"data row1 col1\" >63046.50</td>\n",
       "                        <td id=\"T_96ce7_row1_col2\" class=\"data row1 col2\" >43.29</td>\n",
       "                        <td id=\"T_96ce7_row1_col3\" class=\"data row1 col3\" >0.82</td>\n",
       "                        <td id=\"T_96ce7_row1_col4\" class=\"data row1 col4\" >0.97</td>\n",
       "                        <td id=\"T_96ce7_row1_col5\" class=\"data row1 col5\" >0.08</td>\n",
       "                        <td id=\"T_96ce7_row1_col6\" class=\"data row1 col6\" >167422.30</td>\n",
       "            </tr>\n",
       "            <tr>\n",
       "                        <th id=\"T_96ce7_level0_row2\" class=\"row_heading level0 row2\" >std</th>\n",
       "                        <td id=\"T_96ce7_row2_col0\" class=\"data row2 col0\" >1.38</td>\n",
       "                        <td id=\"T_96ce7_row2_col1\" class=\"data row2 col1\" >140827.31</td>\n",
       "                        <td id=\"T_96ce7_row2_col2\" class=\"data row2 col2\" >12.57</td>\n",
       "                        <td id=\"T_96ce7_row2_col3\" class=\"data row2 col3\" >0.55</td>\n",
       "                        <td id=\"T_96ce7_row2_col4\" class=\"data row2 col4\" >1.42</td>\n",
       "                        <td id=\"T_96ce7_row2_col5\" class=\"data row2 col5\" >0.27</td>\n",
       "                        <td id=\"T_96ce7_row2_col6\" class=\"data row2 col6\" >102971.57</td>\n",
       "            </tr>\n",
       "            <tr>\n",
       "                        <th id=\"T_96ce7_level0_row3\" class=\"row_heading level0 row3\" >min</th>\n",
       "                        <td id=\"T_96ce7_row3_col0\" class=\"data row3 col0\" >-1.00</td>\n",
       "                        <td id=\"T_96ce7_row3_col1\" class=\"data row3 col1\" >-18388.95</td>\n",
       "                        <td id=\"T_96ce7_row3_col2\" class=\"data row3 col2\" >0.00</td>\n",
       "                        <td id=\"T_96ce7_row3_col3\" class=\"data row3 col3\" >0.00</td>\n",
       "                        <td id=\"T_96ce7_row3_col4\" class=\"data row3 col4\" >0.00</td>\n",
       "                        <td id=\"T_96ce7_row3_col5\" class=\"data row3 col5\" >0.00</td>\n",
       "                        <td id=\"T_96ce7_row3_col6\" class=\"data row3 col6\" >20667.26</td>\n",
       "            </tr>\n",
       "            <tr>\n",
       "                        <th id=\"T_96ce7_level0_row4\" class=\"row_heading level0 row4\" >25%</th>\n",
       "                        <td id=\"T_96ce7_row4_col0\" class=\"data row4 col0\" >0.00</td>\n",
       "                        <td id=\"T_96ce7_row4_col1\" class=\"data row4 col1\" >-2747.42</td>\n",
       "                        <td id=\"T_96ce7_row4_col2\" class=\"data row4 col2\" >33.00</td>\n",
       "                        <td id=\"T_96ce7_row4_col3\" class=\"data row4 col3\" >1.00</td>\n",
       "                        <td id=\"T_96ce7_row4_col4\" class=\"data row4 col4\" >0.00</td>\n",
       "                        <td id=\"T_96ce7_row4_col5\" class=\"data row4 col5\" >0.00</td>\n",
       "                        <td id=\"T_96ce7_row4_col6\" class=\"data row4 col6\" >103053.15</td>\n",
       "            </tr>\n",
       "            <tr>\n",
       "                        <th id=\"T_96ce7_level0_row5\" class=\"row_heading level0 row5\" >50%</th>\n",
       "                        <td id=\"T_96ce7_row5_col0\" class=\"data row5 col0\" >0.00</td>\n",
       "                        <td id=\"T_96ce7_row5_col1\" class=\"data row5 col1\" >-1203.37</td>\n",
       "                        <td id=\"T_96ce7_row5_col2\" class=\"data row5 col2\" >42.00</td>\n",
       "                        <td id=\"T_96ce7_row5_col3\" class=\"data row5 col3\" >1.00</td>\n",
       "                        <td id=\"T_96ce7_row5_col4\" class=\"data row5 col4\" >0.00</td>\n",
       "                        <td id=\"T_96ce7_row5_col5\" class=\"data row5 col5\" >0.00</td>\n",
       "                        <td id=\"T_96ce7_row5_col6\" class=\"data row5 col6\" >145017.94</td>\n",
       "            </tr>\n",
       "            <tr>\n",
       "                        <th id=\"T_96ce7_level0_row6\" class=\"row_heading level0 row6\" >75%</th>\n",
       "                        <td id=\"T_96ce7_row6_col0\" class=\"data row6 col0\" >1.00</td>\n",
       "                        <td id=\"T_96ce7_row6_col1\" class=\"data row6 col1\" >-291.10</td>\n",
       "                        <td id=\"T_96ce7_row6_col2\" class=\"data row6 col2\" >53.00</td>\n",
       "                        <td id=\"T_96ce7_row6_col3\" class=\"data row6 col3\" >1.00</td>\n",
       "                        <td id=\"T_96ce7_row6_col4\" class=\"data row6 col4\" >1.00</td>\n",
       "                        <td id=\"T_96ce7_row6_col5\" class=\"data row6 col5\" >0.00</td>\n",
       "                        <td id=\"T_96ce7_row6_col6\" class=\"data row6 col6\" >203435.07</td>\n",
       "            </tr>\n",
       "            <tr>\n",
       "                        <th id=\"T_96ce7_level0_row7\" class=\"row_heading level0 row7\" >max</th>\n",
       "                        <td id=\"T_96ce7_row7_col0\" class=\"data row7 col0\" >20.00</td>\n",
       "                        <td id=\"T_96ce7_row7_col1\" class=\"data row7 col1\" >401755.40</td>\n",
       "                        <td id=\"T_96ce7_row7_col2\" class=\"data row7 col2\" >75.00</td>\n",
       "                        <td id=\"T_96ce7_row7_col3\" class=\"data row7 col3\" >4.00</td>\n",
       "                        <td id=\"T_96ce7_row7_col4\" class=\"data row7 col4\" >4.00</td>\n",
       "                        <td id=\"T_96ce7_row7_col5\" class=\"data row7 col5\" >1.00</td>\n",
       "                        <td id=\"T_96ce7_row7_col6\" class=\"data row7 col6\" >2265604.03</td>\n",
       "            </tr>\n",
       "    </tbody></table>"
      ],
      "text/plain": [
       "<pandas.io.formats.style.Styler at 0x1db116a1430>"
      ]
     },
     "execution_count": 4,
     "metadata": {},
     "output_type": "execute_result"
    }
   ],
   "source": [
    "# получение данных о характерных значениях для столбцов df\n",
    "df.describe().style.format('{:.2f}')"
   ]
  },
  {
   "cell_type": "markdown",
   "id": "1761b2fe-cee1-4d81-ac5f-dabbafb12ef2",
   "metadata": {},
   "source": [
    "**Промежуточные выводы**\n",
    "\n",
    "Предварительно взглянув на данные, можно заметить некоторые явные проблемы и артефакты, например:\n",
    "1. В двух столбцах, `days_employed` и `total_income`, присутствуют пропущенные значения.\n",
    "2. Для вышеуказанных же столбцов выбран не совсем подходящий тип данных — `float64` вместо `int64` — отображение значений не соответствует характеру данных.\n",
    "3. Встречаются нелогичные отрицательные значения трудового стажа клиента, остальные же слишком велики для единицы измерения в днях.\n",
    "4. Можно заметить нереалистичные нулевые значения возраста клиентов."
   ]
  },
  {
   "cell_type": "markdown",
   "id": "2e3d5c3d-58d1-4f89-9b84-b84cb84edfbf",
   "metadata": {},
   "source": [
    "## Предобработка данных"
   ]
  },
  {
   "cell_type": "markdown",
   "id": "c30a0558",
   "metadata": {},
   "source": [
    "### Заполнение пропусков"
   ]
  },
  {
   "cell_type": "markdown",
   "id": "c264793d-f74c-4112-8f5e-3292c8b5b7cc",
   "metadata": {},
   "source": [
    "На этапе обзора данных было замечено, что пропущены данные об общем трудовом стаже и ежемесячном доходе клиента. Проверим ещё раз."
   ]
  },
  {
   "cell_type": "code",
   "execution_count": 5,
   "id": "42903531",
   "metadata": {},
   "outputs": [
    {
     "data": {
      "text/plain": [
       "children               0\n",
       "days_employed       2174\n",
       "dob_years              0\n",
       "education              0\n",
       "education_id           0\n",
       "family_status          0\n",
       "family_status_id       0\n",
       "gender                 0\n",
       "income_type            0\n",
       "debt                   0\n",
       "total_income        2174\n",
       "purpose                0\n",
       "dtype: int64"
      ]
     },
     "execution_count": 5,
     "metadata": {},
     "output_type": "execute_result"
    }
   ],
   "source": [
    "# получение количества пропущенных значений в столбцах df\n",
    "df.isna().sum()"
   ]
  },
  {
   "cell_type": "markdown",
   "id": "d0e40fc9-81c9-4a7e-827f-86c458813839",
   "metadata": {},
   "source": [
    "Оценим их долю от общего количества значений."
   ]
  },
  {
   "cell_type": "code",
   "execution_count": 6,
   "id": "cf2c1490-b45f-4793-8bb2-8ca0442015af",
   "metadata": {},
   "outputs": [
    {
     "name": "stdout",
     "output_type": "stream",
     "text": [
      "Доля пропущенных значений об общем трудовом стаже 10%\n",
      "Доля пропущенных значений о ежемесячном доходе 10%\n"
     ]
    }
   ],
   "source": [
    "# вывод доли пропущенных значений\n",
    "missed_part_of_days_employed = df['days_employed'].isna().mean()\n",
    "missed_part_of_total_income = df['total_income'].isna().mean()\n",
    "print(f'Доля пропущенных значений об общем трудовом стаже {missed_part_of_days_employed:.0%}')\n",
    "print(f'Доля пропущенных значений о ежемесячном доходе {missed_part_of_total_income:.0%}')"
   ]
  },
  {
   "cell_type": "markdown",
   "id": "8875efa6-f76d-408e-9308-6497d85c28fb",
   "metadata": {},
   "source": [
    "При обзоре данных можно было заметить, что значения обоих столбцов отсутствуют только единовременно для одной строки. Убедимся, что данное условие выполняется всегда. Проверим, для всех ли строк значения в вышеуказанных столбцах пропущены одновременно."
   ]
  },
  {
   "cell_type": "code",
   "execution_count": 7,
   "id": "904eae37-ed30-4cd1-bb65-7ec7e659552c",
   "metadata": {},
   "outputs": [
    {
     "data": {
      "text/plain": [
       "True"
      ]
     },
     "execution_count": 7,
     "metadata": {},
     "output_type": "execute_result"
    }
   ],
   "source": [
    "# проверка одинакового в плане пропусков состояния всех строк df \n",
    "(df['days_employed'].isna() == df['total_income'].isna()).all()"
   ]
  },
  {
   "cell_type": "markdown",
   "id": "95751ecd-eede-4999-b203-715e99bb1d2f",
   "metadata": {},
   "source": [
    "Для всех строк датафрейма значения в рассматриваемых столбцах либо одновременно пропущены, либо нет, что подтверждает, что предположение верно."
   ]
  },
  {
   "cell_type": "markdown",
   "id": "5c44c5e7-d449-4949-9fc9-a8b55ccc8032",
   "metadata": {},
   "source": [
    "Далее заполним пропуски в столбце без каких-либо ещё артефактов данных — `total_income`. Новым будет значение, характерное для ежемесячного дохода клиента; выберем медианное, так как разброс зарплат может быть очень большим. Из-за этого при выборе, например, среднего значения оно может оказаться недостаточно репрезентативным, так как возможен сильный перекос в сторону сильно отличающегося значения. Для большей точности заменим значения для каждого типа занятости клиента по отдельности. Также перед заменой проверим, не зависит ли появление пропуска в строке от её значения в другом столбце. Если выяснится, что доля пропусков в какой-то конкретной группе клиентов по одному из признаков (или нескольким) сильно отличается от показателя в других группах этого же признака, заменять их медианным значением будет некорректно."
   ]
  },
  {
   "cell_type": "code",
   "execution_count": 8,
   "id": "73a085c0-a75d-4b03-9715-770a718b9798",
   "metadata": {},
   "outputs": [
    {
     "data": {
      "text/html": [
       "<style  type=\"text/css\" >\n",
       "</style><table id=\"T_aff35_\" ><thead>    <tr>        <th class=\"blank level0\" ></th>        <th class=\"col_heading level0 col0\" >total_income</th>    </tr>    <tr>        <th class=\"index_name level0\" >children</th>        <th class=\"blank\" ></th>    </tr></thead><tbody>\n",
       "                <tr>\n",
       "                        <th id=\"T_aff35_level0_row0\" class=\"row_heading level0 row0\" >-1</th>\n",
       "                        <td id=\"T_aff35_row0_col0\" class=\"data row0 col0\" >6%</td>\n",
       "            </tr>\n",
       "            <tr>\n",
       "                        <th id=\"T_aff35_level0_row1\" class=\"row_heading level0 row1\" >0</th>\n",
       "                        <td id=\"T_aff35_row1_col0\" class=\"data row1 col0\" >10%</td>\n",
       "            </tr>\n",
       "            <tr>\n",
       "                        <th id=\"T_aff35_level0_row2\" class=\"row_heading level0 row2\" >1</th>\n",
       "                        <td id=\"T_aff35_row2_col0\" class=\"data row2 col0\" >10%</td>\n",
       "            </tr>\n",
       "            <tr>\n",
       "                        <th id=\"T_aff35_level0_row3\" class=\"row_heading level0 row3\" >2</th>\n",
       "                        <td id=\"T_aff35_row3_col0\" class=\"data row3 col0\" >10%</td>\n",
       "            </tr>\n",
       "            <tr>\n",
       "                        <th id=\"T_aff35_level0_row4\" class=\"row_heading level0 row4\" >3</th>\n",
       "                        <td id=\"T_aff35_row4_col0\" class=\"data row4 col0\" >11%</td>\n",
       "            </tr>\n",
       "            <tr>\n",
       "                        <th id=\"T_aff35_level0_row5\" class=\"row_heading level0 row5\" >4</th>\n",
       "                        <td id=\"T_aff35_row5_col0\" class=\"data row5 col0\" >17%</td>\n",
       "            </tr>\n",
       "            <tr>\n",
       "                        <th id=\"T_aff35_level0_row6\" class=\"row_heading level0 row6\" >5</th>\n",
       "                        <td id=\"T_aff35_row6_col0\" class=\"data row6 col0\" >11%</td>\n",
       "            </tr>\n",
       "            <tr>\n",
       "                        <th id=\"T_aff35_level0_row7\" class=\"row_heading level0 row7\" >20</th>\n",
       "                        <td id=\"T_aff35_row7_col0\" class=\"data row7 col0\" >12%</td>\n",
       "            </tr>\n",
       "    </tbody></table>"
      ],
      "text/plain": [
       "<pandas.io.formats.style.Styler at 0x1db1ea0e550>"
      ]
     },
     "metadata": {},
     "output_type": "display_data"
    },
    {
     "data": {
      "text/html": [
       "<style  type=\"text/css\" >\n",
       "</style><table id=\"T_1e9c7_\" ><thead>    <tr>        <th class=\"blank level0\" ></th>        <th class=\"col_heading level0 col0\" >total_income</th>    </tr>    <tr>        <th class=\"index_name level0\" >dob_years</th>        <th class=\"blank\" ></th>    </tr></thead><tbody>\n",
       "                <tr>\n",
       "                        <th id=\"T_1e9c7_level0_row0\" class=\"row_heading level0 row0\" >0</th>\n",
       "                        <td id=\"T_1e9c7_row0_col0\" class=\"data row0 col0\" >10%</td>\n",
       "            </tr>\n",
       "            <tr>\n",
       "                        <th id=\"T_1e9c7_level0_row1\" class=\"row_heading level0 row1\" >19</th>\n",
       "                        <td id=\"T_1e9c7_row1_col0\" class=\"data row1 col0\" >7%</td>\n",
       "            </tr>\n",
       "            <tr>\n",
       "                        <th id=\"T_1e9c7_level0_row2\" class=\"row_heading level0 row2\" >20</th>\n",
       "                        <td id=\"T_1e9c7_row2_col0\" class=\"data row2 col0\" >10%</td>\n",
       "            </tr>\n",
       "            <tr>\n",
       "                        <th id=\"T_1e9c7_level0_row3\" class=\"row_heading level0 row3\" >21</th>\n",
       "                        <td id=\"T_1e9c7_row3_col0\" class=\"data row3 col0\" >16%</td>\n",
       "            </tr>\n",
       "            <tr>\n",
       "                        <th id=\"T_1e9c7_level0_row4\" class=\"row_heading level0 row4\" >22</th>\n",
       "                        <td id=\"T_1e9c7_row4_col0\" class=\"data row4 col0\" >9%</td>\n",
       "            </tr>\n",
       "            <tr>\n",
       "                        <th id=\"T_1e9c7_level0_row5\" class=\"row_heading level0 row5\" >23</th>\n",
       "                        <td id=\"T_1e9c7_row5_col0\" class=\"data row5 col0\" >14%</td>\n",
       "            </tr>\n",
       "            <tr>\n",
       "                        <th id=\"T_1e9c7_level0_row6\" class=\"row_heading level0 row6\" >24</th>\n",
       "                        <td id=\"T_1e9c7_row6_col0\" class=\"data row6 col0\" >8%</td>\n",
       "            </tr>\n",
       "            <tr>\n",
       "                        <th id=\"T_1e9c7_level0_row7\" class=\"row_heading level0 row7\" >25</th>\n",
       "                        <td id=\"T_1e9c7_row7_col0\" class=\"data row7 col0\" >6%</td>\n",
       "            </tr>\n",
       "            <tr>\n",
       "                        <th id=\"T_1e9c7_level0_row8\" class=\"row_heading level0 row8\" >26</th>\n",
       "                        <td id=\"T_1e9c7_row8_col0\" class=\"data row8 col0\" >9%</td>\n",
       "            </tr>\n",
       "            <tr>\n",
       "                        <th id=\"T_1e9c7_level0_row9\" class=\"row_heading level0 row9\" >27</th>\n",
       "                        <td id=\"T_1e9c7_row9_col0\" class=\"data row9 col0\" >7%</td>\n",
       "            </tr>\n",
       "            <tr>\n",
       "                        <th id=\"T_1e9c7_level0_row10\" class=\"row_heading level0 row10\" >28</th>\n",
       "                        <td id=\"T_1e9c7_row10_col0\" class=\"data row10 col0\" >11%</td>\n",
       "            </tr>\n",
       "            <tr>\n",
       "                        <th id=\"T_1e9c7_level0_row11\" class=\"row_heading level0 row11\" >29</th>\n",
       "                        <td id=\"T_1e9c7_row11_col0\" class=\"data row11 col0\" >9%</td>\n",
       "            </tr>\n",
       "            <tr>\n",
       "                        <th id=\"T_1e9c7_level0_row12\" class=\"row_heading level0 row12\" >30</th>\n",
       "                        <td id=\"T_1e9c7_row12_col0\" class=\"data row12 col0\" >11%</td>\n",
       "            </tr>\n",
       "            <tr>\n",
       "                        <th id=\"T_1e9c7_level0_row13\" class=\"row_heading level0 row13\" >31</th>\n",
       "                        <td id=\"T_1e9c7_row13_col0\" class=\"data row13 col0\" >12%</td>\n",
       "            </tr>\n",
       "            <tr>\n",
       "                        <th id=\"T_1e9c7_level0_row14\" class=\"row_heading level0 row14\" >32</th>\n",
       "                        <td id=\"T_1e9c7_row14_col0\" class=\"data row14 col0\" >7%</td>\n",
       "            </tr>\n",
       "            <tr>\n",
       "                        <th id=\"T_1e9c7_level0_row15\" class=\"row_heading level0 row15\" >33</th>\n",
       "                        <td id=\"T_1e9c7_row15_col0\" class=\"data row15 col0\" >9%</td>\n",
       "            </tr>\n",
       "            <tr>\n",
       "                        <th id=\"T_1e9c7_level0_row16\" class=\"row_heading level0 row16\" >34</th>\n",
       "                        <td id=\"T_1e9c7_row16_col0\" class=\"data row16 col0\" >11%</td>\n",
       "            </tr>\n",
       "            <tr>\n",
       "                        <th id=\"T_1e9c7_level0_row17\" class=\"row_heading level0 row17\" >35</th>\n",
       "                        <td id=\"T_1e9c7_row17_col0\" class=\"data row17 col0\" >10%</td>\n",
       "            </tr>\n",
       "            <tr>\n",
       "                        <th id=\"T_1e9c7_level0_row18\" class=\"row_heading level0 row18\" >36</th>\n",
       "                        <td id=\"T_1e9c7_row18_col0\" class=\"data row18 col0\" >11%</td>\n",
       "            </tr>\n",
       "            <tr>\n",
       "                        <th id=\"T_1e9c7_level0_row19\" class=\"row_heading level0 row19\" >37</th>\n",
       "                        <td id=\"T_1e9c7_row19_col0\" class=\"data row19 col0\" >10%</td>\n",
       "            </tr>\n",
       "            <tr>\n",
       "                        <th id=\"T_1e9c7_level0_row20\" class=\"row_heading level0 row20\" >38</th>\n",
       "                        <td id=\"T_1e9c7_row20_col0\" class=\"data row20 col0\" >9%</td>\n",
       "            </tr>\n",
       "            <tr>\n",
       "                        <th id=\"T_1e9c7_level0_row21\" class=\"row_heading level0 row21\" >39</th>\n",
       "                        <td id=\"T_1e9c7_row21_col0\" class=\"data row21 col0\" >9%</td>\n",
       "            </tr>\n",
       "            <tr>\n",
       "                        <th id=\"T_1e9c7_level0_row22\" class=\"row_heading level0 row22\" >40</th>\n",
       "                        <td id=\"T_1e9c7_row22_col0\" class=\"data row22 col0\" >11%</td>\n",
       "            </tr>\n",
       "            <tr>\n",
       "                        <th id=\"T_1e9c7_level0_row23\" class=\"row_heading level0 row23\" >41</th>\n",
       "                        <td id=\"T_1e9c7_row23_col0\" class=\"data row23 col0\" >10%</td>\n",
       "            </tr>\n",
       "            <tr>\n",
       "                        <th id=\"T_1e9c7_level0_row24\" class=\"row_heading level0 row24\" >42</th>\n",
       "                        <td id=\"T_1e9c7_row24_col0\" class=\"data row24 col0\" >11%</td>\n",
       "            </tr>\n",
       "            <tr>\n",
       "                        <th id=\"T_1e9c7_level0_row25\" class=\"row_heading level0 row25\" >43</th>\n",
       "                        <td id=\"T_1e9c7_row25_col0\" class=\"data row25 col0\" >10%</td>\n",
       "            </tr>\n",
       "            <tr>\n",
       "                        <th id=\"T_1e9c7_level0_row26\" class=\"row_heading level0 row26\" >44</th>\n",
       "                        <td id=\"T_1e9c7_row26_col0\" class=\"data row26 col0\" >8%</td>\n",
       "            </tr>\n",
       "            <tr>\n",
       "                        <th id=\"T_1e9c7_level0_row27\" class=\"row_heading level0 row27\" >45</th>\n",
       "                        <td id=\"T_1e9c7_row27_col0\" class=\"data row27 col0\" >10%</td>\n",
       "            </tr>\n",
       "            <tr>\n",
       "                        <th id=\"T_1e9c7_level0_row28\" class=\"row_heading level0 row28\" >46</th>\n",
       "                        <td id=\"T_1e9c7_row28_col0\" class=\"data row28 col0\" >10%</td>\n",
       "            </tr>\n",
       "            <tr>\n",
       "                        <th id=\"T_1e9c7_level0_row29\" class=\"row_heading level0 row29\" >47</th>\n",
       "                        <td id=\"T_1e9c7_row29_col0\" class=\"data row29 col0\" >12%</td>\n",
       "            </tr>\n",
       "            <tr>\n",
       "                        <th id=\"T_1e9c7_level0_row30\" class=\"row_heading level0 row30\" >48</th>\n",
       "                        <td id=\"T_1e9c7_row30_col0\" class=\"data row30 col0\" >9%</td>\n",
       "            </tr>\n",
       "            <tr>\n",
       "                        <th id=\"T_1e9c7_level0_row31\" class=\"row_heading level0 row31\" >49</th>\n",
       "                        <td id=\"T_1e9c7_row31_col0\" class=\"data row31 col0\" >10%</td>\n",
       "            </tr>\n",
       "            <tr>\n",
       "                        <th id=\"T_1e9c7_level0_row32\" class=\"row_heading level0 row32\" >50</th>\n",
       "                        <td id=\"T_1e9c7_row32_col0\" class=\"data row32 col0\" >10%</td>\n",
       "            </tr>\n",
       "            <tr>\n",
       "                        <th id=\"T_1e9c7_level0_row33\" class=\"row_heading level0 row33\" >51</th>\n",
       "                        <td id=\"T_1e9c7_row33_col0\" class=\"data row33 col0\" >11%</td>\n",
       "            </tr>\n",
       "            <tr>\n",
       "                        <th id=\"T_1e9c7_level0_row34\" class=\"row_heading level0 row34\" >52</th>\n",
       "                        <td id=\"T_1e9c7_row34_col0\" class=\"data row34 col0\" >11%</td>\n",
       "            </tr>\n",
       "            <tr>\n",
       "                        <th id=\"T_1e9c7_level0_row35\" class=\"row_heading level0 row35\" >53</th>\n",
       "                        <td id=\"T_1e9c7_row35_col0\" class=\"data row35 col0\" >10%</td>\n",
       "            </tr>\n",
       "            <tr>\n",
       "                        <th id=\"T_1e9c7_level0_row36\" class=\"row_heading level0 row36\" >54</th>\n",
       "                        <td id=\"T_1e9c7_row36_col0\" class=\"data row36 col0\" >11%</td>\n",
       "            </tr>\n",
       "            <tr>\n",
       "                        <th id=\"T_1e9c7_level0_row37\" class=\"row_heading level0 row37\" >55</th>\n",
       "                        <td id=\"T_1e9c7_row37_col0\" class=\"data row37 col0\" >11%</td>\n",
       "            </tr>\n",
       "            <tr>\n",
       "                        <th id=\"T_1e9c7_level0_row38\" class=\"row_heading level0 row38\" >56</th>\n",
       "                        <td id=\"T_1e9c7_row38_col0\" class=\"data row38 col0\" >11%</td>\n",
       "            </tr>\n",
       "            <tr>\n",
       "                        <th id=\"T_1e9c7_level0_row39\" class=\"row_heading level0 row39\" >57</th>\n",
       "                        <td id=\"T_1e9c7_row39_col0\" class=\"data row39 col0\" >12%</td>\n",
       "            </tr>\n",
       "            <tr>\n",
       "                        <th id=\"T_1e9c7_level0_row40\" class=\"row_heading level0 row40\" >58</th>\n",
       "                        <td id=\"T_1e9c7_row40_col0\" class=\"data row40 col0\" >12%</td>\n",
       "            </tr>\n",
       "            <tr>\n",
       "                        <th id=\"T_1e9c7_level0_row41\" class=\"row_heading level0 row41\" >59</th>\n",
       "                        <td id=\"T_1e9c7_row41_col0\" class=\"data row41 col0\" >8%</td>\n",
       "            </tr>\n",
       "            <tr>\n",
       "                        <th id=\"T_1e9c7_level0_row42\" class=\"row_heading level0 row42\" >60</th>\n",
       "                        <td id=\"T_1e9c7_row42_col0\" class=\"data row42 col0\" >10%</td>\n",
       "            </tr>\n",
       "            <tr>\n",
       "                        <th id=\"T_1e9c7_level0_row43\" class=\"row_heading level0 row43\" >61</th>\n",
       "                        <td id=\"T_1e9c7_row43_col0\" class=\"data row43 col0\" >11%</td>\n",
       "            </tr>\n",
       "            <tr>\n",
       "                        <th id=\"T_1e9c7_level0_row44\" class=\"row_heading level0 row44\" >62</th>\n",
       "                        <td id=\"T_1e9c7_row44_col0\" class=\"data row44 col0\" >11%</td>\n",
       "            </tr>\n",
       "            <tr>\n",
       "                        <th id=\"T_1e9c7_level0_row45\" class=\"row_heading level0 row45\" >63</th>\n",
       "                        <td id=\"T_1e9c7_row45_col0\" class=\"data row45 col0\" >11%</td>\n",
       "            </tr>\n",
       "            <tr>\n",
       "                        <th id=\"T_1e9c7_level0_row46\" class=\"row_heading level0 row46\" >64</th>\n",
       "                        <td id=\"T_1e9c7_row46_col0\" class=\"data row46 col0\" >14%</td>\n",
       "            </tr>\n",
       "            <tr>\n",
       "                        <th id=\"T_1e9c7_level0_row47\" class=\"row_heading level0 row47\" >65</th>\n",
       "                        <td id=\"T_1e9c7_row47_col0\" class=\"data row47 col0\" >10%</td>\n",
       "            </tr>\n",
       "            <tr>\n",
       "                        <th id=\"T_1e9c7_level0_row48\" class=\"row_heading level0 row48\" >66</th>\n",
       "                        <td id=\"T_1e9c7_row48_col0\" class=\"data row48 col0\" >11%</td>\n",
       "            </tr>\n",
       "            <tr>\n",
       "                        <th id=\"T_1e9c7_level0_row49\" class=\"row_heading level0 row49\" >67</th>\n",
       "                        <td id=\"T_1e9c7_row49_col0\" class=\"data row49 col0\" >10%</td>\n",
       "            </tr>\n",
       "            <tr>\n",
       "                        <th id=\"T_1e9c7_level0_row50\" class=\"row_heading level0 row50\" >68</th>\n",
       "                        <td id=\"T_1e9c7_row50_col0\" class=\"data row50 col0\" >9%</td>\n",
       "            </tr>\n",
       "            <tr>\n",
       "                        <th id=\"T_1e9c7_level0_row51\" class=\"row_heading level0 row51\" >69</th>\n",
       "                        <td id=\"T_1e9c7_row51_col0\" class=\"data row51 col0\" >6%</td>\n",
       "            </tr>\n",
       "            <tr>\n",
       "                        <th id=\"T_1e9c7_level0_row52\" class=\"row_heading level0 row52\" >70</th>\n",
       "                        <td id=\"T_1e9c7_row52_col0\" class=\"data row52 col0\" >5%</td>\n",
       "            </tr>\n",
       "            <tr>\n",
       "                        <th id=\"T_1e9c7_level0_row53\" class=\"row_heading level0 row53\" >71</th>\n",
       "                        <td id=\"T_1e9c7_row53_col0\" class=\"data row53 col0\" >9%</td>\n",
       "            </tr>\n",
       "            <tr>\n",
       "                        <th id=\"T_1e9c7_level0_row54\" class=\"row_heading level0 row54\" >72</th>\n",
       "                        <td id=\"T_1e9c7_row54_col0\" class=\"data row54 col0\" >6%</td>\n",
       "            </tr>\n",
       "            <tr>\n",
       "                        <th id=\"T_1e9c7_level0_row55\" class=\"row_heading level0 row55\" >73</th>\n",
       "                        <td id=\"T_1e9c7_row55_col0\" class=\"data row55 col0\" >12%</td>\n",
       "            </tr>\n",
       "            <tr>\n",
       "                        <th id=\"T_1e9c7_level0_row56\" class=\"row_heading level0 row56\" >74</th>\n",
       "                        <td id=\"T_1e9c7_row56_col0\" class=\"data row56 col0\" >0%</td>\n",
       "            </tr>\n",
       "            <tr>\n",
       "                        <th id=\"T_1e9c7_level0_row57\" class=\"row_heading level0 row57\" >75</th>\n",
       "                        <td id=\"T_1e9c7_row57_col0\" class=\"data row57 col0\" >0%</td>\n",
       "            </tr>\n",
       "    </tbody></table>"
      ],
      "text/plain": [
       "<pandas.io.formats.style.Styler at 0x1db1fa434c0>"
      ]
     },
     "metadata": {},
     "output_type": "display_data"
    },
    {
     "data": {
      "text/html": [
       "<style  type=\"text/css\" >\n",
       "</style><table id=\"T_e9213_\" ><thead>    <tr>        <th class=\"blank level0\" ></th>        <th class=\"col_heading level0 col0\" >total_income</th>    </tr>    <tr>        <th class=\"index_name level0\" >education</th>        <th class=\"blank\" ></th>    </tr></thead><tbody>\n",
       "                <tr>\n",
       "                        <th id=\"T_e9213_level0_row0\" class=\"row_heading level0 row0\" >ВЫСШЕЕ</th>\n",
       "                        <td id=\"T_e9213_row0_col0\" class=\"data row0 col0\" >8%</td>\n",
       "            </tr>\n",
       "            <tr>\n",
       "                        <th id=\"T_e9213_level0_row1\" class=\"row_heading level0 row1\" >Высшее</th>\n",
       "                        <td id=\"T_e9213_row1_col0\" class=\"data row1 col0\" >9%</td>\n",
       "            </tr>\n",
       "            <tr>\n",
       "                        <th id=\"T_e9213_level0_row2\" class=\"row_heading level0 row2\" >НАЧАЛЬНОЕ</th>\n",
       "                        <td id=\"T_e9213_row2_col0\" class=\"data row2 col0\" >6%</td>\n",
       "            </tr>\n",
       "            <tr>\n",
       "                        <th id=\"T_e9213_level0_row3\" class=\"row_heading level0 row3\" >НЕОКОНЧЕННОЕ ВЫСШЕЕ</th>\n",
       "                        <td id=\"T_e9213_row3_col0\" class=\"data row3 col0\" >24%</td>\n",
       "            </tr>\n",
       "            <tr>\n",
       "                        <th id=\"T_e9213_level0_row4\" class=\"row_heading level0 row4\" >Начальное</th>\n",
       "                        <td id=\"T_e9213_row4_col0\" class=\"data row4 col0\" >7%</td>\n",
       "            </tr>\n",
       "            <tr>\n",
       "                        <th id=\"T_e9213_level0_row5\" class=\"row_heading level0 row5\" >Неоконченное высшее</th>\n",
       "                        <td id=\"T_e9213_row5_col0\" class=\"data row5 col0\" >15%</td>\n",
       "            </tr>\n",
       "            <tr>\n",
       "                        <th id=\"T_e9213_level0_row6\" class=\"row_heading level0 row6\" >СРЕДНЕЕ</th>\n",
       "                        <td id=\"T_e9213_row6_col0\" class=\"data row6 col0\" >9%</td>\n",
       "            </tr>\n",
       "            <tr>\n",
       "                        <th id=\"T_e9213_level0_row7\" class=\"row_heading level0 row7\" >Среднее</th>\n",
       "                        <td id=\"T_e9213_row7_col0\" class=\"data row7 col0\" >9%</td>\n",
       "            </tr>\n",
       "            <tr>\n",
       "                        <th id=\"T_e9213_level0_row8\" class=\"row_heading level0 row8\" >УЧЕНАЯ СТЕПЕНЬ</th>\n",
       "                        <td id=\"T_e9213_row8_col0\" class=\"data row8 col0\" >0%</td>\n",
       "            </tr>\n",
       "            <tr>\n",
       "                        <th id=\"T_e9213_level0_row9\" class=\"row_heading level0 row9\" >Ученая степень</th>\n",
       "                        <td id=\"T_e9213_row9_col0\" class=\"data row9 col0\" >0%</td>\n",
       "            </tr>\n",
       "            <tr>\n",
       "                        <th id=\"T_e9213_level0_row10\" class=\"row_heading level0 row10\" >высшее</th>\n",
       "                        <td id=\"T_e9213_row10_col0\" class=\"data row10 col0\" >11%</td>\n",
       "            </tr>\n",
       "            <tr>\n",
       "                        <th id=\"T_e9213_level0_row11\" class=\"row_heading level0 row11\" >начальное</th>\n",
       "                        <td id=\"T_e9213_row11_col0\" class=\"data row11 col0\" >8%</td>\n",
       "            </tr>\n",
       "            <tr>\n",
       "                        <th id=\"T_e9213_level0_row12\" class=\"row_heading level0 row12\" >неоконченное высшее</th>\n",
       "                        <td id=\"T_e9213_row12_col0\" class=\"data row12 col0\" >8%</td>\n",
       "            </tr>\n",
       "            <tr>\n",
       "                        <th id=\"T_e9213_level0_row13\" class=\"row_heading level0 row13\" >среднее</th>\n",
       "                        <td id=\"T_e9213_row13_col0\" class=\"data row13 col0\" >10%</td>\n",
       "            </tr>\n",
       "            <tr>\n",
       "                        <th id=\"T_e9213_level0_row14\" class=\"row_heading level0 row14\" >ученая степень</th>\n",
       "                        <td id=\"T_e9213_row14_col0\" class=\"data row14 col0\" >0%</td>\n",
       "            </tr>\n",
       "    </tbody></table>"
      ],
      "text/plain": [
       "<pandas.io.formats.style.Styler at 0x1db1ea1c580>"
      ]
     },
     "metadata": {},
     "output_type": "display_data"
    },
    {
     "data": {
      "text/html": [
       "<style  type=\"text/css\" >\n",
       "</style><table id=\"T_dc270_\" ><thead>    <tr>        <th class=\"blank level0\" ></th>        <th class=\"col_heading level0 col0\" >total_income</th>    </tr>    <tr>        <th class=\"index_name level0\" >education_id</th>        <th class=\"blank\" ></th>    </tr></thead><tbody>\n",
       "                <tr>\n",
       "                        <th id=\"T_dc270_level0_row0\" class=\"row_heading level0 row0\" >0</th>\n",
       "                        <td id=\"T_dc270_row0_col0\" class=\"data row0 col0\" >10%</td>\n",
       "            </tr>\n",
       "            <tr>\n",
       "                        <th id=\"T_dc270_level0_row1\" class=\"row_heading level0 row1\" >1</th>\n",
       "                        <td id=\"T_dc270_row1_col0\" class=\"data row1 col0\" >10%</td>\n",
       "            </tr>\n",
       "            <tr>\n",
       "                        <th id=\"T_dc270_level0_row2\" class=\"row_heading level0 row2\" >2</th>\n",
       "                        <td id=\"T_dc270_row2_col0\" class=\"data row2 col0\" >9%</td>\n",
       "            </tr>\n",
       "            <tr>\n",
       "                        <th id=\"T_dc270_level0_row3\" class=\"row_heading level0 row3\" >3</th>\n",
       "                        <td id=\"T_dc270_row3_col0\" class=\"data row3 col0\" >7%</td>\n",
       "            </tr>\n",
       "            <tr>\n",
       "                        <th id=\"T_dc270_level0_row4\" class=\"row_heading level0 row4\" >4</th>\n",
       "                        <td id=\"T_dc270_row4_col0\" class=\"data row4 col0\" >0%</td>\n",
       "            </tr>\n",
       "    </tbody></table>"
      ],
      "text/plain": [
       "<pandas.io.formats.style.Styler at 0x1db1ea1c0a0>"
      ]
     },
     "metadata": {},
     "output_type": "display_data"
    },
    {
     "data": {
      "text/html": [
       "<style  type=\"text/css\" >\n",
       "</style><table id=\"T_9b419_\" ><thead>    <tr>        <th class=\"blank level0\" ></th>        <th class=\"col_heading level0 col0\" >total_income</th>    </tr>    <tr>        <th class=\"index_name level0\" >family_status</th>        <th class=\"blank\" ></th>    </tr></thead><tbody>\n",
       "                <tr>\n",
       "                        <th id=\"T_9b419_level0_row0\" class=\"row_heading level0 row0\" >Не женат / не замужем</th>\n",
       "                        <td id=\"T_9b419_row0_col0\" class=\"data row0 col0\" >10%</td>\n",
       "            </tr>\n",
       "            <tr>\n",
       "                        <th id=\"T_9b419_level0_row1\" class=\"row_heading level0 row1\" >в разводе</th>\n",
       "                        <td id=\"T_9b419_row1_col0\" class=\"data row1 col0\" >9%</td>\n",
       "            </tr>\n",
       "            <tr>\n",
       "                        <th id=\"T_9b419_level0_row2\" class=\"row_heading level0 row2\" >вдовец / вдова</th>\n",
       "                        <td id=\"T_9b419_row2_col0\" class=\"data row2 col0\" >10%</td>\n",
       "            </tr>\n",
       "            <tr>\n",
       "                        <th id=\"T_9b419_level0_row3\" class=\"row_heading level0 row3\" >гражданский брак</th>\n",
       "                        <td id=\"T_9b419_row3_col0\" class=\"data row3 col0\" >11%</td>\n",
       "            </tr>\n",
       "            <tr>\n",
       "                        <th id=\"T_9b419_level0_row4\" class=\"row_heading level0 row4\" >женат / замужем</th>\n",
       "                        <td id=\"T_9b419_row4_col0\" class=\"data row4 col0\" >10%</td>\n",
       "            </tr>\n",
       "    </tbody></table>"
      ],
      "text/plain": [
       "<pandas.io.formats.style.Styler at 0x1db1ea1c490>"
      ]
     },
     "metadata": {},
     "output_type": "display_data"
    },
    {
     "data": {
      "text/html": [
       "<style  type=\"text/css\" >\n",
       "</style><table id=\"T_ce2a4_\" ><thead>    <tr>        <th class=\"blank level0\" ></th>        <th class=\"col_heading level0 col0\" >total_income</th>    </tr>    <tr>        <th class=\"index_name level0\" >family_status_id</th>        <th class=\"blank\" ></th>    </tr></thead><tbody>\n",
       "                <tr>\n",
       "                        <th id=\"T_ce2a4_level0_row0\" class=\"row_heading level0 row0\" >0</th>\n",
       "                        <td id=\"T_ce2a4_row0_col0\" class=\"data row0 col0\" >10%</td>\n",
       "            </tr>\n",
       "            <tr>\n",
       "                        <th id=\"T_ce2a4_level0_row1\" class=\"row_heading level0 row1\" >1</th>\n",
       "                        <td id=\"T_ce2a4_row1_col0\" class=\"data row1 col0\" >11%</td>\n",
       "            </tr>\n",
       "            <tr>\n",
       "                        <th id=\"T_ce2a4_level0_row2\" class=\"row_heading level0 row2\" >2</th>\n",
       "                        <td id=\"T_ce2a4_row2_col0\" class=\"data row2 col0\" >10%</td>\n",
       "            </tr>\n",
       "            <tr>\n",
       "                        <th id=\"T_ce2a4_level0_row3\" class=\"row_heading level0 row3\" >3</th>\n",
       "                        <td id=\"T_ce2a4_row3_col0\" class=\"data row3 col0\" >9%</td>\n",
       "            </tr>\n",
       "            <tr>\n",
       "                        <th id=\"T_ce2a4_level0_row4\" class=\"row_heading level0 row4\" >4</th>\n",
       "                        <td id=\"T_ce2a4_row4_col0\" class=\"data row4 col0\" >10%</td>\n",
       "            </tr>\n",
       "    </tbody></table>"
      ],
      "text/plain": [
       "<pandas.io.formats.style.Styler at 0x1db1ea1c1f0>"
      ]
     },
     "metadata": {},
     "output_type": "display_data"
    },
    {
     "data": {
      "text/html": [
       "<style  type=\"text/css\" >\n",
       "</style><table id=\"T_23f8c_\" ><thead>    <tr>        <th class=\"blank level0\" ></th>        <th class=\"col_heading level0 col0\" >total_income</th>    </tr>    <tr>        <th class=\"index_name level0\" >gender</th>        <th class=\"blank\" ></th>    </tr></thead><tbody>\n",
       "                <tr>\n",
       "                        <th id=\"T_23f8c_level0_row0\" class=\"row_heading level0 row0\" >F</th>\n",
       "                        <td id=\"T_23f8c_row0_col0\" class=\"data row0 col0\" >10%</td>\n",
       "            </tr>\n",
       "            <tr>\n",
       "                        <th id=\"T_23f8c_level0_row1\" class=\"row_heading level0 row1\" >M</th>\n",
       "                        <td id=\"T_23f8c_row1_col0\" class=\"data row1 col0\" >9%</td>\n",
       "            </tr>\n",
       "            <tr>\n",
       "                        <th id=\"T_23f8c_level0_row2\" class=\"row_heading level0 row2\" >XNA</th>\n",
       "                        <td id=\"T_23f8c_row2_col0\" class=\"data row2 col0\" >0%</td>\n",
       "            </tr>\n",
       "    </tbody></table>"
      ],
      "text/plain": [
       "<pandas.io.formats.style.Styler at 0x1db1ea107c0>"
      ]
     },
     "metadata": {},
     "output_type": "display_data"
    },
    {
     "data": {
      "text/html": [
       "<style  type=\"text/css\" >\n",
       "</style><table id=\"T_9069f_\" ><thead>    <tr>        <th class=\"blank level0\" ></th>        <th class=\"col_heading level0 col0\" >total_income</th>    </tr>    <tr>        <th class=\"index_name level0\" >income_type</th>        <th class=\"blank\" ></th>    </tr></thead><tbody>\n",
       "                <tr>\n",
       "                        <th id=\"T_9069f_level0_row0\" class=\"row_heading level0 row0\" >безработный</th>\n",
       "                        <td id=\"T_9069f_row0_col0\" class=\"data row0 col0\" >0%</td>\n",
       "            </tr>\n",
       "            <tr>\n",
       "                        <th id=\"T_9069f_level0_row1\" class=\"row_heading level0 row1\" >в декрете</th>\n",
       "                        <td id=\"T_9069f_row1_col0\" class=\"data row1 col0\" >0%</td>\n",
       "            </tr>\n",
       "            <tr>\n",
       "                        <th id=\"T_9069f_level0_row2\" class=\"row_heading level0 row2\" >госслужащий</th>\n",
       "                        <td id=\"T_9069f_row2_col0\" class=\"data row2 col0\" >10%</td>\n",
       "            </tr>\n",
       "            <tr>\n",
       "                        <th id=\"T_9069f_level0_row3\" class=\"row_heading level0 row3\" >компаньон</th>\n",
       "                        <td id=\"T_9069f_row3_col0\" class=\"data row3 col0\" >10%</td>\n",
       "            </tr>\n",
       "            <tr>\n",
       "                        <th id=\"T_9069f_level0_row4\" class=\"row_heading level0 row4\" >пенсионер</th>\n",
       "                        <td id=\"T_9069f_row4_col0\" class=\"data row4 col0\" >11%</td>\n",
       "            </tr>\n",
       "            <tr>\n",
       "                        <th id=\"T_9069f_level0_row5\" class=\"row_heading level0 row5\" >предприниматель</th>\n",
       "                        <td id=\"T_9069f_row5_col0\" class=\"data row5 col0\" >50%</td>\n",
       "            </tr>\n",
       "            <tr>\n",
       "                        <th id=\"T_9069f_level0_row6\" class=\"row_heading level0 row6\" >сотрудник</th>\n",
       "                        <td id=\"T_9069f_row6_col0\" class=\"data row6 col0\" >10%</td>\n",
       "            </tr>\n",
       "            <tr>\n",
       "                        <th id=\"T_9069f_level0_row7\" class=\"row_heading level0 row7\" >студент</th>\n",
       "                        <td id=\"T_9069f_row7_col0\" class=\"data row7 col0\" >0%</td>\n",
       "            </tr>\n",
       "    </tbody></table>"
      ],
      "text/plain": [
       "<pandas.io.formats.style.Styler at 0x1db1ea10610>"
      ]
     },
     "metadata": {},
     "output_type": "display_data"
    },
    {
     "data": {
      "text/html": [
       "<style  type=\"text/css\" >\n",
       "</style><table id=\"T_b1498_\" ><thead>    <tr>        <th class=\"blank level0\" ></th>        <th class=\"col_heading level0 col0\" >total_income</th>    </tr>    <tr>        <th class=\"index_name level0\" >debt</th>        <th class=\"blank\" ></th>    </tr></thead><tbody>\n",
       "                <tr>\n",
       "                        <th id=\"T_b1498_level0_row0\" class=\"row_heading level0 row0\" >0</th>\n",
       "                        <td id=\"T_b1498_row0_col0\" class=\"data row0 col0\" >10%</td>\n",
       "            </tr>\n",
       "            <tr>\n",
       "                        <th id=\"T_b1498_level0_row1\" class=\"row_heading level0 row1\" >1</th>\n",
       "                        <td id=\"T_b1498_row1_col0\" class=\"data row1 col0\" >10%</td>\n",
       "            </tr>\n",
       "    </tbody></table>"
      ],
      "text/plain": [
       "<pandas.io.formats.style.Styler at 0x1db1ea1c580>"
      ]
     },
     "metadata": {},
     "output_type": "display_data"
    },
    {
     "data": {
      "text/html": [
       "<style  type=\"text/css\" >\n",
       "</style><table id=\"T_8e2a1_\" ><thead>    <tr>        <th class=\"blank level0\" ></th>        <th class=\"col_heading level0 col0\" >total_income</th>    </tr>    <tr>        <th class=\"index_name level0\" >purpose</th>        <th class=\"blank\" ></th>    </tr></thead><tbody>\n",
       "                <tr>\n",
       "                        <th id=\"T_8e2a1_level0_row0\" class=\"row_heading level0 row0\" >автомобили</th>\n",
       "                        <td id=\"T_8e2a1_row0_col0\" class=\"data row0 col0\" >12%</td>\n",
       "            </tr>\n",
       "            <tr>\n",
       "                        <th id=\"T_8e2a1_level0_row1\" class=\"row_heading level0 row1\" >автомобиль</th>\n",
       "                        <td id=\"T_8e2a1_row1_col0\" class=\"data row1 col0\" >8%</td>\n",
       "            </tr>\n",
       "            <tr>\n",
       "                        <th id=\"T_8e2a1_level0_row2\" class=\"row_heading level0 row2\" >высшее образование</th>\n",
       "                        <td id=\"T_8e2a1_row2_col0\" class=\"data row2 col0\" >9%</td>\n",
       "            </tr>\n",
       "            <tr>\n",
       "                        <th id=\"T_8e2a1_level0_row3\" class=\"row_heading level0 row3\" >дополнительное образование</th>\n",
       "                        <td id=\"T_8e2a1_row3_col0\" class=\"data row3 col0\" >10%</td>\n",
       "            </tr>\n",
       "            <tr>\n",
       "                        <th id=\"T_8e2a1_level0_row4\" class=\"row_heading level0 row4\" >жилье</th>\n",
       "                        <td id=\"T_8e2a1_row4_col0\" class=\"data row4 col0\" >9%</td>\n",
       "            </tr>\n",
       "            <tr>\n",
       "                        <th id=\"T_8e2a1_level0_row5\" class=\"row_heading level0 row5\" >заняться высшим образованием</th>\n",
       "                        <td id=\"T_8e2a1_row5_col0\" class=\"data row5 col0\" >11%</td>\n",
       "            </tr>\n",
       "            <tr>\n",
       "                        <th id=\"T_8e2a1_level0_row6\" class=\"row_heading level0 row6\" >заняться образованием</th>\n",
       "                        <td id=\"T_8e2a1_row6_col0\" class=\"data row6 col0\" >13%</td>\n",
       "            </tr>\n",
       "            <tr>\n",
       "                        <th id=\"T_8e2a1_level0_row7\" class=\"row_heading level0 row7\" >на покупку автомобиля</th>\n",
       "                        <td id=\"T_8e2a1_row7_col0\" class=\"data row7 col0\" >6%</td>\n",
       "            </tr>\n",
       "            <tr>\n",
       "                        <th id=\"T_8e2a1_level0_row8\" class=\"row_heading level0 row8\" >на покупку подержанного автомобиля</th>\n",
       "                        <td id=\"T_8e2a1_row8_col0\" class=\"data row8 col0\" >9%</td>\n",
       "            </tr>\n",
       "            <tr>\n",
       "                        <th id=\"T_8e2a1_level0_row9\" class=\"row_heading level0 row9\" >на покупку своего автомобиля</th>\n",
       "                        <td id=\"T_8e2a1_row9_col0\" class=\"data row9 col0\" >10%</td>\n",
       "            </tr>\n",
       "            <tr>\n",
       "                        <th id=\"T_8e2a1_level0_row10\" class=\"row_heading level0 row10\" >на проведение свадьбы</th>\n",
       "                        <td id=\"T_8e2a1_row10_col0\" class=\"data row10 col0\" >12%</td>\n",
       "            </tr>\n",
       "            <tr>\n",
       "                        <th id=\"T_8e2a1_level0_row11\" class=\"row_heading level0 row11\" >недвижимость</th>\n",
       "                        <td id=\"T_8e2a1_row11_col0\" class=\"data row11 col0\" >10%</td>\n",
       "            </tr>\n",
       "            <tr>\n",
       "                        <th id=\"T_8e2a1_level0_row12\" class=\"row_heading level0 row12\" >образование</th>\n",
       "                        <td id=\"T_8e2a1_row12_col0\" class=\"data row12 col0\" >9%</td>\n",
       "            </tr>\n",
       "            <tr>\n",
       "                        <th id=\"T_8e2a1_level0_row13\" class=\"row_heading level0 row13\" >операции с жильем</th>\n",
       "                        <td id=\"T_8e2a1_row13_col0\" class=\"data row13 col0\" >11%</td>\n",
       "            </tr>\n",
       "            <tr>\n",
       "                        <th id=\"T_8e2a1_level0_row14\" class=\"row_heading level0 row14\" >операции с коммерческой недвижимостью</th>\n",
       "                        <td id=\"T_8e2a1_row14_col0\" class=\"data row14 col0\" >11%</td>\n",
       "            </tr>\n",
       "            <tr>\n",
       "                        <th id=\"T_8e2a1_level0_row15\" class=\"row_heading level0 row15\" >операции с недвижимостью</th>\n",
       "                        <td id=\"T_8e2a1_row15_col0\" class=\"data row15 col0\" >9%</td>\n",
       "            </tr>\n",
       "            <tr>\n",
       "                        <th id=\"T_8e2a1_level0_row16\" class=\"row_heading level0 row16\" >операции со своей недвижимостью</th>\n",
       "                        <td id=\"T_8e2a1_row16_col0\" class=\"data row16 col0\" >11%</td>\n",
       "            </tr>\n",
       "            <tr>\n",
       "                        <th id=\"T_8e2a1_level0_row17\" class=\"row_heading level0 row17\" >покупка жилой недвижимости</th>\n",
       "                        <td id=\"T_8e2a1_row17_col0\" class=\"data row17 col0\" >10%</td>\n",
       "            </tr>\n",
       "            <tr>\n",
       "                        <th id=\"T_8e2a1_level0_row18\" class=\"row_heading level0 row18\" >покупка жилья</th>\n",
       "                        <td id=\"T_8e2a1_row18_col0\" class=\"data row18 col0\" >8%</td>\n",
       "            </tr>\n",
       "            <tr>\n",
       "                        <th id=\"T_8e2a1_level0_row19\" class=\"row_heading level0 row19\" >покупка жилья для сдачи</th>\n",
       "                        <td id=\"T_8e2a1_row19_col0\" class=\"data row19 col0\" >10%</td>\n",
       "            </tr>\n",
       "            <tr>\n",
       "                        <th id=\"T_8e2a1_level0_row20\" class=\"row_heading level0 row20\" >покупка жилья для семьи</th>\n",
       "                        <td id=\"T_8e2a1_row20_col0\" class=\"data row20 col0\" >11%</td>\n",
       "            </tr>\n",
       "            <tr>\n",
       "                        <th id=\"T_8e2a1_level0_row21\" class=\"row_heading level0 row21\" >покупка коммерческой недвижимости</th>\n",
       "                        <td id=\"T_8e2a1_row21_col0\" class=\"data row21 col0\" >10%</td>\n",
       "            </tr>\n",
       "            <tr>\n",
       "                        <th id=\"T_8e2a1_level0_row22\" class=\"row_heading level0 row22\" >покупка недвижимости</th>\n",
       "                        <td id=\"T_8e2a1_row22_col0\" class=\"data row22 col0\" >12%</td>\n",
       "            </tr>\n",
       "            <tr>\n",
       "                        <th id=\"T_8e2a1_level0_row23\" class=\"row_heading level0 row23\" >покупка своего жилья</th>\n",
       "                        <td id=\"T_8e2a1_row23_col0\" class=\"data row23 col0\" >7%</td>\n",
       "            </tr>\n",
       "            <tr>\n",
       "                        <th id=\"T_8e2a1_level0_row24\" class=\"row_heading level0 row24\" >получение высшего образования</th>\n",
       "                        <td id=\"T_8e2a1_row24_col0\" class=\"data row24 col0\" >8%</td>\n",
       "            </tr>\n",
       "            <tr>\n",
       "                        <th id=\"T_8e2a1_level0_row25\" class=\"row_heading level0 row25\" >получение дополнительного образования</th>\n",
       "                        <td id=\"T_8e2a1_row25_col0\" class=\"data row25 col0\" >11%</td>\n",
       "            </tr>\n",
       "            <tr>\n",
       "                        <th id=\"T_8e2a1_level0_row26\" class=\"row_heading level0 row26\" >получение образования</th>\n",
       "                        <td id=\"T_8e2a1_row26_col0\" class=\"data row26 col0\" >11%</td>\n",
       "            </tr>\n",
       "            <tr>\n",
       "                        <th id=\"T_8e2a1_level0_row27\" class=\"row_heading level0 row27\" >приобретение автомобиля</th>\n",
       "                        <td id=\"T_8e2a1_row27_col0\" class=\"data row27 col0\" >9%</td>\n",
       "            </tr>\n",
       "            <tr>\n",
       "                        <th id=\"T_8e2a1_level0_row28\" class=\"row_heading level0 row28\" >профильное образование</th>\n",
       "                        <td id=\"T_8e2a1_row28_col0\" class=\"data row28 col0\" >11%</td>\n",
       "            </tr>\n",
       "            <tr>\n",
       "                        <th id=\"T_8e2a1_level0_row29\" class=\"row_heading level0 row29\" >ремонт жилью</th>\n",
       "                        <td id=\"T_8e2a1_row29_col0\" class=\"data row29 col0\" >11%</td>\n",
       "            </tr>\n",
       "            <tr>\n",
       "                        <th id=\"T_8e2a1_level0_row30\" class=\"row_heading level0 row30\" >свадьба</th>\n",
       "                        <td id=\"T_8e2a1_row30_col0\" class=\"data row30 col0\" >10%</td>\n",
       "            </tr>\n",
       "            <tr>\n",
       "                        <th id=\"T_8e2a1_level0_row31\" class=\"row_heading level0 row31\" >свой автомобиль</th>\n",
       "                        <td id=\"T_8e2a1_row31_col0\" class=\"data row31 col0\" >11%</td>\n",
       "            </tr>\n",
       "            <tr>\n",
       "                        <th id=\"T_8e2a1_level0_row32\" class=\"row_heading level0 row32\" >сделка с автомобилем</th>\n",
       "                        <td id=\"T_8e2a1_row32_col0\" class=\"data row32 col0\" >10%</td>\n",
       "            </tr>\n",
       "            <tr>\n",
       "                        <th id=\"T_8e2a1_level0_row33\" class=\"row_heading level0 row33\" >сделка с подержанным автомобилем</th>\n",
       "                        <td id=\"T_8e2a1_row33_col0\" class=\"data row33 col0\" >11%</td>\n",
       "            </tr>\n",
       "            <tr>\n",
       "                        <th id=\"T_8e2a1_level0_row34\" class=\"row_heading level0 row34\" >строительство жилой недвижимости</th>\n",
       "                        <td id=\"T_8e2a1_row34_col0\" class=\"data row34 col0\" >7%</td>\n",
       "            </tr>\n",
       "            <tr>\n",
       "                        <th id=\"T_8e2a1_level0_row35\" class=\"row_heading level0 row35\" >строительство недвижимости</th>\n",
       "                        <td id=\"T_8e2a1_row35_col0\" class=\"data row35 col0\" >10%</td>\n",
       "            </tr>\n",
       "            <tr>\n",
       "                        <th id=\"T_8e2a1_level0_row36\" class=\"row_heading level0 row36\" >строительство собственной недвижимости</th>\n",
       "                        <td id=\"T_8e2a1_row36_col0\" class=\"data row36 col0\" >12%</td>\n",
       "            </tr>\n",
       "            <tr>\n",
       "                        <th id=\"T_8e2a1_level0_row37\" class=\"row_heading level0 row37\" >сыграть свадьбу</th>\n",
       "                        <td id=\"T_8e2a1_row37_col0\" class=\"data row37 col0\" >10%</td>\n",
       "            </tr>\n",
       "    </tbody></table>"
      ],
      "text/plain": [
       "<pandas.io.formats.style.Styler at 0x1db1ea1c3a0>"
      ]
     },
     "metadata": {},
     "output_type": "display_data"
    }
   ],
   "source": [
    "# получение доли пропусков total_income по значениям других столбцов df без пропусков\n",
    "for column in df.columns:\n",
    "    if column != 'total_income' and column != 'days_employed':\n",
    "        display(df.groupby(column)['total_income'].apply(lambda x : x.isna().mean()).to_frame().style.format('{:.0%}'))"
   ]
  },
  {
   "cell_type": "markdown",
   "id": "348e7860-dd2d-4801-aadf-70e5f68eaaea",
   "metadata": {},
   "source": [
    "Если отбросить небольшие группы, то видно, что доли пропусков в каждой из них за исключением двух, клиентов с неоконченным высшим образованием и предпренимателей, примерно одинаковые, следовательно, для большинства групп можно заменять пропуски медианным значением.\n",
    "\n",
    "Для двух же указанных выше групп доля пропущенных значений довольно сильно отличается — 40-50%. Вероятно, данные типы клиентов довольно часто могли не указывать рассматриваемые параметры по причине возможного малого трудового стажа и низкого дохода при их роде деятельности. Но за неимением дополнительной информации найти какое-то отличное от медианного характерное значение для замены пропусков, являющееся более достоверным, не представляется возможным. Заменим также медианным для соответствующего типа занятости."
   ]
  },
  {
   "cell_type": "code",
   "execution_count": 9,
   "id": "ee3c078e-72f5-4c83-8d7b-f61a76ba9b20",
   "metadata": {},
   "outputs": [
    {
     "data": {
      "text/plain": [
       "0"
      ]
     },
     "execution_count": 9,
     "metadata": {},
     "output_type": "execute_result"
    }
   ],
   "source": [
    "# замена пропущенных значений в столбце медианным c учётом типа занятости\n",
    "for definition in df['income_type'].unique():\n",
    "    df.loc[df['income_type'].isin([definition]),\n",
    "           'total_income'] = df.loc[df['income_type'].isin([definition]),\n",
    "           'total_income'].fillna(df.loc[df['income_type'].isin([definition]),\n",
    "           'total_income'].median())\n",
    "                           \n",
    "# проверка отсутствия пропущенных значений ежемесячного дохода\n",
    "df['total_income'].isna().sum()"
   ]
  },
  {
   "cell_type": "markdown",
   "id": "57454d64-1de0-486d-a5e5-832cb7bdd185",
   "metadata": {},
   "source": [
    "**Промежуточные выводы**\n",
    "\n",
    "Обработав пропуски в столбцах, можно прийти к определённым выводам:\n",
    "1. Доля пропущенных значений — 10% — была достаточно велика, в связи с чем в одном из столбцов они были заменены на медианное значение количественного параметра, позволяющее не сильно исказить общую достоверность данных, а также не упустить необходимые для дальнейшего исследования значения.\n",
    "2. Учитывая, что количество пропущенных значений в каждом случае совпадает и пропуски в обоих столбцах появляются только одновременно, можно сделать предположение, что данные пропуски неслучайны. Причиной их появления могло быть, например, намеренное непредоставление соответствующих данных клиентами с низким доходом и небольшим трудовым стажем из-за их опасения в отказе выдачи кредита на основании полученной информации. Также это могут быть люди, ни разу в своей жизни не работающиее по найму и не получающие лично какого-либо дохода, что тоже возможно."
   ]
  },
  {
   "cell_type": "markdown",
   "id": "753e7a96",
   "metadata": {},
   "source": [
    "### Проверка данных на аномалии и исправления"
   ]
  },
  {
   "cell_type": "markdown",
   "id": "03a11588-9d15-48f8-8e0d-d94cd8c94006",
   "metadata": {},
   "source": [
    "Приступим к обработке артефактов в данных перед избавлением от пропущенных значений в столбце `days_employed`.\n",
    "Отрицательные значения и сотни тысяч дней трудового стажа не могут соответствовать действительности. В иделе можно было бы обратиться к тому, от кого получены данные за разъяснениями, но за неимением такой возможности произведём изменения соответствующих значений.\n",
    "\n",
    "В отрицательных значениях, вероятно, ошибочно стоит знак \"минус\", так как модули значений выглядят вполне соответствующими реальности.\n",
    "Переведём все значения трудового стажа в положительные."
   ]
  },
  {
   "cell_type": "code",
   "execution_count": 10,
   "id": "50ef00e7-d571-49bb-a7ad-14d2ef965e5b",
   "metadata": {},
   "outputs": [
    {
     "data": {
      "text/plain": [
       "0"
      ]
     },
     "execution_count": 10,
     "metadata": {},
     "output_type": "execute_result"
    }
   ],
   "source": [
    "# замена значений в столбце их модулями\n",
    "df['days_employed'] = abs(df['days_employed'])\n",
    "\n",
    "# проверка отсутствия отрицательных значений столбца days_employed\n",
    "df[df['days_employed'] < 0]['dob_years'].count()"
   ]
  },
  {
   "cell_type": "markdown",
   "id": "932bc593-0ba3-498d-9c41-b007774d81ae",
   "metadata": {},
   "source": [
    "При обзоре данных можно было заметить, что слишком большие значения трудового стажа встречаются в основном у пенсионеров. Для проверки предположения найдём средний показатель стажа для разных типов занятости клиентов."
   ]
  },
  {
   "cell_type": "code",
   "execution_count": 11,
   "id": "ee34403a",
   "metadata": {},
   "outputs": [
    {
     "data": {
      "text/html": [
       "<style  type=\"text/css\" >\n",
       "</style><table id=\"T_fde86_\" ><thead>    <tr>        <th class=\"blank level0\" ></th>        <th class=\"col_heading level0 col0\" >days_employed</th>    </tr>    <tr>        <th class=\"index_name level0\" >income_type</th>        <th class=\"blank\" ></th>    </tr></thead><tbody>\n",
       "                <tr>\n",
       "                        <th id=\"T_fde86_level0_row0\" class=\"row_heading level0 row0\" >безработный</th>\n",
       "                        <td id=\"T_fde86_row0_col0\" class=\"data row0 col0\" >366414</td>\n",
       "            </tr>\n",
       "            <tr>\n",
       "                        <th id=\"T_fde86_level0_row1\" class=\"row_heading level0 row1\" >в декрете</th>\n",
       "                        <td id=\"T_fde86_row1_col0\" class=\"data row1 col0\" >3297</td>\n",
       "            </tr>\n",
       "            <tr>\n",
       "                        <th id=\"T_fde86_level0_row2\" class=\"row_heading level0 row2\" >госслужащий</th>\n",
       "                        <td id=\"T_fde86_row2_col0\" class=\"data row2 col0\" >2689</td>\n",
       "            </tr>\n",
       "            <tr>\n",
       "                        <th id=\"T_fde86_level0_row3\" class=\"row_heading level0 row3\" >компаньон</th>\n",
       "                        <td id=\"T_fde86_row3_col0\" class=\"data row3 col0\" >1547</td>\n",
       "            </tr>\n",
       "            <tr>\n",
       "                        <th id=\"T_fde86_level0_row4\" class=\"row_heading level0 row4\" >пенсионер</th>\n",
       "                        <td id=\"T_fde86_row4_col0\" class=\"data row4 col0\" >365213</td>\n",
       "            </tr>\n",
       "            <tr>\n",
       "                        <th id=\"T_fde86_level0_row5\" class=\"row_heading level0 row5\" >предприниматель</th>\n",
       "                        <td id=\"T_fde86_row5_col0\" class=\"data row5 col0\" >521</td>\n",
       "            </tr>\n",
       "            <tr>\n",
       "                        <th id=\"T_fde86_level0_row6\" class=\"row_heading level0 row6\" >сотрудник</th>\n",
       "                        <td id=\"T_fde86_row6_col0\" class=\"data row6 col0\" >1574</td>\n",
       "            </tr>\n",
       "            <tr>\n",
       "                        <th id=\"T_fde86_level0_row7\" class=\"row_heading level0 row7\" >студент</th>\n",
       "                        <td id=\"T_fde86_row7_col0\" class=\"data row7 col0\" >579</td>\n",
       "            </tr>\n",
       "    </tbody></table>"
      ],
      "text/plain": [
       "<pandas.io.formats.style.Styler at 0x1db1e9f0df0>"
      ]
     },
     "execution_count": 11,
     "metadata": {},
     "output_type": "execute_result"
    }
   ],
   "source": [
    "# вывод на экран среднего значения для всех типов занятости\n",
    "df.groupby('income_type')['days_employed'].median().to_frame().style.format('{:.0f}')"
   ]
  },
  {
   "cell_type": "markdown",
   "id": "4498d59d-5cd4-4a18-987f-12616ba71dd4",
   "metadata": {},
   "source": [
    "Нереалистично высокие показатели встречаются у двух типов клиентов: пенсионеров и безработных. Очевидные причины появления артефактов с такими значениями без дополнительной информации назвать нельзя. Можно предположить, что значения для данных категорий хранятся в другой еденице измерения, отличной от дней. По величине значений самой логичной выглядят часы.\n",
    "Разделим значения в соответствующих колонках на 24 и выведем их новые средние показатели."
   ]
  },
  {
   "cell_type": "code",
   "execution_count": 12,
   "id": "25313088-d80b-4c7a-a450-1357cb57b7ca",
   "metadata": {},
   "outputs": [
    {
     "data": {
      "text/html": [
       "<style  type=\"text/css\" >\n",
       "</style><table id=\"T_a8885_\" ><thead>    <tr>        <th class=\"blank level0\" ></th>        <th class=\"col_heading level0 col0\" >days_employed</th>    </tr>    <tr>        <th class=\"index_name level0\" >income_type</th>        <th class=\"blank\" ></th>    </tr></thead><tbody>\n",
       "                <tr>\n",
       "                        <th id=\"T_a8885_level0_row0\" class=\"row_heading level0 row0\" >безработный</th>\n",
       "                        <td id=\"T_a8885_row0_col0\" class=\"data row0 col0\" >15267</td>\n",
       "            </tr>\n",
       "            <tr>\n",
       "                        <th id=\"T_a8885_level0_row1\" class=\"row_heading level0 row1\" >в декрете</th>\n",
       "                        <td id=\"T_a8885_row1_col0\" class=\"data row1 col0\" >3297</td>\n",
       "            </tr>\n",
       "            <tr>\n",
       "                        <th id=\"T_a8885_level0_row2\" class=\"row_heading level0 row2\" >госслужащий</th>\n",
       "                        <td id=\"T_a8885_row2_col0\" class=\"data row2 col0\" >2689</td>\n",
       "            </tr>\n",
       "            <tr>\n",
       "                        <th id=\"T_a8885_level0_row3\" class=\"row_heading level0 row3\" >компаньон</th>\n",
       "                        <td id=\"T_a8885_row3_col0\" class=\"data row3 col0\" >1547</td>\n",
       "            </tr>\n",
       "            <tr>\n",
       "                        <th id=\"T_a8885_level0_row4\" class=\"row_heading level0 row4\" >пенсионер</th>\n",
       "                        <td id=\"T_a8885_row4_col0\" class=\"data row4 col0\" >15217</td>\n",
       "            </tr>\n",
       "            <tr>\n",
       "                        <th id=\"T_a8885_level0_row5\" class=\"row_heading level0 row5\" >предприниматель</th>\n",
       "                        <td id=\"T_a8885_row5_col0\" class=\"data row5 col0\" >521</td>\n",
       "            </tr>\n",
       "            <tr>\n",
       "                        <th id=\"T_a8885_level0_row6\" class=\"row_heading level0 row6\" >сотрудник</th>\n",
       "                        <td id=\"T_a8885_row6_col0\" class=\"data row6 col0\" >1574</td>\n",
       "            </tr>\n",
       "            <tr>\n",
       "                        <th id=\"T_a8885_level0_row7\" class=\"row_heading level0 row7\" >студент</th>\n",
       "                        <td id=\"T_a8885_row7_col0\" class=\"data row7 col0\" >579</td>\n",
       "            </tr>\n",
       "    </tbody></table>"
      ],
      "text/plain": [
       "<pandas.io.formats.style.Styler at 0x1db1dc07fd0>"
      ]
     },
     "execution_count": 12,
     "metadata": {},
     "output_type": "execute_result"
    }
   ],
   "source": [
    "# изменение значений в столбце income_type по нужному условию\n",
    "df.loc[df['income_type'].isin(['пенсионер','безработный']),'days_employed'] = df['days_employed'] / 24\n",
    "\n",
    "# вывод на экран обновленного среднего значения для всех типов занятости\n",
    "df.groupby('income_type')['days_employed'].median().to_frame().style.format('{:.0f}')"
   ]
  },
  {
   "cell_type": "markdown",
   "id": "c5429509-2bf8-461c-a095-b026553f2dc2",
   "metadata": {},
   "source": [
    "Теперь значения выглядят более соответствующими действительности. Можем приступить к заполнению пропусков в столбце с трудовым стажем клентов."
   ]
  },
  {
   "cell_type": "code",
   "execution_count": 13,
   "id": "9e9f5476-1940-4ed6-ac63-d34396930e79",
   "metadata": {},
   "outputs": [
    {
     "data": {
      "text/plain": [
       "children            0\n",
       "days_employed       0\n",
       "dob_years           0\n",
       "education           0\n",
       "education_id        0\n",
       "family_status       0\n",
       "family_status_id    0\n",
       "gender              0\n",
       "income_type         0\n",
       "debt                0\n",
       "total_income        0\n",
       "purpose             0\n",
       "dtype: int64"
      ]
     },
     "execution_count": 13,
     "metadata": {},
     "output_type": "execute_result"
    }
   ],
   "source": [
    "# замена пропущенных значений в столбце медианным c учётом типа занятости\n",
    "for definition in df['income_type'].unique():\n",
    "    df.loc[df['income_type'].isin([definition]),\n",
    "           'days_employed'] = df.loc[df['income_type'].isin([definition]),\n",
    "           'days_employed'].fillna(df.loc[df['income_type'].isin([definition]),\n",
    "           'days_employed'].median())\n",
    "\n",
    "# проверка отсутствия пропущенных значений во всём датасете\n",
    "df.isna().sum()"
   ]
  },
  {
   "cell_type": "markdown",
   "id": "b35e3312-0a9c-4cf9-a01d-c9ea8c5e474f",
   "metadata": {},
   "source": [
    "Осталась ещё одна проблема в данных — значения возраста, равные 0. Взглянем на распределение значений остальных столбцов для строк с данным артефактом ряди поиска возможной очевидной зависимости появления нулевого значения."
   ]
  },
  {
   "cell_type": "code",
   "execution_count": 14,
   "id": "aac5d439-1c23-45af-84f3-ae244c26f53a",
   "metadata": {},
   "outputs": [
    {
     "data": {
      "text/html": [
       "<style  type=\"text/css\" >\n",
       "</style><table id=\"T_ad3fd_\" ><thead>    <tr>        <th class=\"blank level0\" ></th>        <th class=\"col_heading level0 col0\" >children</th>        <th class=\"col_heading level0 col1\" >days_employed</th>        <th class=\"col_heading level0 col2\" >dob_years</th>        <th class=\"col_heading level0 col3\" >education_id</th>        <th class=\"col_heading level0 col4\" >family_status_id</th>        <th class=\"col_heading level0 col5\" >debt</th>        <th class=\"col_heading level0 col6\" >total_income</th>    </tr></thead><tbody>\n",
       "                <tr>\n",
       "                        <th id=\"T_ad3fd_level0_row0\" class=\"row_heading level0 row0\" >count</th>\n",
       "                        <td id=\"T_ad3fd_row0_col0\" class=\"data row0 col0\" >101.00</td>\n",
       "                        <td id=\"T_ad3fd_row0_col1\" class=\"data row0 col1\" >101.00</td>\n",
       "                        <td id=\"T_ad3fd_row0_col2\" class=\"data row0 col2\" >101.00</td>\n",
       "                        <td id=\"T_ad3fd_row0_col3\" class=\"data row0 col3\" >101.00</td>\n",
       "                        <td id=\"T_ad3fd_row0_col4\" class=\"data row0 col4\" >101.00</td>\n",
       "                        <td id=\"T_ad3fd_row0_col5\" class=\"data row0 col5\" >101.00</td>\n",
       "                        <td id=\"T_ad3fd_row0_col6\" class=\"data row0 col6\" >101.00</td>\n",
       "            </tr>\n",
       "            <tr>\n",
       "                        <th id=\"T_ad3fd_level0_row1\" class=\"row_heading level0 row1\" >mean</th>\n",
       "                        <td id=\"T_ad3fd_row1_col0\" class=\"data row1 col0\" >0.67</td>\n",
       "                        <td id=\"T_ad3fd_row1_col1\" class=\"data row1 col1\" >4715.27</td>\n",
       "                        <td id=\"T_ad3fd_row1_col2\" class=\"data row1 col2\" >0.00</td>\n",
       "                        <td id=\"T_ad3fd_row1_col3\" class=\"data row1 col3\" >0.67</td>\n",
       "                        <td id=\"T_ad3fd_row1_col4\" class=\"data row1 col4\" >1.24</td>\n",
       "                        <td id=\"T_ad3fd_row1_col5\" class=\"data row1 col5\" >0.08</td>\n",
       "                        <td id=\"T_ad3fd_row1_col6\" class=\"data row1 col6\" >156653.32</td>\n",
       "            </tr>\n",
       "            <tr>\n",
       "                        <th id=\"T_ad3fd_level0_row2\" class=\"row_heading level0 row2\" >std</th>\n",
       "                        <td id=\"T_ad3fd_row2_col0\" class=\"data row2 col0\" >2.10</td>\n",
       "                        <td id=\"T_ad3fd_row2_col1\" class=\"data row2 col1\" >5539.29</td>\n",
       "                        <td id=\"T_ad3fd_row2_col2\" class=\"data row2 col2\" >0.00</td>\n",
       "                        <td id=\"T_ad3fd_row2_col3\" class=\"data row2 col3\" >0.51</td>\n",
       "                        <td id=\"T_ad3fd_row2_col4\" class=\"data row2 col4\" >1.52</td>\n",
       "                        <td id=\"T_ad3fd_row2_col5\" class=\"data row2 col5\" >0.27</td>\n",
       "                        <td id=\"T_ad3fd_row2_col6\" class=\"data row2 col6\" >70995.98</td>\n",
       "            </tr>\n",
       "            <tr>\n",
       "                        <th id=\"T_ad3fd_level0_row3\" class=\"row_heading level0 row3\" >min</th>\n",
       "                        <td id=\"T_ad3fd_row3_col0\" class=\"data row3 col0\" >0.00</td>\n",
       "                        <td id=\"T_ad3fd_row3_col1\" class=\"data row3 col1\" >108.97</td>\n",
       "                        <td id=\"T_ad3fd_row3_col2\" class=\"data row3 col2\" >0.00</td>\n",
       "                        <td id=\"T_ad3fd_row3_col3\" class=\"data row3 col3\" >0.00</td>\n",
       "                        <td id=\"T_ad3fd_row3_col4\" class=\"data row3 col4\" >0.00</td>\n",
       "                        <td id=\"T_ad3fd_row3_col5\" class=\"data row3 col5\" >0.00</td>\n",
       "                        <td id=\"T_ad3fd_row3_col6\" class=\"data row3 col6\" >34974.45</td>\n",
       "            </tr>\n",
       "            <tr>\n",
       "                        <th id=\"T_ad3fd_level0_row4\" class=\"row_heading level0 row4\" >25%</th>\n",
       "                        <td id=\"T_ad3fd_row4_col0\" class=\"data row4 col0\" >0.00</td>\n",
       "                        <td id=\"T_ad3fd_row4_col1\" class=\"data row4 col1\" >1018.53</td>\n",
       "                        <td id=\"T_ad3fd_row4_col2\" class=\"data row4 col2\" >0.00</td>\n",
       "                        <td id=\"T_ad3fd_row4_col3\" class=\"data row4 col3\" >0.00</td>\n",
       "                        <td id=\"T_ad3fd_row4_col4\" class=\"data row4 col4\" >0.00</td>\n",
       "                        <td id=\"T_ad3fd_row4_col5\" class=\"data row4 col5\" >0.00</td>\n",
       "                        <td id=\"T_ad3fd_row4_col6\" class=\"data row4 col6\" >102621.70</td>\n",
       "            </tr>\n",
       "            <tr>\n",
       "                        <th id=\"T_ad3fd_level0_row5\" class=\"row_heading level0 row5\" >50%</th>\n",
       "                        <td id=\"T_ad3fd_row5_col0\" class=\"data row5 col0\" >0.00</td>\n",
       "                        <td id=\"T_ad3fd_row5_col1\" class=\"data row5 col1\" >1720.87</td>\n",
       "                        <td id=\"T_ad3fd_row5_col2\" class=\"data row5 col2\" >0.00</td>\n",
       "                        <td id=\"T_ad3fd_row5_col3\" class=\"data row5 col3\" >1.00</td>\n",
       "                        <td id=\"T_ad3fd_row5_col4\" class=\"data row5 col4\" >1.00</td>\n",
       "                        <td id=\"T_ad3fd_row5_col5\" class=\"data row5 col5\" >0.00</td>\n",
       "                        <td id=\"T_ad3fd_row5_col6\" class=\"data row5 col6\" >142594.40</td>\n",
       "            </tr>\n",
       "            <tr>\n",
       "                        <th id=\"T_ad3fd_level0_row6\" class=\"row_heading level0 row6\" >75%</th>\n",
       "                        <td id=\"T_ad3fd_row6_col0\" class=\"data row6 col0\" >1.00</td>\n",
       "                        <td id=\"T_ad3fd_row6_col1\" class=\"data row6 col1\" >5043.22</td>\n",
       "                        <td id=\"T_ad3fd_row6_col2\" class=\"data row6 col2\" >0.00</td>\n",
       "                        <td id=\"T_ad3fd_row6_col3\" class=\"data row6 col3\" >1.00</td>\n",
       "                        <td id=\"T_ad3fd_row6_col4\" class=\"data row6 col4\" >3.00</td>\n",
       "                        <td id=\"T_ad3fd_row6_col5\" class=\"data row6 col5\" >0.00</td>\n",
       "                        <td id=\"T_ad3fd_row6_col6\" class=\"data row6 col6\" >201852.43</td>\n",
       "            </tr>\n",
       "            <tr>\n",
       "                        <th id=\"T_ad3fd_level0_row7\" class=\"row_heading level0 row7\" >max</th>\n",
       "                        <td id=\"T_ad3fd_row7_col0\" class=\"data row7 col0\" >20.00</td>\n",
       "                        <td id=\"T_ad3fd_row7_col1\" class=\"data row7 col1\" >16708.02</td>\n",
       "                        <td id=\"T_ad3fd_row7_col2\" class=\"data row7 col2\" >0.00</td>\n",
       "                        <td id=\"T_ad3fd_row7_col3\" class=\"data row7 col3\" >2.00</td>\n",
       "                        <td id=\"T_ad3fd_row7_col4\" class=\"data row7 col4\" >4.00</td>\n",
       "                        <td id=\"T_ad3fd_row7_col5\" class=\"data row7 col5\" >1.00</td>\n",
       "                        <td id=\"T_ad3fd_row7_col6\" class=\"data row7 col6\" >386373.64</td>\n",
       "            </tr>\n",
       "    </tbody></table>"
      ],
      "text/plain": [
       "<pandas.io.formats.style.Styler at 0x1db1dc07a30>"
      ]
     },
     "execution_count": 14,
     "metadata": {},
     "output_type": "execute_result"
    }
   ],
   "source": [
    "# получение распределения значений среза df с нулевым возрастом клиентов\n",
    "df[df['dob_years']==0].describe().style.format('{:.2f}')"
   ]
  },
  {
   "cell_type": "code",
   "execution_count": 15,
   "id": "2905693b-9600-4610-881f-5be46e55151e",
   "metadata": {},
   "outputs": [
    {
     "data": {
      "text/html": [
       "<div>\n",
       "<style scoped>\n",
       "    .dataframe tbody tr th:only-of-type {\n",
       "        vertical-align: middle;\n",
       "    }\n",
       "\n",
       "    .dataframe tbody tr th {\n",
       "        vertical-align: top;\n",
       "    }\n",
       "\n",
       "    .dataframe thead th {\n",
       "        text-align: right;\n",
       "    }\n",
       "</style>\n",
       "<table border=\"1\" class=\"dataframe\">\n",
       "  <thead>\n",
       "    <tr style=\"text-align: right;\">\n",
       "      <th></th>\n",
       "      <th>children</th>\n",
       "    </tr>\n",
       "  </thead>\n",
       "  <tbody>\n",
       "    <tr>\n",
       "      <th>0</th>\n",
       "      <td>69</td>\n",
       "    </tr>\n",
       "    <tr>\n",
       "      <th>1</th>\n",
       "      <td>16</td>\n",
       "    </tr>\n",
       "    <tr>\n",
       "      <th>2</th>\n",
       "      <td>13</td>\n",
       "    </tr>\n",
       "    <tr>\n",
       "      <th>3</th>\n",
       "      <td>2</td>\n",
       "    </tr>\n",
       "    <tr>\n",
       "      <th>20</th>\n",
       "      <td>1</td>\n",
       "    </tr>\n",
       "  </tbody>\n",
       "</table>\n",
       "</div>"
      ],
      "text/plain": [
       "    children\n",
       "0         69\n",
       "1         16\n",
       "2         13\n",
       "3          2\n",
       "20         1"
      ]
     },
     "metadata": {},
     "output_type": "display_data"
    },
    {
     "name": "stdout",
     "output_type": "stream",
     "text": [
      "\n"
     ]
    },
    {
     "data": {
      "text/html": [
       "<div>\n",
       "<style scoped>\n",
       "    .dataframe tbody tr th:only-of-type {\n",
       "        vertical-align: middle;\n",
       "    }\n",
       "\n",
       "    .dataframe tbody tr th {\n",
       "        vertical-align: top;\n",
       "    }\n",
       "\n",
       "    .dataframe thead th {\n",
       "        text-align: right;\n",
       "    }\n",
       "</style>\n",
       "<table border=\"1\" class=\"dataframe\">\n",
       "  <thead>\n",
       "    <tr style=\"text-align: right;\">\n",
       "      <th></th>\n",
       "      <th>days_employed</th>\n",
       "    </tr>\n",
       "  </thead>\n",
       "  <tbody>\n",
       "    <tr>\n",
       "      <th>1574.202821</th>\n",
       "      <td>5</td>\n",
       "    </tr>\n",
       "    <tr>\n",
       "      <th>15217.221094</th>\n",
       "      <td>3</td>\n",
       "    </tr>\n",
       "    <tr>\n",
       "      <th>1547.382223</th>\n",
       "      <td>2</td>\n",
       "    </tr>\n",
       "    <tr>\n",
       "      <th>4774.343347</th>\n",
       "      <td>1</td>\n",
       "    </tr>\n",
       "    <tr>\n",
       "      <th>1875.972013</th>\n",
       "      <td>1</td>\n",
       "    </tr>\n",
       "    <tr>\n",
       "      <th>...</th>\n",
       "      <td>...</td>\n",
       "    </tr>\n",
       "    <tr>\n",
       "      <th>908.172637</th>\n",
       "      <td>1</td>\n",
       "    </tr>\n",
       "    <tr>\n",
       "      <th>1371.207222</th>\n",
       "      <td>1</td>\n",
       "    </tr>\n",
       "    <tr>\n",
       "      <th>1478.092467</th>\n",
       "      <td>1</td>\n",
       "    </tr>\n",
       "    <tr>\n",
       "      <th>2502.891798</th>\n",
       "      <td>1</td>\n",
       "    </tr>\n",
       "    <tr>\n",
       "      <th>2497.754414</th>\n",
       "      <td>1</td>\n",
       "    </tr>\n",
       "  </tbody>\n",
       "</table>\n",
       "<p>94 rows × 1 columns</p>\n",
       "</div>"
      ],
      "text/plain": [
       "              days_employed\n",
       "1574.202821               5\n",
       "15217.221094              3\n",
       "1547.382223               2\n",
       "4774.343347               1\n",
       "1875.972013               1\n",
       "...                     ...\n",
       "908.172637                1\n",
       "1371.207222               1\n",
       "1478.092467               1\n",
       "2502.891798               1\n",
       "2497.754414               1\n",
       "\n",
       "[94 rows x 1 columns]"
      ]
     },
     "metadata": {},
     "output_type": "display_data"
    },
    {
     "name": "stdout",
     "output_type": "stream",
     "text": [
      "\n"
     ]
    },
    {
     "data": {
      "text/html": [
       "<div>\n",
       "<style scoped>\n",
       "    .dataframe tbody tr th:only-of-type {\n",
       "        vertical-align: middle;\n",
       "    }\n",
       "\n",
       "    .dataframe tbody tr th {\n",
       "        vertical-align: top;\n",
       "    }\n",
       "\n",
       "    .dataframe thead th {\n",
       "        text-align: right;\n",
       "    }\n",
       "</style>\n",
       "<table border=\"1\" class=\"dataframe\">\n",
       "  <thead>\n",
       "    <tr style=\"text-align: right;\">\n",
       "      <th></th>\n",
       "      <th>dob_years</th>\n",
       "    </tr>\n",
       "  </thead>\n",
       "  <tbody>\n",
       "    <tr>\n",
       "      <th>0</th>\n",
       "      <td>101</td>\n",
       "    </tr>\n",
       "  </tbody>\n",
       "</table>\n",
       "</div>"
      ],
      "text/plain": [
       "   dob_years\n",
       "0        101"
      ]
     },
     "metadata": {},
     "output_type": "display_data"
    },
    {
     "name": "stdout",
     "output_type": "stream",
     "text": [
      "\n"
     ]
    },
    {
     "data": {
      "text/html": [
       "<div>\n",
       "<style scoped>\n",
       "    .dataframe tbody tr th:only-of-type {\n",
       "        vertical-align: middle;\n",
       "    }\n",
       "\n",
       "    .dataframe tbody tr th {\n",
       "        vertical-align: top;\n",
       "    }\n",
       "\n",
       "    .dataframe thead th {\n",
       "        text-align: right;\n",
       "    }\n",
       "</style>\n",
       "<table border=\"1\" class=\"dataframe\">\n",
       "  <thead>\n",
       "    <tr style=\"text-align: right;\">\n",
       "      <th></th>\n",
       "      <th>education</th>\n",
       "    </tr>\n",
       "  </thead>\n",
       "  <tbody>\n",
       "    <tr>\n",
       "      <th>среднее</th>\n",
       "      <td>59</td>\n",
       "    </tr>\n",
       "    <tr>\n",
       "      <th>высшее</th>\n",
       "      <td>32</td>\n",
       "    </tr>\n",
       "    <tr>\n",
       "      <th>Среднее</th>\n",
       "      <td>3</td>\n",
       "    </tr>\n",
       "    <tr>\n",
       "      <th>Высшее</th>\n",
       "      <td>2</td>\n",
       "    </tr>\n",
       "    <tr>\n",
       "      <th>неоконченное высшее</th>\n",
       "      <td>2</td>\n",
       "    </tr>\n",
       "    <tr>\n",
       "      <th>СРЕДНЕЕ</th>\n",
       "      <td>2</td>\n",
       "    </tr>\n",
       "    <tr>\n",
       "      <th>ВЫСШЕЕ</th>\n",
       "      <td>1</td>\n",
       "    </tr>\n",
       "  </tbody>\n",
       "</table>\n",
       "</div>"
      ],
      "text/plain": [
       "                     education\n",
       "среднее                     59\n",
       "высшее                      32\n",
       "Среднее                      3\n",
       "Высшее                       2\n",
       "неоконченное высшее          2\n",
       "СРЕДНЕЕ                      2\n",
       "ВЫСШЕЕ                       1"
      ]
     },
     "metadata": {},
     "output_type": "display_data"
    },
    {
     "name": "stdout",
     "output_type": "stream",
     "text": [
      "\n"
     ]
    },
    {
     "data": {
      "text/html": [
       "<div>\n",
       "<style scoped>\n",
       "    .dataframe tbody tr th:only-of-type {\n",
       "        vertical-align: middle;\n",
       "    }\n",
       "\n",
       "    .dataframe tbody tr th {\n",
       "        vertical-align: top;\n",
       "    }\n",
       "\n",
       "    .dataframe thead th {\n",
       "        text-align: right;\n",
       "    }\n",
       "</style>\n",
       "<table border=\"1\" class=\"dataframe\">\n",
       "  <thead>\n",
       "    <tr style=\"text-align: right;\">\n",
       "      <th></th>\n",
       "      <th>education_id</th>\n",
       "    </tr>\n",
       "  </thead>\n",
       "  <tbody>\n",
       "    <tr>\n",
       "      <th>1</th>\n",
       "      <td>64</td>\n",
       "    </tr>\n",
       "    <tr>\n",
       "      <th>0</th>\n",
       "      <td>35</td>\n",
       "    </tr>\n",
       "    <tr>\n",
       "      <th>2</th>\n",
       "      <td>2</td>\n",
       "    </tr>\n",
       "  </tbody>\n",
       "</table>\n",
       "</div>"
      ],
      "text/plain": [
       "   education_id\n",
       "1            64\n",
       "0            35\n",
       "2             2"
      ]
     },
     "metadata": {},
     "output_type": "display_data"
    },
    {
     "name": "stdout",
     "output_type": "stream",
     "text": [
      "\n"
     ]
    },
    {
     "data": {
      "text/html": [
       "<div>\n",
       "<style scoped>\n",
       "    .dataframe tbody tr th:only-of-type {\n",
       "        vertical-align: middle;\n",
       "    }\n",
       "\n",
       "    .dataframe tbody tr th {\n",
       "        vertical-align: top;\n",
       "    }\n",
       "\n",
       "    .dataframe thead th {\n",
       "        text-align: right;\n",
       "    }\n",
       "</style>\n",
       "<table border=\"1\" class=\"dataframe\">\n",
       "  <thead>\n",
       "    <tr style=\"text-align: right;\">\n",
       "      <th></th>\n",
       "      <th>family_status</th>\n",
       "    </tr>\n",
       "  </thead>\n",
       "  <tbody>\n",
       "    <tr>\n",
       "      <th>женат / замужем</th>\n",
       "      <td>49</td>\n",
       "    </tr>\n",
       "    <tr>\n",
       "      <th>гражданский брак</th>\n",
       "      <td>21</td>\n",
       "    </tr>\n",
       "    <tr>\n",
       "      <th>Не женат / не замужем</th>\n",
       "      <td>16</td>\n",
       "    </tr>\n",
       "    <tr>\n",
       "      <th>в разводе</th>\n",
       "      <td>10</td>\n",
       "    </tr>\n",
       "    <tr>\n",
       "      <th>вдовец / вдова</th>\n",
       "      <td>5</td>\n",
       "    </tr>\n",
       "  </tbody>\n",
       "</table>\n",
       "</div>"
      ],
      "text/plain": [
       "                       family_status\n",
       "женат / замужем                   49\n",
       "гражданский брак                  21\n",
       "Не женат / не замужем             16\n",
       "в разводе                         10\n",
       "вдовец / вдова                     5"
      ]
     },
     "metadata": {},
     "output_type": "display_data"
    },
    {
     "name": "stdout",
     "output_type": "stream",
     "text": [
      "\n"
     ]
    },
    {
     "data": {
      "text/html": [
       "<div>\n",
       "<style scoped>\n",
       "    .dataframe tbody tr th:only-of-type {\n",
       "        vertical-align: middle;\n",
       "    }\n",
       "\n",
       "    .dataframe tbody tr th {\n",
       "        vertical-align: top;\n",
       "    }\n",
       "\n",
       "    .dataframe thead th {\n",
       "        text-align: right;\n",
       "    }\n",
       "</style>\n",
       "<table border=\"1\" class=\"dataframe\">\n",
       "  <thead>\n",
       "    <tr style=\"text-align: right;\">\n",
       "      <th></th>\n",
       "      <th>family_status_id</th>\n",
       "    </tr>\n",
       "  </thead>\n",
       "  <tbody>\n",
       "    <tr>\n",
       "      <th>0</th>\n",
       "      <td>49</td>\n",
       "    </tr>\n",
       "    <tr>\n",
       "      <th>1</th>\n",
       "      <td>21</td>\n",
       "    </tr>\n",
       "    <tr>\n",
       "      <th>4</th>\n",
       "      <td>16</td>\n",
       "    </tr>\n",
       "    <tr>\n",
       "      <th>3</th>\n",
       "      <td>10</td>\n",
       "    </tr>\n",
       "    <tr>\n",
       "      <th>2</th>\n",
       "      <td>5</td>\n",
       "    </tr>\n",
       "  </tbody>\n",
       "</table>\n",
       "</div>"
      ],
      "text/plain": [
       "   family_status_id\n",
       "0                49\n",
       "1                21\n",
       "4                16\n",
       "3                10\n",
       "2                 5"
      ]
     },
     "metadata": {},
     "output_type": "display_data"
    },
    {
     "name": "stdout",
     "output_type": "stream",
     "text": [
      "\n"
     ]
    },
    {
     "data": {
      "text/html": [
       "<div>\n",
       "<style scoped>\n",
       "    .dataframe tbody tr th:only-of-type {\n",
       "        vertical-align: middle;\n",
       "    }\n",
       "\n",
       "    .dataframe tbody tr th {\n",
       "        vertical-align: top;\n",
       "    }\n",
       "\n",
       "    .dataframe thead th {\n",
       "        text-align: right;\n",
       "    }\n",
       "</style>\n",
       "<table border=\"1\" class=\"dataframe\">\n",
       "  <thead>\n",
       "    <tr style=\"text-align: right;\">\n",
       "      <th></th>\n",
       "      <th>gender</th>\n",
       "    </tr>\n",
       "  </thead>\n",
       "  <tbody>\n",
       "    <tr>\n",
       "      <th>F</th>\n",
       "      <td>72</td>\n",
       "    </tr>\n",
       "    <tr>\n",
       "      <th>M</th>\n",
       "      <td>29</td>\n",
       "    </tr>\n",
       "  </tbody>\n",
       "</table>\n",
       "</div>"
      ],
      "text/plain": [
       "   gender\n",
       "F      72\n",
       "M      29"
      ]
     },
     "metadata": {},
     "output_type": "display_data"
    },
    {
     "name": "stdout",
     "output_type": "stream",
     "text": [
      "\n"
     ]
    },
    {
     "data": {
      "text/html": [
       "<div>\n",
       "<style scoped>\n",
       "    .dataframe tbody tr th:only-of-type {\n",
       "        vertical-align: middle;\n",
       "    }\n",
       "\n",
       "    .dataframe tbody tr th {\n",
       "        vertical-align: top;\n",
       "    }\n",
       "\n",
       "    .dataframe thead th {\n",
       "        text-align: right;\n",
       "    }\n",
       "</style>\n",
       "<table border=\"1\" class=\"dataframe\">\n",
       "  <thead>\n",
       "    <tr style=\"text-align: right;\">\n",
       "      <th></th>\n",
       "      <th>income_type</th>\n",
       "    </tr>\n",
       "  </thead>\n",
       "  <tbody>\n",
       "    <tr>\n",
       "      <th>сотрудник</th>\n",
       "      <td>55</td>\n",
       "    </tr>\n",
       "    <tr>\n",
       "      <th>компаньон</th>\n",
       "      <td>20</td>\n",
       "    </tr>\n",
       "    <tr>\n",
       "      <th>пенсионер</th>\n",
       "      <td>20</td>\n",
       "    </tr>\n",
       "    <tr>\n",
       "      <th>госслужащий</th>\n",
       "      <td>6</td>\n",
       "    </tr>\n",
       "  </tbody>\n",
       "</table>\n",
       "</div>"
      ],
      "text/plain": [
       "             income_type\n",
       "сотрудник             55\n",
       "компаньон             20\n",
       "пенсионер             20\n",
       "госслужащий            6"
      ]
     },
     "metadata": {},
     "output_type": "display_data"
    },
    {
     "name": "stdout",
     "output_type": "stream",
     "text": [
      "\n"
     ]
    },
    {
     "data": {
      "text/html": [
       "<div>\n",
       "<style scoped>\n",
       "    .dataframe tbody tr th:only-of-type {\n",
       "        vertical-align: middle;\n",
       "    }\n",
       "\n",
       "    .dataframe tbody tr th {\n",
       "        vertical-align: top;\n",
       "    }\n",
       "\n",
       "    .dataframe thead th {\n",
       "        text-align: right;\n",
       "    }\n",
       "</style>\n",
       "<table border=\"1\" class=\"dataframe\">\n",
       "  <thead>\n",
       "    <tr style=\"text-align: right;\">\n",
       "      <th></th>\n",
       "      <th>debt</th>\n",
       "    </tr>\n",
       "  </thead>\n",
       "  <tbody>\n",
       "    <tr>\n",
       "      <th>0</th>\n",
       "      <td>93</td>\n",
       "    </tr>\n",
       "    <tr>\n",
       "      <th>1</th>\n",
       "      <td>8</td>\n",
       "    </tr>\n",
       "  </tbody>\n",
       "</table>\n",
       "</div>"
      ],
      "text/plain": [
       "   debt\n",
       "0    93\n",
       "1     8"
      ]
     },
     "metadata": {},
     "output_type": "display_data"
    },
    {
     "name": "stdout",
     "output_type": "stream",
     "text": [
      "\n"
     ]
    },
    {
     "data": {
      "text/html": [
       "<div>\n",
       "<style scoped>\n",
       "    .dataframe tbody tr th:only-of-type {\n",
       "        vertical-align: middle;\n",
       "    }\n",
       "\n",
       "    .dataframe tbody tr th {\n",
       "        vertical-align: top;\n",
       "    }\n",
       "\n",
       "    .dataframe thead th {\n",
       "        text-align: right;\n",
       "    }\n",
       "</style>\n",
       "<table border=\"1\" class=\"dataframe\">\n",
       "  <thead>\n",
       "    <tr style=\"text-align: right;\">\n",
       "      <th></th>\n",
       "      <th>total_income</th>\n",
       "    </tr>\n",
       "  </thead>\n",
       "  <tbody>\n",
       "    <tr>\n",
       "      <th>142594.396847</th>\n",
       "      <td>5</td>\n",
       "    </tr>\n",
       "    <tr>\n",
       "      <th>118514.486412</th>\n",
       "      <td>3</td>\n",
       "    </tr>\n",
       "    <tr>\n",
       "      <th>172357.950966</th>\n",
       "      <td>2</td>\n",
       "    </tr>\n",
       "    <tr>\n",
       "      <th>263121.074528</th>\n",
       "      <td>1</td>\n",
       "    </tr>\n",
       "    <tr>\n",
       "      <th>71291.522491</th>\n",
       "      <td>1</td>\n",
       "    </tr>\n",
       "    <tr>\n",
       "      <th>...</th>\n",
       "      <td>...</td>\n",
       "    </tr>\n",
       "    <tr>\n",
       "      <th>386373.636958</th>\n",
       "      <td>1</td>\n",
       "    </tr>\n",
       "    <tr>\n",
       "      <th>287328.538328</th>\n",
       "      <td>1</td>\n",
       "    </tr>\n",
       "    <tr>\n",
       "      <th>181510.868867</th>\n",
       "      <td>1</td>\n",
       "    </tr>\n",
       "    <tr>\n",
       "      <th>313949.845188</th>\n",
       "      <td>1</td>\n",
       "    </tr>\n",
       "    <tr>\n",
       "      <th>287173.027278</th>\n",
       "      <td>1</td>\n",
       "    </tr>\n",
       "  </tbody>\n",
       "</table>\n",
       "<p>94 rows × 1 columns</p>\n",
       "</div>"
      ],
      "text/plain": [
       "               total_income\n",
       "142594.396847             5\n",
       "118514.486412             3\n",
       "172357.950966             2\n",
       "263121.074528             1\n",
       "71291.522491              1\n",
       "...                     ...\n",
       "386373.636958             1\n",
       "287328.538328             1\n",
       "181510.868867             1\n",
       "313949.845188             1\n",
       "287173.027278             1\n",
       "\n",
       "[94 rows x 1 columns]"
      ]
     },
     "metadata": {},
     "output_type": "display_data"
    },
    {
     "name": "stdout",
     "output_type": "stream",
     "text": [
      "\n"
     ]
    },
    {
     "data": {
      "text/html": [
       "<div>\n",
       "<style scoped>\n",
       "    .dataframe tbody tr th:only-of-type {\n",
       "        vertical-align: middle;\n",
       "    }\n",
       "\n",
       "    .dataframe tbody tr th {\n",
       "        vertical-align: top;\n",
       "    }\n",
       "\n",
       "    .dataframe thead th {\n",
       "        text-align: right;\n",
       "    }\n",
       "</style>\n",
       "<table border=\"1\" class=\"dataframe\">\n",
       "  <thead>\n",
       "    <tr style=\"text-align: right;\">\n",
       "      <th></th>\n",
       "      <th>purpose</th>\n",
       "    </tr>\n",
       "  </thead>\n",
       "  <tbody>\n",
       "    <tr>\n",
       "      <th>операции с жильем</th>\n",
       "      <td>6</td>\n",
       "    </tr>\n",
       "    <tr>\n",
       "      <th>жилье</th>\n",
       "      <td>6</td>\n",
       "    </tr>\n",
       "    <tr>\n",
       "      <th>покупка жилья</th>\n",
       "      <td>6</td>\n",
       "    </tr>\n",
       "    <tr>\n",
       "      <th>свадьба</th>\n",
       "      <td>5</td>\n",
       "    </tr>\n",
       "    <tr>\n",
       "      <th>сыграть свадьбу</th>\n",
       "      <td>5</td>\n",
       "    </tr>\n",
       "    <tr>\n",
       "      <th>на покупку автомобиля</th>\n",
       "      <td>5</td>\n",
       "    </tr>\n",
       "    <tr>\n",
       "      <th>автомобиль</th>\n",
       "      <td>4</td>\n",
       "    </tr>\n",
       "    <tr>\n",
       "      <th>недвижимость</th>\n",
       "      <td>4</td>\n",
       "    </tr>\n",
       "    <tr>\n",
       "      <th>на проведение свадьбы</th>\n",
       "      <td>4</td>\n",
       "    </tr>\n",
       "    <tr>\n",
       "      <th>строительство жилой недвижимости</th>\n",
       "      <td>3</td>\n",
       "    </tr>\n",
       "    <tr>\n",
       "      <th>покупка недвижимости</th>\n",
       "      <td>3</td>\n",
       "    </tr>\n",
       "    <tr>\n",
       "      <th>покупка коммерческой недвижимости</th>\n",
       "      <td>3</td>\n",
       "    </tr>\n",
       "    <tr>\n",
       "      <th>заняться высшим образованием</th>\n",
       "      <td>3</td>\n",
       "    </tr>\n",
       "    <tr>\n",
       "      <th>покупка жилой недвижимости</th>\n",
       "      <td>3</td>\n",
       "    </tr>\n",
       "    <tr>\n",
       "      <th>свой автомобиль</th>\n",
       "      <td>3</td>\n",
       "    </tr>\n",
       "    <tr>\n",
       "      <th>образование</th>\n",
       "      <td>3</td>\n",
       "    </tr>\n",
       "    <tr>\n",
       "      <th>на покупку своего автомобиля</th>\n",
       "      <td>3</td>\n",
       "    </tr>\n",
       "    <tr>\n",
       "      <th>операции с недвижимостью</th>\n",
       "      <td>3</td>\n",
       "    </tr>\n",
       "    <tr>\n",
       "      <th>высшее образование</th>\n",
       "      <td>3</td>\n",
       "    </tr>\n",
       "    <tr>\n",
       "      <th>сделка с подержанным автомобилем</th>\n",
       "      <td>2</td>\n",
       "    </tr>\n",
       "    <tr>\n",
       "      <th>дополнительное образование</th>\n",
       "      <td>2</td>\n",
       "    </tr>\n",
       "    <tr>\n",
       "      <th>получение дополнительного образования</th>\n",
       "      <td>2</td>\n",
       "    </tr>\n",
       "    <tr>\n",
       "      <th>получение высшего образования</th>\n",
       "      <td>2</td>\n",
       "    </tr>\n",
       "    <tr>\n",
       "      <th>приобретение автомобиля</th>\n",
       "      <td>2</td>\n",
       "    </tr>\n",
       "    <tr>\n",
       "      <th>строительство собственной недвижимости</th>\n",
       "      <td>2</td>\n",
       "    </tr>\n",
       "    <tr>\n",
       "      <th>автомобили</th>\n",
       "      <td>2</td>\n",
       "    </tr>\n",
       "    <tr>\n",
       "      <th>покупка жилья для сдачи</th>\n",
       "      <td>2</td>\n",
       "    </tr>\n",
       "    <tr>\n",
       "      <th>ремонт жилью</th>\n",
       "      <td>2</td>\n",
       "    </tr>\n",
       "    <tr>\n",
       "      <th>операции с коммерческой недвижимостью</th>\n",
       "      <td>2</td>\n",
       "    </tr>\n",
       "    <tr>\n",
       "      <th>профильное образование</th>\n",
       "      <td>1</td>\n",
       "    </tr>\n",
       "    <tr>\n",
       "      <th>получение образования</th>\n",
       "      <td>1</td>\n",
       "    </tr>\n",
       "    <tr>\n",
       "      <th>покупка жилья для семьи</th>\n",
       "      <td>1</td>\n",
       "    </tr>\n",
       "    <tr>\n",
       "      <th>покупка своего жилья</th>\n",
       "      <td>1</td>\n",
       "    </tr>\n",
       "    <tr>\n",
       "      <th>сделка с автомобилем</th>\n",
       "      <td>1</td>\n",
       "    </tr>\n",
       "    <tr>\n",
       "      <th>заняться образованием</th>\n",
       "      <td>1</td>\n",
       "    </tr>\n",
       "  </tbody>\n",
       "</table>\n",
       "</div>"
      ],
      "text/plain": [
       "                                        purpose\n",
       "операции с жильем                             6\n",
       "жилье                                         6\n",
       "покупка жилья                                 6\n",
       "свадьба                                       5\n",
       "сыграть свадьбу                               5\n",
       "на покупку автомобиля                         5\n",
       "автомобиль                                    4\n",
       "недвижимость                                  4\n",
       "на проведение свадьбы                         4\n",
       "строительство жилой недвижимости              3\n",
       "покупка недвижимости                          3\n",
       "покупка коммерческой недвижимости             3\n",
       "заняться высшим образованием                  3\n",
       "покупка жилой недвижимости                    3\n",
       "свой автомобиль                               3\n",
       "образование                                   3\n",
       "на покупку своего автомобиля                  3\n",
       "операции с недвижимостью                      3\n",
       "высшее образование                            3\n",
       "сделка с подержанным автомобилем              2\n",
       "дополнительное образование                    2\n",
       "получение дополнительного образования         2\n",
       "получение высшего образования                 2\n",
       "приобретение автомобиля                       2\n",
       "строительство собственной недвижимости        2\n",
       "автомобили                                    2\n",
       "покупка жилья для сдачи                       2\n",
       "ремонт жилью                                  2\n",
       "операции с коммерческой недвижимостью         2\n",
       "профильное образование                        1\n",
       "получение образования                         1\n",
       "покупка жилья для семьи                       1\n",
       "покупка своего жилья                          1\n",
       "сделка с автомобилем                          1\n",
       "заняться образованием                         1"
      ]
     },
     "metadata": {},
     "output_type": "display_data"
    },
    {
     "name": "stdout",
     "output_type": "stream",
     "text": [
      "\n"
     ]
    }
   ],
   "source": [
    "# получение значений столбцов среза df с нулевым возрастом клиентов\n",
    "for column in df.columns:\n",
    "    display(df[df['dob_years']==0][column].value_counts().to_frame())\n",
    "    print()"
   ]
  },
  {
   "cell_type": "markdown",
   "id": "02255a1e-3977-4e00-88b9-99342d816231",
   "metadata": {},
   "source": [
    "Обнаружить какие-либо явные закономерности не удалось."
   ]
  },
  {
   "cell_type": "markdown",
   "id": "e5c1dfe3-c137-48cb-9b40-3767f96a448e",
   "metadata": {},
   "source": [
    "**Промежуточные итоги**\n",
    "\n",
    "Так как в данных были обнаружены артефакты разного характера, они были обработаны для заполнения оставшихся пропусков датасета более релевантными значениями.\n",
    "Найти точную причину появления подобных аномалий за неимением возможности обратиться к источнику информации не возможно. Остаётся предположить, что могла произойти техническая ошибка выгрузки или просчета значений.\n",
    "\n",
    "Также нет возможности выяснить природу очевидно ошибочных нулевых значений возраста клиентов. Но учитывая небольшое количество подобных случаев (около 0,5%) и то, что значение возраста клиента в целом не понадобится в дальнейшем исследовании, данный артефакт можно проигнорировать."
   ]
  },
  {
   "cell_type": "markdown",
   "id": "848d1d99",
   "metadata": {},
   "source": [
    "### Изменение типов данных"
   ]
  },
  {
   "cell_type": "markdown",
   "id": "ca43d95e-fadb-459c-959b-1f9acd76b2a8",
   "metadata": {},
   "source": [
    "На этапе обзора данных можно было заметить ещё одну проблему. Для тех же столбцов, где были обнаружены пропущенные значения, изначально выбран не столь подходящий характеру значений тип данных — `float64`. Изменим его на более соответствующий ситуации `int64`."
   ]
  },
  {
   "cell_type": "code",
   "execution_count": 16,
   "id": "befbd365",
   "metadata": {},
   "outputs": [
    {
     "data": {
      "text/plain": [
       "children             int64\n",
       "days_employed        int32\n",
       "dob_years            int64\n",
       "education           object\n",
       "education_id         int64\n",
       "family_status       object\n",
       "family_status_id     int64\n",
       "gender              object\n",
       "income_type         object\n",
       "debt                 int64\n",
       "total_income         int32\n",
       "purpose             object\n",
       "dtype: object"
      ]
     },
     "execution_count": 16,
     "metadata": {},
     "output_type": "execute_result"
    }
   ],
   "source": [
    "# изменение типа данных в нужных столбцах\n",
    "df[['days_employed', 'total_income']] = df[['days_employed', 'total_income']].astype('int')\n",
    "\n",
    "# проверка изменений \n",
    "df.dtypes"
   ]
  },
  {
   "cell_type": "markdown",
   "id": "17f27ad1-85a0-4f90-a204-73f0200590df",
   "metadata": {},
   "source": [
    "Взглянем на часть данных для визуальной оценки всех внесённых изменений."
   ]
  },
  {
   "cell_type": "code",
   "execution_count": 17,
   "id": "7ac72490-abf5-4862-bbff-4965a69ac69f",
   "metadata": {},
   "outputs": [
    {
     "data": {
      "text/html": [
       "<div>\n",
       "<style scoped>\n",
       "    .dataframe tbody tr th:only-of-type {\n",
       "        vertical-align: middle;\n",
       "    }\n",
       "\n",
       "    .dataframe tbody tr th {\n",
       "        vertical-align: top;\n",
       "    }\n",
       "\n",
       "    .dataframe thead th {\n",
       "        text-align: right;\n",
       "    }\n",
       "</style>\n",
       "<table border=\"1\" class=\"dataframe\">\n",
       "  <thead>\n",
       "    <tr style=\"text-align: right;\">\n",
       "      <th></th>\n",
       "      <th>children</th>\n",
       "      <th>days_employed</th>\n",
       "      <th>dob_years</th>\n",
       "      <th>education</th>\n",
       "      <th>education_id</th>\n",
       "      <th>family_status</th>\n",
       "      <th>family_status_id</th>\n",
       "      <th>gender</th>\n",
       "      <th>income_type</th>\n",
       "      <th>debt</th>\n",
       "      <th>total_income</th>\n",
       "      <th>purpose</th>\n",
       "    </tr>\n",
       "  </thead>\n",
       "  <tbody>\n",
       "    <tr>\n",
       "      <th>1383</th>\n",
       "      <td>0</td>\n",
       "      <td>14741</td>\n",
       "      <td>37</td>\n",
       "      <td>среднее</td>\n",
       "      <td>1</td>\n",
       "      <td>вдовец / вдова</td>\n",
       "      <td>2</td>\n",
       "      <td>F</td>\n",
       "      <td>пенсионер</td>\n",
       "      <td>0</td>\n",
       "      <td>216452</td>\n",
       "      <td>строительство недвижимости</td>\n",
       "    </tr>\n",
       "    <tr>\n",
       "      <th>300</th>\n",
       "      <td>1</td>\n",
       "      <td>359</td>\n",
       "      <td>33</td>\n",
       "      <td>СРЕДНЕЕ</td>\n",
       "      <td>1</td>\n",
       "      <td>гражданский брак</td>\n",
       "      <td>1</td>\n",
       "      <td>M</td>\n",
       "      <td>сотрудник</td>\n",
       "      <td>0</td>\n",
       "      <td>223001</td>\n",
       "      <td>на проведение свадьбы</td>\n",
       "    </tr>\n",
       "    <tr>\n",
       "      <th>6565</th>\n",
       "      <td>2</td>\n",
       "      <td>1064</td>\n",
       "      <td>35</td>\n",
       "      <td>среднее</td>\n",
       "      <td>1</td>\n",
       "      <td>гражданский брак</td>\n",
       "      <td>1</td>\n",
       "      <td>F</td>\n",
       "      <td>компаньон</td>\n",
       "      <td>0</td>\n",
       "      <td>163591</td>\n",
       "      <td>свадьба</td>\n",
       "    </tr>\n",
       "    <tr>\n",
       "      <th>17027</th>\n",
       "      <td>0</td>\n",
       "      <td>1574</td>\n",
       "      <td>48</td>\n",
       "      <td>высшее</td>\n",
       "      <td>0</td>\n",
       "      <td>гражданский брак</td>\n",
       "      <td>1</td>\n",
       "      <td>F</td>\n",
       "      <td>сотрудник</td>\n",
       "      <td>0</td>\n",
       "      <td>142594</td>\n",
       "      <td>операции с жильем</td>\n",
       "    </tr>\n",
       "    <tr>\n",
       "      <th>4077</th>\n",
       "      <td>0</td>\n",
       "      <td>7059</td>\n",
       "      <td>45</td>\n",
       "      <td>высшее</td>\n",
       "      <td>0</td>\n",
       "      <td>гражданский брак</td>\n",
       "      <td>1</td>\n",
       "      <td>F</td>\n",
       "      <td>компаньон</td>\n",
       "      <td>1</td>\n",
       "      <td>194820</td>\n",
       "      <td>сыграть свадьбу</td>\n",
       "    </tr>\n",
       "    <tr>\n",
       "      <th>10437</th>\n",
       "      <td>0</td>\n",
       "      <td>2258</td>\n",
       "      <td>50</td>\n",
       "      <td>среднее</td>\n",
       "      <td>1</td>\n",
       "      <td>женат / замужем</td>\n",
       "      <td>0</td>\n",
       "      <td>F</td>\n",
       "      <td>сотрудник</td>\n",
       "      <td>0</td>\n",
       "      <td>146768</td>\n",
       "      <td>операции с коммерческой недвижимостью</td>\n",
       "    </tr>\n",
       "    <tr>\n",
       "      <th>9631</th>\n",
       "      <td>1</td>\n",
       "      <td>1045</td>\n",
       "      <td>23</td>\n",
       "      <td>среднее</td>\n",
       "      <td>1</td>\n",
       "      <td>женат / замужем</td>\n",
       "      <td>0</td>\n",
       "      <td>M</td>\n",
       "      <td>сотрудник</td>\n",
       "      <td>0</td>\n",
       "      <td>81734</td>\n",
       "      <td>операции с коммерческой недвижимостью</td>\n",
       "    </tr>\n",
       "    <tr>\n",
       "      <th>19867</th>\n",
       "      <td>0</td>\n",
       "      <td>1574</td>\n",
       "      <td>39</td>\n",
       "      <td>среднее</td>\n",
       "      <td>1</td>\n",
       "      <td>женат / замужем</td>\n",
       "      <td>0</td>\n",
       "      <td>M</td>\n",
       "      <td>сотрудник</td>\n",
       "      <td>0</td>\n",
       "      <td>142594</td>\n",
       "      <td>дополнительное образование</td>\n",
       "    </tr>\n",
       "    <tr>\n",
       "      <th>9124</th>\n",
       "      <td>0</td>\n",
       "      <td>282</td>\n",
       "      <td>48</td>\n",
       "      <td>среднее</td>\n",
       "      <td>1</td>\n",
       "      <td>в разводе</td>\n",
       "      <td>3</td>\n",
       "      <td>F</td>\n",
       "      <td>компаньон</td>\n",
       "      <td>0</td>\n",
       "      <td>284275</td>\n",
       "      <td>строительство жилой недвижимости</td>\n",
       "    </tr>\n",
       "    <tr>\n",
       "      <th>19634</th>\n",
       "      <td>0</td>\n",
       "      <td>1320</td>\n",
       "      <td>46</td>\n",
       "      <td>среднее</td>\n",
       "      <td>1</td>\n",
       "      <td>женат / замужем</td>\n",
       "      <td>0</td>\n",
       "      <td>F</td>\n",
       "      <td>компаньон</td>\n",
       "      <td>0</td>\n",
       "      <td>184569</td>\n",
       "      <td>автомобили</td>\n",
       "    </tr>\n",
       "    <tr>\n",
       "      <th>20389</th>\n",
       "      <td>0</td>\n",
       "      <td>15217</td>\n",
       "      <td>58</td>\n",
       "      <td>среднее</td>\n",
       "      <td>1</td>\n",
       "      <td>женат / замужем</td>\n",
       "      <td>0</td>\n",
       "      <td>F</td>\n",
       "      <td>пенсионер</td>\n",
       "      <td>0</td>\n",
       "      <td>118514</td>\n",
       "      <td>ремонт жилью</td>\n",
       "    </tr>\n",
       "    <tr>\n",
       "      <th>12257</th>\n",
       "      <td>2</td>\n",
       "      <td>1547</td>\n",
       "      <td>38</td>\n",
       "      <td>высшее</td>\n",
       "      <td>0</td>\n",
       "      <td>женат / замужем</td>\n",
       "      <td>0</td>\n",
       "      <td>M</td>\n",
       "      <td>компаньон</td>\n",
       "      <td>0</td>\n",
       "      <td>172357</td>\n",
       "      <td>заняться образованием</td>\n",
       "    </tr>\n",
       "    <tr>\n",
       "      <th>17051</th>\n",
       "      <td>1</td>\n",
       "      <td>1574</td>\n",
       "      <td>30</td>\n",
       "      <td>высшее</td>\n",
       "      <td>0</td>\n",
       "      <td>Не женат / не замужем</td>\n",
       "      <td>4</td>\n",
       "      <td>F</td>\n",
       "      <td>сотрудник</td>\n",
       "      <td>0</td>\n",
       "      <td>142594</td>\n",
       "      <td>ремонт жилью</td>\n",
       "    </tr>\n",
       "    <tr>\n",
       "      <th>3069</th>\n",
       "      <td>0</td>\n",
       "      <td>15327</td>\n",
       "      <td>66</td>\n",
       "      <td>среднее</td>\n",
       "      <td>1</td>\n",
       "      <td>женат / замужем</td>\n",
       "      <td>0</td>\n",
       "      <td>M</td>\n",
       "      <td>пенсионер</td>\n",
       "      <td>0</td>\n",
       "      <td>63599</td>\n",
       "      <td>на покупку подержанного автомобиля</td>\n",
       "    </tr>\n",
       "    <tr>\n",
       "      <th>8325</th>\n",
       "      <td>0</td>\n",
       "      <td>535</td>\n",
       "      <td>29</td>\n",
       "      <td>высшее</td>\n",
       "      <td>0</td>\n",
       "      <td>женат / замужем</td>\n",
       "      <td>0</td>\n",
       "      <td>M</td>\n",
       "      <td>сотрудник</td>\n",
       "      <td>1</td>\n",
       "      <td>238157</td>\n",
       "      <td>автомобиль</td>\n",
       "    </tr>\n",
       "  </tbody>\n",
       "</table>\n",
       "</div>"
      ],
      "text/plain": [
       "       children  days_employed  dob_years education  education_id  \\\n",
       "1383          0          14741         37   среднее             1   \n",
       "300           1            359         33   СРЕДНЕЕ             1   \n",
       "6565          2           1064         35   среднее             1   \n",
       "17027         0           1574         48    высшее             0   \n",
       "4077          0           7059         45    высшее             0   \n",
       "10437         0           2258         50   среднее             1   \n",
       "9631          1           1045         23   среднее             1   \n",
       "19867         0           1574         39   среднее             1   \n",
       "9124          0            282         48   среднее             1   \n",
       "19634         0           1320         46   среднее             1   \n",
       "20389         0          15217         58   среднее             1   \n",
       "12257         2           1547         38    высшее             0   \n",
       "17051         1           1574         30    высшее             0   \n",
       "3069          0          15327         66   среднее             1   \n",
       "8325          0            535         29    высшее             0   \n",
       "\n",
       "               family_status  family_status_id gender income_type  debt  \\\n",
       "1383          вдовец / вдова                 2      F   пенсионер     0   \n",
       "300         гражданский брак                 1      M   сотрудник     0   \n",
       "6565        гражданский брак                 1      F   компаньон     0   \n",
       "17027       гражданский брак                 1      F   сотрудник     0   \n",
       "4077        гражданский брак                 1      F   компаньон     1   \n",
       "10437        женат / замужем                 0      F   сотрудник     0   \n",
       "9631         женат / замужем                 0      M   сотрудник     0   \n",
       "19867        женат / замужем                 0      M   сотрудник     0   \n",
       "9124               в разводе                 3      F   компаньон     0   \n",
       "19634        женат / замужем                 0      F   компаньон     0   \n",
       "20389        женат / замужем                 0      F   пенсионер     0   \n",
       "12257        женат / замужем                 0      M   компаньон     0   \n",
       "17051  Не женат / не замужем                 4      F   сотрудник     0   \n",
       "3069         женат / замужем                 0      M   пенсионер     0   \n",
       "8325         женат / замужем                 0      M   сотрудник     1   \n",
       "\n",
       "       total_income                                purpose  \n",
       "1383         216452             строительство недвижимости  \n",
       "300          223001                  на проведение свадьбы  \n",
       "6565         163591                                свадьба  \n",
       "17027        142594                      операции с жильем  \n",
       "4077         194820                        сыграть свадьбу  \n",
       "10437        146768  операции с коммерческой недвижимостью  \n",
       "9631          81734  операции с коммерческой недвижимостью  \n",
       "19867        142594             дополнительное образование  \n",
       "9124         284275       строительство жилой недвижимости  \n",
       "19634        184569                             автомобили  \n",
       "20389        118514                           ремонт жилью  \n",
       "12257        172357                  заняться образованием  \n",
       "17051        142594                           ремонт жилью  \n",
       "3069          63599     на покупку подержанного автомобиля  \n",
       "8325         238157                             автомобиль  "
      ]
     },
     "execution_count": 17,
     "metadata": {},
     "output_type": "execute_result"
    }
   ],
   "source": [
    "# получение случайных 15 строк таблицы df\n",
    "df.sample(15, random_state=1)"
   ]
  },
  {
   "cell_type": "markdown",
   "id": "3c125602-7959-4042-97ab-5a7906641f42",
   "metadata": {},
   "source": [
    "**Промежуточные итоги**\n",
    "\n",
    "Было произведено измение типа данных на более соответствующий характеру представленных значений."
   ]
  },
  {
   "cell_type": "markdown",
   "id": "cda326b4",
   "metadata": {},
   "source": [
    "### Удаление дубликатов"
   ]
  },
  {
   "cell_type": "markdown",
   "id": "cedfedb8-c35d-416f-87ca-052ad0d32739",
   "metadata": {},
   "source": [
    "Одной из распространенных проблем с данными также является наличие дубликатов. При выводе случайных строк таблицы можно было заметить как минимум неявные дубликаты в столбце `education`, одинаковые значения, но записанные с использованием либо заглавных, либо строчных букв.\n",
    "\n",
    "Для нахождения как можно большего количества строк с дубликатами изначально избавимся от этих и других возможных идентичных значений, записанных в разном регистре."
   ]
  },
  {
   "cell_type": "code",
   "execution_count": 18,
   "id": "9cec5bcf-50f4-41c0-b289-0b3573d0f26a",
   "metadata": {},
   "outputs": [
    {
     "data": {
      "text/html": [
       "<div>\n",
       "<style scoped>\n",
       "    .dataframe tbody tr th:only-of-type {\n",
       "        vertical-align: middle;\n",
       "    }\n",
       "\n",
       "    .dataframe tbody tr th {\n",
       "        vertical-align: top;\n",
       "    }\n",
       "\n",
       "    .dataframe thead th {\n",
       "        text-align: right;\n",
       "    }\n",
       "</style>\n",
       "<table border=\"1\" class=\"dataframe\">\n",
       "  <thead>\n",
       "    <tr style=\"text-align: right;\">\n",
       "      <th></th>\n",
       "      <th>children</th>\n",
       "      <th>days_employed</th>\n",
       "      <th>dob_years</th>\n",
       "      <th>education</th>\n",
       "      <th>education_id</th>\n",
       "      <th>family_status</th>\n",
       "      <th>family_status_id</th>\n",
       "      <th>gender</th>\n",
       "      <th>income_type</th>\n",
       "      <th>debt</th>\n",
       "      <th>total_income</th>\n",
       "      <th>purpose</th>\n",
       "    </tr>\n",
       "  </thead>\n",
       "  <tbody>\n",
       "    <tr>\n",
       "      <th>1383</th>\n",
       "      <td>0</td>\n",
       "      <td>14741</td>\n",
       "      <td>37</td>\n",
       "      <td>среднее</td>\n",
       "      <td>1</td>\n",
       "      <td>вдовец / вдова</td>\n",
       "      <td>2</td>\n",
       "      <td>f</td>\n",
       "      <td>пенсионер</td>\n",
       "      <td>0</td>\n",
       "      <td>216452</td>\n",
       "      <td>строительство недвижимости</td>\n",
       "    </tr>\n",
       "    <tr>\n",
       "      <th>300</th>\n",
       "      <td>1</td>\n",
       "      <td>359</td>\n",
       "      <td>33</td>\n",
       "      <td>среднее</td>\n",
       "      <td>1</td>\n",
       "      <td>гражданский брак</td>\n",
       "      <td>1</td>\n",
       "      <td>m</td>\n",
       "      <td>сотрудник</td>\n",
       "      <td>0</td>\n",
       "      <td>223001</td>\n",
       "      <td>на проведение свадьбы</td>\n",
       "    </tr>\n",
       "    <tr>\n",
       "      <th>6565</th>\n",
       "      <td>2</td>\n",
       "      <td>1064</td>\n",
       "      <td>35</td>\n",
       "      <td>среднее</td>\n",
       "      <td>1</td>\n",
       "      <td>гражданский брак</td>\n",
       "      <td>1</td>\n",
       "      <td>f</td>\n",
       "      <td>компаньон</td>\n",
       "      <td>0</td>\n",
       "      <td>163591</td>\n",
       "      <td>свадьба</td>\n",
       "    </tr>\n",
       "    <tr>\n",
       "      <th>17027</th>\n",
       "      <td>0</td>\n",
       "      <td>1574</td>\n",
       "      <td>48</td>\n",
       "      <td>высшее</td>\n",
       "      <td>0</td>\n",
       "      <td>гражданский брак</td>\n",
       "      <td>1</td>\n",
       "      <td>f</td>\n",
       "      <td>сотрудник</td>\n",
       "      <td>0</td>\n",
       "      <td>142594</td>\n",
       "      <td>операции с жильем</td>\n",
       "    </tr>\n",
       "    <tr>\n",
       "      <th>4077</th>\n",
       "      <td>0</td>\n",
       "      <td>7059</td>\n",
       "      <td>45</td>\n",
       "      <td>высшее</td>\n",
       "      <td>0</td>\n",
       "      <td>гражданский брак</td>\n",
       "      <td>1</td>\n",
       "      <td>f</td>\n",
       "      <td>компаньон</td>\n",
       "      <td>1</td>\n",
       "      <td>194820</td>\n",
       "      <td>сыграть свадьбу</td>\n",
       "    </tr>\n",
       "    <tr>\n",
       "      <th>10437</th>\n",
       "      <td>0</td>\n",
       "      <td>2258</td>\n",
       "      <td>50</td>\n",
       "      <td>среднее</td>\n",
       "      <td>1</td>\n",
       "      <td>женат / замужем</td>\n",
       "      <td>0</td>\n",
       "      <td>f</td>\n",
       "      <td>сотрудник</td>\n",
       "      <td>0</td>\n",
       "      <td>146768</td>\n",
       "      <td>операции с коммерческой недвижимостью</td>\n",
       "    </tr>\n",
       "    <tr>\n",
       "      <th>9631</th>\n",
       "      <td>1</td>\n",
       "      <td>1045</td>\n",
       "      <td>23</td>\n",
       "      <td>среднее</td>\n",
       "      <td>1</td>\n",
       "      <td>женат / замужем</td>\n",
       "      <td>0</td>\n",
       "      <td>m</td>\n",
       "      <td>сотрудник</td>\n",
       "      <td>0</td>\n",
       "      <td>81734</td>\n",
       "      <td>операции с коммерческой недвижимостью</td>\n",
       "    </tr>\n",
       "    <tr>\n",
       "      <th>19867</th>\n",
       "      <td>0</td>\n",
       "      <td>1574</td>\n",
       "      <td>39</td>\n",
       "      <td>среднее</td>\n",
       "      <td>1</td>\n",
       "      <td>женат / замужем</td>\n",
       "      <td>0</td>\n",
       "      <td>m</td>\n",
       "      <td>сотрудник</td>\n",
       "      <td>0</td>\n",
       "      <td>142594</td>\n",
       "      <td>дополнительное образование</td>\n",
       "    </tr>\n",
       "    <tr>\n",
       "      <th>9124</th>\n",
       "      <td>0</td>\n",
       "      <td>282</td>\n",
       "      <td>48</td>\n",
       "      <td>среднее</td>\n",
       "      <td>1</td>\n",
       "      <td>в разводе</td>\n",
       "      <td>3</td>\n",
       "      <td>f</td>\n",
       "      <td>компаньон</td>\n",
       "      <td>0</td>\n",
       "      <td>284275</td>\n",
       "      <td>строительство жилой недвижимости</td>\n",
       "    </tr>\n",
       "    <tr>\n",
       "      <th>19634</th>\n",
       "      <td>0</td>\n",
       "      <td>1320</td>\n",
       "      <td>46</td>\n",
       "      <td>среднее</td>\n",
       "      <td>1</td>\n",
       "      <td>женат / замужем</td>\n",
       "      <td>0</td>\n",
       "      <td>f</td>\n",
       "      <td>компаньон</td>\n",
       "      <td>0</td>\n",
       "      <td>184569</td>\n",
       "      <td>автомобили</td>\n",
       "    </tr>\n",
       "    <tr>\n",
       "      <th>20389</th>\n",
       "      <td>0</td>\n",
       "      <td>15217</td>\n",
       "      <td>58</td>\n",
       "      <td>среднее</td>\n",
       "      <td>1</td>\n",
       "      <td>женат / замужем</td>\n",
       "      <td>0</td>\n",
       "      <td>f</td>\n",
       "      <td>пенсионер</td>\n",
       "      <td>0</td>\n",
       "      <td>118514</td>\n",
       "      <td>ремонт жилью</td>\n",
       "    </tr>\n",
       "    <tr>\n",
       "      <th>12257</th>\n",
       "      <td>2</td>\n",
       "      <td>1547</td>\n",
       "      <td>38</td>\n",
       "      <td>высшее</td>\n",
       "      <td>0</td>\n",
       "      <td>женат / замужем</td>\n",
       "      <td>0</td>\n",
       "      <td>m</td>\n",
       "      <td>компаньон</td>\n",
       "      <td>0</td>\n",
       "      <td>172357</td>\n",
       "      <td>заняться образованием</td>\n",
       "    </tr>\n",
       "    <tr>\n",
       "      <th>17051</th>\n",
       "      <td>1</td>\n",
       "      <td>1574</td>\n",
       "      <td>30</td>\n",
       "      <td>высшее</td>\n",
       "      <td>0</td>\n",
       "      <td>не женат / не замужем</td>\n",
       "      <td>4</td>\n",
       "      <td>f</td>\n",
       "      <td>сотрудник</td>\n",
       "      <td>0</td>\n",
       "      <td>142594</td>\n",
       "      <td>ремонт жилью</td>\n",
       "    </tr>\n",
       "    <tr>\n",
       "      <th>3069</th>\n",
       "      <td>0</td>\n",
       "      <td>15327</td>\n",
       "      <td>66</td>\n",
       "      <td>среднее</td>\n",
       "      <td>1</td>\n",
       "      <td>женат / замужем</td>\n",
       "      <td>0</td>\n",
       "      <td>m</td>\n",
       "      <td>пенсионер</td>\n",
       "      <td>0</td>\n",
       "      <td>63599</td>\n",
       "      <td>на покупку подержанного автомобиля</td>\n",
       "    </tr>\n",
       "    <tr>\n",
       "      <th>8325</th>\n",
       "      <td>0</td>\n",
       "      <td>535</td>\n",
       "      <td>29</td>\n",
       "      <td>высшее</td>\n",
       "      <td>0</td>\n",
       "      <td>женат / замужем</td>\n",
       "      <td>0</td>\n",
       "      <td>m</td>\n",
       "      <td>сотрудник</td>\n",
       "      <td>1</td>\n",
       "      <td>238157</td>\n",
       "      <td>автомобиль</td>\n",
       "    </tr>\n",
       "  </tbody>\n",
       "</table>\n",
       "</div>"
      ],
      "text/plain": [
       "       children  days_employed  dob_years education  education_id  \\\n",
       "1383          0          14741         37   среднее             1   \n",
       "300           1            359         33   среднее             1   \n",
       "6565          2           1064         35   среднее             1   \n",
       "17027         0           1574         48    высшее             0   \n",
       "4077          0           7059         45    высшее             0   \n",
       "10437         0           2258         50   среднее             1   \n",
       "9631          1           1045         23   среднее             1   \n",
       "19867         0           1574         39   среднее             1   \n",
       "9124          0            282         48   среднее             1   \n",
       "19634         0           1320         46   среднее             1   \n",
       "20389         0          15217         58   среднее             1   \n",
       "12257         2           1547         38    высшее             0   \n",
       "17051         1           1574         30    высшее             0   \n",
       "3069          0          15327         66   среднее             1   \n",
       "8325          0            535         29    высшее             0   \n",
       "\n",
       "               family_status  family_status_id gender income_type  debt  \\\n",
       "1383          вдовец / вдова                 2      f   пенсионер     0   \n",
       "300         гражданский брак                 1      m   сотрудник     0   \n",
       "6565        гражданский брак                 1      f   компаньон     0   \n",
       "17027       гражданский брак                 1      f   сотрудник     0   \n",
       "4077        гражданский брак                 1      f   компаньон     1   \n",
       "10437        женат / замужем                 0      f   сотрудник     0   \n",
       "9631         женат / замужем                 0      m   сотрудник     0   \n",
       "19867        женат / замужем                 0      m   сотрудник     0   \n",
       "9124               в разводе                 3      f   компаньон     0   \n",
       "19634        женат / замужем                 0      f   компаньон     0   \n",
       "20389        женат / замужем                 0      f   пенсионер     0   \n",
       "12257        женат / замужем                 0      m   компаньон     0   \n",
       "17051  не женат / не замужем                 4      f   сотрудник     0   \n",
       "3069         женат / замужем                 0      m   пенсионер     0   \n",
       "8325         женат / замужем                 0      m   сотрудник     1   \n",
       "\n",
       "       total_income                                purpose  \n",
       "1383         216452             строительство недвижимости  \n",
       "300          223001                  на проведение свадьбы  \n",
       "6565         163591                                свадьба  \n",
       "17027        142594                      операции с жильем  \n",
       "4077         194820                        сыграть свадьбу  \n",
       "10437        146768  операции с коммерческой недвижимостью  \n",
       "9631          81734  операции с коммерческой недвижимостью  \n",
       "19867        142594             дополнительное образование  \n",
       "9124         284275       строительство жилой недвижимости  \n",
       "19634        184569                             автомобили  \n",
       "20389        118514                           ремонт жилью  \n",
       "12257        172357                  заняться образованием  \n",
       "17051        142594                           ремонт жилью  \n",
       "3069          63599     на покупку подержанного автомобиля  \n",
       "8325         238157                             автомобиль  "
      ]
     },
     "execution_count": 18,
     "metadata": {},
     "output_type": "execute_result"
    }
   ],
   "source": [
    "# Изменение регистра в нужных столбцах\n",
    "df[['education',\n",
    "    'family_status',\n",
    "    'income_type',\n",
    "    'gender',\n",
    "    'purpose']] = df[['education',\n",
    "    'family_status',\n",
    "    'income_type',\n",
    "    'gender',\n",
    "    'purpose']].apply(lambda x:x.str.lower(), axis=1)\n",
    "    \n",
    "# оценивание внесённых изменений\n",
    "df.sample(15, random_state=1)"
   ]
  },
  {
   "cell_type": "markdown",
   "id": "557bf58b-974c-4e4e-9ad7-190f0c420000",
   "metadata": {},
   "source": [
    "Далее проверим, присутствуют ли в данных явные строки-дубликаты и при наличии удалим их."
   ]
  },
  {
   "cell_type": "code",
   "execution_count": 19,
   "id": "106b9851-c4dc-412c-8907-3f5c2cb2fde0",
   "metadata": {},
   "outputs": [
    {
     "data": {
      "text/plain": [
       "71"
      ]
     },
     "execution_count": 19,
     "metadata": {},
     "output_type": "execute_result"
    }
   ],
   "source": [
    "# получение количества явных дубликатов\n",
    "df.duplicated().sum()"
   ]
  },
  {
   "cell_type": "code",
   "execution_count": 20,
   "id": "230e8783-d5ff-4363-85ea-4ab333a33e12",
   "metadata": {},
   "outputs": [],
   "source": [
    "# удаление явных дубликатов\n",
    "df = df.drop_duplicates().reset_index(drop=True)"
   ]
  },
  {
   "cell_type": "markdown",
   "id": "19f6e411-45cb-4b23-8eb1-fe96f870f656",
   "metadata": {},
   "source": [
    "Поищем неявные дубликаты для столбцов с типом данных `object`."
   ]
  },
  {
   "cell_type": "code",
   "execution_count": 21,
   "id": "322dc843-00cd-42f8-b051-3c596cb9f320",
   "metadata": {},
   "outputs": [
    {
     "data": {
      "text/plain": [
       "среднее                15172\n",
       "высшее                  5250\n",
       "неоконченное высшее      744\n",
       "начальное                282\n",
       "ученая степень             6\n",
       "Name: education, dtype: int64"
      ]
     },
     "execution_count": 21,
     "metadata": {},
     "output_type": "execute_result"
    }
   ],
   "source": [
    "# вывод уникальных значений столбца\n",
    "df['education'].value_counts()"
   ]
  },
  {
   "cell_type": "code",
   "execution_count": 22,
   "id": "6a7fa428-f2ba-472c-a5d8-3fc860858f19",
   "metadata": {},
   "outputs": [
    {
     "data": {
      "text/plain": [
       "женат / замужем          12339\n",
       "гражданский брак          4151\n",
       "не женат / не замужем     2810\n",
       "в разводе                 1195\n",
       "вдовец / вдова             959\n",
       "Name: family_status, dtype: int64"
      ]
     },
     "execution_count": 22,
     "metadata": {},
     "output_type": "execute_result"
    }
   ],
   "source": [
    "# вывод уникальных значений столбца\n",
    "df['family_status'].value_counts()"
   ]
  },
  {
   "cell_type": "code",
   "execution_count": 23,
   "id": "3a98291e-d725-45d0-bbd0-31ded42e5661",
   "metadata": {},
   "outputs": [
    {
     "data": {
      "text/plain": [
       "f      14174\n",
       "m       7279\n",
       "xna        1\n",
       "Name: gender, dtype: int64"
      ]
     },
     "execution_count": 23,
     "metadata": {},
     "output_type": "execute_result"
    }
   ],
   "source": [
    "# вывод уникальных значений столбца\n",
    "df['gender'].value_counts()"
   ]
  },
  {
   "cell_type": "code",
   "execution_count": 24,
   "id": "52a4c1de-5de1-44e1-8bce-feede6da6562",
   "metadata": {},
   "outputs": [
    {
     "data": {
      "text/plain": [
       "сотрудник          11084\n",
       "компаньон           5078\n",
       "пенсионер           3829\n",
       "госслужащий         1457\n",
       "предприниматель        2\n",
       "безработный            2\n",
       "в декрете              1\n",
       "студент                1\n",
       "Name: income_type, dtype: int64"
      ]
     },
     "execution_count": 24,
     "metadata": {},
     "output_type": "execute_result"
    }
   ],
   "source": [
    "# вывод уникальных значений столбца\n",
    "df['income_type'].value_counts()"
   ]
  },
  {
   "cell_type": "code",
   "execution_count": 25,
   "id": "2943d58b-6f21-413f-bf4b-58e47e8015f8",
   "metadata": {},
   "outputs": [
    {
     "data": {
      "text/plain": [
       "свадьба                                   791\n",
       "на проведение свадьбы                     768\n",
       "сыграть свадьбу                           765\n",
       "операции с недвижимостью                  675\n",
       "покупка коммерческой недвижимости         661\n",
       "операции с жильем                         652\n",
       "покупка жилья для сдачи                   651\n",
       "операции с коммерческой недвижимостью     650\n",
       "покупка жилья                             646\n",
       "жилье                                     646\n",
       "покупка жилья для семьи                   638\n",
       "строительство собственной недвижимости    635\n",
       "недвижимость                              633\n",
       "операции со своей недвижимостью           627\n",
       "строительство жилой недвижимости          624\n",
       "покупка недвижимости                      621\n",
       "покупка своего жилья                      620\n",
       "строительство недвижимости                619\n",
       "ремонт жилью                              607\n",
       "покупка жилой недвижимости                606\n",
       "на покупку своего автомобиля              505\n",
       "заняться высшим образованием              496\n",
       "автомобиль                                494\n",
       "сделка с подержанным автомобилем          486\n",
       "свой автомобиль                           478\n",
       "автомобили                                478\n",
       "на покупку подержанного автомобиля        478\n",
       "на покупку автомобиля                     471\n",
       "приобретение автомобиля                   461\n",
       "дополнительное образование                460\n",
       "сделка с автомобилем                      455\n",
       "высшее образование                        452\n",
       "образование                               447\n",
       "получение дополнительного образования     446\n",
       "получение образования                     442\n",
       "профильное образование                    436\n",
       "получение высшего образования             426\n",
       "заняться образованием                     408\n",
       "Name: purpose, dtype: int64"
      ]
     },
     "execution_count": 25,
     "metadata": {},
     "output_type": "execute_result"
    }
   ],
   "source": [
    "# вывод уникальных значений столбца\n",
    "df['purpose'].value_counts()"
   ]
  },
  {
   "cell_type": "markdown",
   "id": "7d41a5e3-dfa2-4c3e-868f-65de4d672aac",
   "metadata": {},
   "source": [
    "В итоге неявные дубликаты были обнаржуены только в столбце с информацией о цели получения кредита. Обработаем их, заменив разные значения одним обобщающим, где это будет корректно по смыслу, то есть не нарушится детализация цели, так как последнее может понадобиться при какой-либо иной работе с представленными данными."
   ]
  },
  {
   "cell_type": "code",
   "execution_count": 26,
   "id": "2a21be14-d7b9-4962-8210-5864cc47c1c4",
   "metadata": {},
   "outputs": [],
   "source": [
    "# последовательный вызов метода replace() для изменения соответствующих значений\n",
    "\n",
    "df['purpose'] = df['purpose'].replace(['свадьба', 'на проведение свадьбы', 'сыграть свадьбу'], 'проведение свадьбы')\n",
    "\n",
    "df['purpose'] = df['purpose'].replace(['автомобиль', 'сделка с автомобилем'], 'операции с автомобилем')\n",
    "\n",
    "df['purpose'] = df['purpose'].replace(['образование', 'заняться образованием'], 'получение образования')\n",
    "\n",
    "df['purpose'] = df['purpose'].replace(['заняться высшим образованием', 'высшее образование'], 'получение высшего образования')\n",
    "\n",
    "df['purpose'] = df['purpose'].replace('покупка жилья', 'покупка жилой недвижимости')\n",
    "\n",
    "df['purpose'] = df['purpose'].replace('недвижимость', 'операции с недвижимостью')\n",
    "\n",
    "df['purpose'] = df['purpose'].replace('жилье', 'операции с жильем')\n",
    "\n",
    "df['purpose'] = df['purpose'].replace('на покупку автомобиля', 'приобретение автомобиля')\n",
    "\n",
    "df['purpose'] = df['purpose'].replace('дополнительное образование', 'получение дополнительного образования')"
   ]
  },
  {
   "cell_type": "markdown",
   "id": "47248262-b341-4d4f-8ec9-f8c0eece8301",
   "metadata": {},
   "source": [
    "Посмотрим на изменения."
   ]
  },
  {
   "cell_type": "code",
   "execution_count": 27,
   "id": "0f890cd7-e2cf-45bb-8ffb-f00e42f42655",
   "metadata": {},
   "outputs": [
    {
     "data": {
      "text/plain": [
       "проведение свадьбы                        2324\n",
       "получение высшего образования             1374\n",
       "операции с недвижимостью                  1308\n",
       "операции с жильем                         1298\n",
       "получение образования                     1297\n",
       "покупка жилой недвижимости                1252\n",
       "операции с автомобилем                     949\n",
       "приобретение автомобиля                    932\n",
       "получение дополнительного образования      906\n",
       "покупка коммерческой недвижимости          661\n",
       "покупка жилья для сдачи                    651\n",
       "операции с коммерческой недвижимостью      650\n",
       "покупка жилья для семьи                    638\n",
       "строительство собственной недвижимости     635\n",
       "операции со своей недвижимостью            627\n",
       "строительство жилой недвижимости           624\n",
       "покупка недвижимости                       621\n",
       "покупка своего жилья                       620\n",
       "строительство недвижимости                 619\n",
       "ремонт жилью                               607\n",
       "на покупку своего автомобиля               505\n",
       "сделка с подержанным автомобилем           486\n",
       "автомобили                                 478\n",
       "свой автомобиль                            478\n",
       "на покупку подержанного автомобиля         478\n",
       "профильное образование                     436\n",
       "Name: purpose, dtype: int64"
      ]
     },
     "execution_count": 27,
     "metadata": {},
     "output_type": "execute_result"
    }
   ],
   "source": [
    "# вывод уникальных значений столбца purpose\n",
    "df['purpose'].value_counts()"
   ]
  },
  {
   "cell_type": "markdown",
   "id": "7dd788bb-b571-4de1-a7a0-06c243c6de62",
   "metadata": {},
   "source": [
    "**Промежуточные итоги**\n",
    "\n",
    "1. При обработке дубликатов изначально был выполнен перевод всех соответствующих значений в один регистр для увеличеня количества явных дубликатов, так как избавляться от них проще. Неявные дубликаты были обнаружены методом `value_counts()` и заменены с использованием собственной функции и метода `replace()`.\n",
    "2. Причиной появления явных дубликатов мог быть технический сбой при обработке данных. Разница же в регистре и дублирование одинаковых по смыслу целей получения кредита, по всей видимости, образовались из-за самостоятельного заполнения соответствующих данных разными людьми. Избежать этого можно было бы, например, дав клинтам при заполнении определённые категории на выбор."
   ]
  },
  {
   "cell_type": "markdown",
   "id": "048a6c1e",
   "metadata": {},
   "source": [
    "### Формирование дополнительных датафреймов словарей, декомпозиция исходного датафрейма"
   ]
  },
  {
   "cell_type": "markdown",
   "id": "2b84f071-4f24-4d27-bfad-2a0396802dff",
   "metadata": {},
   "source": [
    "В текущем датафрейме присутствуют столбцы, например `education` и `family_status`, значения в которых многократно повторяются, а также бывают записаны в достаточно длинных строках. Это может повлечь за собой усложнение работы при создании новых категорий и фильтрации данных, ошибки при выполнении данных операций, так как придётся указывать полное название уровня образования или семейного положения клиента, а также в целом увеличивает размер файла и время обработки данных.\n",
    "\n",
    "Для оптимизации данных создадим \"словари\", в которых названиям категорий будут соответствовать номера — `id`, значения которых уже есть в таблице в столбцах `education_id` и `family_status_id`. Это позволит нам в дальнейшем обращаться к данным по более удобному числовому обозначению, а не длинному строчному."
   ]
  },
  {
   "cell_type": "code",
   "execution_count": 28,
   "id": "deb56ebb-45a6-4cca-b16c-c3b5b2d534f3",
   "metadata": {},
   "outputs": [
    {
     "data": {
      "text/html": [
       "<div>\n",
       "<style scoped>\n",
       "    .dataframe tbody tr th:only-of-type {\n",
       "        vertical-align: middle;\n",
       "    }\n",
       "\n",
       "    .dataframe tbody tr th {\n",
       "        vertical-align: top;\n",
       "    }\n",
       "\n",
       "    .dataframe thead th {\n",
       "        text-align: right;\n",
       "    }\n",
       "</style>\n",
       "<table border=\"1\" class=\"dataframe\">\n",
       "  <thead>\n",
       "    <tr style=\"text-align: right;\">\n",
       "      <th></th>\n",
       "      <th>education</th>\n",
       "      <th>education_id</th>\n",
       "    </tr>\n",
       "  </thead>\n",
       "  <tbody>\n",
       "    <tr>\n",
       "      <th>0</th>\n",
       "      <td>высшее</td>\n",
       "      <td>0</td>\n",
       "    </tr>\n",
       "    <tr>\n",
       "      <th>1</th>\n",
       "      <td>среднее</td>\n",
       "      <td>1</td>\n",
       "    </tr>\n",
       "    <tr>\n",
       "      <th>2</th>\n",
       "      <td>неоконченное высшее</td>\n",
       "      <td>2</td>\n",
       "    </tr>\n",
       "    <tr>\n",
       "      <th>3</th>\n",
       "      <td>начальное</td>\n",
       "      <td>3</td>\n",
       "    </tr>\n",
       "    <tr>\n",
       "      <th>4</th>\n",
       "      <td>ученая степень</td>\n",
       "      <td>4</td>\n",
       "    </tr>\n",
       "  </tbody>\n",
       "</table>\n",
       "</div>"
      ],
      "text/plain": [
       "             education  education_id\n",
       "0               высшее             0\n",
       "1              среднее             1\n",
       "2  неоконченное высшее             2\n",
       "3            начальное             3\n",
       "4       ученая степень             4"
      ]
     },
     "execution_count": 28,
     "metadata": {},
     "output_type": "execute_result"
    }
   ],
   "source": [
    "# создание словаря для уровня образования и удаление строк-дубликатов\n",
    "education_dict = df[['education', 'education_id']].drop_duplicates().reset_index(drop=True)\n",
    "\n",
    "# просмотр словаря\n",
    "education_dict"
   ]
  },
  {
   "cell_type": "code",
   "execution_count": 29,
   "id": "a532a8d2-4f2f-45bc-a86d-0723c8cd3c8e",
   "metadata": {},
   "outputs": [
    {
     "data": {
      "text/html": [
       "<div>\n",
       "<style scoped>\n",
       "    .dataframe tbody tr th:only-of-type {\n",
       "        vertical-align: middle;\n",
       "    }\n",
       "\n",
       "    .dataframe tbody tr th {\n",
       "        vertical-align: top;\n",
       "    }\n",
       "\n",
       "    .dataframe thead th {\n",
       "        text-align: right;\n",
       "    }\n",
       "</style>\n",
       "<table border=\"1\" class=\"dataframe\">\n",
       "  <thead>\n",
       "    <tr style=\"text-align: right;\">\n",
       "      <th></th>\n",
       "      <th>family_status</th>\n",
       "      <th>family_status_id</th>\n",
       "    </tr>\n",
       "  </thead>\n",
       "  <tbody>\n",
       "    <tr>\n",
       "      <th>0</th>\n",
       "      <td>женат / замужем</td>\n",
       "      <td>0</td>\n",
       "    </tr>\n",
       "    <tr>\n",
       "      <th>1</th>\n",
       "      <td>гражданский брак</td>\n",
       "      <td>1</td>\n",
       "    </tr>\n",
       "    <tr>\n",
       "      <th>2</th>\n",
       "      <td>вдовец / вдова</td>\n",
       "      <td>2</td>\n",
       "    </tr>\n",
       "    <tr>\n",
       "      <th>3</th>\n",
       "      <td>в разводе</td>\n",
       "      <td>3</td>\n",
       "    </tr>\n",
       "    <tr>\n",
       "      <th>4</th>\n",
       "      <td>не женат / не замужем</td>\n",
       "      <td>4</td>\n",
       "    </tr>\n",
       "  </tbody>\n",
       "</table>\n",
       "</div>"
      ],
      "text/plain": [
       "           family_status  family_status_id\n",
       "0        женат / замужем                 0\n",
       "1       гражданский брак                 1\n",
       "2         вдовец / вдова                 2\n",
       "3              в разводе                 3\n",
       "4  не женат / не замужем                 4"
      ]
     },
     "execution_count": 29,
     "metadata": {},
     "output_type": "execute_result"
    }
   ],
   "source": [
    "# создание словаря для семейного положения и удаление строк-дубликатов\n",
    "family_status_dict = df[['family_status', 'family_status_id']].drop_duplicates().reset_index(drop=True)\n",
    "\n",
    "# просмотр словаря\n",
    "family_status_dict"
   ]
  },
  {
   "cell_type": "markdown",
   "id": "daa4f475-e236-4cf5-8cf5-a89825a7cadb",
   "metadata": {},
   "source": [
    "Сформируем датафрейм без столбцов `education` и `family_status`."
   ]
  },
  {
   "cell_type": "code",
   "execution_count": 30,
   "id": "d2a66676-b046-445f-9974-9136bd553991",
   "metadata": {},
   "outputs": [
    {
     "data": {
      "text/html": [
       "<div>\n",
       "<style scoped>\n",
       "    .dataframe tbody tr th:only-of-type {\n",
       "        vertical-align: middle;\n",
       "    }\n",
       "\n",
       "    .dataframe tbody tr th {\n",
       "        vertical-align: top;\n",
       "    }\n",
       "\n",
       "    .dataframe thead th {\n",
       "        text-align: right;\n",
       "    }\n",
       "</style>\n",
       "<table border=\"1\" class=\"dataframe\">\n",
       "  <thead>\n",
       "    <tr style=\"text-align: right;\">\n",
       "      <th></th>\n",
       "      <th>children</th>\n",
       "      <th>days_employed</th>\n",
       "      <th>dob_years</th>\n",
       "      <th>education_id</th>\n",
       "      <th>family_status_id</th>\n",
       "      <th>gender</th>\n",
       "      <th>income_type</th>\n",
       "      <th>debt</th>\n",
       "      <th>total_income</th>\n",
       "      <th>purpose</th>\n",
       "    </tr>\n",
       "  </thead>\n",
       "  <tbody>\n",
       "    <tr>\n",
       "      <th>16599</th>\n",
       "      <td>0</td>\n",
       "      <td>1282</td>\n",
       "      <td>23</td>\n",
       "      <td>1</td>\n",
       "      <td>1</td>\n",
       "      <td>m</td>\n",
       "      <td>госслужащий</td>\n",
       "      <td>1</td>\n",
       "      <td>119278</td>\n",
       "      <td>проведение свадьбы</td>\n",
       "    </tr>\n",
       "    <tr>\n",
       "      <th>18219</th>\n",
       "      <td>3</td>\n",
       "      <td>1482</td>\n",
       "      <td>31</td>\n",
       "      <td>1</td>\n",
       "      <td>0</td>\n",
       "      <td>f</td>\n",
       "      <td>сотрудник</td>\n",
       "      <td>0</td>\n",
       "      <td>388364</td>\n",
       "      <td>приобретение автомобиля</td>\n",
       "    </tr>\n",
       "    <tr>\n",
       "      <th>397</th>\n",
       "      <td>0</td>\n",
       "      <td>12506</td>\n",
       "      <td>46</td>\n",
       "      <td>1</td>\n",
       "      <td>0</td>\n",
       "      <td>f</td>\n",
       "      <td>сотрудник</td>\n",
       "      <td>0</td>\n",
       "      <td>292843</td>\n",
       "      <td>операции с недвижимостью</td>\n",
       "    </tr>\n",
       "    <tr>\n",
       "      <th>11622</th>\n",
       "      <td>1</td>\n",
       "      <td>1198</td>\n",
       "      <td>43</td>\n",
       "      <td>1</td>\n",
       "      <td>0</td>\n",
       "      <td>m</td>\n",
       "      <td>компаньон</td>\n",
       "      <td>0</td>\n",
       "      <td>168872</td>\n",
       "      <td>получение высшего образования</td>\n",
       "    </tr>\n",
       "    <tr>\n",
       "      <th>13306</th>\n",
       "      <td>0</td>\n",
       "      <td>15800</td>\n",
       "      <td>65</td>\n",
       "      <td>1</td>\n",
       "      <td>3</td>\n",
       "      <td>f</td>\n",
       "      <td>пенсионер</td>\n",
       "      <td>0</td>\n",
       "      <td>237620</td>\n",
       "      <td>строительство жилой недвижимости</td>\n",
       "    </tr>\n",
       "    <tr>\n",
       "      <th>10814</th>\n",
       "      <td>0</td>\n",
       "      <td>1348</td>\n",
       "      <td>47</td>\n",
       "      <td>1</td>\n",
       "      <td>0</td>\n",
       "      <td>m</td>\n",
       "      <td>сотрудник</td>\n",
       "      <td>0</td>\n",
       "      <td>249830</td>\n",
       "      <td>операции с жильем</td>\n",
       "    </tr>\n",
       "    <tr>\n",
       "      <th>20297</th>\n",
       "      <td>0</td>\n",
       "      <td>2644</td>\n",
       "      <td>38</td>\n",
       "      <td>0</td>\n",
       "      <td>0</td>\n",
       "      <td>f</td>\n",
       "      <td>компаньон</td>\n",
       "      <td>0</td>\n",
       "      <td>98028</td>\n",
       "      <td>автомобили</td>\n",
       "    </tr>\n",
       "    <tr>\n",
       "      <th>6607</th>\n",
       "      <td>0</td>\n",
       "      <td>1478</td>\n",
       "      <td>42</td>\n",
       "      <td>1</td>\n",
       "      <td>1</td>\n",
       "      <td>f</td>\n",
       "      <td>компаньон</td>\n",
       "      <td>0</td>\n",
       "      <td>133419</td>\n",
       "      <td>проведение свадьбы</td>\n",
       "    </tr>\n",
       "    <tr>\n",
       "      <th>15858</th>\n",
       "      <td>0</td>\n",
       "      <td>778</td>\n",
       "      <td>34</td>\n",
       "      <td>2</td>\n",
       "      <td>0</td>\n",
       "      <td>f</td>\n",
       "      <td>сотрудник</td>\n",
       "      <td>0</td>\n",
       "      <td>230389</td>\n",
       "      <td>покупка жилья для семьи</td>\n",
       "    </tr>\n",
       "    <tr>\n",
       "      <th>415</th>\n",
       "      <td>0</td>\n",
       "      <td>15217</td>\n",
       "      <td>57</td>\n",
       "      <td>0</td>\n",
       "      <td>2</td>\n",
       "      <td>f</td>\n",
       "      <td>пенсионер</td>\n",
       "      <td>0</td>\n",
       "      <td>118514</td>\n",
       "      <td>операции с жильем</td>\n",
       "    </tr>\n",
       "    <tr>\n",
       "      <th>15656</th>\n",
       "      <td>1</td>\n",
       "      <td>2724</td>\n",
       "      <td>35</td>\n",
       "      <td>1</td>\n",
       "      <td>0</td>\n",
       "      <td>f</td>\n",
       "      <td>сотрудник</td>\n",
       "      <td>1</td>\n",
       "      <td>117867</td>\n",
       "      <td>операции с автомобилем</td>\n",
       "    </tr>\n",
       "    <tr>\n",
       "      <th>10853</th>\n",
       "      <td>1</td>\n",
       "      <td>3285</td>\n",
       "      <td>30</td>\n",
       "      <td>1</td>\n",
       "      <td>0</td>\n",
       "      <td>f</td>\n",
       "      <td>госслужащий</td>\n",
       "      <td>0</td>\n",
       "      <td>233191</td>\n",
       "      <td>операции со своей недвижимостью</td>\n",
       "    </tr>\n",
       "    <tr>\n",
       "      <th>13198</th>\n",
       "      <td>1</td>\n",
       "      <td>2616</td>\n",
       "      <td>48</td>\n",
       "      <td>2</td>\n",
       "      <td>0</td>\n",
       "      <td>m</td>\n",
       "      <td>компаньон</td>\n",
       "      <td>1</td>\n",
       "      <td>174631</td>\n",
       "      <td>сделка с подержанным автомобилем</td>\n",
       "    </tr>\n",
       "    <tr>\n",
       "      <th>3272</th>\n",
       "      <td>1</td>\n",
       "      <td>3076</td>\n",
       "      <td>42</td>\n",
       "      <td>1</td>\n",
       "      <td>0</td>\n",
       "      <td>f</td>\n",
       "      <td>компаньон</td>\n",
       "      <td>0</td>\n",
       "      <td>280751</td>\n",
       "      <td>покупка жилья для семьи</td>\n",
       "    </tr>\n",
       "    <tr>\n",
       "      <th>7629</th>\n",
       "      <td>0</td>\n",
       "      <td>3051</td>\n",
       "      <td>45</td>\n",
       "      <td>1</td>\n",
       "      <td>2</td>\n",
       "      <td>f</td>\n",
       "      <td>сотрудник</td>\n",
       "      <td>0</td>\n",
       "      <td>190361</td>\n",
       "      <td>покупка коммерческой недвижимости</td>\n",
       "    </tr>\n",
       "  </tbody>\n",
       "</table>\n",
       "</div>"
      ],
      "text/plain": [
       "       children  days_employed  dob_years  education_id  family_status_id  \\\n",
       "16599         0           1282         23             1                 1   \n",
       "18219         3           1482         31             1                 0   \n",
       "397           0          12506         46             1                 0   \n",
       "11622         1           1198         43             1                 0   \n",
       "13306         0          15800         65             1                 3   \n",
       "10814         0           1348         47             1                 0   \n",
       "20297         0           2644         38             0                 0   \n",
       "6607          0           1478         42             1                 1   \n",
       "15858         0            778         34             2                 0   \n",
       "415           0          15217         57             0                 2   \n",
       "15656         1           2724         35             1                 0   \n",
       "10853         1           3285         30             1                 0   \n",
       "13198         1           2616         48             2                 0   \n",
       "3272          1           3076         42             1                 0   \n",
       "7629          0           3051         45             1                 2   \n",
       "\n",
       "      gender  income_type  debt  total_income  \\\n",
       "16599      m  госслужащий     1        119278   \n",
       "18219      f    сотрудник     0        388364   \n",
       "397        f    сотрудник     0        292843   \n",
       "11622      m    компаньон     0        168872   \n",
       "13306      f    пенсионер     0        237620   \n",
       "10814      m    сотрудник     0        249830   \n",
       "20297      f    компаньон     0         98028   \n",
       "6607       f    компаньон     0        133419   \n",
       "15858      f    сотрудник     0        230389   \n",
       "415        f    пенсионер     0        118514   \n",
       "15656      f    сотрудник     1        117867   \n",
       "10853      f  госслужащий     0        233191   \n",
       "13198      m    компаньон     1        174631   \n",
       "3272       f    компаньон     0        280751   \n",
       "7629       f    сотрудник     0        190361   \n",
       "\n",
       "                                 purpose  \n",
       "16599                 проведение свадьбы  \n",
       "18219            приобретение автомобиля  \n",
       "397             операции с недвижимостью  \n",
       "11622      получение высшего образования  \n",
       "13306   строительство жилой недвижимости  \n",
       "10814                  операции с жильем  \n",
       "20297                         автомобили  \n",
       "6607                  проведение свадьбы  \n",
       "15858            покупка жилья для семьи  \n",
       "415                    операции с жильем  \n",
       "15656             операции с автомобилем  \n",
       "10853    операции со своей недвижимостью  \n",
       "13198   сделка с подержанным автомобилем  \n",
       "3272             покупка жилья для семьи  \n",
       "7629   покупка коммерческой недвижимости  "
      ]
     },
     "execution_count": 30,
     "metadata": {},
     "output_type": "execute_result"
    }
   ],
   "source": [
    "# формирование нового датафрейма\n",
    "df_log = df.drop(['education', 'family_status'], axis=1)\n",
    "\n",
    "# оценивание внесённых изменений\n",
    "df_log.sample(15, random_state=1)"
   ]
  },
  {
   "cell_type": "markdown",
   "id": "745094ea-125d-408a-8e44-1dacf779a18f",
   "metadata": {},
   "source": [
    "**Промежуточные итоги**\n",
    "\n",
    "Для более комфортной работы с данными датасета они были оптимизированы путем создания \"словарей\", содержащих значения, к которым в дальнейшем обращаться будет недостаточно удобно, из-за чего работа с данными может получиться менее эффективной."
   ]
  },
  {
   "cell_type": "markdown",
   "id": "cec35d1a",
   "metadata": {},
   "source": [
    "### Категоризация дохода"
   ]
  },
  {
   "cell_type": "markdown",
   "id": "cb9ae957-3684-426a-8444-b4ffc55038e4",
   "metadata": {},
   "source": [
    "Конечной целью исследования является определение того, от каких характеристик и особенностей клиентов зависит своевременный возврат ими кредита.\n",
    "Единичные значения уровня дохода клиента и цели получения кредита имеют достаточно сильный разброс. Для получения релевантных статистических выводов на основе подобных данных к ним требуется применить категоризацию.\n",
    "\n",
    "Начнем с категоризации значений дохода клиента.\n",
    "Определимся с диапазонами категоризации. Для этого сформируем разброс значений столбца `total_income`."
   ]
  },
  {
   "cell_type": "code",
   "execution_count": 31,
   "id": "8d394706-6fc6-4be4-97b2-5f9adf4cfd58",
   "metadata": {},
   "outputs": [
    {
     "data": {
      "text/html": [
       "<style  type=\"text/css\" >\n",
       "</style><table id=\"T_80278_\" ><thead>    <tr>        <th class=\"blank level0\" ></th>        <th class=\"col_heading level0 col0\" >total_income</th>    </tr></thead><tbody>\n",
       "                <tr>\n",
       "                        <th id=\"T_80278_level0_row0\" class=\"row_heading level0 row0\" >count</th>\n",
       "                        <td id=\"T_80278_row0_col0\" class=\"data row0 col0\" >21454</td>\n",
       "            </tr>\n",
       "            <tr>\n",
       "                        <th id=\"T_80278_level0_row1\" class=\"row_heading level0 row1\" >mean</th>\n",
       "                        <td id=\"T_80278_row1_col0\" class=\"data row1 col0\" >165320</td>\n",
       "            </tr>\n",
       "            <tr>\n",
       "                        <th id=\"T_80278_level0_row2\" class=\"row_heading level0 row2\" >std</th>\n",
       "                        <td id=\"T_80278_row2_col0\" class=\"data row2 col0\" >98187</td>\n",
       "            </tr>\n",
       "            <tr>\n",
       "                        <th id=\"T_80278_level0_row3\" class=\"row_heading level0 row3\" >min</th>\n",
       "                        <td id=\"T_80278_row3_col0\" class=\"data row3 col0\" >20667</td>\n",
       "            </tr>\n",
       "            <tr>\n",
       "                        <th id=\"T_80278_level0_row4\" class=\"row_heading level0 row4\" >25%</th>\n",
       "                        <td id=\"T_80278_row4_col0\" class=\"data row4 col0\" >107623</td>\n",
       "            </tr>\n",
       "            <tr>\n",
       "                        <th id=\"T_80278_level0_row5\" class=\"row_heading level0 row5\" >50%</th>\n",
       "                        <td id=\"T_80278_row5_col0\" class=\"data row5 col0\" >142594</td>\n",
       "            </tr>\n",
       "            <tr>\n",
       "                        <th id=\"T_80278_level0_row6\" class=\"row_heading level0 row6\" >75%</th>\n",
       "                        <td id=\"T_80278_row6_col0\" class=\"data row6 col0\" >195820</td>\n",
       "            </tr>\n",
       "            <tr>\n",
       "                        <th id=\"T_80278_level0_row7\" class=\"row_heading level0 row7\" >max</th>\n",
       "                        <td id=\"T_80278_row7_col0\" class=\"data row7 col0\" >2265604</td>\n",
       "            </tr>\n",
       "    </tbody></table>"
      ],
      "text/plain": [
       "<pandas.io.formats.style.Styler at 0x1db116803d0>"
      ]
     },
     "execution_count": 31,
     "metadata": {},
     "output_type": "execute_result"
    }
   ],
   "source": [
    "# получение разброса значений дохода клиента\n",
    "df_log['total_income'].describe().to_frame().style.format('{:.0f}')"
   ]
  },
  {
   "cell_type": "markdown",
   "id": "f5bd591d-f10e-4bea-b38f-bb27f0ec33fb",
   "metadata": {},
   "source": [
    "На основании значений разброса дохода сформируем столбец `total_income_category` со следующими категориями:\n",
    "\n",
    "* 0–30000 — `E`\n",
    "* 30001–50000 — `D`\n",
    "* 50001–200000 — `C`\n",
    "* 200001–1000000 — `B`\n",
    "* 1000001 и выше — `A`"
   ]
  },
  {
   "cell_type": "code",
   "execution_count": 32,
   "id": "71f47b5e-3b22-4c98-a4f4-09970ef56816",
   "metadata": {},
   "outputs": [
    {
     "data": {
      "text/plain": [
       "'E'"
      ]
     },
     "metadata": {},
     "output_type": "display_data"
    },
    {
     "data": {
      "text/plain": [
       "'D'"
      ]
     },
     "metadata": {},
     "output_type": "display_data"
    },
    {
     "data": {
      "text/plain": [
       "'C'"
      ]
     },
     "metadata": {},
     "output_type": "display_data"
    },
    {
     "data": {
      "text/plain": [
       "'B'"
      ]
     },
     "metadata": {},
     "output_type": "display_data"
    },
    {
     "data": {
      "text/plain": [
       "'A'"
      ]
     },
     "metadata": {},
     "output_type": "display_data"
    }
   ],
   "source": [
    "# создание функции для категоризации значений\n",
    "def total_income_category(income):\n",
    "    if income <= 30000:\n",
    "        return 'E'\n",
    "    if income <= 50000:\n",
    "        return 'D'\n",
    "    if income <= 200000:\n",
    "        return 'C'\n",
    "    if income <= 1000000:\n",
    "        return 'B'\n",
    "    return 'A'\n",
    "\n",
    "# тестирование функции\n",
    "display(total_income_category(20000))\n",
    "display(total_income_category(40000))\n",
    "display(total_income_category(100000))\n",
    "display(total_income_category(500000))\n",
    "display(total_income_category(2000000))"
   ]
  },
  {
   "cell_type": "markdown",
   "id": "e4ecaa74-e18c-4986-9b82-0dfa12dc1194",
   "metadata": {},
   "source": [
    "Функция работает корректно, можно создавать столбец."
   ]
  },
  {
   "cell_type": "code",
   "execution_count": 33,
   "id": "191d7a57-3fab-4a8d-914d-4f4cab89cc29",
   "metadata": {},
   "outputs": [
    {
     "data": {
      "text/html": [
       "<div>\n",
       "<style scoped>\n",
       "    .dataframe tbody tr th:only-of-type {\n",
       "        vertical-align: middle;\n",
       "    }\n",
       "\n",
       "    .dataframe tbody tr th {\n",
       "        vertical-align: top;\n",
       "    }\n",
       "\n",
       "    .dataframe thead th {\n",
       "        text-align: right;\n",
       "    }\n",
       "</style>\n",
       "<table border=\"1\" class=\"dataframe\">\n",
       "  <thead>\n",
       "    <tr style=\"text-align: right;\">\n",
       "      <th></th>\n",
       "      <th>children</th>\n",
       "      <th>days_employed</th>\n",
       "      <th>dob_years</th>\n",
       "      <th>education_id</th>\n",
       "      <th>family_status_id</th>\n",
       "      <th>gender</th>\n",
       "      <th>income_type</th>\n",
       "      <th>debt</th>\n",
       "      <th>total_income</th>\n",
       "      <th>purpose</th>\n",
       "      <th>total_income_category</th>\n",
       "    </tr>\n",
       "  </thead>\n",
       "  <tbody>\n",
       "    <tr>\n",
       "      <th>16599</th>\n",
       "      <td>0</td>\n",
       "      <td>1282</td>\n",
       "      <td>23</td>\n",
       "      <td>1</td>\n",
       "      <td>1</td>\n",
       "      <td>m</td>\n",
       "      <td>госслужащий</td>\n",
       "      <td>1</td>\n",
       "      <td>119278</td>\n",
       "      <td>проведение свадьбы</td>\n",
       "      <td>C</td>\n",
       "    </tr>\n",
       "    <tr>\n",
       "      <th>18219</th>\n",
       "      <td>3</td>\n",
       "      <td>1482</td>\n",
       "      <td>31</td>\n",
       "      <td>1</td>\n",
       "      <td>0</td>\n",
       "      <td>f</td>\n",
       "      <td>сотрудник</td>\n",
       "      <td>0</td>\n",
       "      <td>388364</td>\n",
       "      <td>приобретение автомобиля</td>\n",
       "      <td>B</td>\n",
       "    </tr>\n",
       "    <tr>\n",
       "      <th>397</th>\n",
       "      <td>0</td>\n",
       "      <td>12506</td>\n",
       "      <td>46</td>\n",
       "      <td>1</td>\n",
       "      <td>0</td>\n",
       "      <td>f</td>\n",
       "      <td>сотрудник</td>\n",
       "      <td>0</td>\n",
       "      <td>292843</td>\n",
       "      <td>операции с недвижимостью</td>\n",
       "      <td>B</td>\n",
       "    </tr>\n",
       "    <tr>\n",
       "      <th>11622</th>\n",
       "      <td>1</td>\n",
       "      <td>1198</td>\n",
       "      <td>43</td>\n",
       "      <td>1</td>\n",
       "      <td>0</td>\n",
       "      <td>m</td>\n",
       "      <td>компаньон</td>\n",
       "      <td>0</td>\n",
       "      <td>168872</td>\n",
       "      <td>получение высшего образования</td>\n",
       "      <td>C</td>\n",
       "    </tr>\n",
       "    <tr>\n",
       "      <th>13306</th>\n",
       "      <td>0</td>\n",
       "      <td>15800</td>\n",
       "      <td>65</td>\n",
       "      <td>1</td>\n",
       "      <td>3</td>\n",
       "      <td>f</td>\n",
       "      <td>пенсионер</td>\n",
       "      <td>0</td>\n",
       "      <td>237620</td>\n",
       "      <td>строительство жилой недвижимости</td>\n",
       "      <td>B</td>\n",
       "    </tr>\n",
       "    <tr>\n",
       "      <th>10814</th>\n",
       "      <td>0</td>\n",
       "      <td>1348</td>\n",
       "      <td>47</td>\n",
       "      <td>1</td>\n",
       "      <td>0</td>\n",
       "      <td>m</td>\n",
       "      <td>сотрудник</td>\n",
       "      <td>0</td>\n",
       "      <td>249830</td>\n",
       "      <td>операции с жильем</td>\n",
       "      <td>B</td>\n",
       "    </tr>\n",
       "    <tr>\n",
       "      <th>20297</th>\n",
       "      <td>0</td>\n",
       "      <td>2644</td>\n",
       "      <td>38</td>\n",
       "      <td>0</td>\n",
       "      <td>0</td>\n",
       "      <td>f</td>\n",
       "      <td>компаньон</td>\n",
       "      <td>0</td>\n",
       "      <td>98028</td>\n",
       "      <td>автомобили</td>\n",
       "      <td>C</td>\n",
       "    </tr>\n",
       "    <tr>\n",
       "      <th>6607</th>\n",
       "      <td>0</td>\n",
       "      <td>1478</td>\n",
       "      <td>42</td>\n",
       "      <td>1</td>\n",
       "      <td>1</td>\n",
       "      <td>f</td>\n",
       "      <td>компаньон</td>\n",
       "      <td>0</td>\n",
       "      <td>133419</td>\n",
       "      <td>проведение свадьбы</td>\n",
       "      <td>C</td>\n",
       "    </tr>\n",
       "    <tr>\n",
       "      <th>15858</th>\n",
       "      <td>0</td>\n",
       "      <td>778</td>\n",
       "      <td>34</td>\n",
       "      <td>2</td>\n",
       "      <td>0</td>\n",
       "      <td>f</td>\n",
       "      <td>сотрудник</td>\n",
       "      <td>0</td>\n",
       "      <td>230389</td>\n",
       "      <td>покупка жилья для семьи</td>\n",
       "      <td>B</td>\n",
       "    </tr>\n",
       "    <tr>\n",
       "      <th>415</th>\n",
       "      <td>0</td>\n",
       "      <td>15217</td>\n",
       "      <td>57</td>\n",
       "      <td>0</td>\n",
       "      <td>2</td>\n",
       "      <td>f</td>\n",
       "      <td>пенсионер</td>\n",
       "      <td>0</td>\n",
       "      <td>118514</td>\n",
       "      <td>операции с жильем</td>\n",
       "      <td>C</td>\n",
       "    </tr>\n",
       "    <tr>\n",
       "      <th>15656</th>\n",
       "      <td>1</td>\n",
       "      <td>2724</td>\n",
       "      <td>35</td>\n",
       "      <td>1</td>\n",
       "      <td>0</td>\n",
       "      <td>f</td>\n",
       "      <td>сотрудник</td>\n",
       "      <td>1</td>\n",
       "      <td>117867</td>\n",
       "      <td>операции с автомобилем</td>\n",
       "      <td>C</td>\n",
       "    </tr>\n",
       "    <tr>\n",
       "      <th>10853</th>\n",
       "      <td>1</td>\n",
       "      <td>3285</td>\n",
       "      <td>30</td>\n",
       "      <td>1</td>\n",
       "      <td>0</td>\n",
       "      <td>f</td>\n",
       "      <td>госслужащий</td>\n",
       "      <td>0</td>\n",
       "      <td>233191</td>\n",
       "      <td>операции со своей недвижимостью</td>\n",
       "      <td>B</td>\n",
       "    </tr>\n",
       "    <tr>\n",
       "      <th>13198</th>\n",
       "      <td>1</td>\n",
       "      <td>2616</td>\n",
       "      <td>48</td>\n",
       "      <td>2</td>\n",
       "      <td>0</td>\n",
       "      <td>m</td>\n",
       "      <td>компаньон</td>\n",
       "      <td>1</td>\n",
       "      <td>174631</td>\n",
       "      <td>сделка с подержанным автомобилем</td>\n",
       "      <td>C</td>\n",
       "    </tr>\n",
       "    <tr>\n",
       "      <th>3272</th>\n",
       "      <td>1</td>\n",
       "      <td>3076</td>\n",
       "      <td>42</td>\n",
       "      <td>1</td>\n",
       "      <td>0</td>\n",
       "      <td>f</td>\n",
       "      <td>компаньон</td>\n",
       "      <td>0</td>\n",
       "      <td>280751</td>\n",
       "      <td>покупка жилья для семьи</td>\n",
       "      <td>B</td>\n",
       "    </tr>\n",
       "    <tr>\n",
       "      <th>7629</th>\n",
       "      <td>0</td>\n",
       "      <td>3051</td>\n",
       "      <td>45</td>\n",
       "      <td>1</td>\n",
       "      <td>2</td>\n",
       "      <td>f</td>\n",
       "      <td>сотрудник</td>\n",
       "      <td>0</td>\n",
       "      <td>190361</td>\n",
       "      <td>покупка коммерческой недвижимости</td>\n",
       "      <td>C</td>\n",
       "    </tr>\n",
       "  </tbody>\n",
       "</table>\n",
       "</div>"
      ],
      "text/plain": [
       "       children  days_employed  dob_years  education_id  family_status_id  \\\n",
       "16599         0           1282         23             1                 1   \n",
       "18219         3           1482         31             1                 0   \n",
       "397           0          12506         46             1                 0   \n",
       "11622         1           1198         43             1                 0   \n",
       "13306         0          15800         65             1                 3   \n",
       "10814         0           1348         47             1                 0   \n",
       "20297         0           2644         38             0                 0   \n",
       "6607          0           1478         42             1                 1   \n",
       "15858         0            778         34             2                 0   \n",
       "415           0          15217         57             0                 2   \n",
       "15656         1           2724         35             1                 0   \n",
       "10853         1           3285         30             1                 0   \n",
       "13198         1           2616         48             2                 0   \n",
       "3272          1           3076         42             1                 0   \n",
       "7629          0           3051         45             1                 2   \n",
       "\n",
       "      gender  income_type  debt  total_income  \\\n",
       "16599      m  госслужащий     1        119278   \n",
       "18219      f    сотрудник     0        388364   \n",
       "397        f    сотрудник     0        292843   \n",
       "11622      m    компаньон     0        168872   \n",
       "13306      f    пенсионер     0        237620   \n",
       "10814      m    сотрудник     0        249830   \n",
       "20297      f    компаньон     0         98028   \n",
       "6607       f    компаньон     0        133419   \n",
       "15858      f    сотрудник     0        230389   \n",
       "415        f    пенсионер     0        118514   \n",
       "15656      f    сотрудник     1        117867   \n",
       "10853      f  госслужащий     0        233191   \n",
       "13198      m    компаньон     1        174631   \n",
       "3272       f    компаньон     0        280751   \n",
       "7629       f    сотрудник     0        190361   \n",
       "\n",
       "                                 purpose total_income_category  \n",
       "16599                 проведение свадьбы                     C  \n",
       "18219            приобретение автомобиля                     B  \n",
       "397             операции с недвижимостью                     B  \n",
       "11622      получение высшего образования                     C  \n",
       "13306   строительство жилой недвижимости                     B  \n",
       "10814                  операции с жильем                     B  \n",
       "20297                         автомобили                     C  \n",
       "6607                  проведение свадьбы                     C  \n",
       "15858            покупка жилья для семьи                     B  \n",
       "415                    операции с жильем                     C  \n",
       "15656             операции с автомобилем                     C  \n",
       "10853    операции со своей недвижимостью                     B  \n",
       "13198   сделка с подержанным автомобилем                     C  \n",
       "3272             покупка жилья для семьи                     B  \n",
       "7629   покупка коммерческой недвижимости                     C  "
      ]
     },
     "execution_count": 33,
     "metadata": {},
     "output_type": "execute_result"
    }
   ],
   "source": [
    "# формирование столбца\n",
    "df_log['total_income_category'] = df_log['total_income'].apply(total_income_category)\n",
    "\n",
    "# оценивание внесённых изменений\n",
    "df_log.sample(15, random_state=1)"
   ]
  },
  {
   "cell_type": "markdown",
   "id": "1ee2b876",
   "metadata": {},
   "source": [
    "### Категоризация целей кредита"
   ]
  },
  {
   "cell_type": "markdown",
   "id": "d188dfd0-ce7b-4aa3-8cc0-7cc4b726522c",
   "metadata": {},
   "source": [
    "Примением категоризацию и для столбца с целями порлучения кредита.\n",
    "Ещё раз взглянем на уникальные значения `purpose`, чтобы определиться с соответствующими категориями."
   ]
  },
  {
   "cell_type": "code",
   "execution_count": 34,
   "id": "bdbeb743-ce4b-45a0-a558-28e396b9b97b",
   "metadata": {},
   "outputs": [
    {
     "data": {
      "text/plain": [
       "проведение свадьбы                        2324\n",
       "получение высшего образования             1374\n",
       "операции с недвижимостью                  1308\n",
       "операции с жильем                         1298\n",
       "получение образования                     1297\n",
       "покупка жилой недвижимости                1252\n",
       "операции с автомобилем                     949\n",
       "приобретение автомобиля                    932\n",
       "получение дополнительного образования      906\n",
       "покупка коммерческой недвижимости          661\n",
       "покупка жилья для сдачи                    651\n",
       "операции с коммерческой недвижимостью      650\n",
       "покупка жилья для семьи                    638\n",
       "строительство собственной недвижимости     635\n",
       "операции со своей недвижимостью            627\n",
       "строительство жилой недвижимости           624\n",
       "покупка недвижимости                       621\n",
       "покупка своего жилья                       620\n",
       "строительство недвижимости                 619\n",
       "ремонт жилью                               607\n",
       "на покупку своего автомобиля               505\n",
       "сделка с подержанным автомобилем           486\n",
       "автомобили                                 478\n",
       "свой автомобиль                            478\n",
       "на покупку подержанного автомобиля         478\n",
       "профильное образование                     436\n",
       "Name: purpose, dtype: int64"
      ]
     },
     "execution_count": 34,
     "metadata": {},
     "output_type": "execute_result"
    }
   ],
   "source": [
    "# вывод уникальных значений столбца purpose\n",
    "df_log['purpose'].value_counts()"
   ]
  },
  {
   "cell_type": "markdown",
   "id": "d1ac076d-e777-42e2-9095-7476b406cb5a",
   "metadata": {},
   "source": [
    "Создадим столбец `purpose_category`, в который войдут следующие 4 категории с соответствующими значениями:\n",
    "\n",
    "* `проведение свадьбы`\n",
    "* `получение образования`\n",
    "* `операции с автомобилем`\n",
    "* `операции с недвижимостью`"
   ]
  },
  {
   "cell_type": "code",
   "execution_count": 35,
   "id": "d2f67a63-f97e-4bbf-a52f-1f823a3abd31",
   "metadata": {},
   "outputs": [
    {
     "data": {
      "text/plain": [
       "'проведение свадьбы'"
      ]
     },
     "metadata": {},
     "output_type": "display_data"
    },
    {
     "data": {
      "text/plain": [
       "'получение образования'"
      ]
     },
     "metadata": {},
     "output_type": "display_data"
    },
    {
     "data": {
      "text/plain": [
       "'операции с автомобилем'"
      ]
     },
     "metadata": {},
     "output_type": "display_data"
    },
    {
     "data": {
      "text/plain": [
       "'операции с недвижимостью'"
      ]
     },
     "metadata": {},
     "output_type": "display_data"
    }
   ],
   "source": [
    "# создание функции для категоризации значений\n",
    "def purpose_category(purpose):\n",
    "    if 'свадьб' in purpose:\n",
    "        return 'проведение свадьбы'\n",
    "    if 'образован' in purpose:\n",
    "        return 'получение образования'\n",
    "    if 'автомобил' in purpose:\n",
    "        return 'операции с автомобилем'\n",
    "    return 'операции с недвижимостью'\n",
    "\n",
    "# тестирование функции\n",
    "display(purpose_category('свадьба'))\n",
    "display(purpose_category('образование'))\n",
    "display(purpose_category('автомобиль'))\n",
    "display(purpose_category('жилье'))"
   ]
  },
  {
   "cell_type": "markdown",
   "id": "7bc11d50-303f-4877-a36c-f96217ed2217",
   "metadata": {},
   "source": [
    "Всё в порядке, создаём новый столбец."
   ]
  },
  {
   "cell_type": "code",
   "execution_count": 36,
   "id": "db5043d2-19ab-49b2-aa61-68f670d84cf7",
   "metadata": {},
   "outputs": [
    {
     "data": {
      "text/html": [
       "<div>\n",
       "<style scoped>\n",
       "    .dataframe tbody tr th:only-of-type {\n",
       "        vertical-align: middle;\n",
       "    }\n",
       "\n",
       "    .dataframe tbody tr th {\n",
       "        vertical-align: top;\n",
       "    }\n",
       "\n",
       "    .dataframe thead th {\n",
       "        text-align: right;\n",
       "    }\n",
       "</style>\n",
       "<table border=\"1\" class=\"dataframe\">\n",
       "  <thead>\n",
       "    <tr style=\"text-align: right;\">\n",
       "      <th></th>\n",
       "      <th>children</th>\n",
       "      <th>days_employed</th>\n",
       "      <th>dob_years</th>\n",
       "      <th>education_id</th>\n",
       "      <th>family_status_id</th>\n",
       "      <th>gender</th>\n",
       "      <th>income_type</th>\n",
       "      <th>debt</th>\n",
       "      <th>total_income</th>\n",
       "      <th>purpose</th>\n",
       "      <th>total_income_category</th>\n",
       "      <th>purpose_category</th>\n",
       "    </tr>\n",
       "  </thead>\n",
       "  <tbody>\n",
       "    <tr>\n",
       "      <th>16599</th>\n",
       "      <td>0</td>\n",
       "      <td>1282</td>\n",
       "      <td>23</td>\n",
       "      <td>1</td>\n",
       "      <td>1</td>\n",
       "      <td>m</td>\n",
       "      <td>госслужащий</td>\n",
       "      <td>1</td>\n",
       "      <td>119278</td>\n",
       "      <td>проведение свадьбы</td>\n",
       "      <td>C</td>\n",
       "      <td>проведение свадьбы</td>\n",
       "    </tr>\n",
       "    <tr>\n",
       "      <th>18219</th>\n",
       "      <td>3</td>\n",
       "      <td>1482</td>\n",
       "      <td>31</td>\n",
       "      <td>1</td>\n",
       "      <td>0</td>\n",
       "      <td>f</td>\n",
       "      <td>сотрудник</td>\n",
       "      <td>0</td>\n",
       "      <td>388364</td>\n",
       "      <td>приобретение автомобиля</td>\n",
       "      <td>B</td>\n",
       "      <td>операции с автомобилем</td>\n",
       "    </tr>\n",
       "    <tr>\n",
       "      <th>397</th>\n",
       "      <td>0</td>\n",
       "      <td>12506</td>\n",
       "      <td>46</td>\n",
       "      <td>1</td>\n",
       "      <td>0</td>\n",
       "      <td>f</td>\n",
       "      <td>сотрудник</td>\n",
       "      <td>0</td>\n",
       "      <td>292843</td>\n",
       "      <td>операции с недвижимостью</td>\n",
       "      <td>B</td>\n",
       "      <td>операции с недвижимостью</td>\n",
       "    </tr>\n",
       "    <tr>\n",
       "      <th>11622</th>\n",
       "      <td>1</td>\n",
       "      <td>1198</td>\n",
       "      <td>43</td>\n",
       "      <td>1</td>\n",
       "      <td>0</td>\n",
       "      <td>m</td>\n",
       "      <td>компаньон</td>\n",
       "      <td>0</td>\n",
       "      <td>168872</td>\n",
       "      <td>получение высшего образования</td>\n",
       "      <td>C</td>\n",
       "      <td>получение образования</td>\n",
       "    </tr>\n",
       "    <tr>\n",
       "      <th>13306</th>\n",
       "      <td>0</td>\n",
       "      <td>15800</td>\n",
       "      <td>65</td>\n",
       "      <td>1</td>\n",
       "      <td>3</td>\n",
       "      <td>f</td>\n",
       "      <td>пенсионер</td>\n",
       "      <td>0</td>\n",
       "      <td>237620</td>\n",
       "      <td>строительство жилой недвижимости</td>\n",
       "      <td>B</td>\n",
       "      <td>операции с недвижимостью</td>\n",
       "    </tr>\n",
       "    <tr>\n",
       "      <th>10814</th>\n",
       "      <td>0</td>\n",
       "      <td>1348</td>\n",
       "      <td>47</td>\n",
       "      <td>1</td>\n",
       "      <td>0</td>\n",
       "      <td>m</td>\n",
       "      <td>сотрудник</td>\n",
       "      <td>0</td>\n",
       "      <td>249830</td>\n",
       "      <td>операции с жильем</td>\n",
       "      <td>B</td>\n",
       "      <td>операции с недвижимостью</td>\n",
       "    </tr>\n",
       "    <tr>\n",
       "      <th>20297</th>\n",
       "      <td>0</td>\n",
       "      <td>2644</td>\n",
       "      <td>38</td>\n",
       "      <td>0</td>\n",
       "      <td>0</td>\n",
       "      <td>f</td>\n",
       "      <td>компаньон</td>\n",
       "      <td>0</td>\n",
       "      <td>98028</td>\n",
       "      <td>автомобили</td>\n",
       "      <td>C</td>\n",
       "      <td>операции с автомобилем</td>\n",
       "    </tr>\n",
       "    <tr>\n",
       "      <th>6607</th>\n",
       "      <td>0</td>\n",
       "      <td>1478</td>\n",
       "      <td>42</td>\n",
       "      <td>1</td>\n",
       "      <td>1</td>\n",
       "      <td>f</td>\n",
       "      <td>компаньон</td>\n",
       "      <td>0</td>\n",
       "      <td>133419</td>\n",
       "      <td>проведение свадьбы</td>\n",
       "      <td>C</td>\n",
       "      <td>проведение свадьбы</td>\n",
       "    </tr>\n",
       "    <tr>\n",
       "      <th>15858</th>\n",
       "      <td>0</td>\n",
       "      <td>778</td>\n",
       "      <td>34</td>\n",
       "      <td>2</td>\n",
       "      <td>0</td>\n",
       "      <td>f</td>\n",
       "      <td>сотрудник</td>\n",
       "      <td>0</td>\n",
       "      <td>230389</td>\n",
       "      <td>покупка жилья для семьи</td>\n",
       "      <td>B</td>\n",
       "      <td>операции с недвижимостью</td>\n",
       "    </tr>\n",
       "    <tr>\n",
       "      <th>415</th>\n",
       "      <td>0</td>\n",
       "      <td>15217</td>\n",
       "      <td>57</td>\n",
       "      <td>0</td>\n",
       "      <td>2</td>\n",
       "      <td>f</td>\n",
       "      <td>пенсионер</td>\n",
       "      <td>0</td>\n",
       "      <td>118514</td>\n",
       "      <td>операции с жильем</td>\n",
       "      <td>C</td>\n",
       "      <td>операции с недвижимостью</td>\n",
       "    </tr>\n",
       "    <tr>\n",
       "      <th>15656</th>\n",
       "      <td>1</td>\n",
       "      <td>2724</td>\n",
       "      <td>35</td>\n",
       "      <td>1</td>\n",
       "      <td>0</td>\n",
       "      <td>f</td>\n",
       "      <td>сотрудник</td>\n",
       "      <td>1</td>\n",
       "      <td>117867</td>\n",
       "      <td>операции с автомобилем</td>\n",
       "      <td>C</td>\n",
       "      <td>операции с автомобилем</td>\n",
       "    </tr>\n",
       "    <tr>\n",
       "      <th>10853</th>\n",
       "      <td>1</td>\n",
       "      <td>3285</td>\n",
       "      <td>30</td>\n",
       "      <td>1</td>\n",
       "      <td>0</td>\n",
       "      <td>f</td>\n",
       "      <td>госслужащий</td>\n",
       "      <td>0</td>\n",
       "      <td>233191</td>\n",
       "      <td>операции со своей недвижимостью</td>\n",
       "      <td>B</td>\n",
       "      <td>операции с недвижимостью</td>\n",
       "    </tr>\n",
       "    <tr>\n",
       "      <th>13198</th>\n",
       "      <td>1</td>\n",
       "      <td>2616</td>\n",
       "      <td>48</td>\n",
       "      <td>2</td>\n",
       "      <td>0</td>\n",
       "      <td>m</td>\n",
       "      <td>компаньон</td>\n",
       "      <td>1</td>\n",
       "      <td>174631</td>\n",
       "      <td>сделка с подержанным автомобилем</td>\n",
       "      <td>C</td>\n",
       "      <td>операции с автомобилем</td>\n",
       "    </tr>\n",
       "    <tr>\n",
       "      <th>3272</th>\n",
       "      <td>1</td>\n",
       "      <td>3076</td>\n",
       "      <td>42</td>\n",
       "      <td>1</td>\n",
       "      <td>0</td>\n",
       "      <td>f</td>\n",
       "      <td>компаньон</td>\n",
       "      <td>0</td>\n",
       "      <td>280751</td>\n",
       "      <td>покупка жилья для семьи</td>\n",
       "      <td>B</td>\n",
       "      <td>операции с недвижимостью</td>\n",
       "    </tr>\n",
       "    <tr>\n",
       "      <th>7629</th>\n",
       "      <td>0</td>\n",
       "      <td>3051</td>\n",
       "      <td>45</td>\n",
       "      <td>1</td>\n",
       "      <td>2</td>\n",
       "      <td>f</td>\n",
       "      <td>сотрудник</td>\n",
       "      <td>0</td>\n",
       "      <td>190361</td>\n",
       "      <td>покупка коммерческой недвижимости</td>\n",
       "      <td>C</td>\n",
       "      <td>операции с недвижимостью</td>\n",
       "    </tr>\n",
       "  </tbody>\n",
       "</table>\n",
       "</div>"
      ],
      "text/plain": [
       "       children  days_employed  dob_years  education_id  family_status_id  \\\n",
       "16599         0           1282         23             1                 1   \n",
       "18219         3           1482         31             1                 0   \n",
       "397           0          12506         46             1                 0   \n",
       "11622         1           1198         43             1                 0   \n",
       "13306         0          15800         65             1                 3   \n",
       "10814         0           1348         47             1                 0   \n",
       "20297         0           2644         38             0                 0   \n",
       "6607          0           1478         42             1                 1   \n",
       "15858         0            778         34             2                 0   \n",
       "415           0          15217         57             0                 2   \n",
       "15656         1           2724         35             1                 0   \n",
       "10853         1           3285         30             1                 0   \n",
       "13198         1           2616         48             2                 0   \n",
       "3272          1           3076         42             1                 0   \n",
       "7629          0           3051         45             1                 2   \n",
       "\n",
       "      gender  income_type  debt  total_income  \\\n",
       "16599      m  госслужащий     1        119278   \n",
       "18219      f    сотрудник     0        388364   \n",
       "397        f    сотрудник     0        292843   \n",
       "11622      m    компаньон     0        168872   \n",
       "13306      f    пенсионер     0        237620   \n",
       "10814      m    сотрудник     0        249830   \n",
       "20297      f    компаньон     0         98028   \n",
       "6607       f    компаньон     0        133419   \n",
       "15858      f    сотрудник     0        230389   \n",
       "415        f    пенсионер     0        118514   \n",
       "15656      f    сотрудник     1        117867   \n",
       "10853      f  госслужащий     0        233191   \n",
       "13198      m    компаньон     1        174631   \n",
       "3272       f    компаньон     0        280751   \n",
       "7629       f    сотрудник     0        190361   \n",
       "\n",
       "                                 purpose total_income_category  \\\n",
       "16599                 проведение свадьбы                     C   \n",
       "18219            приобретение автомобиля                     B   \n",
       "397             операции с недвижимостью                     B   \n",
       "11622      получение высшего образования                     C   \n",
       "13306   строительство жилой недвижимости                     B   \n",
       "10814                  операции с жильем                     B   \n",
       "20297                         автомобили                     C   \n",
       "6607                  проведение свадьбы                     C   \n",
       "15858            покупка жилья для семьи                     B   \n",
       "415                    операции с жильем                     C   \n",
       "15656             операции с автомобилем                     C   \n",
       "10853    операции со своей недвижимостью                     B   \n",
       "13198   сделка с подержанным автомобилем                     C   \n",
       "3272             покупка жилья для семьи                     B   \n",
       "7629   покупка коммерческой недвижимости                     C   \n",
       "\n",
       "               purpose_category  \n",
       "16599        проведение свадьбы  \n",
       "18219    операции с автомобилем  \n",
       "397    операции с недвижимостью  \n",
       "11622     получение образования  \n",
       "13306  операции с недвижимостью  \n",
       "10814  операции с недвижимостью  \n",
       "20297    операции с автомобилем  \n",
       "6607         проведение свадьбы  \n",
       "15858  операции с недвижимостью  \n",
       "415    операции с недвижимостью  \n",
       "15656    операции с автомобилем  \n",
       "10853  операции с недвижимостью  \n",
       "13198    операции с автомобилем  \n",
       "3272   операции с недвижимостью  \n",
       "7629   операции с недвижимостью  "
      ]
     },
     "execution_count": 36,
     "metadata": {},
     "output_type": "execute_result"
    }
   ],
   "source": [
    "# формирование столбца\n",
    "df_log['purpose_category'] = df_log['purpose'].apply(purpose_category)\n",
    "\n",
    "# оценивание внесённых изменений\n",
    "df_log.sample(15, random_state=1)"
   ]
  },
  {
   "cell_type": "markdown",
   "id": "327df0f5-6e5a-483a-9676-dc0a990cc8f4",
   "metadata": {},
   "source": [
    "**Промежуточные итоги**\n",
    "\n",
    "Чтобы можно было приступить к ответам на вопросы исследования, была проведена категоризация данных со слишком большим количеством различных значений. При формировании выводов это позволит опираться на показатели, основанные на статистике."
   ]
  },
  {
   "cell_type": "markdown",
   "id": "d0e41dd9",
   "metadata": {},
   "source": [
    "## Ответы на вопросы исследования"
   ]
  },
  {
   "cell_type": "markdown",
   "id": "2cd09466",
   "metadata": {},
   "source": [
    "### Выяснение зависимости между количеством детей клиента и возвратом им кредита в срок"
   ]
  },
  {
   "cell_type": "markdown",
   "id": "ad9c1dc0-098a-41db-9280-9f38a9616320",
   "metadata": {},
   "source": [
    "Для начала взглянем на то, сколько детей в принципе бывает у клиентов из данного датасета."
   ]
  },
  {
   "cell_type": "code",
   "execution_count": 37,
   "id": "0920ff1a-813c-42e8-b660-fb03a3451300",
   "metadata": {},
   "outputs": [
    {
     "data": {
      "text/plain": [
       " 0     14091\n",
       " 1      4808\n",
       " 2      2052\n",
       " 3       330\n",
       " 20       76\n",
       "-1        47\n",
       " 4        41\n",
       " 5         9\n",
       "Name: children, dtype: int64"
      ]
     },
     "execution_count": 37,
     "metadata": {},
     "output_type": "execute_result"
    }
   ],
   "source": [
    "# вывод уникальных значений столбца\n",
    "df_log['children'].value_counts()"
   ]
  },
  {
   "cell_type": "markdown",
   "id": "7151604f-b54b-4765-ad1b-a6cfa65d8de0",
   "metadata": {},
   "source": [
    "Можно заметить, что присутствуют некорректные значения — \"-1\" ребёнок. Предположим, что это артефакт того же рода, что мы уже встречали ранее относительно столбца `days_employed`. Аналогично заменим значения на положительные. Также указаны 76 клиентов с 20 детьми. При столь большом количестве данного значения, а также учитывая то, что между 5 и 20 детьми ни разу не встречается никаких промежуточных показателей, можно предположить, что это значение является опечаткой, должно быть на самом деле \"2\". Также произведём соответствующую замену."
   ]
  },
  {
   "cell_type": "code",
   "execution_count": 38,
   "id": "fefc33e3-2cd9-49c8-9eee-afcdac33a38c",
   "metadata": {},
   "outputs": [
    {
     "data": {
      "text/plain": [
       "0"
      ]
     },
     "execution_count": 38,
     "metadata": {},
     "output_type": "execute_result"
    }
   ],
   "source": [
    "# замена значений в столбце их модулями\n",
    "df_log['children'] = abs(df_log['children'])\n",
    "\n",
    "# проверка отсутствия отрицательных значений столбца days_employed\n",
    "df_log[df_log['children'] < 0]['dob_years'].count()"
   ]
  },
  {
   "cell_type": "code",
   "execution_count": 39,
   "id": "a1b57a96-f7fc-4581-8a76-2f8bba8af067",
   "metadata": {},
   "outputs": [
    {
     "data": {
      "text/plain": [
       "0    14091\n",
       "1     4855\n",
       "2     2128\n",
       "3      330\n",
       "4       41\n",
       "5        9\n",
       "Name: children, dtype: int64"
      ]
     },
     "execution_count": 39,
     "metadata": {},
     "output_type": "execute_result"
    }
   ],
   "source": [
    "# замена значений в столбце\n",
    "df_log.loc[df_log['children'] == 20, 'children'] = 2\n",
    "\n",
    "# вывод новых уникальных значений столбца\n",
    "df_log['children'].value_counts()"
   ]
  },
  {
   "cell_type": "markdown",
   "id": "4d4dd6ab-9587-4116-b0ce-1b6cdd20ea6b",
   "metadata": {},
   "source": [
    "Построим таблицу для оценивая того, насколько количество детей влияет на отсутствие просрочек оплаты кредита. В датафрейме присутствует показатель `debt`, значения которого говорят о том, была или нет просрочка. Оценим процентное отношение должников ко всем клиентам при разной численности детей в семье.\n",
    "Так как проведение подобной операции понадобится нам и в дальнейшем для других характеристик клиентов, напишем собственную функцию, выводящую соответствующую таблицу."
   ]
  },
  {
   "cell_type": "code",
   "execution_count": 40,
   "id": "b5b38a6f-6f62-4623-9db1-50cd2b3a8256",
   "metadata": {},
   "outputs": [],
   "source": [
    "# создание функции\n",
    "def relation(parametr):\n",
    "    return df_log.groupby(parametr).agg(число_клиентов=('debt','count'),\n",
    "                               число_должников=('debt','sum'),\n",
    "                               доля_должников=('debt','mean')).style.format({'доля_должников' : '{:.2%}'})"
   ]
  },
  {
   "cell_type": "code",
   "execution_count": 41,
   "id": "d171617c-d3fa-44c9-ae46-1e103319cb8e",
   "metadata": {},
   "outputs": [
    {
     "data": {
      "text/html": [
       "<style  type=\"text/css\" >\n",
       "</style><table id=\"T_57b56_\" ><thead>    <tr>        <th class=\"blank level0\" ></th>        <th class=\"col_heading level0 col0\" >число_клиентов</th>        <th class=\"col_heading level0 col1\" >число_должников</th>        <th class=\"col_heading level0 col2\" >доля_должников</th>    </tr>    <tr>        <th class=\"index_name level0\" >children</th>        <th class=\"blank\" ></th>        <th class=\"blank\" ></th>        <th class=\"blank\" ></th>    </tr></thead><tbody>\n",
       "                <tr>\n",
       "                        <th id=\"T_57b56_level0_row0\" class=\"row_heading level0 row0\" >0</th>\n",
       "                        <td id=\"T_57b56_row0_col0\" class=\"data row0 col0\" >14091</td>\n",
       "                        <td id=\"T_57b56_row0_col1\" class=\"data row0 col1\" >1063</td>\n",
       "                        <td id=\"T_57b56_row0_col2\" class=\"data row0 col2\" >7.54%</td>\n",
       "            </tr>\n",
       "            <tr>\n",
       "                        <th id=\"T_57b56_level0_row1\" class=\"row_heading level0 row1\" >1</th>\n",
       "                        <td id=\"T_57b56_row1_col0\" class=\"data row1 col0\" >4855</td>\n",
       "                        <td id=\"T_57b56_row1_col1\" class=\"data row1 col1\" >445</td>\n",
       "                        <td id=\"T_57b56_row1_col2\" class=\"data row1 col2\" >9.17%</td>\n",
       "            </tr>\n",
       "            <tr>\n",
       "                        <th id=\"T_57b56_level0_row2\" class=\"row_heading level0 row2\" >2</th>\n",
       "                        <td id=\"T_57b56_row2_col0\" class=\"data row2 col0\" >2128</td>\n",
       "                        <td id=\"T_57b56_row2_col1\" class=\"data row2 col1\" >202</td>\n",
       "                        <td id=\"T_57b56_row2_col2\" class=\"data row2 col2\" >9.49%</td>\n",
       "            </tr>\n",
       "            <tr>\n",
       "                        <th id=\"T_57b56_level0_row3\" class=\"row_heading level0 row3\" >3</th>\n",
       "                        <td id=\"T_57b56_row3_col0\" class=\"data row3 col0\" >330</td>\n",
       "                        <td id=\"T_57b56_row3_col1\" class=\"data row3 col1\" >27</td>\n",
       "                        <td id=\"T_57b56_row3_col2\" class=\"data row3 col2\" >8.18%</td>\n",
       "            </tr>\n",
       "            <tr>\n",
       "                        <th id=\"T_57b56_level0_row4\" class=\"row_heading level0 row4\" >4</th>\n",
       "                        <td id=\"T_57b56_row4_col0\" class=\"data row4 col0\" >41</td>\n",
       "                        <td id=\"T_57b56_row4_col1\" class=\"data row4 col1\" >4</td>\n",
       "                        <td id=\"T_57b56_row4_col2\" class=\"data row4 col2\" >9.76%</td>\n",
       "            </tr>\n",
       "            <tr>\n",
       "                        <th id=\"T_57b56_level0_row5\" class=\"row_heading level0 row5\" >5</th>\n",
       "                        <td id=\"T_57b56_row5_col0\" class=\"data row5 col0\" >9</td>\n",
       "                        <td id=\"T_57b56_row5_col1\" class=\"data row5 col1\" >0</td>\n",
       "                        <td id=\"T_57b56_row5_col2\" class=\"data row5 col2\" >0.00%</td>\n",
       "            </tr>\n",
       "    </tbody></table>"
      ],
      "text/plain": [
       "<pandas.io.formats.style.Styler at 0x1db1dbb25e0>"
      ]
     },
     "execution_count": 41,
     "metadata": {},
     "output_type": "execute_result"
    }
   ],
   "source": [
    "# вызов функии для оценки зависимости\n",
    "relation('children')"
   ]
  },
  {
   "cell_type": "markdown",
   "id": "37ef3f7e-3de6-4671-a069-e84cde949d1b",
   "metadata": {},
   "source": [
    "Основываясь на полученных данных, можно сказать, что наблюдать какую-либо сильную зависимость между количеством детей и своевременным возвратом кредита нельзя. Но отметим, что вероятность просрочки кредита ниже всего при отсутствии детей, если не учитывать очень малое количество клиентов с 5 детьми. Можно предположить, что платёжеспособность бездетных клиентов может быть чуть выше."
   ]
  },
  {
   "cell_type": "markdown",
   "id": "937d7084",
   "metadata": {},
   "source": [
    "### Выяснение зависимости возврата кредита в срок от семейного положения клиента"
   ]
  },
  {
   "cell_type": "markdown",
   "id": "b933f89d",
   "metadata": {},
   "source": [
    "Взгянем на аналогичные показатели при разном семейном положении клиентов.\n",
    "Сначала вспомним соответсвие `id` семейного положения и его значения."
   ]
  },
  {
   "cell_type": "code",
   "execution_count": 42,
   "id": "fa7889bf-93fe-43f3-b91d-d372040c803a",
   "metadata": {},
   "outputs": [
    {
     "data": {
      "text/html": [
       "<div>\n",
       "<style scoped>\n",
       "    .dataframe tbody tr th:only-of-type {\n",
       "        vertical-align: middle;\n",
       "    }\n",
       "\n",
       "    .dataframe tbody tr th {\n",
       "        vertical-align: top;\n",
       "    }\n",
       "\n",
       "    .dataframe thead th {\n",
       "        text-align: right;\n",
       "    }\n",
       "</style>\n",
       "<table border=\"1\" class=\"dataframe\">\n",
       "  <thead>\n",
       "    <tr style=\"text-align: right;\">\n",
       "      <th></th>\n",
       "      <th>family_status</th>\n",
       "      <th>family_status_id</th>\n",
       "    </tr>\n",
       "  </thead>\n",
       "  <tbody>\n",
       "    <tr>\n",
       "      <th>0</th>\n",
       "      <td>женат / замужем</td>\n",
       "      <td>0</td>\n",
       "    </tr>\n",
       "    <tr>\n",
       "      <th>1</th>\n",
       "      <td>гражданский брак</td>\n",
       "      <td>1</td>\n",
       "    </tr>\n",
       "    <tr>\n",
       "      <th>2</th>\n",
       "      <td>вдовец / вдова</td>\n",
       "      <td>2</td>\n",
       "    </tr>\n",
       "    <tr>\n",
       "      <th>3</th>\n",
       "      <td>в разводе</td>\n",
       "      <td>3</td>\n",
       "    </tr>\n",
       "    <tr>\n",
       "      <th>4</th>\n",
       "      <td>не женат / не замужем</td>\n",
       "      <td>4</td>\n",
       "    </tr>\n",
       "  </tbody>\n",
       "</table>\n",
       "</div>"
      ],
      "text/plain": [
       "           family_status  family_status_id\n",
       "0        женат / замужем                 0\n",
       "1       гражданский брак                 1\n",
       "2         вдовец / вдова                 2\n",
       "3              в разводе                 3\n",
       "4  не женат / не замужем                 4"
      ]
     },
     "execution_count": 42,
     "metadata": {},
     "output_type": "execute_result"
    }
   ],
   "source": [
    "# просмотр словаря\n",
    "family_status_dict"
   ]
  },
  {
   "cell_type": "code",
   "execution_count": 43,
   "id": "f93ad839-5c7a-4bb8-8f03-50d48cc8c469",
   "metadata": {},
   "outputs": [
    {
     "data": {
      "text/html": [
       "<style  type=\"text/css\" >\n",
       "</style><table id=\"T_fa4ce_\" ><thead>    <tr>        <th class=\"blank level0\" ></th>        <th class=\"col_heading level0 col0\" >число_клиентов</th>        <th class=\"col_heading level0 col1\" >число_должников</th>        <th class=\"col_heading level0 col2\" >доля_должников</th>        <th class=\"col_heading level0 col3\" >family_status</th>    </tr>    <tr>        <th class=\"index_name level0\" >family_status_id</th>        <th class=\"blank\" ></th>        <th class=\"blank\" ></th>        <th class=\"blank\" ></th>        <th class=\"blank\" ></th>    </tr></thead><tbody>\n",
       "                <tr>\n",
       "                        <th id=\"T_fa4ce_level0_row0\" class=\"row_heading level0 row0\" >0</th>\n",
       "                        <td id=\"T_fa4ce_row0_col0\" class=\"data row0 col0\" >12339</td>\n",
       "                        <td id=\"T_fa4ce_row0_col1\" class=\"data row0 col1\" >931</td>\n",
       "                        <td id=\"T_fa4ce_row0_col2\" class=\"data row0 col2\" >7.55%</td>\n",
       "                        <td id=\"T_fa4ce_row0_col3\" class=\"data row0 col3\" >женат / замужем</td>\n",
       "            </tr>\n",
       "            <tr>\n",
       "                        <th id=\"T_fa4ce_level0_row1\" class=\"row_heading level0 row1\" >1</th>\n",
       "                        <td id=\"T_fa4ce_row1_col0\" class=\"data row1 col0\" >4151</td>\n",
       "                        <td id=\"T_fa4ce_row1_col1\" class=\"data row1 col1\" >388</td>\n",
       "                        <td id=\"T_fa4ce_row1_col2\" class=\"data row1 col2\" >9.35%</td>\n",
       "                        <td id=\"T_fa4ce_row1_col3\" class=\"data row1 col3\" >гражданский брак</td>\n",
       "            </tr>\n",
       "            <tr>\n",
       "                        <th id=\"T_fa4ce_level0_row2\" class=\"row_heading level0 row2\" >2</th>\n",
       "                        <td id=\"T_fa4ce_row2_col0\" class=\"data row2 col0\" >959</td>\n",
       "                        <td id=\"T_fa4ce_row2_col1\" class=\"data row2 col1\" >63</td>\n",
       "                        <td id=\"T_fa4ce_row2_col2\" class=\"data row2 col2\" >6.57%</td>\n",
       "                        <td id=\"T_fa4ce_row2_col3\" class=\"data row2 col3\" >вдовец / вдова</td>\n",
       "            </tr>\n",
       "            <tr>\n",
       "                        <th id=\"T_fa4ce_level0_row3\" class=\"row_heading level0 row3\" >3</th>\n",
       "                        <td id=\"T_fa4ce_row3_col0\" class=\"data row3 col0\" >1195</td>\n",
       "                        <td id=\"T_fa4ce_row3_col1\" class=\"data row3 col1\" >85</td>\n",
       "                        <td id=\"T_fa4ce_row3_col2\" class=\"data row3 col2\" >7.11%</td>\n",
       "                        <td id=\"T_fa4ce_row3_col3\" class=\"data row3 col3\" >в разводе</td>\n",
       "            </tr>\n",
       "            <tr>\n",
       "                        <th id=\"T_fa4ce_level0_row4\" class=\"row_heading level0 row4\" >4</th>\n",
       "                        <td id=\"T_fa4ce_row4_col0\" class=\"data row4 col0\" >2810</td>\n",
       "                        <td id=\"T_fa4ce_row4_col1\" class=\"data row4 col1\" >274</td>\n",
       "                        <td id=\"T_fa4ce_row4_col2\" class=\"data row4 col2\" >9.75%</td>\n",
       "                        <td id=\"T_fa4ce_row4_col3\" class=\"data row4 col3\" >не женат / не замужем</td>\n",
       "            </tr>\n",
       "    </tbody></table>"
      ],
      "text/plain": [
       "<pandas.io.formats.style.Styler at 0x1db2141a0d0>"
      ]
     },
     "execution_count": 43,
     "metadata": {},
     "output_type": "execute_result"
    }
   ],
   "source": [
    "# вызов функии для оценки зависимости с добавлением соответствующего значения семейного статуса для наглядности\n",
    "relation('family_status_id').data.join(family_status_dict.set_index('family_status_id')).style.format({'доля_должников' : '{:.2%}'})"
   ]
  },
  {
   "cell_type": "markdown",
   "id": "a9896a6c-0416-4492-8cd2-1d8109895b70",
   "metadata": {},
   "source": [
    "Какой-либо заметной разницы между процентным содержанием вовремя погашенных кредитов при разном семейном статусе клиента нет. Не наблюдается и последовательного изменения показателя при качественном изменении семейного положения. Можно снова отметить наличие небольшой (в 3%) разницы в количестве своевременно закрытого долга при сравнении двух различных типов клиентов: вдовствующих, что может говорить об их большей надёжности из-за наличия чуть большего капитала на одного человека, нажитого, тем не менее, совместно; и не вступавших в брак в принципе, возможно, по причине большей вероятности отсутствия финансовой поддержки от партнёра."
   ]
  },
  {
   "cell_type": "markdown",
   "id": "49e92bb1-4523-4a8f-a455-e30e0e4c2c6e",
   "metadata": {},
   "source": [
    "### Выяснение зависимости уровня дохода клиента и возврата кредита в срок"
   ]
  },
  {
   "cell_type": "markdown",
   "id": "b180a379-73f6-4b75-8481-b55d93ce7257",
   "metadata": {},
   "source": [
    "Выясним, есть ли зависимость возврата кредита в срок от уровня дохода клиента. Ранжируем данные по соответствующим категориям."
   ]
  },
  {
   "cell_type": "code",
   "execution_count": 44,
   "id": "0f5fc053-74fc-44f5-b135-6791c4d1023f",
   "metadata": {},
   "outputs": [
    {
     "data": {
      "text/html": [
       "<style  type=\"text/css\" >\n",
       "</style><table id=\"T_4cef5_\" ><thead>    <tr>        <th class=\"blank level0\" ></th>        <th class=\"col_heading level0 col0\" >число_клиентов</th>        <th class=\"col_heading level0 col1\" >число_должников</th>        <th class=\"col_heading level0 col2\" >доля_должников</th>    </tr>    <tr>        <th class=\"index_name level0\" >total_income_category</th>        <th class=\"blank\" ></th>        <th class=\"blank\" ></th>        <th class=\"blank\" ></th>    </tr></thead><tbody>\n",
       "                <tr>\n",
       "                        <th id=\"T_4cef5_level0_row0\" class=\"row_heading level0 row0\" >A</th>\n",
       "                        <td id=\"T_4cef5_row0_col0\" class=\"data row0 col0\" >25</td>\n",
       "                        <td id=\"T_4cef5_row0_col1\" class=\"data row0 col1\" >2</td>\n",
       "                        <td id=\"T_4cef5_row0_col2\" class=\"data row0 col2\" >8.00%</td>\n",
       "            </tr>\n",
       "            <tr>\n",
       "                        <th id=\"T_4cef5_level0_row1\" class=\"row_heading level0 row1\" >B</th>\n",
       "                        <td id=\"T_4cef5_row1_col0\" class=\"data row1 col0\" >5042</td>\n",
       "                        <td id=\"T_4cef5_row1_col1\" class=\"data row1 col1\" >356</td>\n",
       "                        <td id=\"T_4cef5_row1_col2\" class=\"data row1 col2\" >7.06%</td>\n",
       "            </tr>\n",
       "            <tr>\n",
       "                        <th id=\"T_4cef5_level0_row2\" class=\"row_heading level0 row2\" >C</th>\n",
       "                        <td id=\"T_4cef5_row2_col0\" class=\"data row2 col0\" >16015</td>\n",
       "                        <td id=\"T_4cef5_row2_col1\" class=\"data row2 col1\" >1360</td>\n",
       "                        <td id=\"T_4cef5_row2_col2\" class=\"data row2 col2\" >8.49%</td>\n",
       "            </tr>\n",
       "            <tr>\n",
       "                        <th id=\"T_4cef5_level0_row3\" class=\"row_heading level0 row3\" >D</th>\n",
       "                        <td id=\"T_4cef5_row3_col0\" class=\"data row3 col0\" >350</td>\n",
       "                        <td id=\"T_4cef5_row3_col1\" class=\"data row3 col1\" >21</td>\n",
       "                        <td id=\"T_4cef5_row3_col2\" class=\"data row3 col2\" >6.00%</td>\n",
       "            </tr>\n",
       "            <tr>\n",
       "                        <th id=\"T_4cef5_level0_row4\" class=\"row_heading level0 row4\" >E</th>\n",
       "                        <td id=\"T_4cef5_row4_col0\" class=\"data row4 col0\" >22</td>\n",
       "                        <td id=\"T_4cef5_row4_col1\" class=\"data row4 col1\" >2</td>\n",
       "                        <td id=\"T_4cef5_row4_col2\" class=\"data row4 col2\" >9.09%</td>\n",
       "            </tr>\n",
       "    </tbody></table>"
      ],
      "text/plain": [
       "<pandas.io.formats.style.Styler at 0x1db21406bb0>"
      ]
     },
     "execution_count": 44,
     "metadata": {},
     "output_type": "execute_result"
    }
   ],
   "source": [
    "# вызов функии для оценки зависимости\n",
    "relation('total_income_category')"
   ]
  },
  {
   "cell_type": "markdown",
   "id": "a3314599-17ca-498e-8a24-deae77ca2a62",
   "metadata": {},
   "source": [
    "И снова не наблюдается явной корелляции рассматриваемого показателя со значением доли вовремя возвращённого кредита. 3% разница между максимальным и минимальным значением, причём хоть максимальное значение и приходится на категорию клиентов с самым низким доходом, то минимальное относится к следующей категории с доходом до 50 000. Свидетельствовать о какой-то явной и логичной связи или зависимости затруднительно."
   ]
  },
  {
   "cell_type": "markdown",
   "id": "e430588a-1d2b-450a-ac10-4c16b09204df",
   "metadata": {},
   "source": [
    "### Влияние цели кредита на его своевременное погашение"
   ]
  },
  {
   "cell_type": "markdown",
   "id": "49a90c92-5377-4234-8aae-14ed3dcbb6b0",
   "metadata": {},
   "source": [
    "Рассмотрим последний параметр — цель кредита. Посмотрим, как меняется показатель возвращения кредита вовремя при различных категориях целей займа."
   ]
  },
  {
   "cell_type": "code",
   "execution_count": 45,
   "id": "c36f1fa3-477d-41d8-bfc1-7ef4fbcf7dc5",
   "metadata": {},
   "outputs": [
    {
     "data": {
      "text/html": [
       "<style  type=\"text/css\" >\n",
       "</style><table id=\"T_e1e43_\" ><thead>    <tr>        <th class=\"blank level0\" ></th>        <th class=\"col_heading level0 col0\" >число_клиентов</th>        <th class=\"col_heading level0 col1\" >число_должников</th>        <th class=\"col_heading level0 col2\" >доля_должников</th>    </tr>    <tr>        <th class=\"index_name level0\" >purpose_category</th>        <th class=\"blank\" ></th>        <th class=\"blank\" ></th>        <th class=\"blank\" ></th>    </tr></thead><tbody>\n",
       "                <tr>\n",
       "                        <th id=\"T_e1e43_level0_row0\" class=\"row_heading level0 row0\" >операции с автомобилем</th>\n",
       "                        <td id=\"T_e1e43_row0_col0\" class=\"data row0 col0\" >4306</td>\n",
       "                        <td id=\"T_e1e43_row0_col1\" class=\"data row0 col1\" >403</td>\n",
       "                        <td id=\"T_e1e43_row0_col2\" class=\"data row0 col2\" >9.36%</td>\n",
       "            </tr>\n",
       "            <tr>\n",
       "                        <th id=\"T_e1e43_level0_row1\" class=\"row_heading level0 row1\" >операции с недвижимостью</th>\n",
       "                        <td id=\"T_e1e43_row1_col0\" class=\"data row1 col0\" >10811</td>\n",
       "                        <td id=\"T_e1e43_row1_col1\" class=\"data row1 col1\" >782</td>\n",
       "                        <td id=\"T_e1e43_row1_col2\" class=\"data row1 col2\" >7.23%</td>\n",
       "            </tr>\n",
       "            <tr>\n",
       "                        <th id=\"T_e1e43_level0_row2\" class=\"row_heading level0 row2\" >получение образования</th>\n",
       "                        <td id=\"T_e1e43_row2_col0\" class=\"data row2 col0\" >4013</td>\n",
       "                        <td id=\"T_e1e43_row2_col1\" class=\"data row2 col1\" >370</td>\n",
       "                        <td id=\"T_e1e43_row2_col2\" class=\"data row2 col2\" >9.22%</td>\n",
       "            </tr>\n",
       "            <tr>\n",
       "                        <th id=\"T_e1e43_level0_row3\" class=\"row_heading level0 row3\" >проведение свадьбы</th>\n",
       "                        <td id=\"T_e1e43_row3_col0\" class=\"data row3 col0\" >2324</td>\n",
       "                        <td id=\"T_e1e43_row3_col1\" class=\"data row3 col1\" >186</td>\n",
       "                        <td id=\"T_e1e43_row3_col2\" class=\"data row3 col2\" >8.00%</td>\n",
       "            </tr>\n",
       "    </tbody></table>"
      ],
      "text/plain": [
       "<pandas.io.formats.style.Styler at 0x1db21420820>"
      ]
     },
     "execution_count": 45,
     "metadata": {},
     "output_type": "execute_result"
    }
   ],
   "source": [
    "# вызов функии для оценки зависимости\n",
    "relation('purpose_category')"
   ]
  },
  {
   "cell_type": "markdown",
   "id": "6292e4f3-1e95-4c5d-b908-d268fdc495ab",
   "metadata": {},
   "source": [
    "Различие между значениями своевременно возвращённых кредитов при разных целях их получения также минимально, показатель везде практически одинаков. Можно сделать вывод, что и цель займа не влияет на  его возврат в срок."
   ]
  },
  {
   "cell_type": "markdown",
   "id": "d7f01cb1",
   "metadata": {},
   "source": [
    "## Общий вывод"
   ]
  },
  {
   "cell_type": "markdown",
   "id": "20337be8",
   "metadata": {},
   "source": [
    "Исследование завершено. Для корректной работы с данными были решены различные проблемы с их качеством: заменены пропуски, убраны дубликаты, исправлены артефакты в значениях, изменены типы данных. Для более эффективной работы с таблицей были созданы дополнительные \"словари\" для удобного обращения к данным и проведена категоризация двух параметров со слишком большим количеством различных значений. После чего были проанализированы связи между различными особенностями клиентов и выплатой ими кредита в срок, что являлось конечной целью исследования.\n",
    "\n",
    "Отвечая на вопросы исследования, можно сформулировать итоговый вывод. Ни по подному из рассматриваемых параметров ны выявлена сколь-либо значимая корелляция со своевременным возвратом кредита в срок. Можно было заметить определённые отличия максимум на 3% между крайними значениями отдельно взятых критериев, которые можно было теоретичиски обосновать, но при столь малой разнице говорить о какой-либо явной и очевидной зависимости не приходится.\n",
    "\n",
    "Ддя определения таки характеристики клиента, по значению которой можно судить о возрате им кредита вовремя, можно порекомендовать рассмотреть иные особенности клиентов, воспользоваться иной выборкой клинтов, возможно, более обширной или с большим количеством параметров, а также обратить внимание на выявленные артефакты в данных и выяснить причину их появления и корректное значение более обоснованно. В этом случае данные могут быть более показательными и достоверными, да и в целом понять, откуда возникают неверные значения, будет нелишним для практически любых разновидностей рабооты и операций с данными в компании.\n"
   ]
  }
 ],
 "metadata": {
  "ExecuteTimeLog": [
   {
    "duration": 140,
    "start_time": "2022-04-28T21:38:53.875Z"
   },
   {
    "duration": 132,
    "start_time": "2022-04-28T21:45:15.506Z"
   },
   {
    "duration": 460,
    "start_time": "2022-04-28T22:08:35.901Z"
   },
   {
    "duration": 21,
    "start_time": "2022-04-28T22:08:36.363Z"
   },
   {
    "duration": 15,
    "start_time": "2022-04-28T22:08:36.385Z"
   },
   {
    "duration": 15,
    "start_time": "2022-04-28T22:08:36.403Z"
   },
   {
    "duration": 15,
    "start_time": "2022-04-28T22:08:36.420Z"
   },
   {
    "duration": 21,
    "start_time": "2022-04-28T22:08:36.437Z"
   },
   {
    "duration": 15,
    "start_time": "2022-04-28T22:08:36.460Z"
   },
   {
    "duration": 7,
    "start_time": "2022-04-28T22:08:36.476Z"
   },
   {
    "duration": 31,
    "start_time": "2022-04-28T22:08:36.484Z"
   },
   {
    "duration": 1346,
    "start_time": "2022-04-28T22:08:36.519Z"
   },
   {
    "duration": 11,
    "start_time": "2022-04-28T22:08:37.867Z"
   },
   {
    "duration": 17,
    "start_time": "2022-04-28T22:08:37.880Z"
   },
   {
    "duration": 9,
    "start_time": "2022-04-28T22:08:37.898Z"
   },
   {
    "duration": 15,
    "start_time": "2022-04-28T22:08:37.909Z"
   },
   {
    "duration": 4290,
    "start_time": "2022-04-28T22:08:37.926Z"
   },
   {
    "duration": 31,
    "start_time": "2022-04-28T22:08:42.217Z"
   },
   {
    "duration": 49,
    "start_time": "2022-04-28T22:08:42.250Z"
   },
   {
    "duration": 10,
    "start_time": "2022-04-28T22:08:42.301Z"
   },
   {
    "duration": 12,
    "start_time": "2022-04-28T22:08:42.312Z"
   },
   {
    "duration": 12,
    "start_time": "2022-04-28T22:08:42.325Z"
   },
   {
    "duration": 12,
    "start_time": "2022-04-28T22:08:42.339Z"
   },
   {
    "duration": 12,
    "start_time": "2022-04-28T22:08:42.353Z"
   },
   {
    "duration": 27,
    "start_time": "2022-04-28T22:08:42.366Z"
   },
   {
    "duration": 32,
    "start_time": "2022-04-28T22:08:42.394Z"
   },
   {
    "duration": 7,
    "start_time": "2022-04-28T22:08:42.428Z"
   },
   {
    "duration": 15,
    "start_time": "2022-04-28T22:08:42.437Z"
   },
   {
    "duration": 12,
    "start_time": "2022-04-28T22:08:42.453Z"
   },
   {
    "duration": 14,
    "start_time": "2022-04-28T22:08:42.495Z"
   },
   {
    "duration": 10,
    "start_time": "2022-04-28T22:08:42.511Z"
   },
   {
    "duration": 9,
    "start_time": "2022-04-28T22:08:42.523Z"
   },
   {
    "duration": 22,
    "start_time": "2022-04-28T22:08:42.533Z"
   },
   {
    "duration": 37,
    "start_time": "2022-04-28T22:08:42.557Z"
   },
   {
    "duration": 8,
    "start_time": "2022-04-28T22:08:42.596Z"
   },
   {
    "duration": 27,
    "start_time": "2022-04-28T22:08:42.605Z"
   },
   {
    "duration": 6,
    "start_time": "2022-04-28T22:08:42.633Z"
   },
   {
    "duration": 10,
    "start_time": "2022-04-28T22:08:42.640Z"
   },
   {
    "duration": 5,
    "start_time": "2022-04-28T22:08:42.652Z"
   },
   {
    "duration": 18,
    "start_time": "2022-04-28T22:08:42.693Z"
   },
   {
    "duration": 471,
    "start_time": "2022-04-28T22:08:42.713Z"
   },
   {
    "duration": 8,
    "start_time": "2022-04-28T22:08:43.186Z"
   },
   {
    "duration": 21,
    "start_time": "2022-04-28T22:08:43.195Z"
   },
   {
    "duration": 8,
    "start_time": "2022-04-28T22:08:43.218Z"
   },
   {
    "duration": 20,
    "start_time": "2022-04-28T22:08:43.227Z"
   },
   {
    "duration": 47,
    "start_time": "2022-04-28T22:08:43.248Z"
   },
   {
    "duration": 520,
    "start_time": "2022-04-29T17:35:10.502Z"
   },
   {
    "duration": 23,
    "start_time": "2022-04-29T17:35:11.024Z"
   },
   {
    "duration": 17,
    "start_time": "2022-04-29T17:35:11.048Z"
   },
   {
    "duration": 15,
    "start_time": "2022-04-29T17:35:11.067Z"
   },
   {
    "duration": 6,
    "start_time": "2022-04-29T17:35:11.084Z"
   },
   {
    "duration": 11,
    "start_time": "2022-04-29T17:35:11.092Z"
   },
   {
    "duration": 11,
    "start_time": "2022-04-29T17:35:11.104Z"
   },
   {
    "duration": 43,
    "start_time": "2022-04-29T17:35:11.116Z"
   },
   {
    "duration": 43,
    "start_time": "2022-04-29T17:35:11.161Z"
   },
   {
    "duration": 1661,
    "start_time": "2022-04-29T17:35:11.210Z"
   },
   {
    "duration": 19,
    "start_time": "2022-04-29T17:35:12.874Z"
   },
   {
    "duration": 12,
    "start_time": "2022-04-29T17:35:12.895Z"
   },
   {
    "duration": 37,
    "start_time": "2022-04-29T17:35:12.909Z"
   },
   {
    "duration": 36,
    "start_time": "2022-04-29T17:35:12.948Z"
   },
   {
    "duration": 5632,
    "start_time": "2022-04-29T17:35:12.986Z"
   },
   {
    "duration": 48,
    "start_time": "2022-04-29T17:35:18.620Z"
   },
   {
    "duration": 50,
    "start_time": "2022-04-29T17:35:18.670Z"
   },
   {
    "duration": 11,
    "start_time": "2022-04-29T17:35:18.722Z"
   },
   {
    "duration": 34,
    "start_time": "2022-04-29T17:35:18.734Z"
   },
   {
    "duration": 18,
    "start_time": "2022-04-29T17:35:18.770Z"
   },
   {
    "duration": 17,
    "start_time": "2022-04-29T17:35:18.790Z"
   },
   {
    "duration": 15,
    "start_time": "2022-04-29T17:35:18.808Z"
   },
   {
    "duration": 6,
    "start_time": "2022-04-29T17:35:18.825Z"
   },
   {
    "duration": 59,
    "start_time": "2022-04-29T17:35:18.833Z"
   },
   {
    "duration": 9,
    "start_time": "2022-04-29T17:35:18.894Z"
   },
   {
    "duration": 18,
    "start_time": "2022-04-29T17:35:18.905Z"
   },
   {
    "duration": 39,
    "start_time": "2022-04-29T17:35:18.924Z"
   },
   {
    "duration": 18,
    "start_time": "2022-04-29T17:35:18.966Z"
   },
   {
    "duration": 10,
    "start_time": "2022-04-29T17:35:18.986Z"
   },
   {
    "duration": 10,
    "start_time": "2022-04-29T17:35:18.997Z"
   },
   {
    "duration": 63,
    "start_time": "2022-04-29T17:35:19.008Z"
   },
   {
    "duration": 10,
    "start_time": "2022-04-29T17:35:19.073Z"
   },
   {
    "duration": 14,
    "start_time": "2022-04-29T17:35:19.085Z"
   },
   {
    "duration": 59,
    "start_time": "2022-04-29T17:35:19.100Z"
   },
   {
    "duration": 6,
    "start_time": "2022-04-29T17:35:19.161Z"
   },
   {
    "duration": 10,
    "start_time": "2022-04-29T17:35:19.169Z"
   },
   {
    "duration": 6,
    "start_time": "2022-04-29T17:35:19.180Z"
   },
   {
    "duration": 24,
    "start_time": "2022-04-29T17:35:19.187Z"
   },
   {
    "duration": 533,
    "start_time": "2022-04-29T17:35:19.213Z"
   },
   {
    "duration": 12,
    "start_time": "2022-04-29T17:35:19.748Z"
   },
   {
    "duration": 24,
    "start_time": "2022-04-29T17:35:19.763Z"
   },
   {
    "duration": 10,
    "start_time": "2022-04-29T17:35:19.789Z"
   },
   {
    "duration": 19,
    "start_time": "2022-04-29T17:35:19.801Z"
   },
   {
    "duration": 58,
    "start_time": "2022-04-29T17:35:19.822Z"
   },
   {
    "duration": 136,
    "start_time": "2022-05-02T13:13:37.648Z"
   },
   {
    "duration": 755,
    "start_time": "2022-05-02T13:13:40.554Z"
   },
   {
    "duration": 35,
    "start_time": "2022-05-02T13:13:41.312Z"
   },
   {
    "duration": 35,
    "start_time": "2022-05-02T13:13:41.351Z"
   },
   {
    "duration": 1113,
    "start_time": "2022-05-02T13:13:41.390Z"
   },
   {
    "duration": 26,
    "start_time": "2022-05-02T13:13:42.505Z"
   },
   {
    "duration": 9,
    "start_time": "2022-05-02T13:13:42.534Z"
   },
   {
    "duration": 19,
    "start_time": "2022-05-02T13:13:42.546Z"
   },
   {
    "duration": 10,
    "start_time": "2022-05-02T13:13:42.569Z"
   },
   {
    "duration": 82,
    "start_time": "2022-05-02T13:13:42.582Z"
   },
   {
    "duration": 108,
    "start_time": "2022-05-02T13:13:42.669Z"
   },
   {
    "duration": 24,
    "start_time": "2022-05-02T13:13:42.782Z"
   },
   {
    "duration": 22,
    "start_time": "2022-05-02T13:13:42.809Z"
   },
   {
    "duration": 30,
    "start_time": "2022-05-02T13:13:42.835Z"
   },
   {
    "duration": 20,
    "start_time": "2022-05-02T13:13:42.868Z"
   },
   {
    "duration": 95,
    "start_time": "2022-05-02T13:13:42.891Z"
   },
   {
    "duration": 99,
    "start_time": "2022-05-02T13:13:42.989Z"
   },
   {
    "duration": 65,
    "start_time": "2022-05-02T13:13:43.092Z"
   },
   {
    "duration": 193,
    "start_time": "2022-05-02T13:13:43.160Z"
   },
   {
    "duration": 17,
    "start_time": "2022-05-02T13:13:43.368Z"
   },
   {
    "duration": 46,
    "start_time": "2022-05-02T13:13:43.393Z"
   },
   {
    "duration": 36,
    "start_time": "2022-05-02T13:13:43.443Z"
   },
   {
    "duration": 9069,
    "start_time": "2022-05-02T13:13:43.482Z"
   },
   {
    "duration": 80,
    "start_time": "2022-05-02T13:13:52.554Z"
   },
   {
    "duration": 56,
    "start_time": "2022-05-02T13:13:52.637Z"
   },
   {
    "duration": 31,
    "start_time": "2022-05-02T13:13:52.696Z"
   },
   {
    "duration": 26,
    "start_time": "2022-05-02T13:13:52.730Z"
   },
   {
    "duration": 27,
    "start_time": "2022-05-02T13:13:52.759Z"
   },
   {
    "duration": 42,
    "start_time": "2022-05-02T13:13:52.795Z"
   },
   {
    "duration": 31,
    "start_time": "2022-05-02T13:13:52.840Z"
   },
   {
    "duration": 87,
    "start_time": "2022-05-02T13:13:52.874Z"
   },
   {
    "duration": 17,
    "start_time": "2022-05-02T13:13:52.964Z"
   },
   {
    "duration": 46,
    "start_time": "2022-05-02T13:13:52.985Z"
   },
   {
    "duration": 24,
    "start_time": "2022-05-02T13:13:53.034Z"
   },
   {
    "duration": 29,
    "start_time": "2022-05-02T13:13:53.061Z"
   },
   {
    "duration": 46,
    "start_time": "2022-05-02T13:13:53.094Z"
   },
   {
    "duration": 17,
    "start_time": "2022-05-02T13:13:53.142Z"
   },
   {
    "duration": 85,
    "start_time": "2022-05-02T13:13:53.161Z"
   },
   {
    "duration": 18,
    "start_time": "2022-05-02T13:13:53.248Z"
   },
   {
    "duration": 22,
    "start_time": "2022-05-02T13:13:53.269Z"
   },
   {
    "duration": 96,
    "start_time": "2022-05-02T13:13:53.293Z"
   },
   {
    "duration": 15,
    "start_time": "2022-05-02T13:13:53.392Z"
   },
   {
    "duration": 19,
    "start_time": "2022-05-02T13:13:53.413Z"
   },
   {
    "duration": 25,
    "start_time": "2022-05-02T13:13:53.434Z"
   },
   {
    "duration": 9,
    "start_time": "2022-05-02T13:13:53.462Z"
   },
   {
    "duration": 51,
    "start_time": "2022-05-02T13:13:53.474Z"
   },
   {
    "duration": 33,
    "start_time": "2022-05-02T13:13:53.528Z"
   },
   {
    "duration": 14,
    "start_time": "2022-05-02T13:13:53.565Z"
   },
   {
    "duration": 66,
    "start_time": "2022-05-02T13:13:53.582Z"
   },
   {
    "duration": 36,
    "start_time": "2022-05-02T13:13:53.651Z"
   },
   {
    "duration": 53,
    "start_time": "2022-05-02T13:13:53.690Z"
   },
   {
    "duration": 65,
    "start_time": "2022-05-02T13:19:51.252Z"
   },
   {
    "duration": 24,
    "start_time": "2022-05-02T13:20:24.978Z"
   },
   {
    "duration": 49,
    "start_time": "2022-05-02T17:32:09.990Z"
   }
  ],
  "interpreter": {
   "hash": "611799ef0f8765e26f9d77387c84787955d18d7593b809f6b7fc458551147fbf"
  },
  "kernelspec": {
   "display_name": "Python 3 (ipykernel)",
   "language": "python",
   "name": "python3"
  },
  "language_info": {
   "codemirror_mode": {
    "name": "ipython",
    "version": 3
   },
   "file_extension": ".py",
   "mimetype": "text/x-python",
   "name": "python",
   "nbconvert_exporter": "python",
   "pygments_lexer": "ipython3",
   "version": "3.9.12"
  },
  "toc": {
   "base_numbering": 1,
   "nav_menu": {},
   "number_sections": true,
   "sideBar": true,
   "skip_h1_title": true,
   "title_cell": "Содержание",
   "title_sidebar": "Contents",
   "toc_cell": true,
   "toc_position": {
    "height": "calc(100% - 180px)",
    "left": "10px",
    "top": "150px",
    "width": "384px"
   },
   "toc_section_display": true,
   "toc_window_display": true
  },
  "widgets": {
   "application/vnd.jupyter.widget-state+json": {
    "state": {},
    "version_major": 2,
    "version_minor": 0
   }
  }
 },
 "nbformat": 4,
 "nbformat_minor": 5
}
