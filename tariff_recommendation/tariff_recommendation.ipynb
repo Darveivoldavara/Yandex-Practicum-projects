{
 "cells": [
  {
   "cell_type": "markdown",
   "metadata": {
    "toc": true
   },
   "source": [
    "<h1>Содержание<span class=\"tocSkip\"></span></h1>\n",
    "<div class=\"toc\"><ul class=\"toc-item\"><li><span><a href=\"#Обзор-данных\" data-toc-modified-id=\"Обзор-данных-1\"><span class=\"toc-item-num\">1&nbsp;&nbsp;</span>Обзор данных</a></span></li><li><span><a href=\"#Разделение-и-маштабирование-данных\" data-toc-modified-id=\"Разделение-и-маштабирование-данных-2\"><span class=\"toc-item-num\">2&nbsp;&nbsp;</span>Разделение и маштабирование данных</a></span></li><li><span><a href=\"#Определение-лучшей-модели-и-её-гиперпараметров\" data-toc-modified-id=\"Определение-лучшей-модели-и-её-гиперпараметров-3\"><span class=\"toc-item-num\">3&nbsp;&nbsp;</span>Определение лучшей модели и её гиперпараметров</a></span></li><li><span><a href=\"#Проверка-качества-и-вменяемости-модели\" data-toc-modified-id=\"Проверка-качества-и-вменяемости-модели-4\"><span class=\"toc-item-num\">4&nbsp;&nbsp;</span>Проверка качества и вменяемости модели</a></span></li><li><span><a href=\"#Итоговый-вывод\" data-toc-modified-id=\"Итоговый-вывод-5\"><span class=\"toc-item-num\">5&nbsp;&nbsp;</span>Итоговый вывод</a></span></li></ul></div>"
   ]
  },
  {
   "cell_type": "markdown",
   "metadata": {},
   "source": [
    "# Рекомендация тарифов"
   ]
  },
  {
   "cell_type": "markdown",
   "metadata": {},
   "source": [
    "**Цель работы** — построить модель для оператора мобильной связи, планирующего перевести своих клиентов с архивных тарифов на один из новых. Модель будет определять, какой их двух актуальных тарифов стоит предложить пользователю.\n",
    "\n",
    "В распоряжении имеются данные от оператора о поведении клиентов, которые уже перешли на эти тарифы.\n",
    "\n",
    "**Ход работы**\n",
    "\n",
    "Откроем файл с данными и изучим его. Предобработка этих данных была выполнена ранее, в данной работе осуществлять её не потребуется.\n",
    "\n",
    "Разделим данные на обучающую и тестовую выборки, после чего маштабируем данные для более эффективной работы алгоритмов.\n",
    "\n",
    "Далее рассмотрим разные модели и определим значения гиперпараметров, позволяющие получить наиболее качественную модель.\n",
    "\n",
    "Выбрав таким образом модель с наилучшим показателем метрики, проверим её качество на тестовой выборке и её саму на вменяемость, после чего сделаем окончательный вывод о подходящей модели.\n",
    " \n",
    "Таким образом, работа пройдёт в пять этапов:\n",
    " 1. Обзор данных.\n",
    " 2. Разделение и маштабирование данных.\n",
    " 2. Определение лучшей модели и её гиперпараметров.\n",
    " 3. Проверка качества и вменяемости модели.\n",
    " 4. Итоговый вывод."
   ]
  },
  {
   "cell_type": "markdown",
   "metadata": {},
   "source": [
    "## Обзор данных"
   ]
  },
  {
   "cell_type": "markdown",
   "metadata": {},
   "source": [
    "Взглянем на общую информацию о датасете."
   ]
  },
  {
   "cell_type": "code",
   "execution_count": 5,
   "metadata": {},
   "outputs": [],
   "source": [
    "# импорт библиотек\n",
    "import numpy as np\n",
    "import pandas as pd\n",
    "import plotly.express as px\n",
    "\n",
    "from sklearn.linear_model import LogisticRegression\n",
    "from sklearn.ensemble import RandomForestClassifier\n",
    "from sklearn.neighbors import KNeighborsClassifier\n",
    "from sklearn.dummy import DummyClassifier\n",
    "from sklearn.preprocessing import RobustScaler\n",
    "from sklearn.model_selection import train_test_split, GridSearchCV\n",
    "from sklearn.metrics import accuracy_score, precision_score, recall_score, f1_score, confusion_matrix"
   ]
  },
  {
   "cell_type": "code",
   "execution_count": 6,
   "metadata": {},
   "outputs": [
    {
     "data": {
      "text/html": [
       "<div>\n",
       "<style scoped>\n",
       "    .dataframe tbody tr th:only-of-type {\n",
       "        vertical-align: middle;\n",
       "    }\n",
       "\n",
       "    .dataframe tbody tr th {\n",
       "        vertical-align: top;\n",
       "    }\n",
       "\n",
       "    .dataframe thead th {\n",
       "        text-align: right;\n",
       "    }\n",
       "</style>\n",
       "<table border=\"1\" class=\"dataframe\">\n",
       "  <thead>\n",
       "    <tr style=\"text-align: right;\">\n",
       "      <th></th>\n",
       "      <th>calls</th>\n",
       "      <th>minutes</th>\n",
       "      <th>messages</th>\n",
       "      <th>mb_used</th>\n",
       "      <th>is_ultra</th>\n",
       "    </tr>\n",
       "  </thead>\n",
       "  <tbody>\n",
       "    <tr>\n",
       "      <th>2587</th>\n",
       "      <td>104.0</td>\n",
       "      <td>740.95</td>\n",
       "      <td>0.0</td>\n",
       "      <td>33702.04</td>\n",
       "      <td>1</td>\n",
       "    </tr>\n",
       "    <tr>\n",
       "      <th>3143</th>\n",
       "      <td>69.0</td>\n",
       "      <td>439.39</td>\n",
       "      <td>82.0</td>\n",
       "      <td>19315.86</td>\n",
       "      <td>1</td>\n",
       "    </tr>\n",
       "    <tr>\n",
       "      <th>2277</th>\n",
       "      <td>49.0</td>\n",
       "      <td>336.33</td>\n",
       "      <td>130.0</td>\n",
       "      <td>9777.89</td>\n",
       "      <td>1</td>\n",
       "    </tr>\n",
       "    <tr>\n",
       "      <th>1092</th>\n",
       "      <td>80.0</td>\n",
       "      <td>555.85</td>\n",
       "      <td>140.0</td>\n",
       "      <td>24412.57</td>\n",
       "      <td>1</td>\n",
       "    </tr>\n",
       "    <tr>\n",
       "      <th>471</th>\n",
       "      <td>89.0</td>\n",
       "      <td>528.61</td>\n",
       "      <td>53.0</td>\n",
       "      <td>16019.28</td>\n",
       "      <td>0</td>\n",
       "    </tr>\n",
       "    <tr>\n",
       "      <th>347</th>\n",
       "      <td>24.0</td>\n",
       "      <td>151.72</td>\n",
       "      <td>23.0</td>\n",
       "      <td>5957.73</td>\n",
       "      <td>0</td>\n",
       "    </tr>\n",
       "    <tr>\n",
       "      <th>2644</th>\n",
       "      <td>48.0</td>\n",
       "      <td>436.16</td>\n",
       "      <td>13.0</td>\n",
       "      <td>29072.01</td>\n",
       "      <td>0</td>\n",
       "    </tr>\n",
       "    <tr>\n",
       "      <th>838</th>\n",
       "      <td>61.0</td>\n",
       "      <td>452.89</td>\n",
       "      <td>27.0</td>\n",
       "      <td>10444.65</td>\n",
       "      <td>0</td>\n",
       "    </tr>\n",
       "    <tr>\n",
       "      <th>87</th>\n",
       "      <td>51.0</td>\n",
       "      <td>326.34</td>\n",
       "      <td>82.0</td>\n",
       "      <td>29084.42</td>\n",
       "      <td>1</td>\n",
       "    </tr>\n",
       "    <tr>\n",
       "      <th>562</th>\n",
       "      <td>35.0</td>\n",
       "      <td>229.53</td>\n",
       "      <td>66.0</td>\n",
       "      <td>17303.54</td>\n",
       "      <td>0</td>\n",
       "    </tr>\n",
       "  </tbody>\n",
       "</table>\n",
       "</div>"
      ],
      "text/plain": [
       "      calls  minutes  messages   mb_used  is_ultra\n",
       "2587  104.0   740.95       0.0  33702.04         1\n",
       "3143   69.0   439.39      82.0  19315.86         1\n",
       "2277   49.0   336.33     130.0   9777.89         1\n",
       "1092   80.0   555.85     140.0  24412.57         1\n",
       "471    89.0   528.61      53.0  16019.28         0\n",
       "347    24.0   151.72      23.0   5957.73         0\n",
       "2644   48.0   436.16      13.0  29072.01         0\n",
       "838    61.0   452.89      27.0  10444.65         0\n",
       "87     51.0   326.34      82.0  29084.42         1\n",
       "562    35.0   229.53      66.0  17303.54         0"
      ]
     },
     "execution_count": 6,
     "metadata": {},
     "output_type": "execute_result"
    }
   ],
   "source": [
    "# чтение csv-файла и создание датафрейма\n",
    "ub = pd.read_csv('data_users_behavior.csv')\n",
    "\n",
    "# получение случайных 10 строк датасета\n",
    "ub.sample(10, random_state=3)"
   ]
  },
  {
   "cell_type": "code",
   "execution_count": 7,
   "metadata": {},
   "outputs": [
    {
     "name": "stdout",
     "output_type": "stream",
     "text": [
      "<class 'pandas.core.frame.DataFrame'>\n",
      "RangeIndex: 3214 entries, 0 to 3213\n",
      "Data columns (total 5 columns):\n",
      " #   Column    Non-Null Count  Dtype  \n",
      "---  ------    --------------  -----  \n",
      " 0   calls     3214 non-null   float64\n",
      " 1   minutes   3214 non-null   float64\n",
      " 2   messages  3214 non-null   float64\n",
      " 3   mb_used   3214 non-null   float64\n",
      " 4   is_ultra  3214 non-null   int64  \n",
      "dtypes: float64(4), int64(1)\n",
      "memory usage: 125.7 KB\n"
     ]
    }
   ],
   "source": [
    "# получение общей информации о данных в таблице\n",
    "ub.info()"
   ]
  },
  {
   "cell_type": "code",
   "execution_count": 8,
   "metadata": {},
   "outputs": [
    {
     "data": {
      "text/html": [
       "<style  type=\"text/css\" >\n",
       "</style><table id=\"T_d8ffc_\" ><thead>    <tr>        <th class=\"blank level0\" ></th>        <th class=\"col_heading level0 col0\" >calls</th>        <th class=\"col_heading level0 col1\" >minutes</th>        <th class=\"col_heading level0 col2\" >messages</th>        <th class=\"col_heading level0 col3\" >mb_used</th>        <th class=\"col_heading level0 col4\" >is_ultra</th>    </tr></thead><tbody>\n",
       "                <tr>\n",
       "                        <th id=\"T_d8ffc_level0_row0\" class=\"row_heading level0 row0\" >count</th>\n",
       "                        <td id=\"T_d8ffc_row0_col0\" class=\"data row0 col0\" >3214.00</td>\n",
       "                        <td id=\"T_d8ffc_row0_col1\" class=\"data row0 col1\" >3214.00</td>\n",
       "                        <td id=\"T_d8ffc_row0_col2\" class=\"data row0 col2\" >3214.00</td>\n",
       "                        <td id=\"T_d8ffc_row0_col3\" class=\"data row0 col3\" >3214.00</td>\n",
       "                        <td id=\"T_d8ffc_row0_col4\" class=\"data row0 col4\" >3214.00</td>\n",
       "            </tr>\n",
       "            <tr>\n",
       "                        <th id=\"T_d8ffc_level0_row1\" class=\"row_heading level0 row1\" >mean</th>\n",
       "                        <td id=\"T_d8ffc_row1_col0\" class=\"data row1 col0\" >63.04</td>\n",
       "                        <td id=\"T_d8ffc_row1_col1\" class=\"data row1 col1\" >438.21</td>\n",
       "                        <td id=\"T_d8ffc_row1_col2\" class=\"data row1 col2\" >38.28</td>\n",
       "                        <td id=\"T_d8ffc_row1_col3\" class=\"data row1 col3\" >17207.67</td>\n",
       "                        <td id=\"T_d8ffc_row1_col4\" class=\"data row1 col4\" >0.31</td>\n",
       "            </tr>\n",
       "            <tr>\n",
       "                        <th id=\"T_d8ffc_level0_row2\" class=\"row_heading level0 row2\" >std</th>\n",
       "                        <td id=\"T_d8ffc_row2_col0\" class=\"data row2 col0\" >33.24</td>\n",
       "                        <td id=\"T_d8ffc_row2_col1\" class=\"data row2 col1\" >234.57</td>\n",
       "                        <td id=\"T_d8ffc_row2_col2\" class=\"data row2 col2\" >36.15</td>\n",
       "                        <td id=\"T_d8ffc_row2_col3\" class=\"data row2 col3\" >7570.97</td>\n",
       "                        <td id=\"T_d8ffc_row2_col4\" class=\"data row2 col4\" >0.46</td>\n",
       "            </tr>\n",
       "            <tr>\n",
       "                        <th id=\"T_d8ffc_level0_row3\" class=\"row_heading level0 row3\" >min</th>\n",
       "                        <td id=\"T_d8ffc_row3_col0\" class=\"data row3 col0\" >0.00</td>\n",
       "                        <td id=\"T_d8ffc_row3_col1\" class=\"data row3 col1\" >0.00</td>\n",
       "                        <td id=\"T_d8ffc_row3_col2\" class=\"data row3 col2\" >0.00</td>\n",
       "                        <td id=\"T_d8ffc_row3_col3\" class=\"data row3 col3\" >0.00</td>\n",
       "                        <td id=\"T_d8ffc_row3_col4\" class=\"data row3 col4\" >0.00</td>\n",
       "            </tr>\n",
       "            <tr>\n",
       "                        <th id=\"T_d8ffc_level0_row4\" class=\"row_heading level0 row4\" >25%</th>\n",
       "                        <td id=\"T_d8ffc_row4_col0\" class=\"data row4 col0\" >40.00</td>\n",
       "                        <td id=\"T_d8ffc_row4_col1\" class=\"data row4 col1\" >274.58</td>\n",
       "                        <td id=\"T_d8ffc_row4_col2\" class=\"data row4 col2\" >9.00</td>\n",
       "                        <td id=\"T_d8ffc_row4_col3\" class=\"data row4 col3\" >12491.90</td>\n",
       "                        <td id=\"T_d8ffc_row4_col4\" class=\"data row4 col4\" >0.00</td>\n",
       "            </tr>\n",
       "            <tr>\n",
       "                        <th id=\"T_d8ffc_level0_row5\" class=\"row_heading level0 row5\" >50%</th>\n",
       "                        <td id=\"T_d8ffc_row5_col0\" class=\"data row5 col0\" >62.00</td>\n",
       "                        <td id=\"T_d8ffc_row5_col1\" class=\"data row5 col1\" >430.60</td>\n",
       "                        <td id=\"T_d8ffc_row5_col2\" class=\"data row5 col2\" >30.00</td>\n",
       "                        <td id=\"T_d8ffc_row5_col3\" class=\"data row5 col3\" >16943.24</td>\n",
       "                        <td id=\"T_d8ffc_row5_col4\" class=\"data row5 col4\" >0.00</td>\n",
       "            </tr>\n",
       "            <tr>\n",
       "                        <th id=\"T_d8ffc_level0_row6\" class=\"row_heading level0 row6\" >75%</th>\n",
       "                        <td id=\"T_d8ffc_row6_col0\" class=\"data row6 col0\" >82.00</td>\n",
       "                        <td id=\"T_d8ffc_row6_col1\" class=\"data row6 col1\" >571.93</td>\n",
       "                        <td id=\"T_d8ffc_row6_col2\" class=\"data row6 col2\" >57.00</td>\n",
       "                        <td id=\"T_d8ffc_row6_col3\" class=\"data row6 col3\" >21424.70</td>\n",
       "                        <td id=\"T_d8ffc_row6_col4\" class=\"data row6 col4\" >1.00</td>\n",
       "            </tr>\n",
       "            <tr>\n",
       "                        <th id=\"T_d8ffc_level0_row7\" class=\"row_heading level0 row7\" >max</th>\n",
       "                        <td id=\"T_d8ffc_row7_col0\" class=\"data row7 col0\" >244.00</td>\n",
       "                        <td id=\"T_d8ffc_row7_col1\" class=\"data row7 col1\" >1632.06</td>\n",
       "                        <td id=\"T_d8ffc_row7_col2\" class=\"data row7 col2\" >224.00</td>\n",
       "                        <td id=\"T_d8ffc_row7_col3\" class=\"data row7 col3\" >49745.73</td>\n",
       "                        <td id=\"T_d8ffc_row7_col4\" class=\"data row7 col4\" >1.00</td>\n",
       "            </tr>\n",
       "    </tbody></table>"
      ],
      "text/plain": [
       "<pandas.io.formats.style.Styler at 0x263c27baca0>"
      ]
     },
     "execution_count": 8,
     "metadata": {},
     "output_type": "execute_result"
    }
   ],
   "source": [
    "# получение данных о характерных значениях таблицы\n",
    "ub.describe().style.format('{:.2f}')"
   ]
  },
  {
   "cell_type": "markdown",
   "metadata": {},
   "source": [
    "На первый взгляд с данными всё в порядке, исправим только тип данных у некоторых столбцов на `int`."
   ]
  },
  {
   "cell_type": "code",
   "execution_count": 9,
   "metadata": {
    "scrolled": true
   },
   "outputs": [
    {
     "data": {
      "text/html": [
       "<div>\n",
       "<style scoped>\n",
       "    .dataframe tbody tr th:only-of-type {\n",
       "        vertical-align: middle;\n",
       "    }\n",
       "\n",
       "    .dataframe tbody tr th {\n",
       "        vertical-align: top;\n",
       "    }\n",
       "\n",
       "    .dataframe thead th {\n",
       "        text-align: right;\n",
       "    }\n",
       "</style>\n",
       "<table border=\"1\" class=\"dataframe\">\n",
       "  <thead>\n",
       "    <tr style=\"text-align: right;\">\n",
       "      <th></th>\n",
       "      <th>calls</th>\n",
       "      <th>minutes</th>\n",
       "      <th>messages</th>\n",
       "      <th>mb_used</th>\n",
       "      <th>is_ultra</th>\n",
       "    </tr>\n",
       "  </thead>\n",
       "  <tbody>\n",
       "    <tr>\n",
       "      <th>2587</th>\n",
       "      <td>104</td>\n",
       "      <td>740.95</td>\n",
       "      <td>0</td>\n",
       "      <td>33702.04</td>\n",
       "      <td>1</td>\n",
       "    </tr>\n",
       "    <tr>\n",
       "      <th>3143</th>\n",
       "      <td>69</td>\n",
       "      <td>439.39</td>\n",
       "      <td>82</td>\n",
       "      <td>19315.86</td>\n",
       "      <td>1</td>\n",
       "    </tr>\n",
       "    <tr>\n",
       "      <th>2277</th>\n",
       "      <td>49</td>\n",
       "      <td>336.33</td>\n",
       "      <td>130</td>\n",
       "      <td>9777.89</td>\n",
       "      <td>1</td>\n",
       "    </tr>\n",
       "    <tr>\n",
       "      <th>1092</th>\n",
       "      <td>80</td>\n",
       "      <td>555.85</td>\n",
       "      <td>140</td>\n",
       "      <td>24412.57</td>\n",
       "      <td>1</td>\n",
       "    </tr>\n",
       "    <tr>\n",
       "      <th>471</th>\n",
       "      <td>89</td>\n",
       "      <td>528.61</td>\n",
       "      <td>53</td>\n",
       "      <td>16019.28</td>\n",
       "      <td>0</td>\n",
       "    </tr>\n",
       "    <tr>\n",
       "      <th>347</th>\n",
       "      <td>24</td>\n",
       "      <td>151.72</td>\n",
       "      <td>23</td>\n",
       "      <td>5957.73</td>\n",
       "      <td>0</td>\n",
       "    </tr>\n",
       "    <tr>\n",
       "      <th>2644</th>\n",
       "      <td>48</td>\n",
       "      <td>436.16</td>\n",
       "      <td>13</td>\n",
       "      <td>29072.01</td>\n",
       "      <td>0</td>\n",
       "    </tr>\n",
       "    <tr>\n",
       "      <th>838</th>\n",
       "      <td>61</td>\n",
       "      <td>452.89</td>\n",
       "      <td>27</td>\n",
       "      <td>10444.65</td>\n",
       "      <td>0</td>\n",
       "    </tr>\n",
       "    <tr>\n",
       "      <th>87</th>\n",
       "      <td>51</td>\n",
       "      <td>326.34</td>\n",
       "      <td>82</td>\n",
       "      <td>29084.42</td>\n",
       "      <td>1</td>\n",
       "    </tr>\n",
       "    <tr>\n",
       "      <th>562</th>\n",
       "      <td>35</td>\n",
       "      <td>229.53</td>\n",
       "      <td>66</td>\n",
       "      <td>17303.54</td>\n",
       "      <td>0</td>\n",
       "    </tr>\n",
       "  </tbody>\n",
       "</table>\n",
       "</div>"
      ],
      "text/plain": [
       "      calls  minutes  messages   mb_used  is_ultra\n",
       "2587    104   740.95         0  33702.04         1\n",
       "3143     69   439.39        82  19315.86         1\n",
       "2277     49   336.33       130   9777.89         1\n",
       "1092     80   555.85       140  24412.57         1\n",
       "471      89   528.61        53  16019.28         0\n",
       "347      24   151.72        23   5957.73         0\n",
       "2644     48   436.16        13  29072.01         0\n",
       "838      61   452.89        27  10444.65         0\n",
       "87       51   326.34        82  29084.42         1\n",
       "562      35   229.53        66  17303.54         0"
      ]
     },
     "metadata": {},
     "output_type": "display_data"
    },
    {
     "name": "stdout",
     "output_type": "stream",
     "text": [
      "<class 'pandas.core.frame.DataFrame'>\n",
      "RangeIndex: 3214 entries, 0 to 3213\n",
      "Data columns (total 5 columns):\n",
      " #   Column    Non-Null Count  Dtype  \n",
      "---  ------    --------------  -----  \n",
      " 0   calls     3214 non-null   int32  \n",
      " 1   minutes   3214 non-null   float64\n",
      " 2   messages  3214 non-null   int32  \n",
      " 3   mb_used   3214 non-null   float64\n",
      " 4   is_ultra  3214 non-null   int32  \n",
      "dtypes: float64(2), int32(3)\n",
      "memory usage: 88.0 KB\n"
     ]
    }
   ],
   "source": [
    "# изменение типов данных\n",
    "ub[['calls', 'messages', 'is_ultra']] = (\n",
    "    ub[['calls', 'messages', 'is_ultra']]\n",
    "    .astype('int')\n",
    "    )\n",
    "# просмотр изменений\n",
    "display(ub.sample(10, random_state=3))\n",
    "ub.info()"
   ]
  },
  {
   "cell_type": "markdown",
   "metadata": {},
   "source": [
    "## Разделение и маштабирование данных"
   ]
  },
  {
   "cell_type": "markdown",
   "metadata": {},
   "source": [
    "Для дальнейшей работы разделим датасет на на обучающую и тестовую выборки, также маштабируем данные для адекватных результатов всех используемых далее обучающих алгоритмов."
   ]
  },
  {
   "cell_type": "code",
   "execution_count": 10,
   "metadata": {},
   "outputs": [
    {
     "name": "stdout",
     "output_type": "stream",
     "text": [
      "Размеры обучающей выборки: (2249, 4) (2249,)\n",
      "Размеры тестовой выборки: (965, 4) (965,)\n"
     ]
    }
   ],
   "source": [
    "# разделение данных на выборки\n",
    "features = ub.drop(['is_ultra'], axis=1)\n",
    "target = ub['is_ultra']\n",
    "\n",
    "features_train, features_test, target_train, target_test = (\n",
    "    train_test_split(\n",
    "        features,\n",
    "        target,\n",
    "        test_size=.3,\n",
    "        random_state=4,\n",
    "        stratify=target)\n",
    "        )\n",
    "\n",
    "# проверка размеров выборок\n",
    "print(\n",
    "    'Размеры обучающей выборки:',\n",
    "    features_train.shape,\n",
    "    target_train.shape\n",
    "    )\n",
    "print(\n",
    "    'Размеры тестовой выборки:',\n",
    "    features_test.shape,\n",
    "    target_test.shape\n",
    "    )"
   ]
  },
  {
   "cell_type": "code",
   "execution_count": 11,
   "metadata": {},
   "outputs": [],
   "source": [
    "# маштабирование данных\n",
    "scaler = RobustScaler()\n",
    "scaler.fit(features_train, target_train)\n",
    "features_train = scaler.transform(features_train)\n",
    "features_test = scaler.transform(features_test)"
   ]
  },
  {
   "cell_type": "markdown",
   "metadata": {},
   "source": [
    "## Определение лучшей модели и её гиперпараметров"
   ]
  },
  {
   "cell_type": "markdown",
   "metadata": {},
   "source": [
    "Для получения подходящей модели будем выбирать между тремя алгоритмами обучения: логистической регрессией, \"случайным лесом\" и методом k-ближайших соседей.\n",
    "У каждого алгоритма подберём наилучшие гиперпараметры с помощью метода `GridSearchCV`."
   ]
  },
  {
   "cell_type": "code",
   "execution_count": 12,
   "metadata": {},
   "outputs": [
    {
     "name": "stdout",
     "output_type": "stream",
     "text": [
      "Лучшие параметры для логистической регрессии: {'C': 1, 'class_weight': None, 'max_iter': 10, 'solver': 'newton-cg'}\n",
      "Accuracy на обучающей выборке: 0.7394\n"
     ]
    }
   ],
   "source": [
    "# определение лучших параметров и\n",
    "# наивысшего accuracy для логистической регрессии\n",
    "lr_clf = LogisticRegression(random_state=6)\n",
    "lr_parametrs = {\n",
    "    'C': range(1, 6),\n",
    "    'class_weight': [None, 'balanced'],\n",
    "    'solver': ['newton-cg', 'lbfgs', 'liblinear'],\n",
    "    'max_iter': range(10, 30)\n",
    "    }\n",
    "lr_grid = GridSearchCV(lr_clf, lr_parametrs, n_jobs=-1)\n",
    "lr_grid.fit(features_train, target_train)\n",
    "\n",
    "print(\n",
    "    'Лучшие параметры для логистической регрессии:',\n",
    "    lr_grid.best_params_\n",
    "    )\n",
    "print(f'Accuracy на обучающей выборке: {lr_grid.best_score_:.4f}')"
   ]
  },
  {
   "cell_type": "code",
   "execution_count": 13,
   "metadata": {},
   "outputs": [
    {
     "name": "stdout",
     "output_type": "stream",
     "text": [
      "Лучшие параметры для случайного леса: {'class_weight': None, 'max_depth': 9, 'min_samples_split': 4, 'n_estimators': 33}\n",
      "Accuracy на обучающей выборке: 0.8052\n",
      "\n",
      "Время выполнения ячейки\n",
      "CPU times: total: 3.64 s\n",
      "Wall time: 1min 16s\n"
     ]
    }
   ],
   "source": [
    "%%time\n",
    "# определение лучших параметров и\n",
    "# наивысшего accuracy для случайного леса\n",
    "rf_clf = RandomForestClassifier(random_state=7)\n",
    "rf_parametrs = {\n",
    "    'n_estimators': range(9, 40, 3),\n",
    "    'min_samples_split': range(2, 6),\n",
    "    'max_depth': range(5, 16),\n",
    "    'class_weight': [None, 'balanced', 'balanced_subsample']\n",
    "    }\n",
    "rf_grid = GridSearchCV(rf_clf, rf_parametrs, n_jobs=-1)\n",
    "rf_grid.fit(features_train, target_train)\n",
    "\n",
    "print('Лучшие параметры для случайного леса:',\n",
    "    rf_grid.best_params_\n",
    "    )\n",
    "print(f'Accuracy на обучающей выборке: {rf_grid.best_score_:.4f}')\n",
    "print()\n",
    "print('Время выполнения ячейки')"
   ]
  },
  {
   "cell_type": "code",
   "execution_count": 14,
   "metadata": {},
   "outputs": [
    {
     "name": "stdout",
     "output_type": "stream",
     "text": [
      "Лучшие параметры для метода k-ближайших соседей: {'algorithm': 'ball_tree', 'n_neighbors': 22, 'p': 2, 'weights': 'distance'}\n",
      "Accuracy на обучающей выборке: 0.7986\n"
     ]
    }
   ],
   "source": [
    "# определение лучших параметров и\n",
    "# наивысшего accuracy для метода k-ближайших соседей\n",
    "knn_clf = KNeighborsClassifier()\n",
    "knn_parametrs = {\n",
    "    'n_neighbors': range(5, 31),\n",
    "    'weights': ['uniform', 'distance'],\n",
    "    'p': [1, 2],\n",
    "    'algorithm': ['ball_tree', 'kd_tree', 'brute']\n",
    "    }\n",
    "knn_grid = GridSearchCV(knn_clf, knn_parametrs, n_jobs=-1)\n",
    "knn_grid.fit(features_train, target_train)\n",
    "\n",
    "print('Лучшие параметры для метода k-ближайших соседей:', \n",
    "    knn_grid.best_params_\n",
    "    )\n",
    "print(f'Accuracy на обучающей выборке: {knn_grid.best_score_:.4f}')"
   ]
  },
  {
   "cell_type": "markdown",
   "metadata": {},
   "source": [
    "Взглянем на графике, как изменяется значение `accuracy` при изменении одного из гиперпараметров лучшей в итоге модели — \"случайного леса\"."
   ]
  },
  {
   "cell_type": "code",
   "execution_count": 15,
   "metadata": {},
   "outputs": [
    {
     "data": {
      "application/vnd.plotly.v1+json": {
       "config": {
        "plotlyServerURL": "https://plot.ly"
       },
       "data": [
        {
         "hovertemplate": "param_max_depth=%{x}<br>mean_test_score=%{y}<extra></extra>",
         "legendgroup": "",
         "line": {
          "color": "#636efa",
          "dash": "solid"
         },
         "marker": {
          "symbol": "circle"
         },
         "mode": "lines+markers",
         "name": "",
         "orientation": "v",
         "showlegend": false,
         "type": "scatter",
         "x": [
          5,
          6,
          7,
          8,
          9,
          10,
          11,
          12,
          13,
          14,
          15
         ],
         "xaxis": "x",
         "y": [
          0.7919020044543429,
          0.7950160851274438,
          0.7950160851274438,
          0.7985736203909923,
          0.8052442464736451,
          0.7985756000989854,
          0.7950190546894333,
          0.7954605295718882,
          0.7919020044543429,
          0.7954615194258847,
          0.7914575600098985
         ],
         "yaxis": "y"
        }
       ],
       "layout": {
        "height": 500,
        "legend": {
         "tracegroupgap": 0
        },
        "template": {
         "data": {
          "bar": [
           {
            "error_x": {
             "color": "#2a3f5f"
            },
            "error_y": {
             "color": "#2a3f5f"
            },
            "marker": {
             "line": {
              "color": "#E5ECF6",
              "width": 0.5
             },
             "pattern": {
              "fillmode": "overlay",
              "size": 10,
              "solidity": 0.2
             }
            },
            "type": "bar"
           }
          ],
          "barpolar": [
           {
            "marker": {
             "line": {
              "color": "#E5ECF6",
              "width": 0.5
             },
             "pattern": {
              "fillmode": "overlay",
              "size": 10,
              "solidity": 0.2
             }
            },
            "type": "barpolar"
           }
          ],
          "carpet": [
           {
            "aaxis": {
             "endlinecolor": "#2a3f5f",
             "gridcolor": "white",
             "linecolor": "white",
             "minorgridcolor": "white",
             "startlinecolor": "#2a3f5f"
            },
            "baxis": {
             "endlinecolor": "#2a3f5f",
             "gridcolor": "white",
             "linecolor": "white",
             "minorgridcolor": "white",
             "startlinecolor": "#2a3f5f"
            },
            "type": "carpet"
           }
          ],
          "choropleth": [
           {
            "colorbar": {
             "outlinewidth": 0,
             "ticks": ""
            },
            "type": "choropleth"
           }
          ],
          "contour": [
           {
            "colorbar": {
             "outlinewidth": 0,
             "ticks": ""
            },
            "colorscale": [
             [
              0,
              "#0d0887"
             ],
             [
              0.1111111111111111,
              "#46039f"
             ],
             [
              0.2222222222222222,
              "#7201a8"
             ],
             [
              0.3333333333333333,
              "#9c179e"
             ],
             [
              0.4444444444444444,
              "#bd3786"
             ],
             [
              0.5555555555555556,
              "#d8576b"
             ],
             [
              0.6666666666666666,
              "#ed7953"
             ],
             [
              0.7777777777777778,
              "#fb9f3a"
             ],
             [
              0.8888888888888888,
              "#fdca26"
             ],
             [
              1,
              "#f0f921"
             ]
            ],
            "type": "contour"
           }
          ],
          "contourcarpet": [
           {
            "colorbar": {
             "outlinewidth": 0,
             "ticks": ""
            },
            "type": "contourcarpet"
           }
          ],
          "heatmap": [
           {
            "colorbar": {
             "outlinewidth": 0,
             "ticks": ""
            },
            "colorscale": [
             [
              0,
              "#0d0887"
             ],
             [
              0.1111111111111111,
              "#46039f"
             ],
             [
              0.2222222222222222,
              "#7201a8"
             ],
             [
              0.3333333333333333,
              "#9c179e"
             ],
             [
              0.4444444444444444,
              "#bd3786"
             ],
             [
              0.5555555555555556,
              "#d8576b"
             ],
             [
              0.6666666666666666,
              "#ed7953"
             ],
             [
              0.7777777777777778,
              "#fb9f3a"
             ],
             [
              0.8888888888888888,
              "#fdca26"
             ],
             [
              1,
              "#f0f921"
             ]
            ],
            "type": "heatmap"
           }
          ],
          "heatmapgl": [
           {
            "colorbar": {
             "outlinewidth": 0,
             "ticks": ""
            },
            "colorscale": [
             [
              0,
              "#0d0887"
             ],
             [
              0.1111111111111111,
              "#46039f"
             ],
             [
              0.2222222222222222,
              "#7201a8"
             ],
             [
              0.3333333333333333,
              "#9c179e"
             ],
             [
              0.4444444444444444,
              "#bd3786"
             ],
             [
              0.5555555555555556,
              "#d8576b"
             ],
             [
              0.6666666666666666,
              "#ed7953"
             ],
             [
              0.7777777777777778,
              "#fb9f3a"
             ],
             [
              0.8888888888888888,
              "#fdca26"
             ],
             [
              1,
              "#f0f921"
             ]
            ],
            "type": "heatmapgl"
           }
          ],
          "histogram": [
           {
            "marker": {
             "pattern": {
              "fillmode": "overlay",
              "size": 10,
              "solidity": 0.2
             }
            },
            "type": "histogram"
           }
          ],
          "histogram2d": [
           {
            "colorbar": {
             "outlinewidth": 0,
             "ticks": ""
            },
            "colorscale": [
             [
              0,
              "#0d0887"
             ],
             [
              0.1111111111111111,
              "#46039f"
             ],
             [
              0.2222222222222222,
              "#7201a8"
             ],
             [
              0.3333333333333333,
              "#9c179e"
             ],
             [
              0.4444444444444444,
              "#bd3786"
             ],
             [
              0.5555555555555556,
              "#d8576b"
             ],
             [
              0.6666666666666666,
              "#ed7953"
             ],
             [
              0.7777777777777778,
              "#fb9f3a"
             ],
             [
              0.8888888888888888,
              "#fdca26"
             ],
             [
              1,
              "#f0f921"
             ]
            ],
            "type": "histogram2d"
           }
          ],
          "histogram2dcontour": [
           {
            "colorbar": {
             "outlinewidth": 0,
             "ticks": ""
            },
            "colorscale": [
             [
              0,
              "#0d0887"
             ],
             [
              0.1111111111111111,
              "#46039f"
             ],
             [
              0.2222222222222222,
              "#7201a8"
             ],
             [
              0.3333333333333333,
              "#9c179e"
             ],
             [
              0.4444444444444444,
              "#bd3786"
             ],
             [
              0.5555555555555556,
              "#d8576b"
             ],
             [
              0.6666666666666666,
              "#ed7953"
             ],
             [
              0.7777777777777778,
              "#fb9f3a"
             ],
             [
              0.8888888888888888,
              "#fdca26"
             ],
             [
              1,
              "#f0f921"
             ]
            ],
            "type": "histogram2dcontour"
           }
          ],
          "mesh3d": [
           {
            "colorbar": {
             "outlinewidth": 0,
             "ticks": ""
            },
            "type": "mesh3d"
           }
          ],
          "parcoords": [
           {
            "line": {
             "colorbar": {
              "outlinewidth": 0,
              "ticks": ""
             }
            },
            "type": "parcoords"
           }
          ],
          "pie": [
           {
            "automargin": true,
            "type": "pie"
           }
          ],
          "scatter": [
           {
            "fillpattern": {
             "fillmode": "overlay",
             "size": 10,
             "solidity": 0.2
            },
            "type": "scatter"
           }
          ],
          "scatter3d": [
           {
            "line": {
             "colorbar": {
              "outlinewidth": 0,
              "ticks": ""
             }
            },
            "marker": {
             "colorbar": {
              "outlinewidth": 0,
              "ticks": ""
             }
            },
            "type": "scatter3d"
           }
          ],
          "scattercarpet": [
           {
            "marker": {
             "colorbar": {
              "outlinewidth": 0,
              "ticks": ""
             }
            },
            "type": "scattercarpet"
           }
          ],
          "scattergeo": [
           {
            "marker": {
             "colorbar": {
              "outlinewidth": 0,
              "ticks": ""
             }
            },
            "type": "scattergeo"
           }
          ],
          "scattergl": [
           {
            "marker": {
             "colorbar": {
              "outlinewidth": 0,
              "ticks": ""
             }
            },
            "type": "scattergl"
           }
          ],
          "scattermapbox": [
           {
            "marker": {
             "colorbar": {
              "outlinewidth": 0,
              "ticks": ""
             }
            },
            "type": "scattermapbox"
           }
          ],
          "scatterpolar": [
           {
            "marker": {
             "colorbar": {
              "outlinewidth": 0,
              "ticks": ""
             }
            },
            "type": "scatterpolar"
           }
          ],
          "scatterpolargl": [
           {
            "marker": {
             "colorbar": {
              "outlinewidth": 0,
              "ticks": ""
             }
            },
            "type": "scatterpolargl"
           }
          ],
          "scatterternary": [
           {
            "marker": {
             "colorbar": {
              "outlinewidth": 0,
              "ticks": ""
             }
            },
            "type": "scatterternary"
           }
          ],
          "surface": [
           {
            "colorbar": {
             "outlinewidth": 0,
             "ticks": ""
            },
            "colorscale": [
             [
              0,
              "#0d0887"
             ],
             [
              0.1111111111111111,
              "#46039f"
             ],
             [
              0.2222222222222222,
              "#7201a8"
             ],
             [
              0.3333333333333333,
              "#9c179e"
             ],
             [
              0.4444444444444444,
              "#bd3786"
             ],
             [
              0.5555555555555556,
              "#d8576b"
             ],
             [
              0.6666666666666666,
              "#ed7953"
             ],
             [
              0.7777777777777778,
              "#fb9f3a"
             ],
             [
              0.8888888888888888,
              "#fdca26"
             ],
             [
              1,
              "#f0f921"
             ]
            ],
            "type": "surface"
           }
          ],
          "table": [
           {
            "cells": {
             "fill": {
              "color": "#EBF0F8"
             },
             "line": {
              "color": "white"
             }
            },
            "header": {
             "fill": {
              "color": "#C8D4E3"
             },
             "line": {
              "color": "white"
             }
            },
            "type": "table"
           }
          ]
         },
         "layout": {
          "annotationdefaults": {
           "arrowcolor": "#2a3f5f",
           "arrowhead": 0,
           "arrowwidth": 1
          },
          "autotypenumbers": "strict",
          "coloraxis": {
           "colorbar": {
            "outlinewidth": 0,
            "ticks": ""
           }
          },
          "colorscale": {
           "diverging": [
            [
             0,
             "#8e0152"
            ],
            [
             0.1,
             "#c51b7d"
            ],
            [
             0.2,
             "#de77ae"
            ],
            [
             0.3,
             "#f1b6da"
            ],
            [
             0.4,
             "#fde0ef"
            ],
            [
             0.5,
             "#f7f7f7"
            ],
            [
             0.6,
             "#e6f5d0"
            ],
            [
             0.7,
             "#b8e186"
            ],
            [
             0.8,
             "#7fbc41"
            ],
            [
             0.9,
             "#4d9221"
            ],
            [
             1,
             "#276419"
            ]
           ],
           "sequential": [
            [
             0,
             "#0d0887"
            ],
            [
             0.1111111111111111,
             "#46039f"
            ],
            [
             0.2222222222222222,
             "#7201a8"
            ],
            [
             0.3333333333333333,
             "#9c179e"
            ],
            [
             0.4444444444444444,
             "#bd3786"
            ],
            [
             0.5555555555555556,
             "#d8576b"
            ],
            [
             0.6666666666666666,
             "#ed7953"
            ],
            [
             0.7777777777777778,
             "#fb9f3a"
            ],
            [
             0.8888888888888888,
             "#fdca26"
            ],
            [
             1,
             "#f0f921"
            ]
           ],
           "sequentialminus": [
            [
             0,
             "#0d0887"
            ],
            [
             0.1111111111111111,
             "#46039f"
            ],
            [
             0.2222222222222222,
             "#7201a8"
            ],
            [
             0.3333333333333333,
             "#9c179e"
            ],
            [
             0.4444444444444444,
             "#bd3786"
            ],
            [
             0.5555555555555556,
             "#d8576b"
            ],
            [
             0.6666666666666666,
             "#ed7953"
            ],
            [
             0.7777777777777778,
             "#fb9f3a"
            ],
            [
             0.8888888888888888,
             "#fdca26"
            ],
            [
             1,
             "#f0f921"
            ]
           ]
          },
          "colorway": [
           "#636efa",
           "#EF553B",
           "#00cc96",
           "#ab63fa",
           "#FFA15A",
           "#19d3f3",
           "#FF6692",
           "#B6E880",
           "#FF97FF",
           "#FECB52"
          ],
          "font": {
           "color": "#2a3f5f"
          },
          "geo": {
           "bgcolor": "white",
           "lakecolor": "white",
           "landcolor": "#E5ECF6",
           "showlakes": true,
           "showland": true,
           "subunitcolor": "white"
          },
          "hoverlabel": {
           "align": "left"
          },
          "hovermode": "closest",
          "mapbox": {
           "style": "light"
          },
          "paper_bgcolor": "white",
          "plot_bgcolor": "#E5ECF6",
          "polar": {
           "angularaxis": {
            "gridcolor": "white",
            "linecolor": "white",
            "ticks": ""
           },
           "bgcolor": "#E5ECF6",
           "radialaxis": {
            "gridcolor": "white",
            "linecolor": "white",
            "ticks": ""
           }
          },
          "scene": {
           "xaxis": {
            "backgroundcolor": "#E5ECF6",
            "gridcolor": "white",
            "gridwidth": 2,
            "linecolor": "white",
            "showbackground": true,
            "ticks": "",
            "zerolinecolor": "white"
           },
           "yaxis": {
            "backgroundcolor": "#E5ECF6",
            "gridcolor": "white",
            "gridwidth": 2,
            "linecolor": "white",
            "showbackground": true,
            "ticks": "",
            "zerolinecolor": "white"
           },
           "zaxis": {
            "backgroundcolor": "#E5ECF6",
            "gridcolor": "white",
            "gridwidth": 2,
            "linecolor": "white",
            "showbackground": true,
            "ticks": "",
            "zerolinecolor": "white"
           }
          },
          "shapedefaults": {
           "line": {
            "color": "#2a3f5f"
           }
          },
          "ternary": {
           "aaxis": {
            "gridcolor": "white",
            "linecolor": "white",
            "ticks": ""
           },
           "baxis": {
            "gridcolor": "white",
            "linecolor": "white",
            "ticks": ""
           },
           "bgcolor": "#E5ECF6",
           "caxis": {
            "gridcolor": "white",
            "linecolor": "white",
            "ticks": ""
           }
          },
          "title": {
           "x": 0.05
          },
          "xaxis": {
           "automargin": true,
           "gridcolor": "white",
           "linecolor": "white",
           "ticks": "",
           "title": {
            "standoff": 15
           },
           "zerolinecolor": "white",
           "zerolinewidth": 2
          },
          "yaxis": {
           "automargin": true,
           "gridcolor": "white",
           "linecolor": "white",
           "ticks": "",
           "title": {
            "standoff": 15
           },
           "zerolinecolor": "white",
           "zerolinewidth": 2
          }
         }
        },
        "title": {
         "text": "Зависимость показателя метрики от гиперпараметра"
        },
        "width": 1000,
        "xaxis": {
         "anchor": "y",
         "domain": [
          0,
          1
         ],
         "title": {
          "text": "max_depth"
         }
        },
        "yaxis": {
         "anchor": "x",
         "domain": [
          0,
          1
         ],
         "title": {
          "text": "Accuracy"
         }
        }
       }
      }
     },
     "metadata": {},
     "output_type": "display_data"
    }
   ],
   "source": [
    "# получение графика\n",
    "visual_rf_grid = GridSearchCV(\n",
    "    rf_clf,\n",
    "    {'max_depth': range(5, 16), 'min_samples_split': [4], 'n_estimators': [33]},\n",
    "    n_jobs=-1\n",
    "    )\n",
    "visual_rf_grid.fit(features_train, target_train)\n",
    "results = pd.DataFrame(visual_rf_grid.cv_results_)\n",
    "\n",
    "px.line(\n",
    "    results,\n",
    "    x='param_max_depth',\n",
    "    y='mean_test_score',\n",
    "    markers=True,\n",
    "    width=1000,\n",
    "    height=500,\n",
    "    title='Зависимость показателя метрики от гиперпараметра').update_layout(\n",
    "        xaxis_title='max_depth',\n",
    "        yaxis_title='Accuracy'\n",
    "        )"
   ]
  },
  {
   "cell_type": "markdown",
   "metadata": {},
   "source": [
    "Видно, что поначалу при увеличении глубины леса точность модели также ожидаемо увеличивается. Но после достижения оптимального значения дальнейшее увеличение параметра ведёт уже к ухудшению показателя метрики, что свидетельствует о переобучении."
   ]
  },
  {
   "cell_type": "markdown",
   "metadata": {},
   "source": [
    "**Промежуточные выводы**\n",
    "\n",
    "По результатам подбора наилучшим вариантом в данном случае можно назвать модель, обученную с помощью \"случайного леса\" со следующими параметрами — `class_weight`: None, `max_depth`: 9, `min_samples_split`: 4, `n_estimators`: 33. Слабее всего себя показал метод логистической регресии. Значение метрики на валидационных выборках ни в одном из случаев сильно не снизилось, следовательно, переобучения не обнаружено."
   ]
  },
  {
   "cell_type": "markdown",
   "metadata": {},
   "source": [
    "## Проверка качества и вменяемости модели"
   ]
  },
  {
   "cell_type": "markdown",
   "metadata": {},
   "source": [
    "Чтобы дать окончательный ответ о высоком уровне рекомендаций модели, проверим для неё значение различных метрик на тестовых данных и оценим модель на вменяемость. Для последнего сравним её `accuracy` со значением метрики константной модели на тестовых данных.  "
   ]
  },
  {
   "cell_type": "code",
   "execution_count": 16,
   "metadata": {},
   "outputs": [
    {
     "name": "stdout",
     "output_type": "stream",
     "text": [
      "Accuracy на тестовой выборке: 0.818\n",
      "Precision на тестовой выборке: 0.812\n",
      "Recall на тестовой выборке: 0.527\n",
      "F1-мера на тестовой выборке: 0.639\n",
      "Количество TP-значений: 156\n",
      "Количество FP-значений: 36\n",
      "Количество TN-значений: 633\n",
      "Количество FN-значений: 140\n"
     ]
    }
   ],
   "source": [
    "# получение значений метрик на тестовых данных\n",
    "predictions = rf_grid.predict(features_test)\n",
    "best_clf_accuracy = accuracy_score(target_test, predictions)\n",
    "\n",
    "print(f'Accuracy на тестовой выборке: {best_clf_accuracy:.3f}')\n",
    "print(f'Precision на тестовой выборке: \\\n",
    "{precision_score(target_test, predictions):.3f}')\n",
    "print(f'Recall на тестовой выборке: \\\n",
    "{recall_score(target_test, predictions):.3f}')\n",
    "print(f'F1-мера на тестовой выборке: \\\n",
    "{f1_score(target_test, predictions):.3f}')\n",
    "print(f'Количество TP-значений: \\\n",
    "{np.ravel(confusion_matrix(target_test, predictions))[3]}')\n",
    "print(f'Количество FP-значений: \\\n",
    "{np.ravel(confusion_matrix(target_test, predictions))[1]}')\n",
    "print(f'Количество TN-значений: \\\n",
    "{np.ravel(confusion_matrix(target_test, predictions))[0]}')\n",
    "print(f'Количество FN-значений: \\\n",
    "{np.ravel(confusion_matrix(target_test, predictions))[2]}')"
   ]
  },
  {
   "cell_type": "code",
   "execution_count": 17,
   "metadata": {},
   "outputs": [
    {
     "name": "stdout",
     "output_type": "stream",
     "text": [
      "Accuracy константной модели на тестовых данных: 0.693\n",
      "Accuracy итоговой модели больше accuracy аналогичной константной. Модель вменяема.\n"
     ]
    }
   ],
   "source": [
    "# определение адекватности модели\n",
    "dummy_clf = DummyClassifier(strategy=\"most_frequent\")\n",
    "dummy_clf.fit(features_train, target_train)\n",
    "dummy_score = dummy_clf.score(features_train, target_train)\n",
    "print(f'Accuracy константной модели на обучающих данных: {dummy_score:.3f}')\n",
    "\n",
    "if best_clf_accuracy > dummy_score:\n",
    "    print(\n",
    "        'Accuracy итоговой модели больше accuracy аналогичной константной. Модель вменяема.'\n",
    "        )\n",
    "else:\n",
    "    print(\n",
    "        'Accuracy итоговой модели не выше accuracy аналогичной константной. Модель нельзя назвать вменяемой.'\n",
    "        )"
   ]
  },
  {
   "cell_type": "markdown",
   "metadata": {},
   "source": [
    "**Промежуточные выводы**\n",
    "\n",
    "Можно утвержать, что полученная модель успешно прошла проверку на вменяемость. Её `accuracy` на тестовых данных равен примерно `0.82`, а значение метрики аналогичной константной модели `0.69`, то есть соотношение классов практически `7:3`. Следовательно, показатель метрики для утверждения об адекватности модели должен быть больше `0.7.` Значения остальных метрик выглядят также достаточными для эффективной работы модели."
   ]
  },
  {
   "cell_type": "markdown",
   "metadata": {},
   "source": [
    "## Итоговый вывод"
   ]
  },
  {
   "cell_type": "markdown",
   "metadata": {},
   "source": [
    "Благодаря рассмотрению разных алгоритмов обучения и перебору их гиперпараметров с помощью метода, основанного на кросс-валидации, была получена модель с достаточно высокой долей правильных ответов. Данную модель можно смело предлагать оператору-заказчику для внедрения в систему рекомендаций новых тарифов пользователям.\n",
    "\n",
    "Подобная система поможет компании перевести пользователей архивных тарифов на более выгодные для неё новые. За счёт верно подобранного тарифа количество переведённых таким образом клиентов, скорее всего, будет достаточно велико."
   ]
  }
 ],
 "metadata": {
  "ExecuteTimeLog": [
   {
    "duration": 173,
    "start_time": "2022-06-23T12:44:29.156Z"
   },
   {
    "duration": 972,
    "start_time": "2022-06-23T12:46:49.151Z"
   },
   {
    "duration": 1264,
    "start_time": "2022-06-23T12:46:50.132Z"
   },
   {
    "duration": 81,
    "start_time": "2022-06-23T12:46:51.397Z"
   },
   {
    "duration": 128,
    "start_time": "2022-06-23T12:46:51.480Z"
   },
   {
    "duration": 468,
    "start_time": "2022-06-23T12:46:51.611Z"
   },
   {
    "duration": 289,
    "start_time": "2022-06-23T12:46:52.080Z"
   },
   {
    "duration": 9,
    "start_time": "2022-06-23T12:46:52.370Z"
   },
   {
    "duration": 29,
    "start_time": "2022-06-23T12:46:52.380Z"
   },
   {
    "duration": 67,
    "start_time": "2022-06-23T12:46:52.411Z"
   },
   {
    "duration": 11,
    "start_time": "2022-06-23T12:46:52.480Z"
   },
   {
    "duration": 328,
    "start_time": "2022-06-23T12:46:52.493Z"
   },
   {
    "duration": 10140,
    "start_time": "2022-06-23T12:46:52.823Z"
   },
   {
    "duration": 83,
    "start_time": "2022-06-23T12:47:02.965Z"
   },
   {
    "duration": 40,
    "start_time": "2022-06-23T12:47:03.051Z"
   },
   {
    "duration": 758,
    "start_time": "2022-06-23T12:47:03.092Z"
   },
   {
    "duration": 9,
    "start_time": "2022-06-23T12:47:03.852Z"
   },
   {
    "duration": 16,
    "start_time": "2022-06-23T12:47:03.862Z"
   },
   {
    "duration": 25,
    "start_time": "2022-06-23T12:47:03.880Z"
   },
   {
    "duration": 35,
    "start_time": "2022-06-23T12:47:03.907Z"
   },
   {
    "duration": 47,
    "start_time": "2022-06-23T12:49:39.578Z"
   },
   {
    "duration": 4,
    "start_time": "2022-06-23T13:10:08.940Z"
   },
   {
    "duration": 4,
    "start_time": "2022-06-23T13:10:23.402Z"
   },
   {
    "duration": 159,
    "start_time": "2022-06-23T13:14:49.039Z"
   },
   {
    "duration": 22,
    "start_time": "2022-06-23T13:14:53.309Z"
   },
   {
    "duration": 19,
    "start_time": "2022-06-23T13:15:17.173Z"
   },
   {
    "duration": 7,
    "start_time": "2022-06-23T13:15:26.716Z"
   },
   {
    "duration": 6,
    "start_time": "2022-06-23T13:15:32.582Z"
   },
   {
    "duration": 56,
    "start_time": "2022-06-23T13:17:06.918Z"
   },
   {
    "duration": 7,
    "start_time": "2022-06-23T13:24:36.306Z"
   },
   {
    "duration": 6,
    "start_time": "2022-06-23T13:24:51.107Z"
   },
   {
    "duration": 197,
    "start_time": "2022-06-23T13:43:52.802Z"
   },
   {
    "duration": 207,
    "start_time": "2022-06-23T13:43:58.951Z"
   },
   {
    "duration": 184,
    "start_time": "2022-06-23T13:45:57.781Z"
   },
   {
    "duration": 226,
    "start_time": "2022-06-23T13:46:03.938Z"
   },
   {
    "duration": 50,
    "start_time": "2022-07-07T05:42:13.363Z"
   },
   {
    "duration": 1399,
    "start_time": "2022-07-07T05:42:19.071Z"
   },
   {
    "duration": 57,
    "start_time": "2022-07-07T05:42:20.472Z"
   },
   {
    "duration": 11,
    "start_time": "2022-07-07T05:42:20.531Z"
   },
   {
    "duration": 471,
    "start_time": "2022-07-07T05:42:20.544Z"
   },
   {
    "duration": 22,
    "start_time": "2022-07-07T05:42:21.017Z"
   },
   {
    "duration": 24,
    "start_time": "2022-07-07T05:42:21.041Z"
   },
   {
    "duration": 14,
    "start_time": "2022-07-07T05:42:21.067Z"
   },
   {
    "duration": 20450,
    "start_time": "2022-07-07T05:42:21.082Z"
   },
   {
    "duration": 190572,
    "start_time": "2022-07-07T05:42:41.534Z"
   },
   {
    "duration": 62377,
    "start_time": "2022-07-07T05:45:52.108Z"
   },
   {
    "duration": 9,
    "start_time": "2022-07-07T05:46:54.487Z"
   },
   {
    "duration": 9,
    "start_time": "2022-07-07T05:46:54.497Z"
   },
   {
    "duration": 4,
    "start_time": "2022-07-07T05:46:54.507Z"
   },
   {
    "duration": 111,
    "start_time": "2022-07-07T05:48:23.461Z"
   },
   {
    "duration": 6,
    "start_time": "2022-07-07T05:48:32.640Z"
   },
   {
    "duration": 11,
    "start_time": "2022-07-07T05:49:10.671Z"
   },
   {
    "duration": 12,
    "start_time": "2022-07-07T05:49:23.679Z"
   },
   {
    "duration": 1469,
    "start_time": "2022-07-07T05:49:41.790Z"
   },
   {
    "duration": 37,
    "start_time": "2022-07-07T05:49:43.261Z"
   },
   {
    "duration": 12,
    "start_time": "2022-07-07T05:49:43.299Z"
   },
   {
    "duration": 412,
    "start_time": "2022-07-07T05:49:43.313Z"
   },
   {
    "duration": 22,
    "start_time": "2022-07-07T05:49:43.727Z"
   },
   {
    "duration": 14,
    "start_time": "2022-07-07T05:49:43.763Z"
   },
   {
    "duration": 15,
    "start_time": "2022-07-07T05:49:43.779Z"
   },
   {
    "duration": 23240,
    "start_time": "2022-07-07T05:49:43.796Z"
   },
   {
    "duration": 201471,
    "start_time": "2022-07-07T05:50:07.038Z"
   },
   {
    "duration": 56969,
    "start_time": "2022-07-07T05:53:28.511Z"
   },
   {
    "duration": 12,
    "start_time": "2022-07-07T05:54:25.481Z"
   },
   {
    "duration": 9,
    "start_time": "2022-07-07T05:54:25.495Z"
   },
   {
    "duration": 1482,
    "start_time": "2022-07-10T05:24:13.195Z"
   },
   {
    "duration": 45,
    "start_time": "2022-07-10T05:24:14.679Z"
   },
   {
    "duration": 11,
    "start_time": "2022-07-10T05:24:14.725Z"
   },
   {
    "duration": 498,
    "start_time": "2022-07-10T05:24:14.738Z"
   },
   {
    "duration": 22,
    "start_time": "2022-07-10T05:24:15.238Z"
   },
   {
    "duration": 8,
    "start_time": "2022-07-10T05:24:15.262Z"
   },
   {
    "duration": 26,
    "start_time": "2022-07-10T05:24:15.272Z"
   },
   {
    "duration": 19997,
    "start_time": "2022-07-10T05:24:15.300Z"
   },
   {
    "duration": 581745,
    "start_time": "2022-07-10T05:24:35.299Z"
   },
   {
    "duration": 70159,
    "start_time": "2022-07-10T05:34:17.046Z"
   },
   {
    "duration": 6216,
    "start_time": "2022-07-10T05:35:27.206Z"
   },
   {
    "duration": 24,
    "start_time": "2022-07-10T05:35:33.424Z"
   },
   {
    "duration": 48,
    "start_time": "2022-07-10T05:35:33.450Z"
   }
  ],
  "interpreter": {
   "hash": "611799ef0f8765e26f9d77387c84787955d18d7593b809f6b7fc458551147fbf"
  },
  "kernelspec": {
   "display_name": "Python 3 (ipykernel)",
   "language": "python",
   "name": "python3"
  },
  "language_info": {
   "codemirror_mode": {
    "name": "ipython",
    "version": 3
   },
   "file_extension": ".py",
   "mimetype": "text/x-python",
   "name": "python",
   "nbconvert_exporter": "python",
   "pygments_lexer": "ipython3",
   "version": "3.9.12"
  },
  "toc": {
   "base_numbering": 1,
   "nav_menu": {},
   "number_sections": true,
   "sideBar": true,
   "skip_h1_title": true,
   "title_cell": "Содержание",
   "title_sidebar": "Contents",
   "toc_cell": true,
   "toc_position": {
    "height": "calc(100% - 180px)",
    "left": "10px",
    "top": "150px",
    "width": "200px"
   },
   "toc_section_display": true,
   "toc_window_display": false
  }
 },
 "nbformat": 4,
 "nbformat_minor": 4
}
