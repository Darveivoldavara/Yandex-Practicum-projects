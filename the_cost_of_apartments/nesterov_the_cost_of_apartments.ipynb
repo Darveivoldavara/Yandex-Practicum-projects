{
 "cells": [
  {
   "cell_type": "markdown",
   "id": "0a5c91bb",
   "metadata": {
    "toc": true
   },
   "source": [
    "<h1>Содержание<span class=\"tocSkip\"></span></h1>\n",
    "<div class=\"toc\"><ul class=\"toc-item\"><li><span><a href=\"#Изучение-данных\" data-toc-modified-id=\"Изучение-данных-1\"><span class=\"toc-item-num\">1&nbsp;&nbsp;</span>Изучение данных</a></span></li><li><span><a href=\"#Предобработка-данных\" data-toc-modified-id=\"Предобработка-данных-2\"><span class=\"toc-item-num\">2&nbsp;&nbsp;</span>Предобработка данных</a></span><ul class=\"toc-item\"><li><span><a href=\"#Заполнение-пропусков\" data-toc-modified-id=\"Заполнение-пропусков-2.1\"><span class=\"toc-item-num\">2.1&nbsp;&nbsp;</span>Заполнение пропусков</a></span></li><li><span><a href=\"#Изменение-типов-данных\" data-toc-modified-id=\"Изменение-типов-данных-2.2\"><span class=\"toc-item-num\">2.2&nbsp;&nbsp;</span>Изменение типов данных</a></span></li><li><span><a href=\"#Исправление-названий-столбцов-и-приведение-значений-к-одному-регистру\" data-toc-modified-id=\"Исправление-названий-столбцов-и-приведение-значений-к-одному-регистру-2.3\"><span class=\"toc-item-num\">2.3&nbsp;&nbsp;</span>Исправление названий столбцов и приведение значений к одному регистру</a></span></li></ul></li><li><span><a href=\"#Добавление-столбцов-с-новыми-параметрами\" data-toc-modified-id=\"Добавление-столбцов-с-новыми-параметрами-3\"><span class=\"toc-item-num\">3&nbsp;&nbsp;</span>Добавление столбцов с новыми параметрами</a></span></li><li><span><a href=\"#Исследовательский-анализ-данных\" data-toc-modified-id=\"Исследовательский-анализ-данных-4\"><span class=\"toc-item-num\">4&nbsp;&nbsp;</span>Исследовательский анализ данных</a></span><ul class=\"toc-item\"><li><span><a href=\"#Изучение-параметров-и-избавление-от-выбросов\" data-toc-modified-id=\"Изучение-параметров-и-избавление-от-выбросов-4.1\"><span class=\"toc-item-num\">4.1&nbsp;&nbsp;</span>Изучение параметров и избавление от выбросов</a></span></li><li><span><a href=\"#Зависимость-стоимости-квартиры-от-различных-факторов\" data-toc-modified-id=\"Зависимость-стоимости-квартиры-от-различных-факторов-4.2\"><span class=\"toc-item-num\">4.2&nbsp;&nbsp;</span>Зависимость стоимости квартиры от различных факторов</a></span></li><li><span><a href=\"#Выборка-характерных-населённых-пунктов\" data-toc-modified-id=\"Выборка-характерных-населённых-пунктов-4.3\"><span class=\"toc-item-num\">4.3&nbsp;&nbsp;</span>Выборка характерных населённых пунктов</a></span></li><li><span><a href=\"#Определение-границ-центральной-зоны\" data-toc-modified-id=\"Определение-границ-центральной-зоны-4.4\"><span class=\"toc-item-num\">4.4&nbsp;&nbsp;</span>Определение границ центральной зоны</a></span></li><li><span><a href=\"#Сопоставление-данных-для-квартир-в-центре-и-всего-датасета\" data-toc-modified-id=\"Сопоставление-данных-для-квартир-в-центре-и-всего-датасета-4.5\"><span class=\"toc-item-num\">4.5&nbsp;&nbsp;</span>Сопоставление данных для квартир в центре и всего датасета</a></span><ul class=\"toc-item\"><li><span><a href=\"#Изучение-параметров\" data-toc-modified-id=\"Изучение-параметров-4.5.1\"><span class=\"toc-item-num\">4.5.1&nbsp;&nbsp;</span>Изучение параметров</a></span></li><li><span><a href=\"#Зависимость-стоимости-квартиры-от-различных-факторов\" data-toc-modified-id=\"Зависимость-стоимости-квартиры-от-различных-факторов-4.5.2\"><span class=\"toc-item-num\">4.5.2&nbsp;&nbsp;</span>Зависимость стоимости квартиры от различных факторов</a></span></li></ul></li></ul></li><li><span><a href=\"#Итоговый-вывод\" data-toc-modified-id=\"Итоговый-вывод-5\"><span class=\"toc-item-num\">5&nbsp;&nbsp;</span>Итоговый вывод</a></span></li></ul></div>"
   ]
  },
  {
   "cell_type": "markdown",
   "id": "11a1cf14",
   "metadata": {},
   "source": [
    "# Исследование объявлений о продаже квартир"
   ]
  },
  {
   "cell_type": "markdown",
   "id": "f6f51e7e-431b-49b5-9d69-6532e6bdec4e",
   "metadata": {},
   "source": [
    "**Цель исследования** — установить параметры для определения рыночной стоимости объектов недвижимости, что в свою очередь позволит построить автоматизированную систему, отслеживающую аномалии и мошенническую деятельность.\n",
    "\n",
    "Имеющиеся данные — архив объявлений сервиса Яндекс Недвижимость о продаже квартир в Санкт-Петербурге и соседних населённых пунктах за несколько лет.\n",
    "\n",
    "**Ход исследования**\n",
    "\n",
    "Получим данные из файла `real_estate_data.csv`, после чего изучим их.\n",
    "\n",
    "Проверим данные на пропущенные значения и артефакты, при надобности исправим их на этапе предобработки.\n",
    "\n",
    "Далее добавим в таблицу следующие параметры для дальнейшего определения факторов, от которых в первую очередь зависит стоимость квартир:\n",
    "1. цену квадратного метра;\n",
    "2. день недели, месяц и год публикации объявления;\n",
    "3. категории этажа квартиры: первый, последний, другой;\n",
    "4. соотношение жилой и общей площади, отношение площади кухни к общей.\n",
    "\n",
    "После чего проанализируем обработанные данные и сформулируем итоговые выводы.\n",
    " \n",
    "Таким образом, исследование пройдёт в пять этапов:\n",
    " 1. Изучение данных.\n",
    " 2. Предобработка данных.\n",
    " 3. Добавление параметров.\n",
    " 4. Анализ данных.\n",
    " 5. Итоговый вывод о ключевых факторах для определения стоимости."
   ]
  },
  {
   "cell_type": "markdown",
   "id": "1748e816",
   "metadata": {},
   "source": [
    "## Изучение данных"
   ]
  },
  {
   "cell_type": "code",
   "execution_count": 1,
   "id": "cd2d5f35",
   "metadata": {},
   "outputs": [],
   "source": [
    "# импоорт библиотек\n",
    "import pandas as pd\n",
    "import numpy as np\n",
    "import matplotlib.pyplot as plt"
   ]
  },
  {
   "cell_type": "code",
   "execution_count": 2,
   "id": "8aeb52bf",
   "metadata": {},
   "outputs": [],
   "source": [
    "# чтение csv-файла и создание датафрейма\n",
    "df = pd.read_csv('data_real_estate.csv', sep='\\t')"
   ]
  },
  {
   "cell_type": "code",
   "execution_count": 3,
   "id": "e61cc43f-f003-4792-adbe-637c196ff8db",
   "metadata": {},
   "outputs": [
    {
     "data": {
      "text/html": [
       "<div>\n",
       "<style scoped>\n",
       "    .dataframe tbody tr th:only-of-type {\n",
       "        vertical-align: middle;\n",
       "    }\n",
       "\n",
       "    .dataframe tbody tr th {\n",
       "        vertical-align: top;\n",
       "    }\n",
       "\n",
       "    .dataframe thead th {\n",
       "        text-align: right;\n",
       "    }\n",
       "</style>\n",
       "<table border=\"1\" class=\"dataframe\">\n",
       "  <thead>\n",
       "    <tr style=\"text-align: right;\">\n",
       "      <th></th>\n",
       "      <th>total_images</th>\n",
       "      <th>last_price</th>\n",
       "      <th>total_area</th>\n",
       "      <th>first_day_exposition</th>\n",
       "      <th>rooms</th>\n",
       "      <th>ceiling_height</th>\n",
       "      <th>floors_total</th>\n",
       "      <th>living_area</th>\n",
       "      <th>floor</th>\n",
       "      <th>is_apartment</th>\n",
       "      <th>...</th>\n",
       "      <th>kitchen_area</th>\n",
       "      <th>balcony</th>\n",
       "      <th>locality_name</th>\n",
       "      <th>airports_nearest</th>\n",
       "      <th>cityCenters_nearest</th>\n",
       "      <th>parks_around3000</th>\n",
       "      <th>parks_nearest</th>\n",
       "      <th>ponds_around3000</th>\n",
       "      <th>ponds_nearest</th>\n",
       "      <th>days_exposition</th>\n",
       "    </tr>\n",
       "  </thead>\n",
       "  <tbody>\n",
       "    <tr>\n",
       "      <th>17338</th>\n",
       "      <td>5</td>\n",
       "      <td>3300000.0</td>\n",
       "      <td>47.0</td>\n",
       "      <td>2018-03-30T00:00:00</td>\n",
       "      <td>1</td>\n",
       "      <td>3.00</td>\n",
       "      <td>10.0</td>\n",
       "      <td>NaN</td>\n",
       "      <td>4</td>\n",
       "      <td>NaN</td>\n",
       "      <td>...</td>\n",
       "      <td>NaN</td>\n",
       "      <td>NaN</td>\n",
       "      <td>деревня Новое Девяткино</td>\n",
       "      <td>NaN</td>\n",
       "      <td>NaN</td>\n",
       "      <td>NaN</td>\n",
       "      <td>NaN</td>\n",
       "      <td>NaN</td>\n",
       "      <td>NaN</td>\n",
       "      <td>42.0</td>\n",
       "    </tr>\n",
       "    <tr>\n",
       "      <th>13876</th>\n",
       "      <td>12</td>\n",
       "      <td>2290000.0</td>\n",
       "      <td>40.0</td>\n",
       "      <td>2016-01-17T00:00:00</td>\n",
       "      <td>2</td>\n",
       "      <td>3.00</td>\n",
       "      <td>3.0</td>\n",
       "      <td>27.0</td>\n",
       "      <td>2</td>\n",
       "      <td>False</td>\n",
       "      <td>...</td>\n",
       "      <td>7.4</td>\n",
       "      <td>NaN</td>\n",
       "      <td>Гатчина</td>\n",
       "      <td>NaN</td>\n",
       "      <td>NaN</td>\n",
       "      <td>NaN</td>\n",
       "      <td>NaN</td>\n",
       "      <td>NaN</td>\n",
       "      <td>NaN</td>\n",
       "      <td>895.0</td>\n",
       "    </tr>\n",
       "    <tr>\n",
       "      <th>3586</th>\n",
       "      <td>0</td>\n",
       "      <td>5450000.0</td>\n",
       "      <td>53.8</td>\n",
       "      <td>2018-02-01T00:00:00</td>\n",
       "      <td>2</td>\n",
       "      <td>2.85</td>\n",
       "      <td>2.0</td>\n",
       "      <td>36.5</td>\n",
       "      <td>2</td>\n",
       "      <td>NaN</td>\n",
       "      <td>...</td>\n",
       "      <td>5.3</td>\n",
       "      <td>1.0</td>\n",
       "      <td>Санкт-Петербург</td>\n",
       "      <td>38914.0</td>\n",
       "      <td>10617.0</td>\n",
       "      <td>1.0</td>\n",
       "      <td>255.0</td>\n",
       "      <td>0.0</td>\n",
       "      <td>NaN</td>\n",
       "      <td>64.0</td>\n",
       "    </tr>\n",
       "    <tr>\n",
       "      <th>6495</th>\n",
       "      <td>1</td>\n",
       "      <td>5482990.0</td>\n",
       "      <td>66.1</td>\n",
       "      <td>2016-02-19T00:00:00</td>\n",
       "      <td>2</td>\n",
       "      <td>NaN</td>\n",
       "      <td>25.0</td>\n",
       "      <td>43.6</td>\n",
       "      <td>1</td>\n",
       "      <td>NaN</td>\n",
       "      <td>...</td>\n",
       "      <td>11.1</td>\n",
       "      <td>0.0</td>\n",
       "      <td>поселок Бугры</td>\n",
       "      <td>NaN</td>\n",
       "      <td>NaN</td>\n",
       "      <td>NaN</td>\n",
       "      <td>NaN</td>\n",
       "      <td>NaN</td>\n",
       "      <td>NaN</td>\n",
       "      <td>469.0</td>\n",
       "    </tr>\n",
       "    <tr>\n",
       "      <th>14431</th>\n",
       "      <td>5</td>\n",
       "      <td>4190000.0</td>\n",
       "      <td>54.0</td>\n",
       "      <td>2017-10-30T00:00:00</td>\n",
       "      <td>2</td>\n",
       "      <td>3.00</td>\n",
       "      <td>12.0</td>\n",
       "      <td>34.0</td>\n",
       "      <td>3</td>\n",
       "      <td>NaN</td>\n",
       "      <td>...</td>\n",
       "      <td>9.0</td>\n",
       "      <td>2.0</td>\n",
       "      <td>Гатчина</td>\n",
       "      <td>NaN</td>\n",
       "      <td>NaN</td>\n",
       "      <td>NaN</td>\n",
       "      <td>NaN</td>\n",
       "      <td>NaN</td>\n",
       "      <td>NaN</td>\n",
       "      <td>73.0</td>\n",
       "    </tr>\n",
       "    <tr>\n",
       "      <th>8363</th>\n",
       "      <td>13</td>\n",
       "      <td>5690000.0</td>\n",
       "      <td>41.7</td>\n",
       "      <td>2016-12-29T00:00:00</td>\n",
       "      <td>2</td>\n",
       "      <td>3.20</td>\n",
       "      <td>5.0</td>\n",
       "      <td>23.0</td>\n",
       "      <td>2</td>\n",
       "      <td>NaN</td>\n",
       "      <td>...</td>\n",
       "      <td>7.5</td>\n",
       "      <td>0.0</td>\n",
       "      <td>Санкт-Петербург</td>\n",
       "      <td>23963.0</td>\n",
       "      <td>3530.0</td>\n",
       "      <td>2.0</td>\n",
       "      <td>352.0</td>\n",
       "      <td>3.0</td>\n",
       "      <td>341.0</td>\n",
       "      <td>283.0</td>\n",
       "    </tr>\n",
       "    <tr>\n",
       "      <th>15270</th>\n",
       "      <td>15</td>\n",
       "      <td>4999000.0</td>\n",
       "      <td>42.0</td>\n",
       "      <td>2018-11-23T00:00:00</td>\n",
       "      <td>1</td>\n",
       "      <td>2.80</td>\n",
       "      <td>17.0</td>\n",
       "      <td>22.0</td>\n",
       "      <td>4</td>\n",
       "      <td>NaN</td>\n",
       "      <td>...</td>\n",
       "      <td>11.0</td>\n",
       "      <td>2.0</td>\n",
       "      <td>Санкт-Петербург</td>\n",
       "      <td>30571.0</td>\n",
       "      <td>11470.0</td>\n",
       "      <td>1.0</td>\n",
       "      <td>721.0</td>\n",
       "      <td>0.0</td>\n",
       "      <td>NaN</td>\n",
       "      <td>60.0</td>\n",
       "    </tr>\n",
       "    <tr>\n",
       "      <th>2143</th>\n",
       "      <td>4</td>\n",
       "      <td>3350000.0</td>\n",
       "      <td>55.5</td>\n",
       "      <td>2017-11-14T00:00:00</td>\n",
       "      <td>2</td>\n",
       "      <td>NaN</td>\n",
       "      <td>5.0</td>\n",
       "      <td>33.5</td>\n",
       "      <td>3</td>\n",
       "      <td>NaN</td>\n",
       "      <td>...</td>\n",
       "      <td>8.5</td>\n",
       "      <td>2.0</td>\n",
       "      <td>Гатчина</td>\n",
       "      <td>NaN</td>\n",
       "      <td>NaN</td>\n",
       "      <td>NaN</td>\n",
       "      <td>NaN</td>\n",
       "      <td>NaN</td>\n",
       "      <td>NaN</td>\n",
       "      <td>211.0</td>\n",
       "    </tr>\n",
       "    <tr>\n",
       "      <th>11284</th>\n",
       "      <td>17</td>\n",
       "      <td>3200000.0</td>\n",
       "      <td>48.0</td>\n",
       "      <td>2017-10-25T00:00:00</td>\n",
       "      <td>1</td>\n",
       "      <td>2.80</td>\n",
       "      <td>9.0</td>\n",
       "      <td>19.0</td>\n",
       "      <td>4</td>\n",
       "      <td>NaN</td>\n",
       "      <td>...</td>\n",
       "      <td>11.5</td>\n",
       "      <td>2.0</td>\n",
       "      <td>Всеволожск</td>\n",
       "      <td>NaN</td>\n",
       "      <td>NaN</td>\n",
       "      <td>NaN</td>\n",
       "      <td>NaN</td>\n",
       "      <td>NaN</td>\n",
       "      <td>NaN</td>\n",
       "      <td>246.0</td>\n",
       "    </tr>\n",
       "    <tr>\n",
       "      <th>17095</th>\n",
       "      <td>8</td>\n",
       "      <td>5100000.0</td>\n",
       "      <td>50.2</td>\n",
       "      <td>2018-10-06T00:00:00</td>\n",
       "      <td>2</td>\n",
       "      <td>2.50</td>\n",
       "      <td>3.0</td>\n",
       "      <td>28.0</td>\n",
       "      <td>1</td>\n",
       "      <td>NaN</td>\n",
       "      <td>...</td>\n",
       "      <td>5.4</td>\n",
       "      <td>NaN</td>\n",
       "      <td>Пушкин</td>\n",
       "      <td>12671.0</td>\n",
       "      <td>24825.0</td>\n",
       "      <td>1.0</td>\n",
       "      <td>171.0</td>\n",
       "      <td>0.0</td>\n",
       "      <td>NaN</td>\n",
       "      <td>23.0</td>\n",
       "    </tr>\n",
       "    <tr>\n",
       "      <th>23016</th>\n",
       "      <td>8</td>\n",
       "      <td>4250000.0</td>\n",
       "      <td>42.0</td>\n",
       "      <td>2015-05-24T00:00:00</td>\n",
       "      <td>2</td>\n",
       "      <td>2.75</td>\n",
       "      <td>5.0</td>\n",
       "      <td>22.0</td>\n",
       "      <td>3</td>\n",
       "      <td>False</td>\n",
       "      <td>...</td>\n",
       "      <td>9.0</td>\n",
       "      <td>0.0</td>\n",
       "      <td>Санкт-Петербург</td>\n",
       "      <td>21959.0</td>\n",
       "      <td>6233.0</td>\n",
       "      <td>0.0</td>\n",
       "      <td>NaN</td>\n",
       "      <td>2.0</td>\n",
       "      <td>283.0</td>\n",
       "      <td>500.0</td>\n",
       "    </tr>\n",
       "    <tr>\n",
       "      <th>10926</th>\n",
       "      <td>3</td>\n",
       "      <td>10800000.0</td>\n",
       "      <td>163.0</td>\n",
       "      <td>2016-05-19T00:00:00</td>\n",
       "      <td>4</td>\n",
       "      <td>NaN</td>\n",
       "      <td>7.0</td>\n",
       "      <td>80.0</td>\n",
       "      <td>7</td>\n",
       "      <td>NaN</td>\n",
       "      <td>...</td>\n",
       "      <td>11.8</td>\n",
       "      <td>NaN</td>\n",
       "      <td>Санкт-Петербург</td>\n",
       "      <td>22297.0</td>\n",
       "      <td>4648.0</td>\n",
       "      <td>1.0</td>\n",
       "      <td>125.0</td>\n",
       "      <td>0.0</td>\n",
       "      <td>NaN</td>\n",
       "      <td>614.0</td>\n",
       "    </tr>\n",
       "    <tr>\n",
       "      <th>7909</th>\n",
       "      <td>7</td>\n",
       "      <td>3988000.0</td>\n",
       "      <td>31.0</td>\n",
       "      <td>2018-09-16T00:00:00</td>\n",
       "      <td>1</td>\n",
       "      <td>2.50</td>\n",
       "      <td>5.0</td>\n",
       "      <td>17.0</td>\n",
       "      <td>3</td>\n",
       "      <td>NaN</td>\n",
       "      <td>...</td>\n",
       "      <td>5.6</td>\n",
       "      <td>NaN</td>\n",
       "      <td>Санкт-Петербург</td>\n",
       "      <td>12025.0</td>\n",
       "      <td>13701.0</td>\n",
       "      <td>0.0</td>\n",
       "      <td>NaN</td>\n",
       "      <td>0.0</td>\n",
       "      <td>NaN</td>\n",
       "      <td>NaN</td>\n",
       "    </tr>\n",
       "    <tr>\n",
       "      <th>8295</th>\n",
       "      <td>8</td>\n",
       "      <td>3485000.0</td>\n",
       "      <td>37.0</td>\n",
       "      <td>2018-10-16T00:00:00</td>\n",
       "      <td>1</td>\n",
       "      <td>2.55</td>\n",
       "      <td>6.0</td>\n",
       "      <td>17.9</td>\n",
       "      <td>2</td>\n",
       "      <td>NaN</td>\n",
       "      <td>...</td>\n",
       "      <td>8.4</td>\n",
       "      <td>NaN</td>\n",
       "      <td>Петергоф</td>\n",
       "      <td>46151.0</td>\n",
       "      <td>34044.0</td>\n",
       "      <td>1.0</td>\n",
       "      <td>185.0</td>\n",
       "      <td>1.0</td>\n",
       "      <td>755.0</td>\n",
       "      <td>59.0</td>\n",
       "    </tr>\n",
       "    <tr>\n",
       "      <th>12714</th>\n",
       "      <td>9</td>\n",
       "      <td>5840000.0</td>\n",
       "      <td>56.9</td>\n",
       "      <td>2017-07-30T00:00:00</td>\n",
       "      <td>2</td>\n",
       "      <td>2.60</td>\n",
       "      <td>10.0</td>\n",
       "      <td>32.0</td>\n",
       "      <td>10</td>\n",
       "      <td>NaN</td>\n",
       "      <td>...</td>\n",
       "      <td>9.0</td>\n",
       "      <td>1.0</td>\n",
       "      <td>Санкт-Петербург</td>\n",
       "      <td>35337.0</td>\n",
       "      <td>11240.0</td>\n",
       "      <td>0.0</td>\n",
       "      <td>NaN</td>\n",
       "      <td>1.0</td>\n",
       "      <td>1215.0</td>\n",
       "      <td>400.0</td>\n",
       "    </tr>\n",
       "  </tbody>\n",
       "</table>\n",
       "<p>15 rows × 22 columns</p>\n",
       "</div>"
      ],
      "text/plain": [
       "       total_images  last_price  total_area first_day_exposition  rooms  \\\n",
       "17338             5   3300000.0        47.0  2018-03-30T00:00:00      1   \n",
       "13876            12   2290000.0        40.0  2016-01-17T00:00:00      2   \n",
       "3586              0   5450000.0        53.8  2018-02-01T00:00:00      2   \n",
       "6495              1   5482990.0        66.1  2016-02-19T00:00:00      2   \n",
       "14431             5   4190000.0        54.0  2017-10-30T00:00:00      2   \n",
       "8363             13   5690000.0        41.7  2016-12-29T00:00:00      2   \n",
       "15270            15   4999000.0        42.0  2018-11-23T00:00:00      1   \n",
       "2143              4   3350000.0        55.5  2017-11-14T00:00:00      2   \n",
       "11284            17   3200000.0        48.0  2017-10-25T00:00:00      1   \n",
       "17095             8   5100000.0        50.2  2018-10-06T00:00:00      2   \n",
       "23016             8   4250000.0        42.0  2015-05-24T00:00:00      2   \n",
       "10926             3  10800000.0       163.0  2016-05-19T00:00:00      4   \n",
       "7909              7   3988000.0        31.0  2018-09-16T00:00:00      1   \n",
       "8295              8   3485000.0        37.0  2018-10-16T00:00:00      1   \n",
       "12714             9   5840000.0        56.9  2017-07-30T00:00:00      2   \n",
       "\n",
       "       ceiling_height  floors_total  living_area  floor is_apartment  ...  \\\n",
       "17338            3.00          10.0          NaN      4          NaN  ...   \n",
       "13876            3.00           3.0         27.0      2        False  ...   \n",
       "3586             2.85           2.0         36.5      2          NaN  ...   \n",
       "6495              NaN          25.0         43.6      1          NaN  ...   \n",
       "14431            3.00          12.0         34.0      3          NaN  ...   \n",
       "8363             3.20           5.0         23.0      2          NaN  ...   \n",
       "15270            2.80          17.0         22.0      4          NaN  ...   \n",
       "2143              NaN           5.0         33.5      3          NaN  ...   \n",
       "11284            2.80           9.0         19.0      4          NaN  ...   \n",
       "17095            2.50           3.0         28.0      1          NaN  ...   \n",
       "23016            2.75           5.0         22.0      3        False  ...   \n",
       "10926             NaN           7.0         80.0      7          NaN  ...   \n",
       "7909             2.50           5.0         17.0      3          NaN  ...   \n",
       "8295             2.55           6.0         17.9      2          NaN  ...   \n",
       "12714            2.60          10.0         32.0     10          NaN  ...   \n",
       "\n",
       "       kitchen_area  balcony            locality_name  airports_nearest  \\\n",
       "17338           NaN      NaN  деревня Новое Девяткино               NaN   \n",
       "13876           7.4      NaN                  Гатчина               NaN   \n",
       "3586            5.3      1.0          Санкт-Петербург           38914.0   \n",
       "6495           11.1      0.0            поселок Бугры               NaN   \n",
       "14431           9.0      2.0                  Гатчина               NaN   \n",
       "8363            7.5      0.0          Санкт-Петербург           23963.0   \n",
       "15270          11.0      2.0          Санкт-Петербург           30571.0   \n",
       "2143            8.5      2.0                  Гатчина               NaN   \n",
       "11284          11.5      2.0               Всеволожск               NaN   \n",
       "17095           5.4      NaN                   Пушкин           12671.0   \n",
       "23016           9.0      0.0          Санкт-Петербург           21959.0   \n",
       "10926          11.8      NaN          Санкт-Петербург           22297.0   \n",
       "7909            5.6      NaN          Санкт-Петербург           12025.0   \n",
       "8295            8.4      NaN                 Петергоф           46151.0   \n",
       "12714           9.0      1.0          Санкт-Петербург           35337.0   \n",
       "\n",
       "      cityCenters_nearest  parks_around3000  parks_nearest  ponds_around3000  \\\n",
       "17338                 NaN               NaN            NaN               NaN   \n",
       "13876                 NaN               NaN            NaN               NaN   \n",
       "3586              10617.0               1.0          255.0               0.0   \n",
       "6495                  NaN               NaN            NaN               NaN   \n",
       "14431                 NaN               NaN            NaN               NaN   \n",
       "8363               3530.0               2.0          352.0               3.0   \n",
       "15270             11470.0               1.0          721.0               0.0   \n",
       "2143                  NaN               NaN            NaN               NaN   \n",
       "11284                 NaN               NaN            NaN               NaN   \n",
       "17095             24825.0               1.0          171.0               0.0   \n",
       "23016              6233.0               0.0            NaN               2.0   \n",
       "10926              4648.0               1.0          125.0               0.0   \n",
       "7909              13701.0               0.0            NaN               0.0   \n",
       "8295              34044.0               1.0          185.0               1.0   \n",
       "12714             11240.0               0.0            NaN               1.0   \n",
       "\n",
       "       ponds_nearest  days_exposition  \n",
       "17338            NaN             42.0  \n",
       "13876            NaN            895.0  \n",
       "3586             NaN             64.0  \n",
       "6495             NaN            469.0  \n",
       "14431            NaN             73.0  \n",
       "8363           341.0            283.0  \n",
       "15270            NaN             60.0  \n",
       "2143             NaN            211.0  \n",
       "11284            NaN            246.0  \n",
       "17095            NaN             23.0  \n",
       "23016          283.0            500.0  \n",
       "10926            NaN            614.0  \n",
       "7909             NaN              NaN  \n",
       "8295           755.0             59.0  \n",
       "12714         1215.0            400.0  \n",
       "\n",
       "[15 rows x 22 columns]"
      ]
     },
     "execution_count": 3,
     "metadata": {},
     "output_type": "execute_result"
    }
   ],
   "source": [
    "# получение случайных 15 строк таблицы df\n",
    "df.sample(15, random_state=1)"
   ]
  },
  {
   "cell_type": "code",
   "execution_count": 4,
   "id": "dc95b11d-622a-4aba-834f-ebd04863a695",
   "metadata": {},
   "outputs": [
    {
     "name": "stdout",
     "output_type": "stream",
     "text": [
      "<class 'pandas.core.frame.DataFrame'>\n",
      "RangeIndex: 23699 entries, 0 to 23698\n",
      "Data columns (total 22 columns):\n",
      " #   Column                Non-Null Count  Dtype  \n",
      "---  ------                --------------  -----  \n",
      " 0   total_images          23699 non-null  int64  \n",
      " 1   last_price            23699 non-null  float64\n",
      " 2   total_area            23699 non-null  float64\n",
      " 3   first_day_exposition  23699 non-null  object \n",
      " 4   rooms                 23699 non-null  int64  \n",
      " 5   ceiling_height        14504 non-null  float64\n",
      " 6   floors_total          23613 non-null  float64\n",
      " 7   living_area           21796 non-null  float64\n",
      " 8   floor                 23699 non-null  int64  \n",
      " 9   is_apartment          2775 non-null   object \n",
      " 10  studio                23699 non-null  bool   \n",
      " 11  open_plan             23699 non-null  bool   \n",
      " 12  kitchen_area          21421 non-null  float64\n",
      " 13  balcony               12180 non-null  float64\n",
      " 14  locality_name         23650 non-null  object \n",
      " 15  airports_nearest      18157 non-null  float64\n",
      " 16  cityCenters_nearest   18180 non-null  float64\n",
      " 17  parks_around3000      18181 non-null  float64\n",
      " 18  parks_nearest         8079 non-null   float64\n",
      " 19  ponds_around3000      18181 non-null  float64\n",
      " 20  ponds_nearest         9110 non-null   float64\n",
      " 21  days_exposition       20518 non-null  float64\n",
      "dtypes: bool(2), float64(14), int64(3), object(3)\n",
      "memory usage: 3.7+ MB\n"
     ]
    }
   ],
   "source": [
    "# получение общей информации о данных в таблице df\n",
    "df.info()"
   ]
  },
  {
   "cell_type": "code",
   "execution_count": 5,
   "id": "953202fe-f360-41e6-83e2-af82f8b59aa5",
   "metadata": {},
   "outputs": [
    {
     "data": {
      "text/html": [
       "<style  type=\"text/css\" >\n",
       "</style><table id=\"T_45534_\" ><thead>    <tr>        <th class=\"blank level0\" ></th>        <th class=\"col_heading level0 col0\" >total_images</th>        <th class=\"col_heading level0 col1\" >last_price</th>        <th class=\"col_heading level0 col2\" >total_area</th>        <th class=\"col_heading level0 col3\" >rooms</th>        <th class=\"col_heading level0 col4\" >ceiling_height</th>        <th class=\"col_heading level0 col5\" >floors_total</th>        <th class=\"col_heading level0 col6\" >living_area</th>        <th class=\"col_heading level0 col7\" >floor</th>        <th class=\"col_heading level0 col8\" >kitchen_area</th>        <th class=\"col_heading level0 col9\" >balcony</th>        <th class=\"col_heading level0 col10\" >airports_nearest</th>        <th class=\"col_heading level0 col11\" >cityCenters_nearest</th>        <th class=\"col_heading level0 col12\" >parks_around3000</th>        <th class=\"col_heading level0 col13\" >parks_nearest</th>        <th class=\"col_heading level0 col14\" >ponds_around3000</th>        <th class=\"col_heading level0 col15\" >ponds_nearest</th>        <th class=\"col_heading level0 col16\" >days_exposition</th>    </tr></thead><tbody>\n",
       "                <tr>\n",
       "                        <th id=\"T_45534_level0_row0\" class=\"row_heading level0 row0\" >count</th>\n",
       "                        <td id=\"T_45534_row0_col0\" class=\"data row0 col0\" >23699.00</td>\n",
       "                        <td id=\"T_45534_row0_col1\" class=\"data row0 col1\" >23699.00</td>\n",
       "                        <td id=\"T_45534_row0_col2\" class=\"data row0 col2\" >23699.00</td>\n",
       "                        <td id=\"T_45534_row0_col3\" class=\"data row0 col3\" >23699.00</td>\n",
       "                        <td id=\"T_45534_row0_col4\" class=\"data row0 col4\" >14504.00</td>\n",
       "                        <td id=\"T_45534_row0_col5\" class=\"data row0 col5\" >23613.00</td>\n",
       "                        <td id=\"T_45534_row0_col6\" class=\"data row0 col6\" >21796.00</td>\n",
       "                        <td id=\"T_45534_row0_col7\" class=\"data row0 col7\" >23699.00</td>\n",
       "                        <td id=\"T_45534_row0_col8\" class=\"data row0 col8\" >21421.00</td>\n",
       "                        <td id=\"T_45534_row0_col9\" class=\"data row0 col9\" >12180.00</td>\n",
       "                        <td id=\"T_45534_row0_col10\" class=\"data row0 col10\" >18157.00</td>\n",
       "                        <td id=\"T_45534_row0_col11\" class=\"data row0 col11\" >18180.00</td>\n",
       "                        <td id=\"T_45534_row0_col12\" class=\"data row0 col12\" >18181.00</td>\n",
       "                        <td id=\"T_45534_row0_col13\" class=\"data row0 col13\" >8079.00</td>\n",
       "                        <td id=\"T_45534_row0_col14\" class=\"data row0 col14\" >18181.00</td>\n",
       "                        <td id=\"T_45534_row0_col15\" class=\"data row0 col15\" >9110.00</td>\n",
       "                        <td id=\"T_45534_row0_col16\" class=\"data row0 col16\" >20518.00</td>\n",
       "            </tr>\n",
       "            <tr>\n",
       "                        <th id=\"T_45534_level0_row1\" class=\"row_heading level0 row1\" >mean</th>\n",
       "                        <td id=\"T_45534_row1_col0\" class=\"data row1 col0\" >9.86</td>\n",
       "                        <td id=\"T_45534_row1_col1\" class=\"data row1 col1\" >6541548.77</td>\n",
       "                        <td id=\"T_45534_row1_col2\" class=\"data row1 col2\" >60.35</td>\n",
       "                        <td id=\"T_45534_row1_col3\" class=\"data row1 col3\" >2.07</td>\n",
       "                        <td id=\"T_45534_row1_col4\" class=\"data row1 col4\" >2.77</td>\n",
       "                        <td id=\"T_45534_row1_col5\" class=\"data row1 col5\" >10.67</td>\n",
       "                        <td id=\"T_45534_row1_col6\" class=\"data row1 col6\" >34.46</td>\n",
       "                        <td id=\"T_45534_row1_col7\" class=\"data row1 col7\" >5.89</td>\n",
       "                        <td id=\"T_45534_row1_col8\" class=\"data row1 col8\" >10.57</td>\n",
       "                        <td id=\"T_45534_row1_col9\" class=\"data row1 col9\" >1.15</td>\n",
       "                        <td id=\"T_45534_row1_col10\" class=\"data row1 col10\" >28793.67</td>\n",
       "                        <td id=\"T_45534_row1_col11\" class=\"data row1 col11\" >14191.28</td>\n",
       "                        <td id=\"T_45534_row1_col12\" class=\"data row1 col12\" >0.61</td>\n",
       "                        <td id=\"T_45534_row1_col13\" class=\"data row1 col13\" >490.80</td>\n",
       "                        <td id=\"T_45534_row1_col14\" class=\"data row1 col14\" >0.77</td>\n",
       "                        <td id=\"T_45534_row1_col15\" class=\"data row1 col15\" >517.98</td>\n",
       "                        <td id=\"T_45534_row1_col16\" class=\"data row1 col16\" >180.89</td>\n",
       "            </tr>\n",
       "            <tr>\n",
       "                        <th id=\"T_45534_level0_row2\" class=\"row_heading level0 row2\" >std</th>\n",
       "                        <td id=\"T_45534_row2_col0\" class=\"data row2 col0\" >5.68</td>\n",
       "                        <td id=\"T_45534_row2_col1\" class=\"data row2 col1\" >10887013.27</td>\n",
       "                        <td id=\"T_45534_row2_col2\" class=\"data row2 col2\" >35.65</td>\n",
       "                        <td id=\"T_45534_row2_col3\" class=\"data row2 col3\" >1.08</td>\n",
       "                        <td id=\"T_45534_row2_col4\" class=\"data row2 col4\" >1.26</td>\n",
       "                        <td id=\"T_45534_row2_col5\" class=\"data row2 col5\" >6.60</td>\n",
       "                        <td id=\"T_45534_row2_col6\" class=\"data row2 col6\" >22.03</td>\n",
       "                        <td id=\"T_45534_row2_col7\" class=\"data row2 col7\" >4.89</td>\n",
       "                        <td id=\"T_45534_row2_col8\" class=\"data row2 col8\" >5.91</td>\n",
       "                        <td id=\"T_45534_row2_col9\" class=\"data row2 col9\" >1.07</td>\n",
       "                        <td id=\"T_45534_row2_col10\" class=\"data row2 col10\" >12630.88</td>\n",
       "                        <td id=\"T_45534_row2_col11\" class=\"data row2 col11\" >8608.39</td>\n",
       "                        <td id=\"T_45534_row2_col12\" class=\"data row2 col12\" >0.80</td>\n",
       "                        <td id=\"T_45534_row2_col13\" class=\"data row2 col13\" >342.32</td>\n",
       "                        <td id=\"T_45534_row2_col14\" class=\"data row2 col14\" >0.94</td>\n",
       "                        <td id=\"T_45534_row2_col15\" class=\"data row2 col15\" >277.72</td>\n",
       "                        <td id=\"T_45534_row2_col16\" class=\"data row2 col16\" >219.73</td>\n",
       "            </tr>\n",
       "            <tr>\n",
       "                        <th id=\"T_45534_level0_row3\" class=\"row_heading level0 row3\" >min</th>\n",
       "                        <td id=\"T_45534_row3_col0\" class=\"data row3 col0\" >0.00</td>\n",
       "                        <td id=\"T_45534_row3_col1\" class=\"data row3 col1\" >12190.00</td>\n",
       "                        <td id=\"T_45534_row3_col2\" class=\"data row3 col2\" >12.00</td>\n",
       "                        <td id=\"T_45534_row3_col3\" class=\"data row3 col3\" >0.00</td>\n",
       "                        <td id=\"T_45534_row3_col4\" class=\"data row3 col4\" >1.00</td>\n",
       "                        <td id=\"T_45534_row3_col5\" class=\"data row3 col5\" >1.00</td>\n",
       "                        <td id=\"T_45534_row3_col6\" class=\"data row3 col6\" >2.00</td>\n",
       "                        <td id=\"T_45534_row3_col7\" class=\"data row3 col7\" >1.00</td>\n",
       "                        <td id=\"T_45534_row3_col8\" class=\"data row3 col8\" >1.30</td>\n",
       "                        <td id=\"T_45534_row3_col9\" class=\"data row3 col9\" >0.00</td>\n",
       "                        <td id=\"T_45534_row3_col10\" class=\"data row3 col10\" >0.00</td>\n",
       "                        <td id=\"T_45534_row3_col11\" class=\"data row3 col11\" >181.00</td>\n",
       "                        <td id=\"T_45534_row3_col12\" class=\"data row3 col12\" >0.00</td>\n",
       "                        <td id=\"T_45534_row3_col13\" class=\"data row3 col13\" >1.00</td>\n",
       "                        <td id=\"T_45534_row3_col14\" class=\"data row3 col14\" >0.00</td>\n",
       "                        <td id=\"T_45534_row3_col15\" class=\"data row3 col15\" >13.00</td>\n",
       "                        <td id=\"T_45534_row3_col16\" class=\"data row3 col16\" >1.00</td>\n",
       "            </tr>\n",
       "            <tr>\n",
       "                        <th id=\"T_45534_level0_row4\" class=\"row_heading level0 row4\" >25%</th>\n",
       "                        <td id=\"T_45534_row4_col0\" class=\"data row4 col0\" >6.00</td>\n",
       "                        <td id=\"T_45534_row4_col1\" class=\"data row4 col1\" >3400000.00</td>\n",
       "                        <td id=\"T_45534_row4_col2\" class=\"data row4 col2\" >40.00</td>\n",
       "                        <td id=\"T_45534_row4_col3\" class=\"data row4 col3\" >1.00</td>\n",
       "                        <td id=\"T_45534_row4_col4\" class=\"data row4 col4\" >2.52</td>\n",
       "                        <td id=\"T_45534_row4_col5\" class=\"data row4 col5\" >5.00</td>\n",
       "                        <td id=\"T_45534_row4_col6\" class=\"data row4 col6\" >18.60</td>\n",
       "                        <td id=\"T_45534_row4_col7\" class=\"data row4 col7\" >2.00</td>\n",
       "                        <td id=\"T_45534_row4_col8\" class=\"data row4 col8\" >7.00</td>\n",
       "                        <td id=\"T_45534_row4_col9\" class=\"data row4 col9\" >0.00</td>\n",
       "                        <td id=\"T_45534_row4_col10\" class=\"data row4 col10\" >18585.00</td>\n",
       "                        <td id=\"T_45534_row4_col11\" class=\"data row4 col11\" >9238.00</td>\n",
       "                        <td id=\"T_45534_row4_col12\" class=\"data row4 col12\" >0.00</td>\n",
       "                        <td id=\"T_45534_row4_col13\" class=\"data row4 col13\" >288.00</td>\n",
       "                        <td id=\"T_45534_row4_col14\" class=\"data row4 col14\" >0.00</td>\n",
       "                        <td id=\"T_45534_row4_col15\" class=\"data row4 col15\" >294.00</td>\n",
       "                        <td id=\"T_45534_row4_col16\" class=\"data row4 col16\" >45.00</td>\n",
       "            </tr>\n",
       "            <tr>\n",
       "                        <th id=\"T_45534_level0_row5\" class=\"row_heading level0 row5\" >50%</th>\n",
       "                        <td id=\"T_45534_row5_col0\" class=\"data row5 col0\" >9.00</td>\n",
       "                        <td id=\"T_45534_row5_col1\" class=\"data row5 col1\" >4650000.00</td>\n",
       "                        <td id=\"T_45534_row5_col2\" class=\"data row5 col2\" >52.00</td>\n",
       "                        <td id=\"T_45534_row5_col3\" class=\"data row5 col3\" >2.00</td>\n",
       "                        <td id=\"T_45534_row5_col4\" class=\"data row5 col4\" >2.65</td>\n",
       "                        <td id=\"T_45534_row5_col5\" class=\"data row5 col5\" >9.00</td>\n",
       "                        <td id=\"T_45534_row5_col6\" class=\"data row5 col6\" >30.00</td>\n",
       "                        <td id=\"T_45534_row5_col7\" class=\"data row5 col7\" >4.00</td>\n",
       "                        <td id=\"T_45534_row5_col8\" class=\"data row5 col8\" >9.10</td>\n",
       "                        <td id=\"T_45534_row5_col9\" class=\"data row5 col9\" >1.00</td>\n",
       "                        <td id=\"T_45534_row5_col10\" class=\"data row5 col10\" >26726.00</td>\n",
       "                        <td id=\"T_45534_row5_col11\" class=\"data row5 col11\" >13098.50</td>\n",
       "                        <td id=\"T_45534_row5_col12\" class=\"data row5 col12\" >0.00</td>\n",
       "                        <td id=\"T_45534_row5_col13\" class=\"data row5 col13\" >455.00</td>\n",
       "                        <td id=\"T_45534_row5_col14\" class=\"data row5 col14\" >1.00</td>\n",
       "                        <td id=\"T_45534_row5_col15\" class=\"data row5 col15\" >502.00</td>\n",
       "                        <td id=\"T_45534_row5_col16\" class=\"data row5 col16\" >95.00</td>\n",
       "            </tr>\n",
       "            <tr>\n",
       "                        <th id=\"T_45534_level0_row6\" class=\"row_heading level0 row6\" >75%</th>\n",
       "                        <td id=\"T_45534_row6_col0\" class=\"data row6 col0\" >14.00</td>\n",
       "                        <td id=\"T_45534_row6_col1\" class=\"data row6 col1\" >6800000.00</td>\n",
       "                        <td id=\"T_45534_row6_col2\" class=\"data row6 col2\" >69.90</td>\n",
       "                        <td id=\"T_45534_row6_col3\" class=\"data row6 col3\" >3.00</td>\n",
       "                        <td id=\"T_45534_row6_col4\" class=\"data row6 col4\" >2.80</td>\n",
       "                        <td id=\"T_45534_row6_col5\" class=\"data row6 col5\" >16.00</td>\n",
       "                        <td id=\"T_45534_row6_col6\" class=\"data row6 col6\" >42.30</td>\n",
       "                        <td id=\"T_45534_row6_col7\" class=\"data row6 col7\" >8.00</td>\n",
       "                        <td id=\"T_45534_row6_col8\" class=\"data row6 col8\" >12.00</td>\n",
       "                        <td id=\"T_45534_row6_col9\" class=\"data row6 col9\" >2.00</td>\n",
       "                        <td id=\"T_45534_row6_col10\" class=\"data row6 col10\" >37273.00</td>\n",
       "                        <td id=\"T_45534_row6_col11\" class=\"data row6 col11\" >16293.00</td>\n",
       "                        <td id=\"T_45534_row6_col12\" class=\"data row6 col12\" >1.00</td>\n",
       "                        <td id=\"T_45534_row6_col13\" class=\"data row6 col13\" >612.00</td>\n",
       "                        <td id=\"T_45534_row6_col14\" class=\"data row6 col14\" >1.00</td>\n",
       "                        <td id=\"T_45534_row6_col15\" class=\"data row6 col15\" >729.00</td>\n",
       "                        <td id=\"T_45534_row6_col16\" class=\"data row6 col16\" >232.00</td>\n",
       "            </tr>\n",
       "            <tr>\n",
       "                        <th id=\"T_45534_level0_row7\" class=\"row_heading level0 row7\" >max</th>\n",
       "                        <td id=\"T_45534_row7_col0\" class=\"data row7 col0\" >50.00</td>\n",
       "                        <td id=\"T_45534_row7_col1\" class=\"data row7 col1\" >763000000.00</td>\n",
       "                        <td id=\"T_45534_row7_col2\" class=\"data row7 col2\" >900.00</td>\n",
       "                        <td id=\"T_45534_row7_col3\" class=\"data row7 col3\" >19.00</td>\n",
       "                        <td id=\"T_45534_row7_col4\" class=\"data row7 col4\" >100.00</td>\n",
       "                        <td id=\"T_45534_row7_col5\" class=\"data row7 col5\" >60.00</td>\n",
       "                        <td id=\"T_45534_row7_col6\" class=\"data row7 col6\" >409.70</td>\n",
       "                        <td id=\"T_45534_row7_col7\" class=\"data row7 col7\" >33.00</td>\n",
       "                        <td id=\"T_45534_row7_col8\" class=\"data row7 col8\" >112.00</td>\n",
       "                        <td id=\"T_45534_row7_col9\" class=\"data row7 col9\" >5.00</td>\n",
       "                        <td id=\"T_45534_row7_col10\" class=\"data row7 col10\" >84869.00</td>\n",
       "                        <td id=\"T_45534_row7_col11\" class=\"data row7 col11\" >65968.00</td>\n",
       "                        <td id=\"T_45534_row7_col12\" class=\"data row7 col12\" >3.00</td>\n",
       "                        <td id=\"T_45534_row7_col13\" class=\"data row7 col13\" >3190.00</td>\n",
       "                        <td id=\"T_45534_row7_col14\" class=\"data row7 col14\" >3.00</td>\n",
       "                        <td id=\"T_45534_row7_col15\" class=\"data row7 col15\" >1344.00</td>\n",
       "                        <td id=\"T_45534_row7_col16\" class=\"data row7 col16\" >1580.00</td>\n",
       "            </tr>\n",
       "    </tbody></table>"
      ],
      "text/plain": [
       "<pandas.io.formats.style.Styler at 0x148ebe99070>"
      ]
     },
     "execution_count": 5,
     "metadata": {},
     "output_type": "execute_result"
    }
   ],
   "source": [
    "# получение данных о характерных значениях для столбцов df\n",
    "df.describe().style.format('{:.2f}')"
   ]
  },
  {
   "cell_type": "markdown",
   "id": "1761b2fe-cee1-4d81-ac5f-dabbafb12ef2",
   "metadata": {},
   "source": [
    "**Промежуточные выводы**\n",
    "\n",
    "Предварительно взглянув на данные, можно заметить определённые проблемы и артефакты, например:\n",
    "\n",
    "1. В большинстве столбцов в том или ином количестве присутствуют пропущенные значения.\n",
    "2. Для многих столбцов выбраны типы данных, не соответствующие характеру этих данных: `float` вместо `int`, `object` вместо `datetime` или `bool`.\n",
    "3. Проблемы с наименованиями столбцов: встречаются записи не в одном регистре, слитное написание отдельных слов, не совсем характерные по смыслу названия, например, `airports_nearest` было бы логичнее назвать `m_to_nearest_airport`.\n",
    "4. Значения `locality_name` также отображаются в разном регистре.\n",
    "5. Помещения со стоимостью в районе 12 190 при значении первого квартиля для данного региона, равном 3 400 000, как и имеющие высооту потолка 1 м, вряд ли являются жилыми в принципе; также нереалистично выглядит, например, значение высоты потолка 100 м."
   ]
  },
  {
   "cell_type": "markdown",
   "id": "2e3d5c3d-58d1-4f89-9b84-b84cb84edfbf",
   "metadata": {},
   "source": [
    "## Предобработка данных"
   ]
  },
  {
   "cell_type": "markdown",
   "id": "c30a0558",
   "metadata": {},
   "source": [
    "### Заполнение пропусков"
   ]
  },
  {
   "cell_type": "markdown",
   "id": "c264793d-f74c-4112-8f5e-3292c8b5b7cc",
   "metadata": {},
   "source": [
    "При изучении данных было замечено, что пропуски присутствуют в большинстве столбцов. Оценим долю пропусков в каждом, что в дополнение к информации о том, значения какого именно параметра пропущены, поможет определиться с тем, что следует сделать с найденными пропусками — заменить какими-либо значениями или же оставить как есть."
   ]
  },
  {
   "cell_type": "code",
   "execution_count": 6,
   "id": "cf2c1490-b45f-4793-8bb2-8ca0442015af",
   "metadata": {},
   "outputs": [
    {
     "name": "stdout",
     "output_type": "stream",
     "text": [
      "Доля пропущенных значений столбца total_images равна 0.00%\n",
      "Доля пропущенных значений столбца last_price равна 0.00%\n",
      "Доля пропущенных значений столбца total_area равна 0.00%\n",
      "Доля пропущенных значений столбца first_day_exposition равна 0.00%\n",
      "Доля пропущенных значений столбца rooms равна 0.00%\n",
      "Доля пропущенных значений столбца ceiling_height равна 38.80%\n",
      "Доля пропущенных значений столбца floors_total равна 0.36%\n",
      "Доля пропущенных значений столбца living_area равна 8.03%\n",
      "Доля пропущенных значений столбца floor равна 0.00%\n",
      "Доля пропущенных значений столбца is_apartment равна 88.29%\n",
      "Доля пропущенных значений столбца studio равна 0.00%\n",
      "Доля пропущенных значений столбца open_plan равна 0.00%\n",
      "Доля пропущенных значений столбца kitchen_area равна 9.61%\n",
      "Доля пропущенных значений столбца balcony равна 48.61%\n",
      "Доля пропущенных значений столбца locality_name равна 0.21%\n",
      "Доля пропущенных значений столбца airports_nearest равна 23.38%\n",
      "Доля пропущенных значений столбца cityCenters_nearest равна 23.29%\n",
      "Доля пропущенных значений столбца parks_around3000 равна 23.28%\n",
      "Доля пропущенных значений столбца parks_nearest равна 65.91%\n",
      "Доля пропущенных значений столбца ponds_around3000 равна 23.28%\n",
      "Доля пропущенных значений столбца ponds_nearest равна 61.56%\n",
      "Доля пропущенных значений столбца days_exposition равна 13.42%\n"
     ]
    }
   ],
   "source": [
    "# вывод доли пропущенных значений столбцов df\n",
    "for column in df.columns:\n",
    "    missing_values_part = df[column].isna().mean()\n",
    "    print(f'Доля пропущенных значений столбца {column} равна {missing_values_part:.2%}')"
   ]
  },
  {
   "cell_type": "markdown",
   "id": "881ad93d",
   "metadata": {},
   "source": [
    "Рассмотрим также корреляцию параметров квартир, возможно, какие-то столбцы с пропусками сильно связаны с другими столбцами, на что можно будет ориентироваться при замене значений."
   ]
  },
  {
   "cell_type": "code",
   "execution_count": 7,
   "id": "e7dbebd7",
   "metadata": {},
   "outputs": [
    {
     "data": {
      "text/html": [
       "<div>\n",
       "<style scoped>\n",
       "    .dataframe tbody tr th:only-of-type {\n",
       "        vertical-align: middle;\n",
       "    }\n",
       "\n",
       "    .dataframe tbody tr th {\n",
       "        vertical-align: top;\n",
       "    }\n",
       "\n",
       "    .dataframe thead th {\n",
       "        text-align: right;\n",
       "    }\n",
       "</style>\n",
       "<table border=\"1\" class=\"dataframe\">\n",
       "  <thead>\n",
       "    <tr style=\"text-align: right;\">\n",
       "      <th></th>\n",
       "      <th>total_images</th>\n",
       "      <th>last_price</th>\n",
       "      <th>total_area</th>\n",
       "      <th>rooms</th>\n",
       "      <th>ceiling_height</th>\n",
       "      <th>floors_total</th>\n",
       "      <th>living_area</th>\n",
       "      <th>floor</th>\n",
       "      <th>studio</th>\n",
       "      <th>open_plan</th>\n",
       "      <th>kitchen_area</th>\n",
       "      <th>balcony</th>\n",
       "      <th>airports_nearest</th>\n",
       "      <th>cityCenters_nearest</th>\n",
       "      <th>parks_around3000</th>\n",
       "      <th>parks_nearest</th>\n",
       "      <th>ponds_around3000</th>\n",
       "      <th>ponds_nearest</th>\n",
       "      <th>days_exposition</th>\n",
       "    </tr>\n",
       "  </thead>\n",
       "  <tbody>\n",
       "    <tr>\n",
       "      <th>total_images</th>\n",
       "      <td>1.000000</td>\n",
       "      <td>0.104473</td>\n",
       "      <td>0.115352</td>\n",
       "      <td>0.099288</td>\n",
       "      <td>-0.001987</td>\n",
       "      <td>0.010427</td>\n",
       "      <td>0.104780</td>\n",
       "      <td>0.031340</td>\n",
       "      <td>-0.029303</td>\n",
       "      <td>-0.024407</td>\n",
       "      <td>0.104756</td>\n",
       "      <td>0.121693</td>\n",
       "      <td>-0.002298</td>\n",
       "      <td>-0.047666</td>\n",
       "      <td>0.021120</td>\n",
       "      <td>-0.008347</td>\n",
       "      <td>-0.011553</td>\n",
       "      <td>-0.003034</td>\n",
       "      <td>-0.026657</td>\n",
       "    </tr>\n",
       "    <tr>\n",
       "      <th>last_price</th>\n",
       "      <td>0.104473</td>\n",
       "      <td>1.000000</td>\n",
       "      <td>0.653675</td>\n",
       "      <td>0.363343</td>\n",
       "      <td>0.085430</td>\n",
       "      <td>-0.006984</td>\n",
       "      <td>0.566492</td>\n",
       "      <td>0.026576</td>\n",
       "      <td>-0.025362</td>\n",
       "      <td>-0.008802</td>\n",
       "      <td>0.519869</td>\n",
       "      <td>0.029646</td>\n",
       "      <td>-0.026239</td>\n",
       "      <td>-0.206747</td>\n",
       "      <td>0.151058</td>\n",
       "      <td>-0.016414</td>\n",
       "      <td>0.159996</td>\n",
       "      <td>-0.084809</td>\n",
       "      <td>0.081146</td>\n",
       "    </tr>\n",
       "    <tr>\n",
       "      <th>total_area</th>\n",
       "      <td>0.115352</td>\n",
       "      <td>0.653675</td>\n",
       "      <td>1.000000</td>\n",
       "      <td>0.758344</td>\n",
       "      <td>0.095490</td>\n",
       "      <td>-0.075774</td>\n",
       "      <td>0.939537</td>\n",
       "      <td>-0.024754</td>\n",
       "      <td>-0.072653</td>\n",
       "      <td>-0.034885</td>\n",
       "      <td>0.609121</td>\n",
       "      <td>0.047937</td>\n",
       "      <td>-0.030753</td>\n",
       "      <td>-0.231446</td>\n",
       "      <td>0.164689</td>\n",
       "      <td>-0.021497</td>\n",
       "      <td>0.162346</td>\n",
       "      <td>-0.097969</td>\n",
       "      <td>0.149675</td>\n",
       "    </tr>\n",
       "    <tr>\n",
       "      <th>rooms</th>\n",
       "      <td>0.099288</td>\n",
       "      <td>0.363343</td>\n",
       "      <td>0.758344</td>\n",
       "      <td>1.000000</td>\n",
       "      <td>0.054457</td>\n",
       "      <td>-0.228215</td>\n",
       "      <td>0.845977</td>\n",
       "      <td>-0.150862</td>\n",
       "      <td>-0.147286</td>\n",
       "      <td>-0.087500</td>\n",
       "      <td>0.269945</td>\n",
       "      <td>0.017991</td>\n",
       "      <td>-0.061199</td>\n",
       "      <td>-0.184864</td>\n",
       "      <td>0.137257</td>\n",
       "      <td>-0.054549</td>\n",
       "      <td>0.092693</td>\n",
       "      <td>-0.057689</td>\n",
       "      <td>0.126961</td>\n",
       "    </tr>\n",
       "    <tr>\n",
       "      <th>ceiling_height</th>\n",
       "      <td>-0.001987</td>\n",
       "      <td>0.085430</td>\n",
       "      <td>0.095490</td>\n",
       "      <td>0.054457</td>\n",
       "      <td>1.000000</td>\n",
       "      <td>-0.028732</td>\n",
       "      <td>0.090650</td>\n",
       "      <td>-0.011798</td>\n",
       "      <td>0.001674</td>\n",
       "      <td>0.042777</td>\n",
       "      <td>0.087641</td>\n",
       "      <td>0.040523</td>\n",
       "      <td>-0.023947</td>\n",
       "      <td>-0.091689</td>\n",
       "      <td>0.065915</td>\n",
       "      <td>-0.019167</td>\n",
       "      <td>0.078209</td>\n",
       "      <td>-0.059090</td>\n",
       "      <td>0.019091</td>\n",
       "    </tr>\n",
       "    <tr>\n",
       "      <th>floors_total</th>\n",
       "      <td>0.010427</td>\n",
       "      <td>-0.006984</td>\n",
       "      <td>-0.075774</td>\n",
       "      <td>-0.228215</td>\n",
       "      <td>-0.028732</td>\n",
       "      <td>1.000000</td>\n",
       "      <td>-0.169311</td>\n",
       "      <td>0.678059</td>\n",
       "      <td>0.070151</td>\n",
       "      <td>0.050791</td>\n",
       "      <td>0.163944</td>\n",
       "      <td>0.194065</td>\n",
       "      <td>0.108288</td>\n",
       "      <td>0.019774</td>\n",
       "      <td>-0.252833</td>\n",
       "      <td>0.097527</td>\n",
       "      <td>-0.122735</td>\n",
       "      <td>0.038864</td>\n",
       "      <td>-0.052234</td>\n",
       "    </tr>\n",
       "    <tr>\n",
       "      <th>living_area</th>\n",
       "      <td>0.104780</td>\n",
       "      <td>0.566492</td>\n",
       "      <td>0.939537</td>\n",
       "      <td>0.845977</td>\n",
       "      <td>0.090650</td>\n",
       "      <td>-0.169311</td>\n",
       "      <td>1.000000</td>\n",
       "      <td>-0.097210</td>\n",
       "      <td>-0.056231</td>\n",
       "      <td>-0.033711</td>\n",
       "      <td>0.428674</td>\n",
       "      <td>0.018849</td>\n",
       "      <td>-0.057912</td>\n",
       "      <td>-0.231368</td>\n",
       "      <td>0.184453</td>\n",
       "      <td>-0.050167</td>\n",
       "      <td>0.148933</td>\n",
       "      <td>-0.081674</td>\n",
       "      <td>0.142454</td>\n",
       "    </tr>\n",
       "    <tr>\n",
       "      <th>floor</th>\n",
       "      <td>0.031340</td>\n",
       "      <td>0.026576</td>\n",
       "      <td>-0.024754</td>\n",
       "      <td>-0.150862</td>\n",
       "      <td>-0.011798</td>\n",
       "      <td>0.678059</td>\n",
       "      <td>-0.097210</td>\n",
       "      <td>1.000000</td>\n",
       "      <td>0.036940</td>\n",
       "      <td>0.035824</td>\n",
       "      <td>0.135531</td>\n",
       "      <td>0.168773</td>\n",
       "      <td>0.071597</td>\n",
       "      <td>0.009084</td>\n",
       "      <td>-0.163784</td>\n",
       "      <td>0.073045</td>\n",
       "      <td>-0.076312</td>\n",
       "      <td>0.024850</td>\n",
       "      <td>-0.039463</td>\n",
       "    </tr>\n",
       "    <tr>\n",
       "      <th>studio</th>\n",
       "      <td>-0.029303</td>\n",
       "      <td>-0.025362</td>\n",
       "      <td>-0.072653</td>\n",
       "      <td>-0.147286</td>\n",
       "      <td>0.001674</td>\n",
       "      <td>0.070151</td>\n",
       "      <td>-0.056231</td>\n",
       "      <td>0.036940</td>\n",
       "      <td>1.000000</td>\n",
       "      <td>-0.004235</td>\n",
       "      <td>NaN</td>\n",
       "      <td>0.031455</td>\n",
       "      <td>-0.021876</td>\n",
       "      <td>-0.007029</td>\n",
       "      <td>-0.030202</td>\n",
       "      <td>0.009134</td>\n",
       "      <td>0.000939</td>\n",
       "      <td>0.002606</td>\n",
       "      <td>-0.022476</td>\n",
       "    </tr>\n",
       "    <tr>\n",
       "      <th>open_plan</th>\n",
       "      <td>-0.024407</td>\n",
       "      <td>-0.008802</td>\n",
       "      <td>-0.034885</td>\n",
       "      <td>-0.087500</td>\n",
       "      <td>0.042777</td>\n",
       "      <td>0.050791</td>\n",
       "      <td>-0.033711</td>\n",
       "      <td>0.035824</td>\n",
       "      <td>-0.004235</td>\n",
       "      <td>1.000000</td>\n",
       "      <td>NaN</td>\n",
       "      <td>0.019491</td>\n",
       "      <td>-0.013583</td>\n",
       "      <td>-0.004204</td>\n",
       "      <td>-0.010077</td>\n",
       "      <td>0.010612</td>\n",
       "      <td>0.008455</td>\n",
       "      <td>-0.003328</td>\n",
       "      <td>-0.024112</td>\n",
       "    </tr>\n",
       "    <tr>\n",
       "      <th>kitchen_area</th>\n",
       "      <td>0.104756</td>\n",
       "      <td>0.519869</td>\n",
       "      <td>0.609121</td>\n",
       "      <td>0.269945</td>\n",
       "      <td>0.087641</td>\n",
       "      <td>0.163944</td>\n",
       "      <td>0.428674</td>\n",
       "      <td>0.135531</td>\n",
       "      <td>NaN</td>\n",
       "      <td>NaN</td>\n",
       "      <td>1.000000</td>\n",
       "      <td>0.098634</td>\n",
       "      <td>0.008200</td>\n",
       "      <td>-0.190049</td>\n",
       "      <td>0.087503</td>\n",
       "      <td>0.029641</td>\n",
       "      <td>0.150148</td>\n",
       "      <td>-0.105223</td>\n",
       "      <td>0.100586</td>\n",
       "    </tr>\n",
       "    <tr>\n",
       "      <th>balcony</th>\n",
       "      <td>0.121693</td>\n",
       "      <td>0.029646</td>\n",
       "      <td>0.047937</td>\n",
       "      <td>0.017991</td>\n",
       "      <td>0.040523</td>\n",
       "      <td>0.194065</td>\n",
       "      <td>0.018849</td>\n",
       "      <td>0.168773</td>\n",
       "      <td>0.031455</td>\n",
       "      <td>0.019491</td>\n",
       "      <td>0.098634</td>\n",
       "      <td>1.000000</td>\n",
       "      <td>0.066834</td>\n",
       "      <td>0.051051</td>\n",
       "      <td>-0.082850</td>\n",
       "      <td>0.052328</td>\n",
       "      <td>-0.032709</td>\n",
       "      <td>0.010847</td>\n",
       "      <td>-0.032909</td>\n",
       "    </tr>\n",
       "    <tr>\n",
       "      <th>airports_nearest</th>\n",
       "      <td>-0.002298</td>\n",
       "      <td>-0.026239</td>\n",
       "      <td>-0.030753</td>\n",
       "      <td>-0.061199</td>\n",
       "      <td>-0.023947</td>\n",
       "      <td>0.108288</td>\n",
       "      <td>-0.057912</td>\n",
       "      <td>0.071597</td>\n",
       "      <td>-0.021876</td>\n",
       "      <td>-0.013583</td>\n",
       "      <td>0.008200</td>\n",
       "      <td>0.066834</td>\n",
       "      <td>1.000000</td>\n",
       "      <td>0.272184</td>\n",
       "      <td>0.000759</td>\n",
       "      <td>-0.070058</td>\n",
       "      <td>-0.049583</td>\n",
       "      <td>0.014049</td>\n",
       "      <td>-0.018271</td>\n",
       "    </tr>\n",
       "    <tr>\n",
       "      <th>cityCenters_nearest</th>\n",
       "      <td>-0.047666</td>\n",
       "      <td>-0.206747</td>\n",
       "      <td>-0.231446</td>\n",
       "      <td>-0.184864</td>\n",
       "      <td>-0.091689</td>\n",
       "      <td>0.019774</td>\n",
       "      <td>-0.231368</td>\n",
       "      <td>0.009084</td>\n",
       "      <td>-0.007029</td>\n",
       "      <td>-0.004204</td>\n",
       "      <td>-0.190049</td>\n",
       "      <td>0.051051</td>\n",
       "      <td>0.272184</td>\n",
       "      <td>1.000000</td>\n",
       "      <td>-0.161738</td>\n",
       "      <td>-0.040650</td>\n",
       "      <td>-0.074577</td>\n",
       "      <td>0.028903</td>\n",
       "      <td>-0.060714</td>\n",
       "    </tr>\n",
       "    <tr>\n",
       "      <th>parks_around3000</th>\n",
       "      <td>0.021120</td>\n",
       "      <td>0.151058</td>\n",
       "      <td>0.164689</td>\n",
       "      <td>0.137257</td>\n",
       "      <td>0.065915</td>\n",
       "      <td>-0.252833</td>\n",
       "      <td>0.184453</td>\n",
       "      <td>-0.163784</td>\n",
       "      <td>-0.030202</td>\n",
       "      <td>-0.010077</td>\n",
       "      <td>0.087503</td>\n",
       "      <td>-0.082850</td>\n",
       "      <td>0.000759</td>\n",
       "      <td>-0.161738</td>\n",
       "      <td>1.000000</td>\n",
       "      <td>-0.259514</td>\n",
       "      <td>0.304316</td>\n",
       "      <td>-0.167103</td>\n",
       "      <td>0.060491</td>\n",
       "    </tr>\n",
       "    <tr>\n",
       "      <th>parks_nearest</th>\n",
       "      <td>-0.008347</td>\n",
       "      <td>-0.016414</td>\n",
       "      <td>-0.021497</td>\n",
       "      <td>-0.054549</td>\n",
       "      <td>-0.019167</td>\n",
       "      <td>0.097527</td>\n",
       "      <td>-0.050167</td>\n",
       "      <td>0.073045</td>\n",
       "      <td>0.009134</td>\n",
       "      <td>0.010612</td>\n",
       "      <td>0.029641</td>\n",
       "      <td>0.052328</td>\n",
       "      <td>-0.070058</td>\n",
       "      <td>-0.040650</td>\n",
       "      <td>-0.259514</td>\n",
       "      <td>1.000000</td>\n",
       "      <td>0.077280</td>\n",
       "      <td>0.000692</td>\n",
       "      <td>0.023254</td>\n",
       "    </tr>\n",
       "    <tr>\n",
       "      <th>ponds_around3000</th>\n",
       "      <td>-0.011553</td>\n",
       "      <td>0.159996</td>\n",
       "      <td>0.162346</td>\n",
       "      <td>0.092693</td>\n",
       "      <td>0.078209</td>\n",
       "      <td>-0.122735</td>\n",
       "      <td>0.148933</td>\n",
       "      <td>-0.076312</td>\n",
       "      <td>0.000939</td>\n",
       "      <td>0.008455</td>\n",
       "      <td>0.150148</td>\n",
       "      <td>-0.032709</td>\n",
       "      <td>-0.049583</td>\n",
       "      <td>-0.074577</td>\n",
       "      <td>0.304316</td>\n",
       "      <td>0.077280</td>\n",
       "      <td>1.000000</td>\n",
       "      <td>-0.341840</td>\n",
       "      <td>0.073162</td>\n",
       "    </tr>\n",
       "    <tr>\n",
       "      <th>ponds_nearest</th>\n",
       "      <td>-0.003034</td>\n",
       "      <td>-0.084809</td>\n",
       "      <td>-0.097969</td>\n",
       "      <td>-0.057689</td>\n",
       "      <td>-0.059090</td>\n",
       "      <td>0.038864</td>\n",
       "      <td>-0.081674</td>\n",
       "      <td>0.024850</td>\n",
       "      <td>0.002606</td>\n",
       "      <td>-0.003328</td>\n",
       "      <td>-0.105223</td>\n",
       "      <td>0.010847</td>\n",
       "      <td>0.014049</td>\n",
       "      <td>0.028903</td>\n",
       "      <td>-0.167103</td>\n",
       "      <td>0.000692</td>\n",
       "      <td>-0.341840</td>\n",
       "      <td>1.000000</td>\n",
       "      <td>-0.077879</td>\n",
       "    </tr>\n",
       "    <tr>\n",
       "      <th>days_exposition</th>\n",
       "      <td>-0.026657</td>\n",
       "      <td>0.081146</td>\n",
       "      <td>0.149675</td>\n",
       "      <td>0.126961</td>\n",
       "      <td>0.019091</td>\n",
       "      <td>-0.052234</td>\n",
       "      <td>0.142454</td>\n",
       "      <td>-0.039463</td>\n",
       "      <td>-0.022476</td>\n",
       "      <td>-0.024112</td>\n",
       "      <td>0.100586</td>\n",
       "      <td>-0.032909</td>\n",
       "      <td>-0.018271</td>\n",
       "      <td>-0.060714</td>\n",
       "      <td>0.060491</td>\n",
       "      <td>0.023254</td>\n",
       "      <td>0.073162</td>\n",
       "      <td>-0.077879</td>\n",
       "      <td>1.000000</td>\n",
       "    </tr>\n",
       "  </tbody>\n",
       "</table>\n",
       "</div>"
      ],
      "text/plain": [
       "                     total_images  last_price  total_area     rooms  \\\n",
       "total_images             1.000000    0.104473    0.115352  0.099288   \n",
       "last_price               0.104473    1.000000    0.653675  0.363343   \n",
       "total_area               0.115352    0.653675    1.000000  0.758344   \n",
       "rooms                    0.099288    0.363343    0.758344  1.000000   \n",
       "ceiling_height          -0.001987    0.085430    0.095490  0.054457   \n",
       "floors_total             0.010427   -0.006984   -0.075774 -0.228215   \n",
       "living_area              0.104780    0.566492    0.939537  0.845977   \n",
       "floor                    0.031340    0.026576   -0.024754 -0.150862   \n",
       "studio                  -0.029303   -0.025362   -0.072653 -0.147286   \n",
       "open_plan               -0.024407   -0.008802   -0.034885 -0.087500   \n",
       "kitchen_area             0.104756    0.519869    0.609121  0.269945   \n",
       "balcony                  0.121693    0.029646    0.047937  0.017991   \n",
       "airports_nearest        -0.002298   -0.026239   -0.030753 -0.061199   \n",
       "cityCenters_nearest     -0.047666   -0.206747   -0.231446 -0.184864   \n",
       "parks_around3000         0.021120    0.151058    0.164689  0.137257   \n",
       "parks_nearest           -0.008347   -0.016414   -0.021497 -0.054549   \n",
       "ponds_around3000        -0.011553    0.159996    0.162346  0.092693   \n",
       "ponds_nearest           -0.003034   -0.084809   -0.097969 -0.057689   \n",
       "days_exposition         -0.026657    0.081146    0.149675  0.126961   \n",
       "\n",
       "                     ceiling_height  floors_total  living_area     floor  \\\n",
       "total_images              -0.001987      0.010427     0.104780  0.031340   \n",
       "last_price                 0.085430     -0.006984     0.566492  0.026576   \n",
       "total_area                 0.095490     -0.075774     0.939537 -0.024754   \n",
       "rooms                      0.054457     -0.228215     0.845977 -0.150862   \n",
       "ceiling_height             1.000000     -0.028732     0.090650 -0.011798   \n",
       "floors_total              -0.028732      1.000000    -0.169311  0.678059   \n",
       "living_area                0.090650     -0.169311     1.000000 -0.097210   \n",
       "floor                     -0.011798      0.678059    -0.097210  1.000000   \n",
       "studio                     0.001674      0.070151    -0.056231  0.036940   \n",
       "open_plan                  0.042777      0.050791    -0.033711  0.035824   \n",
       "kitchen_area               0.087641      0.163944     0.428674  0.135531   \n",
       "balcony                    0.040523      0.194065     0.018849  0.168773   \n",
       "airports_nearest          -0.023947      0.108288    -0.057912  0.071597   \n",
       "cityCenters_nearest       -0.091689      0.019774    -0.231368  0.009084   \n",
       "parks_around3000           0.065915     -0.252833     0.184453 -0.163784   \n",
       "parks_nearest             -0.019167      0.097527    -0.050167  0.073045   \n",
       "ponds_around3000           0.078209     -0.122735     0.148933 -0.076312   \n",
       "ponds_nearest             -0.059090      0.038864    -0.081674  0.024850   \n",
       "days_exposition            0.019091     -0.052234     0.142454 -0.039463   \n",
       "\n",
       "                       studio  open_plan  kitchen_area   balcony  \\\n",
       "total_images        -0.029303  -0.024407      0.104756  0.121693   \n",
       "last_price          -0.025362  -0.008802      0.519869  0.029646   \n",
       "total_area          -0.072653  -0.034885      0.609121  0.047937   \n",
       "rooms               -0.147286  -0.087500      0.269945  0.017991   \n",
       "ceiling_height       0.001674   0.042777      0.087641  0.040523   \n",
       "floors_total         0.070151   0.050791      0.163944  0.194065   \n",
       "living_area         -0.056231  -0.033711      0.428674  0.018849   \n",
       "floor                0.036940   0.035824      0.135531  0.168773   \n",
       "studio               1.000000  -0.004235           NaN  0.031455   \n",
       "open_plan           -0.004235   1.000000           NaN  0.019491   \n",
       "kitchen_area              NaN        NaN      1.000000  0.098634   \n",
       "balcony              0.031455   0.019491      0.098634  1.000000   \n",
       "airports_nearest    -0.021876  -0.013583      0.008200  0.066834   \n",
       "cityCenters_nearest -0.007029  -0.004204     -0.190049  0.051051   \n",
       "parks_around3000    -0.030202  -0.010077      0.087503 -0.082850   \n",
       "parks_nearest        0.009134   0.010612      0.029641  0.052328   \n",
       "ponds_around3000     0.000939   0.008455      0.150148 -0.032709   \n",
       "ponds_nearest        0.002606  -0.003328     -0.105223  0.010847   \n",
       "days_exposition     -0.022476  -0.024112      0.100586 -0.032909   \n",
       "\n",
       "                     airports_nearest  cityCenters_nearest  parks_around3000  \\\n",
       "total_images                -0.002298            -0.047666          0.021120   \n",
       "last_price                  -0.026239            -0.206747          0.151058   \n",
       "total_area                  -0.030753            -0.231446          0.164689   \n",
       "rooms                       -0.061199            -0.184864          0.137257   \n",
       "ceiling_height              -0.023947            -0.091689          0.065915   \n",
       "floors_total                 0.108288             0.019774         -0.252833   \n",
       "living_area                 -0.057912            -0.231368          0.184453   \n",
       "floor                        0.071597             0.009084         -0.163784   \n",
       "studio                      -0.021876            -0.007029         -0.030202   \n",
       "open_plan                   -0.013583            -0.004204         -0.010077   \n",
       "kitchen_area                 0.008200            -0.190049          0.087503   \n",
       "balcony                      0.066834             0.051051         -0.082850   \n",
       "airports_nearest             1.000000             0.272184          0.000759   \n",
       "cityCenters_nearest          0.272184             1.000000         -0.161738   \n",
       "parks_around3000             0.000759            -0.161738          1.000000   \n",
       "parks_nearest               -0.070058            -0.040650         -0.259514   \n",
       "ponds_around3000            -0.049583            -0.074577          0.304316   \n",
       "ponds_nearest                0.014049             0.028903         -0.167103   \n",
       "days_exposition             -0.018271            -0.060714          0.060491   \n",
       "\n",
       "                     parks_nearest  ponds_around3000  ponds_nearest  \\\n",
       "total_images             -0.008347         -0.011553      -0.003034   \n",
       "last_price               -0.016414          0.159996      -0.084809   \n",
       "total_area               -0.021497          0.162346      -0.097969   \n",
       "rooms                    -0.054549          0.092693      -0.057689   \n",
       "ceiling_height           -0.019167          0.078209      -0.059090   \n",
       "floors_total              0.097527         -0.122735       0.038864   \n",
       "living_area              -0.050167          0.148933      -0.081674   \n",
       "floor                     0.073045         -0.076312       0.024850   \n",
       "studio                    0.009134          0.000939       0.002606   \n",
       "open_plan                 0.010612          0.008455      -0.003328   \n",
       "kitchen_area              0.029641          0.150148      -0.105223   \n",
       "balcony                   0.052328         -0.032709       0.010847   \n",
       "airports_nearest         -0.070058         -0.049583       0.014049   \n",
       "cityCenters_nearest      -0.040650         -0.074577       0.028903   \n",
       "parks_around3000         -0.259514          0.304316      -0.167103   \n",
       "parks_nearest             1.000000          0.077280       0.000692   \n",
       "ponds_around3000          0.077280          1.000000      -0.341840   \n",
       "ponds_nearest             0.000692         -0.341840       1.000000   \n",
       "days_exposition           0.023254          0.073162      -0.077879   \n",
       "\n",
       "                     days_exposition  \n",
       "total_images               -0.026657  \n",
       "last_price                  0.081146  \n",
       "total_area                  0.149675  \n",
       "rooms                       0.126961  \n",
       "ceiling_height              0.019091  \n",
       "floors_total               -0.052234  \n",
       "living_area                 0.142454  \n",
       "floor                      -0.039463  \n",
       "studio                     -0.022476  \n",
       "open_plan                  -0.024112  \n",
       "kitchen_area                0.100586  \n",
       "balcony                    -0.032909  \n",
       "airports_nearest           -0.018271  \n",
       "cityCenters_nearest        -0.060714  \n",
       "parks_around3000            0.060491  \n",
       "parks_nearest               0.023254  \n",
       "ponds_around3000            0.073162  \n",
       "ponds_nearest              -0.077879  \n",
       "days_exposition             1.000000  "
      ]
     },
     "execution_count": 7,
     "metadata": {},
     "output_type": "execute_result"
    }
   ],
   "source": [
    "# получение значений корреляции столбцов df\n",
    "df.corr()"
   ]
  },
  {
   "cell_type": "markdown",
   "id": "86e7dbc3",
   "metadata": {},
   "source": [
    "Можно заметить сильную корреляцию между значениями жилой площади и общей площади квартиры. Учитывая это, заменим пропуски столбца `living_area` на основании связи со значениями `total_area`. Для начала также проверим, нет ли ошибки во взаимосвязи значений разных площадей, по логике, общая площадь должна быть всегда больше жилой площади и кухни вместе взятых.  "
   ]
  },
  {
   "cell_type": "code",
   "execution_count": 8,
   "id": "ec23e7ab",
   "metadata": {},
   "outputs": [
    {
     "data": {
      "text/plain": [
       "0.8796995653825056"
      ]
     },
     "execution_count": 8,
     "metadata": {},
     "output_type": "execute_result"
    }
   ],
   "source": [
    "# получение доли корректных объявлений\n",
    "len(df.query('total_area > kitchen_area + living_area')) / len(df)"
   ]
  },
  {
   "cell_type": "markdown",
   "id": "6f489a0d-d300-47b7-ba4c-94ee2922d02e",
   "metadata": {},
   "source": [
    "Не все данные соответствуют необходимому условию. Взглянем на ошибочные объявления."
   ]
  },
  {
   "cell_type": "code",
   "execution_count": 9,
   "id": "782b971b-04c0-4177-b4f9-95ce685e8564",
   "metadata": {},
   "outputs": [
    {
     "data": {
      "text/html": [
       "<div>\n",
       "<style scoped>\n",
       "    .dataframe tbody tr th:only-of-type {\n",
       "        vertical-align: middle;\n",
       "    }\n",
       "\n",
       "    .dataframe tbody tr th {\n",
       "        vertical-align: top;\n",
       "    }\n",
       "\n",
       "    .dataframe thead th {\n",
       "        text-align: right;\n",
       "    }\n",
       "</style>\n",
       "<table border=\"1\" class=\"dataframe\">\n",
       "  <thead>\n",
       "    <tr style=\"text-align: right;\">\n",
       "      <th></th>\n",
       "      <th>total_images</th>\n",
       "      <th>last_price</th>\n",
       "      <th>total_area</th>\n",
       "      <th>first_day_exposition</th>\n",
       "      <th>rooms</th>\n",
       "      <th>ceiling_height</th>\n",
       "      <th>floors_total</th>\n",
       "      <th>living_area</th>\n",
       "      <th>floor</th>\n",
       "      <th>is_apartment</th>\n",
       "      <th>...</th>\n",
       "      <th>kitchen_area</th>\n",
       "      <th>balcony</th>\n",
       "      <th>locality_name</th>\n",
       "      <th>airports_nearest</th>\n",
       "      <th>cityCenters_nearest</th>\n",
       "      <th>parks_around3000</th>\n",
       "      <th>parks_nearest</th>\n",
       "      <th>ponds_around3000</th>\n",
       "      <th>ponds_nearest</th>\n",
       "      <th>days_exposition</th>\n",
       "    </tr>\n",
       "  </thead>\n",
       "  <tbody>\n",
       "    <tr>\n",
       "      <th>184</th>\n",
       "      <td>7</td>\n",
       "      <td>2600000.0</td>\n",
       "      <td>30.20</td>\n",
       "      <td>2018-02-14T00:00:00</td>\n",
       "      <td>1</td>\n",
       "      <td>2.65</td>\n",
       "      <td>9.0</td>\n",
       "      <td>26.10</td>\n",
       "      <td>5</td>\n",
       "      <td>NaN</td>\n",
       "      <td>...</td>\n",
       "      <td>6.20</td>\n",
       "      <td>NaN</td>\n",
       "      <td>Санкт-Петербург</td>\n",
       "      <td>13952.0</td>\n",
       "      <td>15031.0</td>\n",
       "      <td>0.0</td>\n",
       "      <td>NaN</td>\n",
       "      <td>1.0</td>\n",
       "      <td>824.0</td>\n",
       "      <td>12.0</td>\n",
       "    </tr>\n",
       "    <tr>\n",
       "      <th>220</th>\n",
       "      <td>8</td>\n",
       "      <td>3890000.0</td>\n",
       "      <td>37.00</td>\n",
       "      <td>2018-07-09T00:00:00</td>\n",
       "      <td>1</td>\n",
       "      <td>2.50</td>\n",
       "      <td>25.0</td>\n",
       "      <td>28.00</td>\n",
       "      <td>6</td>\n",
       "      <td>NaN</td>\n",
       "      <td>...</td>\n",
       "      <td>9.00</td>\n",
       "      <td>NaN</td>\n",
       "      <td>Санкт-Петербург</td>\n",
       "      <td>25408.0</td>\n",
       "      <td>16166.0</td>\n",
       "      <td>0.0</td>\n",
       "      <td>NaN</td>\n",
       "      <td>0.0</td>\n",
       "      <td>NaN</td>\n",
       "      <td>28.0</td>\n",
       "    </tr>\n",
       "    <tr>\n",
       "      <th>545</th>\n",
       "      <td>9</td>\n",
       "      <td>4700000.0</td>\n",
       "      <td>23.80</td>\n",
       "      <td>2018-12-28T00:00:00</td>\n",
       "      <td>1</td>\n",
       "      <td>NaN</td>\n",
       "      <td>18.0</td>\n",
       "      <td>20.00</td>\n",
       "      <td>9</td>\n",
       "      <td>NaN</td>\n",
       "      <td>...</td>\n",
       "      <td>5.00</td>\n",
       "      <td>NaN</td>\n",
       "      <td>Санкт-Петербург</td>\n",
       "      <td>9731.0</td>\n",
       "      <td>11849.0</td>\n",
       "      <td>0.0</td>\n",
       "      <td>NaN</td>\n",
       "      <td>0.0</td>\n",
       "      <td>NaN</td>\n",
       "      <td>108.0</td>\n",
       "    </tr>\n",
       "    <tr>\n",
       "      <th>551</th>\n",
       "      <td>8</td>\n",
       "      <td>3100000.0</td>\n",
       "      <td>31.59</td>\n",
       "      <td>2018-03-08T00:00:00</td>\n",
       "      <td>1</td>\n",
       "      <td>2.70</td>\n",
       "      <td>19.0</td>\n",
       "      <td>30.55</td>\n",
       "      <td>2</td>\n",
       "      <td>NaN</td>\n",
       "      <td>...</td>\n",
       "      <td>9.28</td>\n",
       "      <td>2.0</td>\n",
       "      <td>посёлок Мурино</td>\n",
       "      <td>NaN</td>\n",
       "      <td>NaN</td>\n",
       "      <td>NaN</td>\n",
       "      <td>NaN</td>\n",
       "      <td>NaN</td>\n",
       "      <td>NaN</td>\n",
       "      <td>70.0</td>\n",
       "    </tr>\n",
       "    <tr>\n",
       "      <th>601</th>\n",
       "      <td>12</td>\n",
       "      <td>5600000.0</td>\n",
       "      <td>53.70</td>\n",
       "      <td>2017-04-18T00:00:00</td>\n",
       "      <td>2</td>\n",
       "      <td>2.50</td>\n",
       "      <td>12.0</td>\n",
       "      <td>48.30</td>\n",
       "      <td>5</td>\n",
       "      <td>NaN</td>\n",
       "      <td>...</td>\n",
       "      <td>7.00</td>\n",
       "      <td>2.0</td>\n",
       "      <td>Санкт-Петербург</td>\n",
       "      <td>50477.0</td>\n",
       "      <td>13252.0</td>\n",
       "      <td>2.0</td>\n",
       "      <td>220.0</td>\n",
       "      <td>1.0</td>\n",
       "      <td>1250.0</td>\n",
       "      <td>167.0</td>\n",
       "    </tr>\n",
       "    <tr>\n",
       "      <th>696</th>\n",
       "      <td>1</td>\n",
       "      <td>3364930.0</td>\n",
       "      <td>34.69</td>\n",
       "      <td>2014-11-27T00:00:00</td>\n",
       "      <td>1</td>\n",
       "      <td>2.64</td>\n",
       "      <td>25.0</td>\n",
       "      <td>23.43</td>\n",
       "      <td>25</td>\n",
       "      <td>NaN</td>\n",
       "      <td>...</td>\n",
       "      <td>23.43</td>\n",
       "      <td>2.0</td>\n",
       "      <td>Санкт-Петербург</td>\n",
       "      <td>43396.0</td>\n",
       "      <td>12153.0</td>\n",
       "      <td>0.0</td>\n",
       "      <td>NaN</td>\n",
       "      <td>0.0</td>\n",
       "      <td>NaN</td>\n",
       "      <td>574.0</td>\n",
       "    </tr>\n",
       "    <tr>\n",
       "      <th>1060</th>\n",
       "      <td>10</td>\n",
       "      <td>5200000.0</td>\n",
       "      <td>50.00</td>\n",
       "      <td>2015-11-06T00:00:00</td>\n",
       "      <td>2</td>\n",
       "      <td>NaN</td>\n",
       "      <td>35.0</td>\n",
       "      <td>39.00</td>\n",
       "      <td>15</td>\n",
       "      <td>False</td>\n",
       "      <td>...</td>\n",
       "      <td>20.50</td>\n",
       "      <td>2.0</td>\n",
       "      <td>Санкт-Петербург</td>\n",
       "      <td>18732.0</td>\n",
       "      <td>20444.0</td>\n",
       "      <td>0.0</td>\n",
       "      <td>NaN</td>\n",
       "      <td>3.0</td>\n",
       "      <td>80.0</td>\n",
       "      <td>281.0</td>\n",
       "    </tr>\n",
       "    <tr>\n",
       "      <th>1155</th>\n",
       "      <td>11</td>\n",
       "      <td>7000000.0</td>\n",
       "      <td>38.00</td>\n",
       "      <td>2019-04-09T00:00:00</td>\n",
       "      <td>1</td>\n",
       "      <td>3.20</td>\n",
       "      <td>5.0</td>\n",
       "      <td>33.00</td>\n",
       "      <td>1</td>\n",
       "      <td>NaN</td>\n",
       "      <td>...</td>\n",
       "      <td>12.00</td>\n",
       "      <td>NaN</td>\n",
       "      <td>Санкт-Петербург</td>\n",
       "      <td>31501.0</td>\n",
       "      <td>3670.0</td>\n",
       "      <td>1.0</td>\n",
       "      <td>183.0</td>\n",
       "      <td>3.0</td>\n",
       "      <td>689.0</td>\n",
       "      <td>NaN</td>\n",
       "    </tr>\n",
       "    <tr>\n",
       "      <th>1354</th>\n",
       "      <td>14</td>\n",
       "      <td>7300000.0</td>\n",
       "      <td>54.50</td>\n",
       "      <td>2018-08-20T00:00:00</td>\n",
       "      <td>2</td>\n",
       "      <td>NaN</td>\n",
       "      <td>16.0</td>\n",
       "      <td>38.00</td>\n",
       "      <td>12</td>\n",
       "      <td>NaN</td>\n",
       "      <td>...</td>\n",
       "      <td>19.00</td>\n",
       "      <td>2.0</td>\n",
       "      <td>Санкт-Петербург</td>\n",
       "      <td>51030.0</td>\n",
       "      <td>14721.0</td>\n",
       "      <td>0.0</td>\n",
       "      <td>NaN</td>\n",
       "      <td>0.0</td>\n",
       "      <td>NaN</td>\n",
       "      <td>NaN</td>\n",
       "    </tr>\n",
       "    <tr>\n",
       "      <th>1407</th>\n",
       "      <td>9</td>\n",
       "      <td>3250000.0</td>\n",
       "      <td>24.60</td>\n",
       "      <td>2018-06-29T00:00:00</td>\n",
       "      <td>1</td>\n",
       "      <td>NaN</td>\n",
       "      <td>25.0</td>\n",
       "      <td>18.00</td>\n",
       "      <td>16</td>\n",
       "      <td>NaN</td>\n",
       "      <td>...</td>\n",
       "      <td>18.20</td>\n",
       "      <td>NaN</td>\n",
       "      <td>Санкт-Петербург</td>\n",
       "      <td>35250.0</td>\n",
       "      <td>16414.0</td>\n",
       "      <td>0.0</td>\n",
       "      <td>NaN</td>\n",
       "      <td>1.0</td>\n",
       "      <td>400.0</td>\n",
       "      <td>96.0</td>\n",
       "    </tr>\n",
       "  </tbody>\n",
       "</table>\n",
       "<p>10 rows × 22 columns</p>\n",
       "</div>"
      ],
      "text/plain": [
       "      total_images  last_price  total_area first_day_exposition  rooms  \\\n",
       "184              7   2600000.0       30.20  2018-02-14T00:00:00      1   \n",
       "220              8   3890000.0       37.00  2018-07-09T00:00:00      1   \n",
       "545              9   4700000.0       23.80  2018-12-28T00:00:00      1   \n",
       "551              8   3100000.0       31.59  2018-03-08T00:00:00      1   \n",
       "601             12   5600000.0       53.70  2017-04-18T00:00:00      2   \n",
       "696              1   3364930.0       34.69  2014-11-27T00:00:00      1   \n",
       "1060            10   5200000.0       50.00  2015-11-06T00:00:00      2   \n",
       "1155            11   7000000.0       38.00  2019-04-09T00:00:00      1   \n",
       "1354            14   7300000.0       54.50  2018-08-20T00:00:00      2   \n",
       "1407             9   3250000.0       24.60  2018-06-29T00:00:00      1   \n",
       "\n",
       "      ceiling_height  floors_total  living_area  floor is_apartment  ...  \\\n",
       "184             2.65           9.0        26.10      5          NaN  ...   \n",
       "220             2.50          25.0        28.00      6          NaN  ...   \n",
       "545              NaN          18.0        20.00      9          NaN  ...   \n",
       "551             2.70          19.0        30.55      2          NaN  ...   \n",
       "601             2.50          12.0        48.30      5          NaN  ...   \n",
       "696             2.64          25.0        23.43     25          NaN  ...   \n",
       "1060             NaN          35.0        39.00     15        False  ...   \n",
       "1155            3.20           5.0        33.00      1          NaN  ...   \n",
       "1354             NaN          16.0        38.00     12          NaN  ...   \n",
       "1407             NaN          25.0        18.00     16          NaN  ...   \n",
       "\n",
       "      kitchen_area  balcony    locality_name  airports_nearest  \\\n",
       "184           6.20      NaN  Санкт-Петербург           13952.0   \n",
       "220           9.00      NaN  Санкт-Петербург           25408.0   \n",
       "545           5.00      NaN  Санкт-Петербург            9731.0   \n",
       "551           9.28      2.0   посёлок Мурино               NaN   \n",
       "601           7.00      2.0  Санкт-Петербург           50477.0   \n",
       "696          23.43      2.0  Санкт-Петербург           43396.0   \n",
       "1060         20.50      2.0  Санкт-Петербург           18732.0   \n",
       "1155         12.00      NaN  Санкт-Петербург           31501.0   \n",
       "1354         19.00      2.0  Санкт-Петербург           51030.0   \n",
       "1407         18.20      NaN  Санкт-Петербург           35250.0   \n",
       "\n",
       "     cityCenters_nearest  parks_around3000  parks_nearest  ponds_around3000  \\\n",
       "184              15031.0               0.0            NaN               1.0   \n",
       "220              16166.0               0.0            NaN               0.0   \n",
       "545              11849.0               0.0            NaN               0.0   \n",
       "551                  NaN               NaN            NaN               NaN   \n",
       "601              13252.0               2.0          220.0               1.0   \n",
       "696              12153.0               0.0            NaN               0.0   \n",
       "1060             20444.0               0.0            NaN               3.0   \n",
       "1155              3670.0               1.0          183.0               3.0   \n",
       "1354             14721.0               0.0            NaN               0.0   \n",
       "1407             16414.0               0.0            NaN               1.0   \n",
       "\n",
       "      ponds_nearest  days_exposition  \n",
       "184           824.0             12.0  \n",
       "220             NaN             28.0  \n",
       "545             NaN            108.0  \n",
       "551             NaN             70.0  \n",
       "601          1250.0            167.0  \n",
       "696             NaN            574.0  \n",
       "1060           80.0            281.0  \n",
       "1155          689.0              NaN  \n",
       "1354            NaN              NaN  \n",
       "1407          400.0             96.0  \n",
       "\n",
       "[10 rows x 22 columns]"
      ]
     },
     "execution_count": 9,
     "metadata": {},
     "output_type": "execute_result"
    }
   ],
   "source": [
    "df.query('total_area <= kitchen_area + living_area').head(10)"
   ]
  },
  {
   "cell_type": "markdown",
   "id": "29deaf4e-5c96-4cc2-ab6c-6d7d4519cbb6",
   "metadata": {},
   "source": [
    "Скорее всего, в данных случаях площадь кухни включена также и в жилую площадь. Скорректируем значения общей площади, дабы у всего датасета была единая логика. Если же при этом площадь кухни равна или больше (что, скорее всего, опечатка) жилой, оставим только последнюю, а площадь кухни сделаем нулевой."
   ]
  },
  {
   "cell_type": "code",
   "execution_count": 10,
   "id": "45c5f436-c9ea-48c0-a080-2966e05590c7",
   "metadata": {},
   "outputs": [
    {
     "data": {
      "text/plain": [
       "0"
      ]
     },
     "execution_count": 10,
     "metadata": {},
     "output_type": "execute_result"
    }
   ],
   "source": [
    "# изменение значений по условиям\n",
    "df.loc[(df.total_area <= df.kitchen_area + df.living_area) & (df.kitchen_area >= df.living_area), 'kitchen_area'] = 0\n",
    "df.loc[df.total_area <= df.kitchen_area + df.living_area, 'living_area'] = df.living_area - df.kitchen_area\n",
    "\n",
    "# проверка успешности изменений\n",
    "len(df.query('total_area <= kitchen_area + living_area'))"
   ]
  },
  {
   "cell_type": "markdown",
   "id": "3dbf3742-6503-4637-83d7-44edca7faf47",
   "metadata": {},
   "source": [
    "Теперь можно заменять пропуски в `living_area`."
   ]
  },
  {
   "cell_type": "code",
   "execution_count": 11,
   "id": "e675d563",
   "metadata": {},
   "outputs": [
    {
     "data": {
      "text/plain": [
       "9"
      ]
     },
     "execution_count": 11,
     "metadata": {},
     "output_type": "execute_result"
    }
   ],
   "source": [
    "# замена пропущенных значений жилой площади\n",
    "from sklearn.impute import KNNImputer\n",
    "df[['living_area', 'total_area']] = (\n",
    "    KNNImputer()\n",
    "    .fit_transform(\n",
    "    df[['living_area',\n",
    "    'total_area']])\n",
    ")\n",
    "\n",
    "# проверка соответствия условию\n",
    "len(df.query('total_area <= kitchen_area + living_area'))"
   ]
  },
  {
   "cell_type": "code",
   "execution_count": 12,
   "id": "74f0b6cc-73f2-41fc-beaf-a50d07ca2127",
   "metadata": {},
   "outputs": [],
   "source": [
    "# повторное изменение значений по условиям\n",
    "df.loc[(df.total_area <= df.kitchen_area + df.living_area) & (df.kitchen_area >= df.living_area), 'kitchen_area'] = 0\n",
    "df.loc[df.total_area <= df.kitchen_area + df.living_area, 'living_area'] = df.living_area - df.kitchen_area"
   ]
  },
  {
   "cell_type": "markdown",
   "id": "25aa045b",
   "metadata": {},
   "source": [
    "Очень высокая доля пропусков столбца `is_apartment`, скорее всего, объясняется его неверным типом данных, исправим это в дальнейшем.\n",
    "\n",
    "Отсутствующие значения числа балконов, вероятно, говорят о том, что в данных квартирах их нет в принципе. Заменим эти пропуски на 0. "
   ]
  },
  {
   "cell_type": "code",
   "execution_count": 13,
   "id": "0530e733",
   "metadata": {},
   "outputs": [],
   "source": [
    "# замена пропусков нулевыми значениями\n",
    "df.balcony = df.balcony.fillna(0)"
   ]
  },
  {
   "cell_type": "markdown",
   "id": "9a5044a9",
   "metadata": {},
   "source": [
    "Помимо прочего видно, что есть много строк с пропусками во всех столбцах, значения которых зависят от точного месторасположения объекта, да и доля пропущенных значений у них равна. По всей видимости, для данных квартир просто в принципе не указана их геолокация. Посмотрим, насколько много квартир с одновременно пропущенными значениями в данных столбцах."
   ]
  },
  {
   "cell_type": "code",
   "execution_count": 14,
   "id": "716d5d06",
   "metadata": {},
   "outputs": [
    {
     "data": {
      "text/plain": [
       "True    23699\n",
       "dtype: int64"
      ]
     },
     "metadata": {},
     "output_type": "display_data"
    },
    {
     "data": {
      "text/plain": [
       "True     23698\n",
       "False        1\n",
       "dtype: int64"
      ]
     },
     "metadata": {},
     "output_type": "display_data"
    },
    {
     "data": {
      "text/plain": [
       "True     23675\n",
       "False       24\n",
       "dtype: int64"
      ]
     },
     "metadata": {},
     "output_type": "display_data"
    },
    {
     "data": {
      "text/plain": [
       "True     23674\n",
       "False       25\n",
       "dtype: int64"
      ]
     },
     "metadata": {},
     "output_type": "display_data"
    },
    {
     "data": {
      "text/plain": [
       "True     23675\n",
       "False       24\n",
       "dtype: int64"
      ]
     },
     "metadata": {},
     "output_type": "display_data"
    }
   ],
   "source": [
    "# получение количества строк с одновременными пропусками\n",
    "display((df.parks_around3000.isna() == df.ponds_around3000.isna()).value_counts())\n",
    "display((df.parks_around3000.isna() == df.cityCenters_nearest.isna()).value_counts())\n",
    "display((df.parks_around3000.isna() == df.airports_nearest.isna()).value_counts())\n",
    "display((df.airports_nearest.isna() == df.cityCenters_nearest.isna()).value_counts())\n",
    "display((df.airports_nearest.isna() == df.ponds_around3000.isna()).value_counts())"
   ]
  },
  {
   "cell_type": "markdown",
   "id": "a43491db",
   "metadata": {},
   "source": [
    "Подавляющее большинство подобных пропусков присутствует одновременно во всех рассматриваемых столбцах, что говорит в пользу предположения о причине появления пропущенных значений в данном случае. За неимением инфоормации заменить пропуски какими-то адекватными характерными значениями невозможно.\n",
    "\n",
    "Взглянем на распределение значений с количеством парков и водоёмов в радиусе 3 км."
   ]
  },
  {
   "cell_type": "code",
   "execution_count": 15,
   "id": "26a74b17",
   "metadata": {},
   "outputs": [
    {
     "data": {
      "text/html": [
       "<div>\n",
       "<style scoped>\n",
       "    .dataframe tbody tr th:only-of-type {\n",
       "        vertical-align: middle;\n",
       "    }\n",
       "\n",
       "    .dataframe tbody tr th {\n",
       "        vertical-align: top;\n",
       "    }\n",
       "\n",
       "    .dataframe thead th {\n",
       "        text-align: right;\n",
       "    }\n",
       "</style>\n",
       "<table border=\"1\" class=\"dataframe\">\n",
       "  <thead>\n",
       "    <tr style=\"text-align: right;\">\n",
       "      <th></th>\n",
       "      <th>parks_around3000</th>\n",
       "    </tr>\n",
       "  </thead>\n",
       "  <tbody>\n",
       "    <tr>\n",
       "      <th>0.0</th>\n",
       "      <td>10106</td>\n",
       "    </tr>\n",
       "    <tr>\n",
       "      <th>1.0</th>\n",
       "      <td>5681</td>\n",
       "    </tr>\n",
       "    <tr>\n",
       "      <th>2.0</th>\n",
       "      <td>1747</td>\n",
       "    </tr>\n",
       "    <tr>\n",
       "      <th>3.0</th>\n",
       "      <td>647</td>\n",
       "    </tr>\n",
       "  </tbody>\n",
       "</table>\n",
       "</div>"
      ],
      "text/plain": [
       "     parks_around3000\n",
       "0.0             10106\n",
       "1.0              5681\n",
       "2.0              1747\n",
       "3.0               647"
      ]
     },
     "metadata": {},
     "output_type": "display_data"
    },
    {
     "data": {
      "text/html": [
       "<div>\n",
       "<style scoped>\n",
       "    .dataframe tbody tr th:only-of-type {\n",
       "        vertical-align: middle;\n",
       "    }\n",
       "\n",
       "    .dataframe tbody tr th {\n",
       "        vertical-align: top;\n",
       "    }\n",
       "\n",
       "    .dataframe thead th {\n",
       "        text-align: right;\n",
       "    }\n",
       "</style>\n",
       "<table border=\"1\" class=\"dataframe\">\n",
       "  <thead>\n",
       "    <tr style=\"text-align: right;\">\n",
       "      <th></th>\n",
       "      <th>ponds_around3000</th>\n",
       "    </tr>\n",
       "  </thead>\n",
       "  <tbody>\n",
       "    <tr>\n",
       "      <th>0.0</th>\n",
       "      <td>9071</td>\n",
       "    </tr>\n",
       "    <tr>\n",
       "      <th>1.0</th>\n",
       "      <td>5717</td>\n",
       "    </tr>\n",
       "    <tr>\n",
       "      <th>2.0</th>\n",
       "      <td>1892</td>\n",
       "    </tr>\n",
       "    <tr>\n",
       "      <th>3.0</th>\n",
       "      <td>1501</td>\n",
       "    </tr>\n",
       "  </tbody>\n",
       "</table>\n",
       "</div>"
      ],
      "text/plain": [
       "     ponds_around3000\n",
       "0.0              9071\n",
       "1.0              5717\n",
       "2.0              1892\n",
       "3.0              1501"
      ]
     },
     "metadata": {},
     "output_type": "display_data"
    }
   ],
   "source": [
    "# получение распределения значений\n",
    "display(df.parks_around3000.value_counts().to_frame())\n",
    "display(df.ponds_around3000.value_counts().to_frame())"
   ]
  },
  {
   "cell_type": "markdown",
   "id": "335c9fc7",
   "metadata": {},
   "source": [
    "Более чем в половине случаев эти объекты отсутствуют в данном радиусе. Можно предположить, что большая часть от пропущенных значений столбцов `parks_nearest` и `ponds_nearest`, которых также достаточно много (в районе 60%), приходится на квартиры, рядом с которыми нет соответственно парков или водоёмов. "
   ]
  },
  {
   "cell_type": "code",
   "execution_count": 16,
   "id": "7d553b74",
   "metadata": {},
   "outputs": [
    {
     "data": {
      "text/plain": [
       "0.9996041955274094"
      ]
     },
     "metadata": {},
     "output_type": "display_data"
    },
    {
     "data": {
      "text/plain": [
       "1.0"
      ]
     },
     "metadata": {},
     "output_type": "display_data"
    }
   ],
   "source": [
    "# получение доли соответствующих пропусков\n",
    "display(df.query('parks_around3000 == 0')\n",
    "        ['parks_nearest'].isna().mean())\n",
    "display(df.query('ponds_around3000 == 0')\n",
    "        ['ponds_nearest'].isna().mean())"
   ]
  },
  {
   "cell_type": "markdown",
   "id": "9e89ecdf",
   "metadata": {},
   "source": [
    "Так и есть. Следовательно, расстояние до ближайших рассматриваемых объектов не указано по причине их отсутствия в рассматриваемом радиусе. Заполнить данные пропуски также нечем, оставим их в изначальном виде."
   ]
  },
  {
   "cell_type": "markdown",
   "id": "ce10cc30",
   "metadata": {},
   "source": [
    "Причину появления пропущенных значений в оставшихся столбцах — `ceiling_height`, `kitchen_area`, `days_exposition`, `floors_total` и `locality_name`, как и возможность их замены, выяснить за отсутствием дополнительной информации и значительной корреляции проблематично. Доля пропусков в первых трёх оставшихся столбцах достаточно велика, следовательно, и удалять строки с ними не следует. В последних же двух эта доля менее 1%, соответствующие строки можно убрать."
   ]
  },
  {
   "cell_type": "code",
   "execution_count": 17,
   "id": "25b8ba7d",
   "metadata": {},
   "outputs": [],
   "source": [
    "# удаление строк с соответствующими пропусками\n",
    "df = df.dropna(subset=['floors_total', \n",
    "    'locality_name']).reset_index(drop=True)"
   ]
  },
  {
   "cell_type": "markdown",
   "id": "b9eba5ad",
   "metadata": {},
   "source": [
    "Далее проверим успешность избавления от пропусков в обработанных столбцах."
   ]
  },
  {
   "cell_type": "code",
   "execution_count": 18,
   "id": "22f18f93",
   "metadata": {},
   "outputs": [
    {
     "data": {
      "text/plain": [
       "total_images                0\n",
       "last_price                  0\n",
       "total_area                  0\n",
       "first_day_exposition        0\n",
       "rooms                       0\n",
       "ceiling_height           9084\n",
       "floors_total                0\n",
       "living_area                 0\n",
       "floor                       0\n",
       "is_apartment            20805\n",
       "studio                      0\n",
       "open_plan                   0\n",
       "kitchen_area             2222\n",
       "balcony                     0\n",
       "locality_name               0\n",
       "airports_nearest         5524\n",
       "cityCenters_nearest      5501\n",
       "parks_around3000         5500\n",
       "parks_nearest           15535\n",
       "ponds_around3000         5500\n",
       "ponds_nearest           14529\n",
       "days_exposition          3171\n",
       "dtype: int64"
      ]
     },
     "execution_count": 18,
     "metadata": {},
     "output_type": "execute_result"
    }
   ],
   "source": [
    "# проверка успешности замены пропусков\n",
    "df.isna().sum() "
   ]
  },
  {
   "cell_type": "markdown",
   "id": "1428c8d8",
   "metadata": {},
   "source": [
    "**Промежуточные итоги**\n",
    "\n",
    "Учитывая характер пропусков и корреляцию столбцов датафрейма, пропущенные значения, где это возможно, были заменены. Для некоторых случаев были также найдены возможные причины появления пропусков.\n",
    "\n",
    "Так как доля пропущенных значений была достаточно велика, они были оставлены пустыми, так как при удалении строк с ними могла потеряться важная часть общих данных."
   ]
  },
  {
   "cell_type": "markdown",
   "id": "a997bb16",
   "metadata": {},
   "source": [
    "### Изменение типов данных"
   ]
  },
  {
   "cell_type": "markdown",
   "id": "9eaf6cc2",
   "metadata": {},
   "source": [
    "В исходном датафрейме для значений многих параметров используются не совсем подходящие типы данных. Заменим их на более соответствующие."
   ]
  },
  {
   "cell_type": "code",
   "execution_count": 19,
   "id": "921f346f",
   "metadata": {},
   "outputs": [],
   "source": [
    "# изменение числовых типов данных\n",
    "df[['last_price',\n",
    "    'floors_total',\n",
    "    'balcony',\n",
    "    'total_images',\n",
    "    'rooms',\n",
    "    'floor']] = (\n",
    "    df[['last_price',\n",
    "    'floors_total',\n",
    "    'balcony',\n",
    "    'total_images',\n",
    "    'rooms',\n",
    "    'floor']].astype('int')\n",
    ")\n",
    "df[['airports_nearest',\n",
    "    'parks_around3000',\n",
    "    'cityCenters_nearest',\n",
    "    'parks_nearest',\n",
    "    'ponds_around3000',\n",
    "    'ponds_nearest']] = (\n",
    "    df[['airports_nearest',\n",
    "    'parks_around3000',\n",
    "    'cityCenters_nearest',\n",
    "    'parks_nearest',\n",
    "    'ponds_around3000',\n",
    "    'ponds_nearest']]\n",
    "    .convert_dtypes()\n",
    "    .astype('Int32')\n",
    ")"
   ]
  },
  {
   "cell_type": "markdown",
   "id": "6a87d880",
   "metadata": {},
   "source": [
    "Для значений даты нам понадобится только день, округлим их соответствующим образом."
   ]
  },
  {
   "cell_type": "code",
   "execution_count": 20,
   "id": "5e373c82",
   "metadata": {},
   "outputs": [],
   "source": [
    "# изменение типа данных для даты\n",
    "df.first_day_exposition = (\n",
    "    pd.to_datetime(\n",
    "    df.first_day_exposition,\n",
    "    format='%Y-%m-%dT%H:%M:%S')\n",
    "    .dt.round('1D')\n",
    ")"
   ]
  },
  {
   "cell_type": "code",
   "execution_count": 21,
   "id": "b7586a80",
   "metadata": {},
   "outputs": [],
   "source": [
    "# установление логического типа данных\n",
    "df.is_apartment = df.is_apartment.astype('bool')"
   ]
  },
  {
   "cell_type": "markdown",
   "id": "1f79bf32",
   "metadata": {},
   "source": [
    "Взглянем на итоговые изменения."
   ]
  },
  {
   "cell_type": "code",
   "execution_count": 22,
   "id": "3c2096d9",
   "metadata": {},
   "outputs": [
    {
     "name": "stdout",
     "output_type": "stream",
     "text": [
      "<class 'pandas.core.frame.DataFrame'>\n",
      "RangeIndex: 23565 entries, 0 to 23564\n",
      "Data columns (total 22 columns):\n",
      " #   Column                Non-Null Count  Dtype         \n",
      "---  ------                --------------  -----         \n",
      " 0   total_images          23565 non-null  int32         \n",
      " 1   last_price            23565 non-null  int32         \n",
      " 2   total_area            23565 non-null  float64       \n",
      " 3   first_day_exposition  23565 non-null  datetime64[ns]\n",
      " 4   rooms                 23565 non-null  int32         \n",
      " 5   ceiling_height        14481 non-null  float64       \n",
      " 6   floors_total          23565 non-null  int32         \n",
      " 7   living_area           23565 non-null  float64       \n",
      " 8   floor                 23565 non-null  int32         \n",
      " 9   is_apartment          23565 non-null  bool          \n",
      " 10  studio                23565 non-null  bool          \n",
      " 11  open_plan             23565 non-null  bool          \n",
      " 12  kitchen_area          21343 non-null  float64       \n",
      " 13  balcony               23565 non-null  int32         \n",
      " 14  locality_name         23565 non-null  object        \n",
      " 15  airports_nearest      18041 non-null  Int32         \n",
      " 16  cityCenters_nearest   18064 non-null  Int32         \n",
      " 17  parks_around3000      18065 non-null  Int32         \n",
      " 18  parks_nearest         8030 non-null   Int32         \n",
      " 19  ponds_around3000      18065 non-null  Int32         \n",
      " 20  ponds_nearest         9036 non-null   Int32         \n",
      " 21  days_exposition       20394 non-null  float64       \n",
      "dtypes: Int32(6), bool(3), datetime64[ns](1), float64(5), int32(6), object(1)\n",
      "memory usage: 2.5+ MB\n"
     ]
    }
   ],
   "source": [
    "# получение общей информации о данных в таблице df\n",
    "df.info()"
   ]
  },
  {
   "cell_type": "code",
   "execution_count": 23,
   "id": "b6546b8c",
   "metadata": {},
   "outputs": [
    {
     "data": {
      "text/html": [
       "<div>\n",
       "<style scoped>\n",
       "    .dataframe tbody tr th:only-of-type {\n",
       "        vertical-align: middle;\n",
       "    }\n",
       "\n",
       "    .dataframe tbody tr th {\n",
       "        vertical-align: top;\n",
       "    }\n",
       "\n",
       "    .dataframe thead th {\n",
       "        text-align: right;\n",
       "    }\n",
       "</style>\n",
       "<table border=\"1\" class=\"dataframe\">\n",
       "  <thead>\n",
       "    <tr style=\"text-align: right;\">\n",
       "      <th></th>\n",
       "      <th>total_images</th>\n",
       "      <th>last_price</th>\n",
       "      <th>total_area</th>\n",
       "      <th>first_day_exposition</th>\n",
       "      <th>rooms</th>\n",
       "      <th>ceiling_height</th>\n",
       "      <th>floors_total</th>\n",
       "      <th>living_area</th>\n",
       "      <th>floor</th>\n",
       "      <th>is_apartment</th>\n",
       "      <th>...</th>\n",
       "      <th>kitchen_area</th>\n",
       "      <th>balcony</th>\n",
       "      <th>locality_name</th>\n",
       "      <th>airports_nearest</th>\n",
       "      <th>cityCenters_nearest</th>\n",
       "      <th>parks_around3000</th>\n",
       "      <th>parks_nearest</th>\n",
       "      <th>ponds_around3000</th>\n",
       "      <th>ponds_nearest</th>\n",
       "      <th>days_exposition</th>\n",
       "    </tr>\n",
       "  </thead>\n",
       "  <tbody>\n",
       "    <tr>\n",
       "      <th>14113</th>\n",
       "      <td>2</td>\n",
       "      <td>33415200</td>\n",
       "      <td>140.4</td>\n",
       "      <td>2019-03-31</td>\n",
       "      <td>3</td>\n",
       "      <td>3.0</td>\n",
       "      <td>11</td>\n",
       "      <td>79.40</td>\n",
       "      <td>5</td>\n",
       "      <td>False</td>\n",
       "      <td>...</td>\n",
       "      <td>13.6</td>\n",
       "      <td>0</td>\n",
       "      <td>Санкт-Петербург</td>\n",
       "      <td>28282</td>\n",
       "      <td>6941</td>\n",
       "      <td>2</td>\n",
       "      <td>365</td>\n",
       "      <td>3</td>\n",
       "      <td>215</td>\n",
       "      <td>NaN</td>\n",
       "    </tr>\n",
       "    <tr>\n",
       "      <th>1883</th>\n",
       "      <td>12</td>\n",
       "      <td>4900000</td>\n",
       "      <td>62.0</td>\n",
       "      <td>2017-11-29</td>\n",
       "      <td>3</td>\n",
       "      <td>NaN</td>\n",
       "      <td>12</td>\n",
       "      <td>41.00</td>\n",
       "      <td>9</td>\n",
       "      <td>True</td>\n",
       "      <td>...</td>\n",
       "      <td>7.0</td>\n",
       "      <td>1</td>\n",
       "      <td>Санкт-Петербург</td>\n",
       "      <td>45992</td>\n",
       "      <td>13643</td>\n",
       "      <td>1</td>\n",
       "      <td>565</td>\n",
       "      <td>1</td>\n",
       "      <td>1118</td>\n",
       "      <td>6.0</td>\n",
       "    </tr>\n",
       "    <tr>\n",
       "      <th>7013</th>\n",
       "      <td>18</td>\n",
       "      <td>3699000</td>\n",
       "      <td>42.0</td>\n",
       "      <td>2017-03-01</td>\n",
       "      <td>2</td>\n",
       "      <td>2.8</td>\n",
       "      <td>25</td>\n",
       "      <td>25.50</td>\n",
       "      <td>19</td>\n",
       "      <td>False</td>\n",
       "      <td>...</td>\n",
       "      <td>10.0</td>\n",
       "      <td>2</td>\n",
       "      <td>посёлок Мурино</td>\n",
       "      <td>&lt;NA&gt;</td>\n",
       "      <td>&lt;NA&gt;</td>\n",
       "      <td>&lt;NA&gt;</td>\n",
       "      <td>&lt;NA&gt;</td>\n",
       "      <td>&lt;NA&gt;</td>\n",
       "      <td>&lt;NA&gt;</td>\n",
       "      <td>178.0</td>\n",
       "    </tr>\n",
       "    <tr>\n",
       "      <th>18988</th>\n",
       "      <td>9</td>\n",
       "      <td>2850000</td>\n",
       "      <td>54.5</td>\n",
       "      <td>2016-07-04</td>\n",
       "      <td>2</td>\n",
       "      <td>3.3</td>\n",
       "      <td>3</td>\n",
       "      <td>32.60</td>\n",
       "      <td>2</td>\n",
       "      <td>True</td>\n",
       "      <td>...</td>\n",
       "      <td>8.2</td>\n",
       "      <td>0</td>\n",
       "      <td>деревня Ваганово</td>\n",
       "      <td>&lt;NA&gt;</td>\n",
       "      <td>&lt;NA&gt;</td>\n",
       "      <td>&lt;NA&gt;</td>\n",
       "      <td>&lt;NA&gt;</td>\n",
       "      <td>&lt;NA&gt;</td>\n",
       "      <td>&lt;NA&gt;</td>\n",
       "      <td>238.0</td>\n",
       "    </tr>\n",
       "    <tr>\n",
       "      <th>3498</th>\n",
       "      <td>10</td>\n",
       "      <td>3500000</td>\n",
       "      <td>70.0</td>\n",
       "      <td>2017-12-03</td>\n",
       "      <td>3</td>\n",
       "      <td>2.5</td>\n",
       "      <td>12</td>\n",
       "      <td>43.16</td>\n",
       "      <td>10</td>\n",
       "      <td>True</td>\n",
       "      <td>...</td>\n",
       "      <td>8.0</td>\n",
       "      <td>2</td>\n",
       "      <td>Кингисепп</td>\n",
       "      <td>&lt;NA&gt;</td>\n",
       "      <td>&lt;NA&gt;</td>\n",
       "      <td>&lt;NA&gt;</td>\n",
       "      <td>&lt;NA&gt;</td>\n",
       "      <td>&lt;NA&gt;</td>\n",
       "      <td>&lt;NA&gt;</td>\n",
       "      <td>300.0</td>\n",
       "    </tr>\n",
       "    <tr>\n",
       "      <th>6249</th>\n",
       "      <td>15</td>\n",
       "      <td>4300000</td>\n",
       "      <td>39.1</td>\n",
       "      <td>2017-05-26</td>\n",
       "      <td>1</td>\n",
       "      <td>NaN</td>\n",
       "      <td>9</td>\n",
       "      <td>24.00</td>\n",
       "      <td>7</td>\n",
       "      <td>True</td>\n",
       "      <td>...</td>\n",
       "      <td>11.0</td>\n",
       "      <td>1</td>\n",
       "      <td>Санкт-Петербург</td>\n",
       "      <td>39847</td>\n",
       "      <td>11550</td>\n",
       "      <td>1</td>\n",
       "      <td>326</td>\n",
       "      <td>0</td>\n",
       "      <td>&lt;NA&gt;</td>\n",
       "      <td>6.0</td>\n",
       "    </tr>\n",
       "    <tr>\n",
       "      <th>19542</th>\n",
       "      <td>1</td>\n",
       "      <td>5300000</td>\n",
       "      <td>56.0</td>\n",
       "      <td>2017-12-01</td>\n",
       "      <td>3</td>\n",
       "      <td>NaN</td>\n",
       "      <td>5</td>\n",
       "      <td>39.00</td>\n",
       "      <td>1</td>\n",
       "      <td>True</td>\n",
       "      <td>...</td>\n",
       "      <td>6.0</td>\n",
       "      <td>0</td>\n",
       "      <td>Санкт-Петербург</td>\n",
       "      <td>31158</td>\n",
       "      <td>5663</td>\n",
       "      <td>1</td>\n",
       "      <td>571</td>\n",
       "      <td>1</td>\n",
       "      <td>909</td>\n",
       "      <td>119.0</td>\n",
       "    </tr>\n",
       "    <tr>\n",
       "      <th>1544</th>\n",
       "      <td>11</td>\n",
       "      <td>4500000</td>\n",
       "      <td>38.7</td>\n",
       "      <td>2018-09-05</td>\n",
       "      <td>1</td>\n",
       "      <td>2.7</td>\n",
       "      <td>12</td>\n",
       "      <td>20.10</td>\n",
       "      <td>11</td>\n",
       "      <td>True</td>\n",
       "      <td>...</td>\n",
       "      <td>10.3</td>\n",
       "      <td>0</td>\n",
       "      <td>Санкт-Петербург</td>\n",
       "      <td>37793</td>\n",
       "      <td>12690</td>\n",
       "      <td>0</td>\n",
       "      <td>&lt;NA&gt;</td>\n",
       "      <td>1</td>\n",
       "      <td>890</td>\n",
       "      <td>106.0</td>\n",
       "    </tr>\n",
       "    <tr>\n",
       "      <th>7134</th>\n",
       "      <td>17</td>\n",
       "      <td>4050000</td>\n",
       "      <td>39.9</td>\n",
       "      <td>2017-01-27</td>\n",
       "      <td>1</td>\n",
       "      <td>NaN</td>\n",
       "      <td>18</td>\n",
       "      <td>20.00</td>\n",
       "      <td>11</td>\n",
       "      <td>True</td>\n",
       "      <td>...</td>\n",
       "      <td>10.7</td>\n",
       "      <td>0</td>\n",
       "      <td>Санкт-Петербург</td>\n",
       "      <td>28698</td>\n",
       "      <td>13286</td>\n",
       "      <td>1</td>\n",
       "      <td>628</td>\n",
       "      <td>1</td>\n",
       "      <td>441</td>\n",
       "      <td>374.0</td>\n",
       "    </tr>\n",
       "    <tr>\n",
       "      <th>5601</th>\n",
       "      <td>20</td>\n",
       "      <td>6200000</td>\n",
       "      <td>80.0</td>\n",
       "      <td>2014-12-10</td>\n",
       "      <td>3</td>\n",
       "      <td>2.7</td>\n",
       "      <td>5</td>\n",
       "      <td>55.60</td>\n",
       "      <td>4</td>\n",
       "      <td>True</td>\n",
       "      <td>...</td>\n",
       "      <td>11.1</td>\n",
       "      <td>2</td>\n",
       "      <td>Всеволожск</td>\n",
       "      <td>&lt;NA&gt;</td>\n",
       "      <td>&lt;NA&gt;</td>\n",
       "      <td>&lt;NA&gt;</td>\n",
       "      <td>&lt;NA&gt;</td>\n",
       "      <td>&lt;NA&gt;</td>\n",
       "      <td>&lt;NA&gt;</td>\n",
       "      <td>NaN</td>\n",
       "    </tr>\n",
       "    <tr>\n",
       "      <th>7856</th>\n",
       "      <td>4</td>\n",
       "      <td>4400000</td>\n",
       "      <td>39.0</td>\n",
       "      <td>2017-09-03</td>\n",
       "      <td>1</td>\n",
       "      <td>NaN</td>\n",
       "      <td>16</td>\n",
       "      <td>20.00</td>\n",
       "      <td>6</td>\n",
       "      <td>True</td>\n",
       "      <td>...</td>\n",
       "      <td>10.0</td>\n",
       "      <td>1</td>\n",
       "      <td>Санкт-Петербург</td>\n",
       "      <td>16798</td>\n",
       "      <td>14760</td>\n",
       "      <td>1</td>\n",
       "      <td>843</td>\n",
       "      <td>0</td>\n",
       "      <td>&lt;NA&gt;</td>\n",
       "      <td>184.0</td>\n",
       "    </tr>\n",
       "    <tr>\n",
       "      <th>20364</th>\n",
       "      <td>11</td>\n",
       "      <td>8000000</td>\n",
       "      <td>45.0</td>\n",
       "      <td>2017-07-18</td>\n",
       "      <td>1</td>\n",
       "      <td>27.0</td>\n",
       "      <td>4</td>\n",
       "      <td>22.00</td>\n",
       "      <td>2</td>\n",
       "      <td>True</td>\n",
       "      <td>...</td>\n",
       "      <td>10.0</td>\n",
       "      <td>1</td>\n",
       "      <td>Санкт-Петербург</td>\n",
       "      <td>18975</td>\n",
       "      <td>3246</td>\n",
       "      <td>0</td>\n",
       "      <td>&lt;NA&gt;</td>\n",
       "      <td>3</td>\n",
       "      <td>449</td>\n",
       "      <td>429.0</td>\n",
       "    </tr>\n",
       "    <tr>\n",
       "      <th>16411</th>\n",
       "      <td>19</td>\n",
       "      <td>4900000</td>\n",
       "      <td>55.0</td>\n",
       "      <td>2018-03-26</td>\n",
       "      <td>2</td>\n",
       "      <td>NaN</td>\n",
       "      <td>20</td>\n",
       "      <td>30.50</td>\n",
       "      <td>3</td>\n",
       "      <td>False</td>\n",
       "      <td>...</td>\n",
       "      <td>10.0</td>\n",
       "      <td>0</td>\n",
       "      <td>посёлок Мурино</td>\n",
       "      <td>&lt;NA&gt;</td>\n",
       "      <td>&lt;NA&gt;</td>\n",
       "      <td>&lt;NA&gt;</td>\n",
       "      <td>&lt;NA&gt;</td>\n",
       "      <td>&lt;NA&gt;</td>\n",
       "      <td>&lt;NA&gt;</td>\n",
       "      <td>202.0</td>\n",
       "    </tr>\n",
       "    <tr>\n",
       "      <th>18835</th>\n",
       "      <td>18</td>\n",
       "      <td>8650000</td>\n",
       "      <td>89.0</td>\n",
       "      <td>2017-07-17</td>\n",
       "      <td>3</td>\n",
       "      <td>2.7</td>\n",
       "      <td>17</td>\n",
       "      <td>51.00</td>\n",
       "      <td>5</td>\n",
       "      <td>True</td>\n",
       "      <td>...</td>\n",
       "      <td>14.0</td>\n",
       "      <td>0</td>\n",
       "      <td>Санкт-Петербург</td>\n",
       "      <td>25152</td>\n",
       "      <td>14458</td>\n",
       "      <td>0</td>\n",
       "      <td>&lt;NA&gt;</td>\n",
       "      <td>0</td>\n",
       "      <td>&lt;NA&gt;</td>\n",
       "      <td>284.0</td>\n",
       "    </tr>\n",
       "    <tr>\n",
       "      <th>10600</th>\n",
       "      <td>15</td>\n",
       "      <td>4880000</td>\n",
       "      <td>63.0</td>\n",
       "      <td>2018-03-24</td>\n",
       "      <td>3</td>\n",
       "      <td>2.5</td>\n",
       "      <td>12</td>\n",
       "      <td>39.28</td>\n",
       "      <td>3</td>\n",
       "      <td>True</td>\n",
       "      <td>...</td>\n",
       "      <td>NaN</td>\n",
       "      <td>0</td>\n",
       "      <td>Санкт-Петербург</td>\n",
       "      <td>12980</td>\n",
       "      <td>15571</td>\n",
       "      <td>0</td>\n",
       "      <td>&lt;NA&gt;</td>\n",
       "      <td>0</td>\n",
       "      <td>&lt;NA&gt;</td>\n",
       "      <td>60.0</td>\n",
       "    </tr>\n",
       "  </tbody>\n",
       "</table>\n",
       "<p>15 rows × 22 columns</p>\n",
       "</div>"
      ],
      "text/plain": [
       "       total_images  last_price  total_area first_day_exposition  rooms  \\\n",
       "14113             2    33415200       140.4           2019-03-31      3   \n",
       "1883             12     4900000        62.0           2017-11-29      3   \n",
       "7013             18     3699000        42.0           2017-03-01      2   \n",
       "18988             9     2850000        54.5           2016-07-04      2   \n",
       "3498             10     3500000        70.0           2017-12-03      3   \n",
       "6249             15     4300000        39.1           2017-05-26      1   \n",
       "19542             1     5300000        56.0           2017-12-01      3   \n",
       "1544             11     4500000        38.7           2018-09-05      1   \n",
       "7134             17     4050000        39.9           2017-01-27      1   \n",
       "5601             20     6200000        80.0           2014-12-10      3   \n",
       "7856              4     4400000        39.0           2017-09-03      1   \n",
       "20364            11     8000000        45.0           2017-07-18      1   \n",
       "16411            19     4900000        55.0           2018-03-26      2   \n",
       "18835            18     8650000        89.0           2017-07-17      3   \n",
       "10600            15     4880000        63.0           2018-03-24      3   \n",
       "\n",
       "       ceiling_height  floors_total  living_area  floor  is_apartment  ...  \\\n",
       "14113             3.0            11        79.40      5         False  ...   \n",
       "1883              NaN            12        41.00      9          True  ...   \n",
       "7013              2.8            25        25.50     19         False  ...   \n",
       "18988             3.3             3        32.60      2          True  ...   \n",
       "3498              2.5            12        43.16     10          True  ...   \n",
       "6249              NaN             9        24.00      7          True  ...   \n",
       "19542             NaN             5        39.00      1          True  ...   \n",
       "1544              2.7            12        20.10     11          True  ...   \n",
       "7134              NaN            18        20.00     11          True  ...   \n",
       "5601              2.7             5        55.60      4          True  ...   \n",
       "7856              NaN            16        20.00      6          True  ...   \n",
       "20364            27.0             4        22.00      2          True  ...   \n",
       "16411             NaN            20        30.50      3         False  ...   \n",
       "18835             2.7            17        51.00      5          True  ...   \n",
       "10600             2.5            12        39.28      3          True  ...   \n",
       "\n",
       "       kitchen_area  balcony     locality_name  airports_nearest  \\\n",
       "14113          13.6        0   Санкт-Петербург             28282   \n",
       "1883            7.0        1   Санкт-Петербург             45992   \n",
       "7013           10.0        2    посёлок Мурино              <NA>   \n",
       "18988           8.2        0  деревня Ваганово              <NA>   \n",
       "3498            8.0        2         Кингисепп              <NA>   \n",
       "6249           11.0        1   Санкт-Петербург             39847   \n",
       "19542           6.0        0   Санкт-Петербург             31158   \n",
       "1544           10.3        0   Санкт-Петербург             37793   \n",
       "7134           10.7        0   Санкт-Петербург             28698   \n",
       "5601           11.1        2        Всеволожск              <NA>   \n",
       "7856           10.0        1   Санкт-Петербург             16798   \n",
       "20364          10.0        1   Санкт-Петербург             18975   \n",
       "16411          10.0        0    посёлок Мурино              <NA>   \n",
       "18835          14.0        0   Санкт-Петербург             25152   \n",
       "10600           NaN        0   Санкт-Петербург             12980   \n",
       "\n",
       "      cityCenters_nearest  parks_around3000  parks_nearest  ponds_around3000  \\\n",
       "14113                6941                 2            365                 3   \n",
       "1883                13643                 1            565                 1   \n",
       "7013                 <NA>              <NA>           <NA>              <NA>   \n",
       "18988                <NA>              <NA>           <NA>              <NA>   \n",
       "3498                 <NA>              <NA>           <NA>              <NA>   \n",
       "6249                11550                 1            326                 0   \n",
       "19542                5663                 1            571                 1   \n",
       "1544                12690                 0           <NA>                 1   \n",
       "7134                13286                 1            628                 1   \n",
       "5601                 <NA>              <NA>           <NA>              <NA>   \n",
       "7856                14760                 1            843                 0   \n",
       "20364                3246                 0           <NA>                 3   \n",
       "16411                <NA>              <NA>           <NA>              <NA>   \n",
       "18835               14458                 0           <NA>                 0   \n",
       "10600               15571                 0           <NA>                 0   \n",
       "\n",
       "       ponds_nearest  days_exposition  \n",
       "14113            215              NaN  \n",
       "1883            1118              6.0  \n",
       "7013            <NA>            178.0  \n",
       "18988           <NA>            238.0  \n",
       "3498            <NA>            300.0  \n",
       "6249            <NA>              6.0  \n",
       "19542            909            119.0  \n",
       "1544             890            106.0  \n",
       "7134             441            374.0  \n",
       "5601            <NA>              NaN  \n",
       "7856            <NA>            184.0  \n",
       "20364            449            429.0  \n",
       "16411           <NA>            202.0  \n",
       "18835           <NA>            284.0  \n",
       "10600           <NA>             60.0  \n",
       "\n",
       "[15 rows x 22 columns]"
      ]
     },
     "execution_count": 23,
     "metadata": {},
     "output_type": "execute_result"
    }
   ],
   "source": [
    "# получение случайных 15 строк таблицы df\n",
    "df.sample(15, random_state=1)"
   ]
  },
  {
   "cell_type": "code",
   "execution_count": 24,
   "id": "7bcbdbdd",
   "metadata": {},
   "outputs": [
    {
     "data": {
      "text/plain": [
       "0"
      ]
     },
     "execution_count": 24,
     "metadata": {},
     "output_type": "execute_result"
    }
   ],
   "source": [
    "# проверка отсутствия пропусков столбца is_apartment\n",
    "df.is_apartment.isna().sum() "
   ]
  },
  {
   "cell_type": "markdown",
   "id": "5f1fde5a",
   "metadata": {},
   "source": [
    "**Промежуточные итоги**\n",
    "\n",
    "В соответствии с характером значений типы данных были измененены на более подходящие, благодаря чему в том числе в столбце с информацией об апартаментах теперь также нет пропусков."
   ]
  },
  {
   "cell_type": "markdown",
   "id": "4806868b",
   "metadata": {},
   "source": [
    "### Исправление названий столбцов и приведение значений к одному регистру"
   ]
  },
  {
   "cell_type": "markdown",
   "id": "d3b603e2",
   "metadata": {},
   "source": [
    "Для дальнейшего удобства работы с датасетом изменим некорректные названия столбцов и приведём значения единственного столбца с типом данных `object` к нижнему регистру."
   ]
  },
  {
   "cell_type": "code",
   "execution_count": 25,
   "id": "a592baa5",
   "metadata": {},
   "outputs": [],
   "source": [
    "# замена названий столбцов\n",
    "df = df.rename(\n",
    "    columns={'is_apartment': 'apartment',\n",
    "    'airports_nearest': 'm_to_nearest_airport',\n",
    "    'cityCenters_nearest': 'm_to_city_center',\n",
    "    'parks_around3000': 'parks_around_3000_m',\n",
    "    'parks_nearest': 'm_to_nearest_park',\n",
    "    'ponds_around3000': 'ponds_around_3000_m',\n",
    "    'ponds_nearest': 'm_to_nearest_ponds'}\n",
    ")"
   ]
  },
  {
   "cell_type": "code",
   "execution_count": 26,
   "id": "076ab347",
   "metadata": {},
   "outputs": [],
   "source": [
    "# приведение всех значений к нижнему регистру\n",
    "df.locality_name = df.locality_name.str.lower()"
   ]
  },
  {
   "cell_type": "markdown",
   "id": "491a8b1f",
   "metadata": {},
   "source": [
    "Проверим успешность изменений."
   ]
  },
  {
   "cell_type": "code",
   "execution_count": 27,
   "id": "dc55a089",
   "metadata": {},
   "outputs": [
    {
     "data": {
      "text/html": [
       "<div>\n",
       "<style scoped>\n",
       "    .dataframe tbody tr th:only-of-type {\n",
       "        vertical-align: middle;\n",
       "    }\n",
       "\n",
       "    .dataframe tbody tr th {\n",
       "        vertical-align: top;\n",
       "    }\n",
       "\n",
       "    .dataframe thead th {\n",
       "        text-align: right;\n",
       "    }\n",
       "</style>\n",
       "<table border=\"1\" class=\"dataframe\">\n",
       "  <thead>\n",
       "    <tr style=\"text-align: right;\">\n",
       "      <th></th>\n",
       "      <th>total_images</th>\n",
       "      <th>last_price</th>\n",
       "      <th>total_area</th>\n",
       "      <th>first_day_exposition</th>\n",
       "      <th>rooms</th>\n",
       "      <th>ceiling_height</th>\n",
       "      <th>floors_total</th>\n",
       "      <th>living_area</th>\n",
       "      <th>floor</th>\n",
       "      <th>apartment</th>\n",
       "      <th>...</th>\n",
       "      <th>kitchen_area</th>\n",
       "      <th>balcony</th>\n",
       "      <th>locality_name</th>\n",
       "      <th>m_to_nearest_airport</th>\n",
       "      <th>m_to_city_center</th>\n",
       "      <th>parks_around_3000_m</th>\n",
       "      <th>m_to_nearest_park</th>\n",
       "      <th>ponds_around_3000_m</th>\n",
       "      <th>m_to_nearest_ponds</th>\n",
       "      <th>days_exposition</th>\n",
       "    </tr>\n",
       "  </thead>\n",
       "  <tbody>\n",
       "    <tr>\n",
       "      <th>14113</th>\n",
       "      <td>2</td>\n",
       "      <td>33415200</td>\n",
       "      <td>140.4</td>\n",
       "      <td>2019-03-31</td>\n",
       "      <td>3</td>\n",
       "      <td>3.0</td>\n",
       "      <td>11</td>\n",
       "      <td>79.40</td>\n",
       "      <td>5</td>\n",
       "      <td>False</td>\n",
       "      <td>...</td>\n",
       "      <td>13.6</td>\n",
       "      <td>0</td>\n",
       "      <td>санкт-петербург</td>\n",
       "      <td>28282</td>\n",
       "      <td>6941</td>\n",
       "      <td>2</td>\n",
       "      <td>365</td>\n",
       "      <td>3</td>\n",
       "      <td>215</td>\n",
       "      <td>NaN</td>\n",
       "    </tr>\n",
       "    <tr>\n",
       "      <th>1883</th>\n",
       "      <td>12</td>\n",
       "      <td>4900000</td>\n",
       "      <td>62.0</td>\n",
       "      <td>2017-11-29</td>\n",
       "      <td>3</td>\n",
       "      <td>NaN</td>\n",
       "      <td>12</td>\n",
       "      <td>41.00</td>\n",
       "      <td>9</td>\n",
       "      <td>True</td>\n",
       "      <td>...</td>\n",
       "      <td>7.0</td>\n",
       "      <td>1</td>\n",
       "      <td>санкт-петербург</td>\n",
       "      <td>45992</td>\n",
       "      <td>13643</td>\n",
       "      <td>1</td>\n",
       "      <td>565</td>\n",
       "      <td>1</td>\n",
       "      <td>1118</td>\n",
       "      <td>6.0</td>\n",
       "    </tr>\n",
       "    <tr>\n",
       "      <th>7013</th>\n",
       "      <td>18</td>\n",
       "      <td>3699000</td>\n",
       "      <td>42.0</td>\n",
       "      <td>2017-03-01</td>\n",
       "      <td>2</td>\n",
       "      <td>2.8</td>\n",
       "      <td>25</td>\n",
       "      <td>25.50</td>\n",
       "      <td>19</td>\n",
       "      <td>False</td>\n",
       "      <td>...</td>\n",
       "      <td>10.0</td>\n",
       "      <td>2</td>\n",
       "      <td>посёлок мурино</td>\n",
       "      <td>&lt;NA&gt;</td>\n",
       "      <td>&lt;NA&gt;</td>\n",
       "      <td>&lt;NA&gt;</td>\n",
       "      <td>&lt;NA&gt;</td>\n",
       "      <td>&lt;NA&gt;</td>\n",
       "      <td>&lt;NA&gt;</td>\n",
       "      <td>178.0</td>\n",
       "    </tr>\n",
       "    <tr>\n",
       "      <th>18988</th>\n",
       "      <td>9</td>\n",
       "      <td>2850000</td>\n",
       "      <td>54.5</td>\n",
       "      <td>2016-07-04</td>\n",
       "      <td>2</td>\n",
       "      <td>3.3</td>\n",
       "      <td>3</td>\n",
       "      <td>32.60</td>\n",
       "      <td>2</td>\n",
       "      <td>True</td>\n",
       "      <td>...</td>\n",
       "      <td>8.2</td>\n",
       "      <td>0</td>\n",
       "      <td>деревня ваганово</td>\n",
       "      <td>&lt;NA&gt;</td>\n",
       "      <td>&lt;NA&gt;</td>\n",
       "      <td>&lt;NA&gt;</td>\n",
       "      <td>&lt;NA&gt;</td>\n",
       "      <td>&lt;NA&gt;</td>\n",
       "      <td>&lt;NA&gt;</td>\n",
       "      <td>238.0</td>\n",
       "    </tr>\n",
       "    <tr>\n",
       "      <th>3498</th>\n",
       "      <td>10</td>\n",
       "      <td>3500000</td>\n",
       "      <td>70.0</td>\n",
       "      <td>2017-12-03</td>\n",
       "      <td>3</td>\n",
       "      <td>2.5</td>\n",
       "      <td>12</td>\n",
       "      <td>43.16</td>\n",
       "      <td>10</td>\n",
       "      <td>True</td>\n",
       "      <td>...</td>\n",
       "      <td>8.0</td>\n",
       "      <td>2</td>\n",
       "      <td>кингисепп</td>\n",
       "      <td>&lt;NA&gt;</td>\n",
       "      <td>&lt;NA&gt;</td>\n",
       "      <td>&lt;NA&gt;</td>\n",
       "      <td>&lt;NA&gt;</td>\n",
       "      <td>&lt;NA&gt;</td>\n",
       "      <td>&lt;NA&gt;</td>\n",
       "      <td>300.0</td>\n",
       "    </tr>\n",
       "    <tr>\n",
       "      <th>6249</th>\n",
       "      <td>15</td>\n",
       "      <td>4300000</td>\n",
       "      <td>39.1</td>\n",
       "      <td>2017-05-26</td>\n",
       "      <td>1</td>\n",
       "      <td>NaN</td>\n",
       "      <td>9</td>\n",
       "      <td>24.00</td>\n",
       "      <td>7</td>\n",
       "      <td>True</td>\n",
       "      <td>...</td>\n",
       "      <td>11.0</td>\n",
       "      <td>1</td>\n",
       "      <td>санкт-петербург</td>\n",
       "      <td>39847</td>\n",
       "      <td>11550</td>\n",
       "      <td>1</td>\n",
       "      <td>326</td>\n",
       "      <td>0</td>\n",
       "      <td>&lt;NA&gt;</td>\n",
       "      <td>6.0</td>\n",
       "    </tr>\n",
       "    <tr>\n",
       "      <th>19542</th>\n",
       "      <td>1</td>\n",
       "      <td>5300000</td>\n",
       "      <td>56.0</td>\n",
       "      <td>2017-12-01</td>\n",
       "      <td>3</td>\n",
       "      <td>NaN</td>\n",
       "      <td>5</td>\n",
       "      <td>39.00</td>\n",
       "      <td>1</td>\n",
       "      <td>True</td>\n",
       "      <td>...</td>\n",
       "      <td>6.0</td>\n",
       "      <td>0</td>\n",
       "      <td>санкт-петербург</td>\n",
       "      <td>31158</td>\n",
       "      <td>5663</td>\n",
       "      <td>1</td>\n",
       "      <td>571</td>\n",
       "      <td>1</td>\n",
       "      <td>909</td>\n",
       "      <td>119.0</td>\n",
       "    </tr>\n",
       "    <tr>\n",
       "      <th>1544</th>\n",
       "      <td>11</td>\n",
       "      <td>4500000</td>\n",
       "      <td>38.7</td>\n",
       "      <td>2018-09-05</td>\n",
       "      <td>1</td>\n",
       "      <td>2.7</td>\n",
       "      <td>12</td>\n",
       "      <td>20.10</td>\n",
       "      <td>11</td>\n",
       "      <td>True</td>\n",
       "      <td>...</td>\n",
       "      <td>10.3</td>\n",
       "      <td>0</td>\n",
       "      <td>санкт-петербург</td>\n",
       "      <td>37793</td>\n",
       "      <td>12690</td>\n",
       "      <td>0</td>\n",
       "      <td>&lt;NA&gt;</td>\n",
       "      <td>1</td>\n",
       "      <td>890</td>\n",
       "      <td>106.0</td>\n",
       "    </tr>\n",
       "    <tr>\n",
       "      <th>7134</th>\n",
       "      <td>17</td>\n",
       "      <td>4050000</td>\n",
       "      <td>39.9</td>\n",
       "      <td>2017-01-27</td>\n",
       "      <td>1</td>\n",
       "      <td>NaN</td>\n",
       "      <td>18</td>\n",
       "      <td>20.00</td>\n",
       "      <td>11</td>\n",
       "      <td>True</td>\n",
       "      <td>...</td>\n",
       "      <td>10.7</td>\n",
       "      <td>0</td>\n",
       "      <td>санкт-петербург</td>\n",
       "      <td>28698</td>\n",
       "      <td>13286</td>\n",
       "      <td>1</td>\n",
       "      <td>628</td>\n",
       "      <td>1</td>\n",
       "      <td>441</td>\n",
       "      <td>374.0</td>\n",
       "    </tr>\n",
       "    <tr>\n",
       "      <th>5601</th>\n",
       "      <td>20</td>\n",
       "      <td>6200000</td>\n",
       "      <td>80.0</td>\n",
       "      <td>2014-12-10</td>\n",
       "      <td>3</td>\n",
       "      <td>2.7</td>\n",
       "      <td>5</td>\n",
       "      <td>55.60</td>\n",
       "      <td>4</td>\n",
       "      <td>True</td>\n",
       "      <td>...</td>\n",
       "      <td>11.1</td>\n",
       "      <td>2</td>\n",
       "      <td>всеволожск</td>\n",
       "      <td>&lt;NA&gt;</td>\n",
       "      <td>&lt;NA&gt;</td>\n",
       "      <td>&lt;NA&gt;</td>\n",
       "      <td>&lt;NA&gt;</td>\n",
       "      <td>&lt;NA&gt;</td>\n",
       "      <td>&lt;NA&gt;</td>\n",
       "      <td>NaN</td>\n",
       "    </tr>\n",
       "    <tr>\n",
       "      <th>7856</th>\n",
       "      <td>4</td>\n",
       "      <td>4400000</td>\n",
       "      <td>39.0</td>\n",
       "      <td>2017-09-03</td>\n",
       "      <td>1</td>\n",
       "      <td>NaN</td>\n",
       "      <td>16</td>\n",
       "      <td>20.00</td>\n",
       "      <td>6</td>\n",
       "      <td>True</td>\n",
       "      <td>...</td>\n",
       "      <td>10.0</td>\n",
       "      <td>1</td>\n",
       "      <td>санкт-петербург</td>\n",
       "      <td>16798</td>\n",
       "      <td>14760</td>\n",
       "      <td>1</td>\n",
       "      <td>843</td>\n",
       "      <td>0</td>\n",
       "      <td>&lt;NA&gt;</td>\n",
       "      <td>184.0</td>\n",
       "    </tr>\n",
       "    <tr>\n",
       "      <th>20364</th>\n",
       "      <td>11</td>\n",
       "      <td>8000000</td>\n",
       "      <td>45.0</td>\n",
       "      <td>2017-07-18</td>\n",
       "      <td>1</td>\n",
       "      <td>27.0</td>\n",
       "      <td>4</td>\n",
       "      <td>22.00</td>\n",
       "      <td>2</td>\n",
       "      <td>True</td>\n",
       "      <td>...</td>\n",
       "      <td>10.0</td>\n",
       "      <td>1</td>\n",
       "      <td>санкт-петербург</td>\n",
       "      <td>18975</td>\n",
       "      <td>3246</td>\n",
       "      <td>0</td>\n",
       "      <td>&lt;NA&gt;</td>\n",
       "      <td>3</td>\n",
       "      <td>449</td>\n",
       "      <td>429.0</td>\n",
       "    </tr>\n",
       "    <tr>\n",
       "      <th>16411</th>\n",
       "      <td>19</td>\n",
       "      <td>4900000</td>\n",
       "      <td>55.0</td>\n",
       "      <td>2018-03-26</td>\n",
       "      <td>2</td>\n",
       "      <td>NaN</td>\n",
       "      <td>20</td>\n",
       "      <td>30.50</td>\n",
       "      <td>3</td>\n",
       "      <td>False</td>\n",
       "      <td>...</td>\n",
       "      <td>10.0</td>\n",
       "      <td>0</td>\n",
       "      <td>посёлок мурино</td>\n",
       "      <td>&lt;NA&gt;</td>\n",
       "      <td>&lt;NA&gt;</td>\n",
       "      <td>&lt;NA&gt;</td>\n",
       "      <td>&lt;NA&gt;</td>\n",
       "      <td>&lt;NA&gt;</td>\n",
       "      <td>&lt;NA&gt;</td>\n",
       "      <td>202.0</td>\n",
       "    </tr>\n",
       "    <tr>\n",
       "      <th>18835</th>\n",
       "      <td>18</td>\n",
       "      <td>8650000</td>\n",
       "      <td>89.0</td>\n",
       "      <td>2017-07-17</td>\n",
       "      <td>3</td>\n",
       "      <td>2.7</td>\n",
       "      <td>17</td>\n",
       "      <td>51.00</td>\n",
       "      <td>5</td>\n",
       "      <td>True</td>\n",
       "      <td>...</td>\n",
       "      <td>14.0</td>\n",
       "      <td>0</td>\n",
       "      <td>санкт-петербург</td>\n",
       "      <td>25152</td>\n",
       "      <td>14458</td>\n",
       "      <td>0</td>\n",
       "      <td>&lt;NA&gt;</td>\n",
       "      <td>0</td>\n",
       "      <td>&lt;NA&gt;</td>\n",
       "      <td>284.0</td>\n",
       "    </tr>\n",
       "    <tr>\n",
       "      <th>10600</th>\n",
       "      <td>15</td>\n",
       "      <td>4880000</td>\n",
       "      <td>63.0</td>\n",
       "      <td>2018-03-24</td>\n",
       "      <td>3</td>\n",
       "      <td>2.5</td>\n",
       "      <td>12</td>\n",
       "      <td>39.28</td>\n",
       "      <td>3</td>\n",
       "      <td>True</td>\n",
       "      <td>...</td>\n",
       "      <td>NaN</td>\n",
       "      <td>0</td>\n",
       "      <td>санкт-петербург</td>\n",
       "      <td>12980</td>\n",
       "      <td>15571</td>\n",
       "      <td>0</td>\n",
       "      <td>&lt;NA&gt;</td>\n",
       "      <td>0</td>\n",
       "      <td>&lt;NA&gt;</td>\n",
       "      <td>60.0</td>\n",
       "    </tr>\n",
       "  </tbody>\n",
       "</table>\n",
       "<p>15 rows × 22 columns</p>\n",
       "</div>"
      ],
      "text/plain": [
       "       total_images  last_price  total_area first_day_exposition  rooms  \\\n",
       "14113             2    33415200       140.4           2019-03-31      3   \n",
       "1883             12     4900000        62.0           2017-11-29      3   \n",
       "7013             18     3699000        42.0           2017-03-01      2   \n",
       "18988             9     2850000        54.5           2016-07-04      2   \n",
       "3498             10     3500000        70.0           2017-12-03      3   \n",
       "6249             15     4300000        39.1           2017-05-26      1   \n",
       "19542             1     5300000        56.0           2017-12-01      3   \n",
       "1544             11     4500000        38.7           2018-09-05      1   \n",
       "7134             17     4050000        39.9           2017-01-27      1   \n",
       "5601             20     6200000        80.0           2014-12-10      3   \n",
       "7856              4     4400000        39.0           2017-09-03      1   \n",
       "20364            11     8000000        45.0           2017-07-18      1   \n",
       "16411            19     4900000        55.0           2018-03-26      2   \n",
       "18835            18     8650000        89.0           2017-07-17      3   \n",
       "10600            15     4880000        63.0           2018-03-24      3   \n",
       "\n",
       "       ceiling_height  floors_total  living_area  floor  apartment  ...  \\\n",
       "14113             3.0            11        79.40      5      False  ...   \n",
       "1883              NaN            12        41.00      9       True  ...   \n",
       "7013              2.8            25        25.50     19      False  ...   \n",
       "18988             3.3             3        32.60      2       True  ...   \n",
       "3498              2.5            12        43.16     10       True  ...   \n",
       "6249              NaN             9        24.00      7       True  ...   \n",
       "19542             NaN             5        39.00      1       True  ...   \n",
       "1544              2.7            12        20.10     11       True  ...   \n",
       "7134              NaN            18        20.00     11       True  ...   \n",
       "5601              2.7             5        55.60      4       True  ...   \n",
       "7856              NaN            16        20.00      6       True  ...   \n",
       "20364            27.0             4        22.00      2       True  ...   \n",
       "16411             NaN            20        30.50      3      False  ...   \n",
       "18835             2.7            17        51.00      5       True  ...   \n",
       "10600             2.5            12        39.28      3       True  ...   \n",
       "\n",
       "       kitchen_area  balcony     locality_name  m_to_nearest_airport  \\\n",
       "14113          13.6        0   санкт-петербург                 28282   \n",
       "1883            7.0        1   санкт-петербург                 45992   \n",
       "7013           10.0        2    посёлок мурино                  <NA>   \n",
       "18988           8.2        0  деревня ваганово                  <NA>   \n",
       "3498            8.0        2         кингисепп                  <NA>   \n",
       "6249           11.0        1   санкт-петербург                 39847   \n",
       "19542           6.0        0   санкт-петербург                 31158   \n",
       "1544           10.3        0   санкт-петербург                 37793   \n",
       "7134           10.7        0   санкт-петербург                 28698   \n",
       "5601           11.1        2        всеволожск                  <NA>   \n",
       "7856           10.0        1   санкт-петербург                 16798   \n",
       "20364          10.0        1   санкт-петербург                 18975   \n",
       "16411          10.0        0    посёлок мурино                  <NA>   \n",
       "18835          14.0        0   санкт-петербург                 25152   \n",
       "10600           NaN        0   санкт-петербург                 12980   \n",
       "\n",
       "      m_to_city_center  parks_around_3000_m  m_to_nearest_park  \\\n",
       "14113             6941                    2                365   \n",
       "1883             13643                    1                565   \n",
       "7013              <NA>                 <NA>               <NA>   \n",
       "18988             <NA>                 <NA>               <NA>   \n",
       "3498              <NA>                 <NA>               <NA>   \n",
       "6249             11550                    1                326   \n",
       "19542             5663                    1                571   \n",
       "1544             12690                    0               <NA>   \n",
       "7134             13286                    1                628   \n",
       "5601              <NA>                 <NA>               <NA>   \n",
       "7856             14760                    1                843   \n",
       "20364             3246                    0               <NA>   \n",
       "16411             <NA>                 <NA>               <NA>   \n",
       "18835            14458                    0               <NA>   \n",
       "10600            15571                    0               <NA>   \n",
       "\n",
       "       ponds_around_3000_m  m_to_nearest_ponds  days_exposition  \n",
       "14113                    3                 215              NaN  \n",
       "1883                     1                1118              6.0  \n",
       "7013                  <NA>                <NA>            178.0  \n",
       "18988                 <NA>                <NA>            238.0  \n",
       "3498                  <NA>                <NA>            300.0  \n",
       "6249                     0                <NA>              6.0  \n",
       "19542                    1                 909            119.0  \n",
       "1544                     1                 890            106.0  \n",
       "7134                     1                 441            374.0  \n",
       "5601                  <NA>                <NA>              NaN  \n",
       "7856                     0                <NA>            184.0  \n",
       "20364                    3                 449            429.0  \n",
       "16411                 <NA>                <NA>            202.0  \n",
       "18835                    0                <NA>            284.0  \n",
       "10600                    0                <NA>             60.0  \n",
       "\n",
       "[15 rows x 22 columns]"
      ]
     },
     "execution_count": 27,
     "metadata": {},
     "output_type": "execute_result"
    }
   ],
   "source": [
    "# получение случайных 15 строк таблицы df\n",
    "df.sample(15, random_state=1)"
   ]
  },
  {
   "cell_type": "markdown",
   "id": "753e7a96",
   "metadata": {},
   "source": [
    "## Добавление столбцов с новыми параметрами"
   ]
  },
  {
   "cell_type": "markdown",
   "id": "03a11588-9d15-48f8-8e0d-d94cd8c94006",
   "metadata": {},
   "source": [
    "Для удобства, большей вариативности и информативности при последующем анализе данных добавим в датафрейм новые столбцы со следующими показателями:\n",
    "1. цена квадратного метра;\n",
    "2. день недели, месяц и год публикации объявления;\n",
    "3. категории этажа квартиры: первый, последний, другой;\n",
    "4. соотношение жилой и общей площади, отношение площади кухни к общей."
   ]
  },
  {
   "cell_type": "code",
   "execution_count": 28,
   "id": "5e5b418b",
   "metadata": {},
   "outputs": [],
   "source": [
    "# создание столбца с ценой кв.м.\n",
    "df['price_square_m'] = (\n",
    "(df.last_price / df.total_area)\n",
    ".astype('int')\n",
    ")\n",
    "# создание столбцов с отдельными показателями даты размещения объявления\n",
    "df['day_of_week_exposition'] = df.first_day_exposition.dt.weekday\n",
    "df['month_exposition'] = df.first_day_exposition.dt.month\n",
    "df['year_exposition'] = df.first_day_exposition.dt.year"
   ]
  },
  {
   "cell_type": "code",
   "execution_count": 29,
   "id": "47110c02",
   "metadata": {},
   "outputs": [
    {
     "data": {
      "text/plain": [
       "'первый'"
      ]
     },
     "metadata": {},
     "output_type": "display_data"
    },
    {
     "data": {
      "text/plain": [
       "'последний'"
      ]
     },
     "metadata": {},
     "output_type": "display_data"
    },
    {
     "data": {
      "text/plain": [
       "'другой'"
      ]
     },
     "metadata": {},
     "output_type": "display_data"
    }
   ],
   "source": [
    "# создание функции для категоризации значений\n",
    "def floor_category(row):\n",
    "    floor = row['floor']\n",
    "    last_floor = row['floors_total']\n",
    "    if floor == 1:\n",
    "        return 'первый'\n",
    "    if floor == last_floor:\n",
    "        return 'последний'\n",
    "    return 'другой'\n",
    "\n",
    "# тестирование функции\n",
    "row_values = [1, 2]\n",
    "row_columns = ['floor', 'floors_total']\n",
    "row = pd.Series(data=row_values, index=row_columns) \n",
    "display(floor_category(row))\n",
    "\n",
    "row_values = [2, 2]\n",
    "row_columns = ['floor', 'floors_total']\n",
    "row = pd.Series(data=row_values, index=row_columns) \n",
    "display(floor_category(row))\n",
    "\n",
    "row_values = [2, 3]\n",
    "row_columns = ['floor', 'floors_total']\n",
    "row = pd.Series(data=row_values, index=row_columns) \n",
    "display(floor_category(row))"
   ]
  },
  {
   "cell_type": "code",
   "execution_count": 30,
   "id": "ea2d5b98",
   "metadata": {},
   "outputs": [],
   "source": [
    "# создание столбца с категорией этажа\n",
    "df['floor_category'] = df.apply(floor_category, axis=1)\n",
    "\n",
    "# создание столбцов с соотношениями типа площади к общей\n",
    "df['living_area_ratio'] = df.living_area / df.total_area\n",
    "df['kitchen_area_ratio'] = df.kitchen_area / df.total_area"
   ]
  },
  {
   "cell_type": "markdown",
   "id": "22e4e5e2",
   "metadata": {},
   "source": [
    "Взглянем на обновлённую таблицу."
   ]
  },
  {
   "cell_type": "code",
   "execution_count": 31,
   "id": "0feeb5d7",
   "metadata": {},
   "outputs": [
    {
     "data": {
      "text/html": [
       "<div>\n",
       "<style scoped>\n",
       "    .dataframe tbody tr th:only-of-type {\n",
       "        vertical-align: middle;\n",
       "    }\n",
       "\n",
       "    .dataframe tbody tr th {\n",
       "        vertical-align: top;\n",
       "    }\n",
       "\n",
       "    .dataframe thead th {\n",
       "        text-align: right;\n",
       "    }\n",
       "</style>\n",
       "<table border=\"1\" class=\"dataframe\">\n",
       "  <thead>\n",
       "    <tr style=\"text-align: right;\">\n",
       "      <th></th>\n",
       "      <th>total_images</th>\n",
       "      <th>last_price</th>\n",
       "      <th>total_area</th>\n",
       "      <th>first_day_exposition</th>\n",
       "      <th>rooms</th>\n",
       "      <th>ceiling_height</th>\n",
       "      <th>floors_total</th>\n",
       "      <th>living_area</th>\n",
       "      <th>floor</th>\n",
       "      <th>apartment</th>\n",
       "      <th>...</th>\n",
       "      <th>ponds_around_3000_m</th>\n",
       "      <th>m_to_nearest_ponds</th>\n",
       "      <th>days_exposition</th>\n",
       "      <th>price_square_m</th>\n",
       "      <th>day_of_week_exposition</th>\n",
       "      <th>month_exposition</th>\n",
       "      <th>year_exposition</th>\n",
       "      <th>floor_category</th>\n",
       "      <th>living_area_ratio</th>\n",
       "      <th>kitchen_area_ratio</th>\n",
       "    </tr>\n",
       "  </thead>\n",
       "  <tbody>\n",
       "    <tr>\n",
       "      <th>14113</th>\n",
       "      <td>2</td>\n",
       "      <td>33415200</td>\n",
       "      <td>140.4</td>\n",
       "      <td>2019-03-31</td>\n",
       "      <td>3</td>\n",
       "      <td>3.0</td>\n",
       "      <td>11</td>\n",
       "      <td>79.40</td>\n",
       "      <td>5</td>\n",
       "      <td>False</td>\n",
       "      <td>...</td>\n",
       "      <td>3</td>\n",
       "      <td>215</td>\n",
       "      <td>NaN</td>\n",
       "      <td>238000</td>\n",
       "      <td>6</td>\n",
       "      <td>3</td>\n",
       "      <td>2019</td>\n",
       "      <td>другой</td>\n",
       "      <td>0.565527</td>\n",
       "      <td>0.096866</td>\n",
       "    </tr>\n",
       "    <tr>\n",
       "      <th>1883</th>\n",
       "      <td>12</td>\n",
       "      <td>4900000</td>\n",
       "      <td>62.0</td>\n",
       "      <td>2017-11-29</td>\n",
       "      <td>3</td>\n",
       "      <td>NaN</td>\n",
       "      <td>12</td>\n",
       "      <td>41.00</td>\n",
       "      <td>9</td>\n",
       "      <td>True</td>\n",
       "      <td>...</td>\n",
       "      <td>1</td>\n",
       "      <td>1118</td>\n",
       "      <td>6.0</td>\n",
       "      <td>79032</td>\n",
       "      <td>2</td>\n",
       "      <td>11</td>\n",
       "      <td>2017</td>\n",
       "      <td>другой</td>\n",
       "      <td>0.661290</td>\n",
       "      <td>0.112903</td>\n",
       "    </tr>\n",
       "    <tr>\n",
       "      <th>7013</th>\n",
       "      <td>18</td>\n",
       "      <td>3699000</td>\n",
       "      <td>42.0</td>\n",
       "      <td>2017-03-01</td>\n",
       "      <td>2</td>\n",
       "      <td>2.8</td>\n",
       "      <td>25</td>\n",
       "      <td>25.50</td>\n",
       "      <td>19</td>\n",
       "      <td>False</td>\n",
       "      <td>...</td>\n",
       "      <td>&lt;NA&gt;</td>\n",
       "      <td>&lt;NA&gt;</td>\n",
       "      <td>178.0</td>\n",
       "      <td>88071</td>\n",
       "      <td>2</td>\n",
       "      <td>3</td>\n",
       "      <td>2017</td>\n",
       "      <td>другой</td>\n",
       "      <td>0.607143</td>\n",
       "      <td>0.238095</td>\n",
       "    </tr>\n",
       "    <tr>\n",
       "      <th>18988</th>\n",
       "      <td>9</td>\n",
       "      <td>2850000</td>\n",
       "      <td>54.5</td>\n",
       "      <td>2016-07-04</td>\n",
       "      <td>2</td>\n",
       "      <td>3.3</td>\n",
       "      <td>3</td>\n",
       "      <td>32.60</td>\n",
       "      <td>2</td>\n",
       "      <td>True</td>\n",
       "      <td>...</td>\n",
       "      <td>&lt;NA&gt;</td>\n",
       "      <td>&lt;NA&gt;</td>\n",
       "      <td>238.0</td>\n",
       "      <td>52293</td>\n",
       "      <td>0</td>\n",
       "      <td>7</td>\n",
       "      <td>2016</td>\n",
       "      <td>другой</td>\n",
       "      <td>0.598165</td>\n",
       "      <td>0.150459</td>\n",
       "    </tr>\n",
       "    <tr>\n",
       "      <th>3498</th>\n",
       "      <td>10</td>\n",
       "      <td>3500000</td>\n",
       "      <td>70.0</td>\n",
       "      <td>2017-12-03</td>\n",
       "      <td>3</td>\n",
       "      <td>2.5</td>\n",
       "      <td>12</td>\n",
       "      <td>43.16</td>\n",
       "      <td>10</td>\n",
       "      <td>True</td>\n",
       "      <td>...</td>\n",
       "      <td>&lt;NA&gt;</td>\n",
       "      <td>&lt;NA&gt;</td>\n",
       "      <td>300.0</td>\n",
       "      <td>50000</td>\n",
       "      <td>6</td>\n",
       "      <td>12</td>\n",
       "      <td>2017</td>\n",
       "      <td>другой</td>\n",
       "      <td>0.616571</td>\n",
       "      <td>0.114286</td>\n",
       "    </tr>\n",
       "    <tr>\n",
       "      <th>6249</th>\n",
       "      <td>15</td>\n",
       "      <td>4300000</td>\n",
       "      <td>39.1</td>\n",
       "      <td>2017-05-26</td>\n",
       "      <td>1</td>\n",
       "      <td>NaN</td>\n",
       "      <td>9</td>\n",
       "      <td>24.00</td>\n",
       "      <td>7</td>\n",
       "      <td>True</td>\n",
       "      <td>...</td>\n",
       "      <td>0</td>\n",
       "      <td>&lt;NA&gt;</td>\n",
       "      <td>6.0</td>\n",
       "      <td>109974</td>\n",
       "      <td>4</td>\n",
       "      <td>5</td>\n",
       "      <td>2017</td>\n",
       "      <td>другой</td>\n",
       "      <td>0.613811</td>\n",
       "      <td>0.281330</td>\n",
       "    </tr>\n",
       "    <tr>\n",
       "      <th>19542</th>\n",
       "      <td>1</td>\n",
       "      <td>5300000</td>\n",
       "      <td>56.0</td>\n",
       "      <td>2017-12-01</td>\n",
       "      <td>3</td>\n",
       "      <td>NaN</td>\n",
       "      <td>5</td>\n",
       "      <td>39.00</td>\n",
       "      <td>1</td>\n",
       "      <td>True</td>\n",
       "      <td>...</td>\n",
       "      <td>1</td>\n",
       "      <td>909</td>\n",
       "      <td>119.0</td>\n",
       "      <td>94642</td>\n",
       "      <td>4</td>\n",
       "      <td>12</td>\n",
       "      <td>2017</td>\n",
       "      <td>первый</td>\n",
       "      <td>0.696429</td>\n",
       "      <td>0.107143</td>\n",
       "    </tr>\n",
       "    <tr>\n",
       "      <th>1544</th>\n",
       "      <td>11</td>\n",
       "      <td>4500000</td>\n",
       "      <td>38.7</td>\n",
       "      <td>2018-09-05</td>\n",
       "      <td>1</td>\n",
       "      <td>2.7</td>\n",
       "      <td>12</td>\n",
       "      <td>20.10</td>\n",
       "      <td>11</td>\n",
       "      <td>True</td>\n",
       "      <td>...</td>\n",
       "      <td>1</td>\n",
       "      <td>890</td>\n",
       "      <td>106.0</td>\n",
       "      <td>116279</td>\n",
       "      <td>2</td>\n",
       "      <td>9</td>\n",
       "      <td>2018</td>\n",
       "      <td>другой</td>\n",
       "      <td>0.519380</td>\n",
       "      <td>0.266150</td>\n",
       "    </tr>\n",
       "    <tr>\n",
       "      <th>7134</th>\n",
       "      <td>17</td>\n",
       "      <td>4050000</td>\n",
       "      <td>39.9</td>\n",
       "      <td>2017-01-27</td>\n",
       "      <td>1</td>\n",
       "      <td>NaN</td>\n",
       "      <td>18</td>\n",
       "      <td>20.00</td>\n",
       "      <td>11</td>\n",
       "      <td>True</td>\n",
       "      <td>...</td>\n",
       "      <td>1</td>\n",
       "      <td>441</td>\n",
       "      <td>374.0</td>\n",
       "      <td>101503</td>\n",
       "      <td>4</td>\n",
       "      <td>1</td>\n",
       "      <td>2017</td>\n",
       "      <td>другой</td>\n",
       "      <td>0.501253</td>\n",
       "      <td>0.268170</td>\n",
       "    </tr>\n",
       "    <tr>\n",
       "      <th>5601</th>\n",
       "      <td>20</td>\n",
       "      <td>6200000</td>\n",
       "      <td>80.0</td>\n",
       "      <td>2014-12-10</td>\n",
       "      <td>3</td>\n",
       "      <td>2.7</td>\n",
       "      <td>5</td>\n",
       "      <td>55.60</td>\n",
       "      <td>4</td>\n",
       "      <td>True</td>\n",
       "      <td>...</td>\n",
       "      <td>&lt;NA&gt;</td>\n",
       "      <td>&lt;NA&gt;</td>\n",
       "      <td>NaN</td>\n",
       "      <td>77500</td>\n",
       "      <td>2</td>\n",
       "      <td>12</td>\n",
       "      <td>2014</td>\n",
       "      <td>другой</td>\n",
       "      <td>0.695000</td>\n",
       "      <td>0.138750</td>\n",
       "    </tr>\n",
       "    <tr>\n",
       "      <th>7856</th>\n",
       "      <td>4</td>\n",
       "      <td>4400000</td>\n",
       "      <td>39.0</td>\n",
       "      <td>2017-09-03</td>\n",
       "      <td>1</td>\n",
       "      <td>NaN</td>\n",
       "      <td>16</td>\n",
       "      <td>20.00</td>\n",
       "      <td>6</td>\n",
       "      <td>True</td>\n",
       "      <td>...</td>\n",
       "      <td>0</td>\n",
       "      <td>&lt;NA&gt;</td>\n",
       "      <td>184.0</td>\n",
       "      <td>112820</td>\n",
       "      <td>6</td>\n",
       "      <td>9</td>\n",
       "      <td>2017</td>\n",
       "      <td>другой</td>\n",
       "      <td>0.512821</td>\n",
       "      <td>0.256410</td>\n",
       "    </tr>\n",
       "    <tr>\n",
       "      <th>20364</th>\n",
       "      <td>11</td>\n",
       "      <td>8000000</td>\n",
       "      <td>45.0</td>\n",
       "      <td>2017-07-18</td>\n",
       "      <td>1</td>\n",
       "      <td>27.0</td>\n",
       "      <td>4</td>\n",
       "      <td>22.00</td>\n",
       "      <td>2</td>\n",
       "      <td>True</td>\n",
       "      <td>...</td>\n",
       "      <td>3</td>\n",
       "      <td>449</td>\n",
       "      <td>429.0</td>\n",
       "      <td>177777</td>\n",
       "      <td>1</td>\n",
       "      <td>7</td>\n",
       "      <td>2017</td>\n",
       "      <td>другой</td>\n",
       "      <td>0.488889</td>\n",
       "      <td>0.222222</td>\n",
       "    </tr>\n",
       "    <tr>\n",
       "      <th>16411</th>\n",
       "      <td>19</td>\n",
       "      <td>4900000</td>\n",
       "      <td>55.0</td>\n",
       "      <td>2018-03-26</td>\n",
       "      <td>2</td>\n",
       "      <td>NaN</td>\n",
       "      <td>20</td>\n",
       "      <td>30.50</td>\n",
       "      <td>3</td>\n",
       "      <td>False</td>\n",
       "      <td>...</td>\n",
       "      <td>&lt;NA&gt;</td>\n",
       "      <td>&lt;NA&gt;</td>\n",
       "      <td>202.0</td>\n",
       "      <td>89090</td>\n",
       "      <td>0</td>\n",
       "      <td>3</td>\n",
       "      <td>2018</td>\n",
       "      <td>другой</td>\n",
       "      <td>0.554545</td>\n",
       "      <td>0.181818</td>\n",
       "    </tr>\n",
       "    <tr>\n",
       "      <th>18835</th>\n",
       "      <td>18</td>\n",
       "      <td>8650000</td>\n",
       "      <td>89.0</td>\n",
       "      <td>2017-07-17</td>\n",
       "      <td>3</td>\n",
       "      <td>2.7</td>\n",
       "      <td>17</td>\n",
       "      <td>51.00</td>\n",
       "      <td>5</td>\n",
       "      <td>True</td>\n",
       "      <td>...</td>\n",
       "      <td>0</td>\n",
       "      <td>&lt;NA&gt;</td>\n",
       "      <td>284.0</td>\n",
       "      <td>97191</td>\n",
       "      <td>0</td>\n",
       "      <td>7</td>\n",
       "      <td>2017</td>\n",
       "      <td>другой</td>\n",
       "      <td>0.573034</td>\n",
       "      <td>0.157303</td>\n",
       "    </tr>\n",
       "    <tr>\n",
       "      <th>10600</th>\n",
       "      <td>15</td>\n",
       "      <td>4880000</td>\n",
       "      <td>63.0</td>\n",
       "      <td>2018-03-24</td>\n",
       "      <td>3</td>\n",
       "      <td>2.5</td>\n",
       "      <td>12</td>\n",
       "      <td>39.28</td>\n",
       "      <td>3</td>\n",
       "      <td>True</td>\n",
       "      <td>...</td>\n",
       "      <td>0</td>\n",
       "      <td>&lt;NA&gt;</td>\n",
       "      <td>60.0</td>\n",
       "      <td>77460</td>\n",
       "      <td>5</td>\n",
       "      <td>3</td>\n",
       "      <td>2018</td>\n",
       "      <td>другой</td>\n",
       "      <td>0.623492</td>\n",
       "      <td>NaN</td>\n",
       "    </tr>\n",
       "  </tbody>\n",
       "</table>\n",
       "<p>15 rows × 29 columns</p>\n",
       "</div>"
      ],
      "text/plain": [
       "       total_images  last_price  total_area first_day_exposition  rooms  \\\n",
       "14113             2    33415200       140.4           2019-03-31      3   \n",
       "1883             12     4900000        62.0           2017-11-29      3   \n",
       "7013             18     3699000        42.0           2017-03-01      2   \n",
       "18988             9     2850000        54.5           2016-07-04      2   \n",
       "3498             10     3500000        70.0           2017-12-03      3   \n",
       "6249             15     4300000        39.1           2017-05-26      1   \n",
       "19542             1     5300000        56.0           2017-12-01      3   \n",
       "1544             11     4500000        38.7           2018-09-05      1   \n",
       "7134             17     4050000        39.9           2017-01-27      1   \n",
       "5601             20     6200000        80.0           2014-12-10      3   \n",
       "7856              4     4400000        39.0           2017-09-03      1   \n",
       "20364            11     8000000        45.0           2017-07-18      1   \n",
       "16411            19     4900000        55.0           2018-03-26      2   \n",
       "18835            18     8650000        89.0           2017-07-17      3   \n",
       "10600            15     4880000        63.0           2018-03-24      3   \n",
       "\n",
       "       ceiling_height  floors_total  living_area  floor  apartment  ...  \\\n",
       "14113             3.0            11        79.40      5      False  ...   \n",
       "1883              NaN            12        41.00      9       True  ...   \n",
       "7013              2.8            25        25.50     19      False  ...   \n",
       "18988             3.3             3        32.60      2       True  ...   \n",
       "3498              2.5            12        43.16     10       True  ...   \n",
       "6249              NaN             9        24.00      7       True  ...   \n",
       "19542             NaN             5        39.00      1       True  ...   \n",
       "1544              2.7            12        20.10     11       True  ...   \n",
       "7134              NaN            18        20.00     11       True  ...   \n",
       "5601              2.7             5        55.60      4       True  ...   \n",
       "7856              NaN            16        20.00      6       True  ...   \n",
       "20364            27.0             4        22.00      2       True  ...   \n",
       "16411             NaN            20        30.50      3      False  ...   \n",
       "18835             2.7            17        51.00      5       True  ...   \n",
       "10600             2.5            12        39.28      3       True  ...   \n",
       "\n",
       "       ponds_around_3000_m  m_to_nearest_ponds  days_exposition  \\\n",
       "14113                    3                 215              NaN   \n",
       "1883                     1                1118              6.0   \n",
       "7013                  <NA>                <NA>            178.0   \n",
       "18988                 <NA>                <NA>            238.0   \n",
       "3498                  <NA>                <NA>            300.0   \n",
       "6249                     0                <NA>              6.0   \n",
       "19542                    1                 909            119.0   \n",
       "1544                     1                 890            106.0   \n",
       "7134                     1                 441            374.0   \n",
       "5601                  <NA>                <NA>              NaN   \n",
       "7856                     0                <NA>            184.0   \n",
       "20364                    3                 449            429.0   \n",
       "16411                 <NA>                <NA>            202.0   \n",
       "18835                    0                <NA>            284.0   \n",
       "10600                    0                <NA>             60.0   \n",
       "\n",
       "       price_square_m day_of_week_exposition  month_exposition  \\\n",
       "14113          238000                      6                 3   \n",
       "1883            79032                      2                11   \n",
       "7013            88071                      2                 3   \n",
       "18988           52293                      0                 7   \n",
       "3498            50000                      6                12   \n",
       "6249           109974                      4                 5   \n",
       "19542           94642                      4                12   \n",
       "1544           116279                      2                 9   \n",
       "7134           101503                      4                 1   \n",
       "5601            77500                      2                12   \n",
       "7856           112820                      6                 9   \n",
       "20364          177777                      1                 7   \n",
       "16411           89090                      0                 3   \n",
       "18835           97191                      0                 7   \n",
       "10600           77460                      5                 3   \n",
       "\n",
       "       year_exposition  floor_category  living_area_ratio  kitchen_area_ratio  \n",
       "14113             2019          другой           0.565527            0.096866  \n",
       "1883              2017          другой           0.661290            0.112903  \n",
       "7013              2017          другой           0.607143            0.238095  \n",
       "18988             2016          другой           0.598165            0.150459  \n",
       "3498              2017          другой           0.616571            0.114286  \n",
       "6249              2017          другой           0.613811            0.281330  \n",
       "19542             2017          первый           0.696429            0.107143  \n",
       "1544              2018          другой           0.519380            0.266150  \n",
       "7134              2017          другой           0.501253            0.268170  \n",
       "5601              2014          другой           0.695000            0.138750  \n",
       "7856              2017          другой           0.512821            0.256410  \n",
       "20364             2017          другой           0.488889            0.222222  \n",
       "16411             2018          другой           0.554545            0.181818  \n",
       "18835             2017          другой           0.573034            0.157303  \n",
       "10600             2018          другой           0.623492                 NaN  \n",
       "\n",
       "[15 rows x 29 columns]"
      ]
     },
     "execution_count": 31,
     "metadata": {},
     "output_type": "execute_result"
    }
   ],
   "source": [
    "# получение случайных 15 строк таблицы df\n",
    "df.sample(15, random_state=1)"
   ]
  },
  {
   "cell_type": "markdown",
   "id": "10b12505",
   "metadata": {},
   "source": [
    "## Исследовательский анализ данных"
   ]
  },
  {
   "cell_type": "markdown",
   "id": "4b1ca1d1",
   "metadata": {},
   "source": [
    "### Изучение параметров и избавление от выбросов"
   ]
  },
  {
   "cell_type": "markdown",
   "id": "51bb6578",
   "metadata": {},
   "source": [
    "Рассмотрим подробнее распределения значений в представленных параметрах квартир и уберём выбивающиеся значения для более точного дальнейшего анализа. Воспользуемся гистограммами и числовым описанием данных. "
   ]
  },
  {
   "cell_type": "code",
   "execution_count": 32,
   "id": "8a658ce1",
   "metadata": {},
   "outputs": [
    {
     "data": {
      "text/html": [
       "<style  type=\"text/css\" >\n",
       "</style><table id=\"T_1fb65_\" ><thead>    <tr>        <th class=\"blank level0\" ></th>        <th class=\"col_heading level0 col0\" >last_price</th>    </tr></thead><tbody>\n",
       "                <tr>\n",
       "                        <th id=\"T_1fb65_level0_row0\" class=\"row_heading level0 row0\" >count</th>\n",
       "                        <td id=\"T_1fb65_row0_col0\" class=\"data row0 col0\" >23565.00</td>\n",
       "            </tr>\n",
       "            <tr>\n",
       "                        <th id=\"T_1fb65_level0_row1\" class=\"row_heading level0 row1\" >mean</th>\n",
       "                        <td id=\"T_1fb65_row1_col0\" class=\"data row1 col0\" >6540058.26</td>\n",
       "            </tr>\n",
       "            <tr>\n",
       "                        <th id=\"T_1fb65_level0_row2\" class=\"row_heading level0 row2\" >std</th>\n",
       "                        <td id=\"T_1fb65_row2_col0\" class=\"data row2 col0\" >10910934.72</td>\n",
       "            </tr>\n",
       "            <tr>\n",
       "                        <th id=\"T_1fb65_level0_row3\" class=\"row_heading level0 row3\" >min</th>\n",
       "                        <td id=\"T_1fb65_row3_col0\" class=\"data row3 col0\" >12190.00</td>\n",
       "            </tr>\n",
       "            <tr>\n",
       "                        <th id=\"T_1fb65_level0_row4\" class=\"row_heading level0 row4\" >25%</th>\n",
       "                        <td id=\"T_1fb65_row4_col0\" class=\"data row4 col0\" >3400000.00</td>\n",
       "            </tr>\n",
       "            <tr>\n",
       "                        <th id=\"T_1fb65_level0_row5\" class=\"row_heading level0 row5\" >50%</th>\n",
       "                        <td id=\"T_1fb65_row5_col0\" class=\"data row5 col0\" >4646000.00</td>\n",
       "            </tr>\n",
       "            <tr>\n",
       "                        <th id=\"T_1fb65_level0_row6\" class=\"row_heading level0 row6\" >75%</th>\n",
       "                        <td id=\"T_1fb65_row6_col0\" class=\"data row6 col0\" >6790000.00</td>\n",
       "            </tr>\n",
       "            <tr>\n",
       "                        <th id=\"T_1fb65_level0_row7\" class=\"row_heading level0 row7\" >max</th>\n",
       "                        <td id=\"T_1fb65_row7_col0\" class=\"data row7 col0\" >763000000.00</td>\n",
       "            </tr>\n",
       "    </tbody></table>"
      ],
      "text/plain": [
       "<pandas.io.formats.style.Styler at 0x148ffa08e50>"
      ]
     },
     "execution_count": 32,
     "metadata": {},
     "output_type": "execute_result"
    }
   ],
   "source": [
    "# получение числового описания\n",
    "df.last_price.describe().to_frame().style.format('{:.2f}')"
   ]
  },
  {
   "cell_type": "code",
   "execution_count": 33,
   "id": "e7da073d",
   "metadata": {},
   "outputs": [
    {
     "data": {
      "image/png": "[encoded data removed]",
      "text/plain": [
       "<Figure size 432x288 with 1 Axes>"
      ]
     },
     "metadata": {
      "needs_background": "light"
     },
     "output_type": "display_data"
    }
   ],
   "source": [
    "# формирование гистограммы\n",
    "df['last_price'].plot(\n",
    "    kind='hist',\n",
    "    grid=True,\n",
    "    bins=50,\n",
    "    range=(0, 35000000),\n",
    "    title='Цена',\n",
    "    legend=True\n",
    ")\n",
    "plt.show()"
   ]
  },
  {
   "cell_type": "markdown",
   "id": "ddb2b4a4",
   "metadata": {},
   "source": [
    "Видим, что средняя стоимость квартир данного датасета колеблется в районе 5 млн. Присутствуют и редкие, выбивающиеся значения. Можно выделить основную массу квартир с ценой в диапзоне от 1 до 20 млн. Проверим, какую долю составляют выделяющиеся значения."
   ]
  },
  {
   "cell_type": "code",
   "execution_count": 34,
   "id": "379ae27d",
   "metadata": {
    "scrolled": true
   },
   "outputs": [
    {
     "name": "stdout",
     "output_type": "stream",
     "text": [
      "Доля редких значений цены квартир 4%\n"
     ]
    }
   ],
   "source": [
    "# получение доли выделяющихся значений\n",
    "rare_values = len(df.query('last_price < 1000000 or last_price > 20000000')) / len(df)\n",
    "print(f'Доля редких значений цены квартир {rare_values:.0%}')"
   ]
  },
  {
   "cell_type": "markdown",
   "id": "db4dfc8d",
   "metadata": {},
   "source": [
    "Доля нехарактерных значений составляет 4% от общего числа, следовательно, можно их удалить без какой-либо серьёзной потери в данных, так как их стоимость слабо соответствует жилым квартирам в целом. Проверим влияние изменений по новому числовому описанию."
   ]
  },
  {
   "cell_type": "code",
   "execution_count": 35,
   "id": "26d97386",
   "metadata": {},
   "outputs": [
    {
     "data": {
      "text/html": [
       "<style  type=\"text/css\" >\n",
       "</style><table id=\"T_cb9da_\" ><thead>    <tr>        <th class=\"blank level0\" ></th>        <th class=\"col_heading level0 col0\" >last_price</th>    </tr></thead><tbody>\n",
       "                <tr>\n",
       "                        <th id=\"T_cb9da_level0_row0\" class=\"row_heading level0 row0\" >count</th>\n",
       "                        <td id=\"T_cb9da_row0_col0\" class=\"data row0 col0\" >22636.00</td>\n",
       "            </tr>\n",
       "            <tr>\n",
       "                        <th id=\"T_cb9da_level0_row1\" class=\"row_heading level0 row1\" >mean</th>\n",
       "                        <td id=\"T_cb9da_row1_col0\" class=\"data row1 col0\" >5464771.77</td>\n",
       "            </tr>\n",
       "            <tr>\n",
       "                        <th id=\"T_cb9da_level0_row2\" class=\"row_heading level0 row2\" >std</th>\n",
       "                        <td id=\"T_cb9da_row2_col0\" class=\"data row2 col0\" >3197738.05</td>\n",
       "            </tr>\n",
       "            <tr>\n",
       "                        <th id=\"T_cb9da_level0_row3\" class=\"row_heading level0 row3\" >min</th>\n",
       "                        <td id=\"T_cb9da_row3_col0\" class=\"data row3 col0\" >1000000.00</td>\n",
       "            </tr>\n",
       "            <tr>\n",
       "                        <th id=\"T_cb9da_level0_row4\" class=\"row_heading level0 row4\" >25%</th>\n",
       "                        <td id=\"T_cb9da_row4_col0\" class=\"data row4 col0\" >3400000.00</td>\n",
       "            </tr>\n",
       "            <tr>\n",
       "                        <th id=\"T_cb9da_level0_row5\" class=\"row_heading level0 row5\" >50%</th>\n",
       "                        <td id=\"T_cb9da_row5_col0\" class=\"data row5 col0\" >4599000.00</td>\n",
       "            </tr>\n",
       "            <tr>\n",
       "                        <th id=\"T_cb9da_level0_row6\" class=\"row_heading level0 row6\" >75%</th>\n",
       "                        <td id=\"T_cb9da_row6_col0\" class=\"data row6 col0\" >6500000.00</td>\n",
       "            </tr>\n",
       "            <tr>\n",
       "                        <th id=\"T_cb9da_level0_row7\" class=\"row_heading level0 row7\" >max</th>\n",
       "                        <td id=\"T_cb9da_row7_col0\" class=\"data row7 col0\" >20000000.00</td>\n",
       "            </tr>\n",
       "    </tbody></table>"
      ],
      "text/plain": [
       "<pandas.io.formats.style.Styler at 0x1488629c730>"
      ]
     },
     "execution_count": 35,
     "metadata": {},
     "output_type": "execute_result"
    }
   ],
   "source": [
    "# формирование датафрейма без редких значений\n",
    "good_df = df.query('1000000 <= last_price <= 20000000').reset_index(drop=True)\n",
    "# получение нового числового описания\n",
    "good_df.last_price.describe().to_frame().style.format('{:.2f}')"
   ]
  },
  {
   "cell_type": "markdown",
   "id": "1e9f1b80",
   "metadata": {},
   "source": [
    "Данные стали более однородными, стандартное отклонение уменьшилось, а среднее значение стало ближе к медианному.\n",
    "\n",
    "Поступим аналогичным образом с остальными параметрами."
   ]
  },
  {
   "cell_type": "code",
   "execution_count": 36,
   "id": "434df351",
   "metadata": {},
   "outputs": [
    {
     "data": {
      "text/html": [
       "<style  type=\"text/css\" >\n",
       "</style><table id=\"T_3641a_\" ><thead>    <tr>        <th class=\"blank level0\" ></th>        <th class=\"col_heading level0 col0\" >total_area</th>    </tr></thead><tbody>\n",
       "                <tr>\n",
       "                        <th id=\"T_3641a_level0_row0\" class=\"row_heading level0 row0\" >count</th>\n",
       "                        <td id=\"T_3641a_row0_col0\" class=\"data row0 col0\" >23565.00</td>\n",
       "            </tr>\n",
       "            <tr>\n",
       "                        <th id=\"T_3641a_level0_row1\" class=\"row_heading level0 row1\" >mean</th>\n",
       "                        <td id=\"T_3641a_row1_col0\" class=\"data row1 col0\" >60.32</td>\n",
       "            </tr>\n",
       "            <tr>\n",
       "                        <th id=\"T_3641a_level0_row2\" class=\"row_heading level0 row2\" >std</th>\n",
       "                        <td id=\"T_3641a_row2_col0\" class=\"data row2 col0\" >35.66</td>\n",
       "            </tr>\n",
       "            <tr>\n",
       "                        <th id=\"T_3641a_level0_row3\" class=\"row_heading level0 row3\" >min</th>\n",
       "                        <td id=\"T_3641a_row3_col0\" class=\"data row3 col0\" >12.00</td>\n",
       "            </tr>\n",
       "            <tr>\n",
       "                        <th id=\"T_3641a_level0_row4\" class=\"row_heading level0 row4\" >25%</th>\n",
       "                        <td id=\"T_3641a_row4_col0\" class=\"data row4 col0\" >40.00</td>\n",
       "            </tr>\n",
       "            <tr>\n",
       "                        <th id=\"T_3641a_level0_row5\" class=\"row_heading level0 row5\" >50%</th>\n",
       "                        <td id=\"T_3641a_row5_col0\" class=\"data row5 col0\" >52.00</td>\n",
       "            </tr>\n",
       "            <tr>\n",
       "                        <th id=\"T_3641a_level0_row6\" class=\"row_heading level0 row6\" >75%</th>\n",
       "                        <td id=\"T_3641a_row6_col0\" class=\"data row6 col0\" >69.70</td>\n",
       "            </tr>\n",
       "            <tr>\n",
       "                        <th id=\"T_3641a_level0_row7\" class=\"row_heading level0 row7\" >max</th>\n",
       "                        <td id=\"T_3641a_row7_col0\" class=\"data row7 col0\" >900.00</td>\n",
       "            </tr>\n",
       "    </tbody></table>"
      ],
      "text/plain": [
       "<pandas.io.formats.style.Styler at 0x1488629c5b0>"
      ]
     },
     "execution_count": 36,
     "metadata": {},
     "output_type": "execute_result"
    }
   ],
   "source": [
    "# получение числового описания\n",
    "df.total_area.describe().to_frame().style.format('{:.2f}')"
   ]
  },
  {
   "cell_type": "code",
   "execution_count": 37,
   "id": "999be83b",
   "metadata": {},
   "outputs": [
    {
     "data": {
      "image/png": "[encoded data removed]",
      "text/plain": [
       "<Figure size 432x288 with 1 Axes>"
      ]
     },
     "metadata": {
      "needs_background": "light"
     },
     "output_type": "display_data"
    }
   ],
   "source": [
    "# формирование гистограммы\n",
    "df['total_area'].plot(\n",
    "    kind='hist',\n",
    "    grid=True,\n",
    "    bins=50,\n",
    "    range=(0, 250),\n",
    "    title='Общая площадь',\n",
    "    legend=True\n",
    ")\n",
    "plt.show()"
   ]
  },
  {
   "cell_type": "markdown",
   "id": "7c345005",
   "metadata": {},
   "source": [
    "Большинство квартир занимают площадь от 30 до 80 кв.м. Есть случаи с выбивающимися площадями наподобие 12 или 900 кв.м. Возможно, это нежилые помещения."
   ]
  },
  {
   "cell_type": "code",
   "execution_count": 38,
   "id": "3a60f228",
   "metadata": {},
   "outputs": [
    {
     "name": "stdout",
     "output_type": "stream",
     "text": [
      "Доля редких значений площади квартир 2%\n"
     ]
    }
   ],
   "source": [
    "# получение доли выделяющихся значений\n",
    "rare_values = len(df.query('total_area < 20 or total_area > 150')) / len(df)\n",
    "print(f'Доля редких значений площади квартир {rare_values:.0%}')"
   ]
  },
  {
   "cell_type": "code",
   "execution_count": 39,
   "id": "61153e08",
   "metadata": {},
   "outputs": [
    {
     "data": {
      "text/html": [
       "<style  type=\"text/css\" >\n",
       "</style><table id=\"T_2ed42_\" ><thead>    <tr>        <th class=\"blank level0\" ></th>        <th class=\"col_heading level0 col0\" >total_area</th>    </tr></thead><tbody>\n",
       "                <tr>\n",
       "                        <th id=\"T_2ed42_level0_row0\" class=\"row_heading level0 row0\" >count</th>\n",
       "                        <td id=\"T_2ed42_row0_col0\" class=\"data row0 col0\" >22422.00</td>\n",
       "            </tr>\n",
       "            <tr>\n",
       "                        <th id=\"T_2ed42_level0_row1\" class=\"row_heading level0 row1\" >mean</th>\n",
       "                        <td id=\"T_2ed42_row1_col0\" class=\"data row1 col0\" >55.83</td>\n",
       "            </tr>\n",
       "            <tr>\n",
       "                        <th id=\"T_2ed42_level0_row2\" class=\"row_heading level0 row2\" >std</th>\n",
       "                        <td id=\"T_2ed42_row2_col0\" class=\"data row2 col0\" >21.75</td>\n",
       "            </tr>\n",
       "            <tr>\n",
       "                        <th id=\"T_2ed42_level0_row3\" class=\"row_heading level0 row3\" >min</th>\n",
       "                        <td id=\"T_2ed42_row3_col0\" class=\"data row3 col0\" >20.00</td>\n",
       "            </tr>\n",
       "            <tr>\n",
       "                        <th id=\"T_2ed42_level0_row4\" class=\"row_heading level0 row4\" >25%</th>\n",
       "                        <td id=\"T_2ed42_row4_col0\" class=\"data row4 col0\" >40.00</td>\n",
       "            </tr>\n",
       "            <tr>\n",
       "                        <th id=\"T_2ed42_level0_row5\" class=\"row_heading level0 row5\" >50%</th>\n",
       "                        <td id=\"T_2ed42_row5_col0\" class=\"data row5 col0\" >51.00</td>\n",
       "            </tr>\n",
       "            <tr>\n",
       "                        <th id=\"T_2ed42_level0_row6\" class=\"row_heading level0 row6\" >75%</th>\n",
       "                        <td id=\"T_2ed42_row6_col0\" class=\"data row6 col0\" >67.00</td>\n",
       "            </tr>\n",
       "            <tr>\n",
       "                        <th id=\"T_2ed42_level0_row7\" class=\"row_heading level0 row7\" >max</th>\n",
       "                        <td id=\"T_2ed42_row7_col0\" class=\"data row7 col0\" >150.00</td>\n",
       "            </tr>\n",
       "    </tbody></table>"
      ],
      "text/plain": [
       "<pandas.io.formats.style.Styler at 0x148863bda90>"
      ]
     },
     "execution_count": 39,
     "metadata": {},
     "output_type": "execute_result"
    }
   ],
   "source": [
    "# формирование датафрейма без редких значений\n",
    "good_df = good_df.query('20 <= total_area <= 150').reset_index(drop=True)\n",
    "\n",
    "# получение нового числового описания\n",
    "good_df.total_area.describe().to_frame().style.format('{:.2f}')"
   ]
  },
  {
   "cell_type": "code",
   "execution_count": 40,
   "id": "c7e5d06d",
   "metadata": {},
   "outputs": [
    {
     "data": {
      "text/html": [
       "<style  type=\"text/css\" >\n",
       "</style><table id=\"T_c0492_\" ><thead>    <tr>        <th class=\"blank level0\" ></th>        <th class=\"col_heading level0 col0\" >rooms</th>    </tr></thead><tbody>\n",
       "                <tr>\n",
       "                        <th id=\"T_c0492_level0_row0\" class=\"row_heading level0 row0\" >count</th>\n",
       "                        <td id=\"T_c0492_row0_col0\" class=\"data row0 col0\" >23565.00</td>\n",
       "            </tr>\n",
       "            <tr>\n",
       "                        <th id=\"T_c0492_level0_row1\" class=\"row_heading level0 row1\" >mean</th>\n",
       "                        <td id=\"T_c0492_row1_col0\" class=\"data row1 col0\" >2.07</td>\n",
       "            </tr>\n",
       "            <tr>\n",
       "                        <th id=\"T_c0492_level0_row2\" class=\"row_heading level0 row2\" >std</th>\n",
       "                        <td id=\"T_c0492_row2_col0\" class=\"data row2 col0\" >1.08</td>\n",
       "            </tr>\n",
       "            <tr>\n",
       "                        <th id=\"T_c0492_level0_row3\" class=\"row_heading level0 row3\" >min</th>\n",
       "                        <td id=\"T_c0492_row3_col0\" class=\"data row3 col0\" >0.00</td>\n",
       "            </tr>\n",
       "            <tr>\n",
       "                        <th id=\"T_c0492_level0_row4\" class=\"row_heading level0 row4\" >25%</th>\n",
       "                        <td id=\"T_c0492_row4_col0\" class=\"data row4 col0\" >1.00</td>\n",
       "            </tr>\n",
       "            <tr>\n",
       "                        <th id=\"T_c0492_level0_row5\" class=\"row_heading level0 row5\" >50%</th>\n",
       "                        <td id=\"T_c0492_row5_col0\" class=\"data row5 col0\" >2.00</td>\n",
       "            </tr>\n",
       "            <tr>\n",
       "                        <th id=\"T_c0492_level0_row6\" class=\"row_heading level0 row6\" >75%</th>\n",
       "                        <td id=\"T_c0492_row6_col0\" class=\"data row6 col0\" >3.00</td>\n",
       "            </tr>\n",
       "            <tr>\n",
       "                        <th id=\"T_c0492_level0_row7\" class=\"row_heading level0 row7\" >max</th>\n",
       "                        <td id=\"T_c0492_row7_col0\" class=\"data row7 col0\" >19.00</td>\n",
       "            </tr>\n",
       "    </tbody></table>"
      ],
      "text/plain": [
       "<pandas.io.formats.style.Styler at 0x148f90e11c0>"
      ]
     },
     "execution_count": 40,
     "metadata": {},
     "output_type": "execute_result"
    }
   ],
   "source": [
    "# получение числового описания\n",
    "df.rooms.describe().to_frame().style.format('{:.2f}')"
   ]
  },
  {
   "cell_type": "code",
   "execution_count": 41,
   "id": "0b9af295",
   "metadata": {},
   "outputs": [
    {
     "data": {
      "image/png": "[encoded data removed]",
      "text/plain": [
       "<Figure size 432x288 with 1 Axes>"
      ]
     },
     "metadata": {
      "needs_background": "light"
     },
     "output_type": "display_data"
    }
   ],
   "source": [
    "# формирование гистограммы\n",
    "df['rooms'].plot(\n",
    "    kind='hist',\n",
    "    grid=True,\n",
    "    range=(0, 10),\n",
    "    title='Количество комнат',\n",
    "    legend=True\n",
    ")\n",
    "plt.show()"
   ]
  },
  {
   "cell_type": "markdown",
   "id": "eada2121",
   "metadata": {},
   "source": [
    "Чаще всего встречаются квартиры с количеством комнат от 1 до 4, но при числовом описании данных попадались и выбросы, например 19 комнат.\n",
    "\n",
    "Отсеивать квартиры с нулевым количеством комнат, хоть они и редки, не будем, так как большинство подобных значений, скорее всего, принадлежит квартирам с открытой планировкой или студиям.\n",
    "Проверим предположение."
   ]
  },
  {
   "cell_type": "code",
   "execution_count": 42,
   "id": "92d67967",
   "metadata": {},
   "outputs": [
    {
     "data": {
      "text/plain": [
       "False    135\n",
       "True      59\n",
       "Name: open_plan, dtype: int64"
      ]
     },
     "metadata": {},
     "output_type": "display_data"
    },
    {
     "data": {
      "text/plain": [
       "True     135\n",
       "False     59\n",
       "Name: studio, dtype: int64"
      ]
     },
     "metadata": {},
     "output_type": "display_data"
    }
   ],
   "source": [
    "# получение распределения значений в предполагаемых столбцах\n",
    "display(df.query('rooms == 0').open_plan.value_counts())\n",
    "display(df.query('rooms == 0').studio.value_counts())"
   ]
  },
  {
   "cell_type": "markdown",
   "id": "41d15edb",
   "metadata": {},
   "source": [
    "Так и есть. Убрав квартиры с нулевым количеством комнтат, мы потеряем большинство объявлений с помещениями указаных типов, что будет некорректно."
   ]
  },
  {
   "cell_type": "code",
   "execution_count": 43,
   "id": "25a456c6",
   "metadata": {},
   "outputs": [
    {
     "name": "stdout",
     "output_type": "stream",
     "text": [
      "Доля редких значений количества комнат 1%\n"
     ]
    }
   ],
   "source": [
    "# получение доли выделяющихся значений\n",
    "rare_values = len(df.query('rooms > 5')) / len(df)\n",
    "print(f'Доля редких значений количества комнат {rare_values:.0%}')"
   ]
  },
  {
   "cell_type": "code",
   "execution_count": 44,
   "id": "b06a4c22",
   "metadata": {},
   "outputs": [
    {
     "data": {
      "text/html": [
       "<style  type=\"text/css\" >\n",
       "</style><table id=\"T_51f09_\" ><thead>    <tr>        <th class=\"blank level0\" ></th>        <th class=\"col_heading level0 col0\" >rooms</th>    </tr></thead><tbody>\n",
       "                <tr>\n",
       "                        <th id=\"T_51f09_level0_row0\" class=\"row_heading level0 row0\" >count</th>\n",
       "                        <td id=\"T_51f09_row0_col0\" class=\"data row0 col0\" >22394.00</td>\n",
       "            </tr>\n",
       "            <tr>\n",
       "                        <th id=\"T_51f09_level0_row1\" class=\"row_heading level0 row1\" >mean</th>\n",
       "                        <td id=\"T_51f09_row1_col0\" class=\"data row1 col0\" >1.98</td>\n",
       "            </tr>\n",
       "            <tr>\n",
       "                        <th id=\"T_51f09_level0_row2\" class=\"row_heading level0 row2\" >std</th>\n",
       "                        <td id=\"T_51f09_row2_col0\" class=\"data row2 col0\" >0.93</td>\n",
       "            </tr>\n",
       "            <tr>\n",
       "                        <th id=\"T_51f09_level0_row3\" class=\"row_heading level0 row3\" >min</th>\n",
       "                        <td id=\"T_51f09_row3_col0\" class=\"data row3 col0\" >0.00</td>\n",
       "            </tr>\n",
       "            <tr>\n",
       "                        <th id=\"T_51f09_level0_row4\" class=\"row_heading level0 row4\" >25%</th>\n",
       "                        <td id=\"T_51f09_row4_col0\" class=\"data row4 col0\" >1.00</td>\n",
       "            </tr>\n",
       "            <tr>\n",
       "                        <th id=\"T_51f09_level0_row5\" class=\"row_heading level0 row5\" >50%</th>\n",
       "                        <td id=\"T_51f09_row5_col0\" class=\"data row5 col0\" >2.00</td>\n",
       "            </tr>\n",
       "            <tr>\n",
       "                        <th id=\"T_51f09_level0_row6\" class=\"row_heading level0 row6\" >75%</th>\n",
       "                        <td id=\"T_51f09_row6_col0\" class=\"data row6 col0\" >3.00</td>\n",
       "            </tr>\n",
       "            <tr>\n",
       "                        <th id=\"T_51f09_level0_row7\" class=\"row_heading level0 row7\" >max</th>\n",
       "                        <td id=\"T_51f09_row7_col0\" class=\"data row7 col0\" >5.00</td>\n",
       "            </tr>\n",
       "    </tbody></table>"
      ],
      "text/plain": [
       "<pandas.io.formats.style.Styler at 0x148865cd2b0>"
      ]
     },
     "execution_count": 44,
     "metadata": {},
     "output_type": "execute_result"
    }
   ],
   "source": [
    "# формирование датафрейма без редких значений\n",
    "good_df = good_df.query('rooms <= 5').reset_index(drop=True)\n",
    "\n",
    "# получение нового числового описания\n",
    "good_df.rooms.describe().to_frame().style.format('{:.2f}')"
   ]
  },
  {
   "cell_type": "code",
   "execution_count": 45,
   "id": "f4224dba",
   "metadata": {},
   "outputs": [
    {
     "data": {
      "text/html": [
       "<style  type=\"text/css\" >\n",
       "</style><table id=\"T_1199c_\" ><thead>    <tr>        <th class=\"blank level0\" ></th>        <th class=\"col_heading level0 col0\" >ceiling_height</th>    </tr></thead><tbody>\n",
       "                <tr>\n",
       "                        <th id=\"T_1199c_level0_row0\" class=\"row_heading level0 row0\" >count</th>\n",
       "                        <td id=\"T_1199c_row0_col0\" class=\"data row0 col0\" >14481.00</td>\n",
       "            </tr>\n",
       "            <tr>\n",
       "                        <th id=\"T_1199c_level0_row1\" class=\"row_heading level0 row1\" >mean</th>\n",
       "                        <td id=\"T_1199c_row1_col0\" class=\"data row1 col0\" >2.77</td>\n",
       "            </tr>\n",
       "            <tr>\n",
       "                        <th id=\"T_1199c_level0_row2\" class=\"row_heading level0 row2\" >std</th>\n",
       "                        <td id=\"T_1199c_row2_col0\" class=\"data row2 col0\" >1.26</td>\n",
       "            </tr>\n",
       "            <tr>\n",
       "                        <th id=\"T_1199c_level0_row3\" class=\"row_heading level0 row3\" >min</th>\n",
       "                        <td id=\"T_1199c_row3_col0\" class=\"data row3 col0\" >1.00</td>\n",
       "            </tr>\n",
       "            <tr>\n",
       "                        <th id=\"T_1199c_level0_row4\" class=\"row_heading level0 row4\" >25%</th>\n",
       "                        <td id=\"T_1199c_row4_col0\" class=\"data row4 col0\" >2.51</td>\n",
       "            </tr>\n",
       "            <tr>\n",
       "                        <th id=\"T_1199c_level0_row5\" class=\"row_heading level0 row5\" >50%</th>\n",
       "                        <td id=\"T_1199c_row5_col0\" class=\"data row5 col0\" >2.65</td>\n",
       "            </tr>\n",
       "            <tr>\n",
       "                        <th id=\"T_1199c_level0_row6\" class=\"row_heading level0 row6\" >75%</th>\n",
       "                        <td id=\"T_1199c_row6_col0\" class=\"data row6 col0\" >2.80</td>\n",
       "            </tr>\n",
       "            <tr>\n",
       "                        <th id=\"T_1199c_level0_row7\" class=\"row_heading level0 row7\" >max</th>\n",
       "                        <td id=\"T_1199c_row7_col0\" class=\"data row7 col0\" >100.00</td>\n",
       "            </tr>\n",
       "    </tbody></table>"
      ],
      "text/plain": [
       "<pandas.io.formats.style.Styler at 0x14886606b80>"
      ]
     },
     "execution_count": 45,
     "metadata": {},
     "output_type": "execute_result"
    }
   ],
   "source": [
    "# получение числового описания\n",
    "df.ceiling_height.describe().to_frame().style.format('{:.2f}')"
   ]
  },
  {
   "cell_type": "code",
   "execution_count": 46,
   "id": "06002d81",
   "metadata": {},
   "outputs": [
    {
     "data": {
      "image/png": "[encoded data removed]",
      "text/plain": [
       "<Figure size 432x288 with 1 Axes>"
      ]
     },
     "metadata": {
      "needs_background": "light"
     },
     "output_type": "display_data"
    }
   ],
   "source": [
    "# формирование гистограммы\n",
    "df['ceiling_height'].plot(\n",
    "    kind='hist',\n",
    "    grid=True,\n",
    "    range=(2, 5),\n",
    "    title='Высота потолков',\n",
    "    legend=True\n",
    ")\n",
    "plt.show()"
   ]
  },
  {
   "cell_type": "markdown",
   "id": "7c1b4215",
   "metadata": {},
   "source": [
    "В среднем высота потолков в изначальном датасете составляет 2.7 м, на фоне чего обнаруженные значения в 1 или 100 м выглядят недостоверными, возможно, это также нежилые помещения либо же ошибка при обработке данных."
   ]
  },
  {
   "cell_type": "code",
   "execution_count": 47,
   "id": "5af35080",
   "metadata": {},
   "outputs": [
    {
     "name": "stdout",
     "output_type": "stream",
     "text": [
      "Доля редких значений высоты потолка 1%\n"
     ]
    }
   ],
   "source": [
    "# получение доли выделяющихся значений\n",
    "rare_values = len(df.query('ceiling_height < 2.4 or ceiling_height > 3.5')) / len(df)\n",
    "print(f'Доля редких значений высоты потолка {rare_values:.0%}')"
   ]
  },
  {
   "cell_type": "code",
   "execution_count": 48,
   "id": "968781eb",
   "metadata": {},
   "outputs": [
    {
     "data": {
      "text/html": [
       "<style  type=\"text/css\" >\n",
       "</style><table id=\"T_f0118_\" ><thead>    <tr>        <th class=\"blank level0\" ></th>        <th class=\"col_heading level0 col0\" >ceiling_height</th>    </tr></thead><tbody>\n",
       "                <tr>\n",
       "                        <th id=\"T_f0118_level0_row0\" class=\"row_heading level0 row0\" >count</th>\n",
       "                        <td id=\"T_f0118_row0_col0\" class=\"data row0 col0\" >13519.00</td>\n",
       "            </tr>\n",
       "            <tr>\n",
       "                        <th id=\"T_f0118_level0_row1\" class=\"row_heading level0 row1\" >mean</th>\n",
       "                        <td id=\"T_f0118_row1_col0\" class=\"data row1 col0\" >2.69</td>\n",
       "            </tr>\n",
       "            <tr>\n",
       "                        <th id=\"T_f0118_level0_row2\" class=\"row_heading level0 row2\" >std</th>\n",
       "                        <td id=\"T_f0118_row2_col0\" class=\"data row2 col0\" >0.21</td>\n",
       "            </tr>\n",
       "            <tr>\n",
       "                        <th id=\"T_f0118_level0_row3\" class=\"row_heading level0 row3\" >min</th>\n",
       "                        <td id=\"T_f0118_row3_col0\" class=\"data row3 col0\" >2.40</td>\n",
       "            </tr>\n",
       "            <tr>\n",
       "                        <th id=\"T_f0118_level0_row4\" class=\"row_heading level0 row4\" >25%</th>\n",
       "                        <td id=\"T_f0118_row4_col0\" class=\"data row4 col0\" >2.50</td>\n",
       "            </tr>\n",
       "            <tr>\n",
       "                        <th id=\"T_f0118_level0_row5\" class=\"row_heading level0 row5\" >50%</th>\n",
       "                        <td id=\"T_f0118_row5_col0\" class=\"data row5 col0\" >2.64</td>\n",
       "            </tr>\n",
       "            <tr>\n",
       "                        <th id=\"T_f0118_level0_row6\" class=\"row_heading level0 row6\" >75%</th>\n",
       "                        <td id=\"T_f0118_row6_col0\" class=\"data row6 col0\" >2.77</td>\n",
       "            </tr>\n",
       "            <tr>\n",
       "                        <th id=\"T_f0118_level0_row7\" class=\"row_heading level0 row7\" >max</th>\n",
       "                        <td id=\"T_f0118_row7_col0\" class=\"data row7 col0\" >3.50</td>\n",
       "            </tr>\n",
       "    </tbody></table>"
      ],
      "text/plain": [
       "<pandas.io.formats.style.Styler at 0x148865c4f40>"
      ]
     },
     "execution_count": 48,
     "metadata": {},
     "output_type": "execute_result"
    }
   ],
   "source": [
    "# формирование датафрейма без редких значений\n",
    "good_df = good_df.drop(np.where(good_df\n",
    "    ['ceiling_height'] < 2.4)[0]).reset_index(drop=True)\n",
    "good_df = good_df.drop(np.where(good_df\n",
    "    ['ceiling_height'] > 3.5)[0]).reset_index(drop=True)\n",
    "\n",
    "# получение нового числового описания\n",
    "good_df.ceiling_height.describe().to_frame().style.format('{:.2f}')"
   ]
  },
  {
   "cell_type": "code",
   "execution_count": 49,
   "id": "bc8c6a8a",
   "metadata": {},
   "outputs": [
    {
     "data": {
      "text/html": [
       "<style  type=\"text/css\" >\n",
       "</style><table id=\"T_ec831_\" ><thead>    <tr>        <th class=\"blank level0\" ></th>        <th class=\"col_heading level0 col0\" >days_exposition</th>    </tr></thead><tbody>\n",
       "                <tr>\n",
       "                        <th id=\"T_ec831_level0_row0\" class=\"row_heading level0 row0\" >count</th>\n",
       "                        <td id=\"T_ec831_row0_col0\" class=\"data row0 col0\" >20394.00</td>\n",
       "            </tr>\n",
       "            <tr>\n",
       "                        <th id=\"T_ec831_level0_row1\" class=\"row_heading level0 row1\" >mean</th>\n",
       "                        <td id=\"T_ec831_row1_col0\" class=\"data row1 col0\" >180.74</td>\n",
       "            </tr>\n",
       "            <tr>\n",
       "                        <th id=\"T_ec831_level0_row2\" class=\"row_heading level0 row2\" >std</th>\n",
       "                        <td id=\"T_ec831_row2_col0\" class=\"data row2 col0\" >219.73</td>\n",
       "            </tr>\n",
       "            <tr>\n",
       "                        <th id=\"T_ec831_level0_row3\" class=\"row_heading level0 row3\" >min</th>\n",
       "                        <td id=\"T_ec831_row3_col0\" class=\"data row3 col0\" >1.00</td>\n",
       "            </tr>\n",
       "            <tr>\n",
       "                        <th id=\"T_ec831_level0_row4\" class=\"row_heading level0 row4\" >25%</th>\n",
       "                        <td id=\"T_ec831_row4_col0\" class=\"data row4 col0\" >45.00</td>\n",
       "            </tr>\n",
       "            <tr>\n",
       "                        <th id=\"T_ec831_level0_row5\" class=\"row_heading level0 row5\" >50%</th>\n",
       "                        <td id=\"T_ec831_row5_col0\" class=\"data row5 col0\" >95.00</td>\n",
       "            </tr>\n",
       "            <tr>\n",
       "                        <th id=\"T_ec831_level0_row6\" class=\"row_heading level0 row6\" >75%</th>\n",
       "                        <td id=\"T_ec831_row6_col0\" class=\"data row6 col0\" >231.00</td>\n",
       "            </tr>\n",
       "            <tr>\n",
       "                        <th id=\"T_ec831_level0_row7\" class=\"row_heading level0 row7\" >max</th>\n",
       "                        <td id=\"T_ec831_row7_col0\" class=\"data row7 col0\" >1580.00</td>\n",
       "            </tr>\n",
       "    </tbody></table>"
      ],
      "text/plain": [
       "<pandas.io.formats.style.Styler at 0x148865a3250>"
      ]
     },
     "execution_count": 49,
     "metadata": {},
     "output_type": "execute_result"
    }
   ],
   "source": [
    "# получение числового описания\n",
    "df.days_exposition.describe().to_frame().style.format('{:.2f}')"
   ]
  },
  {
   "cell_type": "code",
   "execution_count": 50,
   "id": "1bd237b4",
   "metadata": {},
   "outputs": [
    {
     "data": {
      "image/png": "[encoded data removed]",
      "text/plain": [
       "<Figure size 432x288 with 1 Axes>"
      ]
     },
     "metadata": {
      "needs_background": "light"
     },
     "output_type": "display_data"
    }
   ],
   "source": [
    "# формирование гистограммы\n",
    "df['days_exposition'].plot(\n",
    "    kind='hist',\n",
    "    grid=True,\n",
    "    range=(0, 1000),\n",
    "    bins=50,\n",
    "    legend=True,\n",
    "    title='Время продажи'\n",
    ")\n",
    "plt.show()"
   ]
  },
  {
   "cell_type": "code",
   "execution_count": 51,
   "id": "3213b718-fb2d-42fd-9550-5ddeede5cdc5",
   "metadata": {},
   "outputs": [
    {
     "data": {
      "image/png": "[encoded data removed]",
      "text/plain": [
       "<Figure size 432x288 with 1 Axes>"
      ]
     },
     "metadata": {
      "needs_background": "light"
     },
     "output_type": "display_data"
    }
   ],
   "source": [
    "# формирование гистограммы с другим масштабом\n",
    "df['days_exposition'].plot(\n",
    "    kind='hist',\n",
    "    grid=True,\n",
    "    range=(0, 200),\n",
    "    bins=50,\n",
    "    legend=True,\n",
    "    title='Время продажи'\n",
    ")\n",
    "plt.show()"
   ]
  },
  {
   "cell_type": "markdown",
   "id": "24c020ed",
   "metadata": {},
   "source": [
    "По гистограмме видно, что основная масса квартир продаётся в первые 3-3,5 месяца после размещения объявления. Можно заметить, что за счет выбросов с долго не продающимися квартирами среднее значение отличается от медианного практически в два раза. Также заметно большое количество продаж через 1.5, 2 и 3 месяца. Возможно, это означает снятие объявления по истечении определённого установленного времени его размещения, либо же округление времени продажи до более \"ровного\" значения.\n",
    "\n",
    "Уберём квартиры, продающиеся дольше 2 лет, а также со временем размещения объявления в 1 день, так как это могли быть случаи, когда объявления снимались до продажи по причине изменения каких-либо параметров или уточнения данных, отказа от продажи на определённой площадке; подобные сделки могли быть и договорными, что в свою очередь также будет неверно отражать общее положение дел."
   ]
  },
  {
   "cell_type": "code",
   "execution_count": 52,
   "id": "ddea1af7",
   "metadata": {},
   "outputs": [
    {
     "name": "stdout",
     "output_type": "stream",
     "text": [
      "Доля редких значений времени продажи 3%\n"
     ]
    }
   ],
   "source": [
    "# получение доли выделяющихся значений\n",
    "rare_values = len(df.query('days_exposition < 2 or days_exposition > 731')) / len(df)\n",
    "print(f'Доля редких значений времени продажи {rare_values:.0%}')"
   ]
  },
  {
   "cell_type": "code",
   "execution_count": 53,
   "id": "c5e060ed",
   "metadata": {},
   "outputs": [
    {
     "data": {
      "text/html": [
       "<style  type=\"text/css\" >\n",
       "</style><table id=\"T_6cd47_\" ><thead>    <tr>        <th class=\"blank level0\" ></th>        <th class=\"col_heading level0 col0\" >days_exposition</th>    </tr></thead><tbody>\n",
       "                <tr>\n",
       "                        <th id=\"T_6cd47_level0_row0\" class=\"row_heading level0 row0\" >count</th>\n",
       "                        <td id=\"T_6cd47_row0_col0\" class=\"data row0 col0\" >18661.00</td>\n",
       "            </tr>\n",
       "            <tr>\n",
       "                        <th id=\"T_6cd47_level0_row1\" class=\"row_heading level0 row1\" >mean</th>\n",
       "                        <td id=\"T_6cd47_row1_col0\" class=\"data row1 col0\" >148.40</td>\n",
       "            </tr>\n",
       "            <tr>\n",
       "                        <th id=\"T_6cd47_level0_row2\" class=\"row_heading level0 row2\" >std</th>\n",
       "                        <td id=\"T_6cd47_row2_col0\" class=\"data row2 col0\" >154.53</td>\n",
       "            </tr>\n",
       "            <tr>\n",
       "                        <th id=\"T_6cd47_level0_row3\" class=\"row_heading level0 row3\" >min</th>\n",
       "                        <td id=\"T_6cd47_row3_col0\" class=\"data row3 col0\" >2.00</td>\n",
       "            </tr>\n",
       "            <tr>\n",
       "                        <th id=\"T_6cd47_level0_row4\" class=\"row_heading level0 row4\" >25%</th>\n",
       "                        <td id=\"T_6cd47_row4_col0\" class=\"data row4 col0\" >43.00</td>\n",
       "            </tr>\n",
       "            <tr>\n",
       "                        <th id=\"T_6cd47_level0_row5\" class=\"row_heading level0 row5\" >50%</th>\n",
       "                        <td id=\"T_6cd47_row5_col0\" class=\"data row5 col0\" >90.00</td>\n",
       "            </tr>\n",
       "            <tr>\n",
       "                        <th id=\"T_6cd47_level0_row6\" class=\"row_heading level0 row6\" >75%</th>\n",
       "                        <td id=\"T_6cd47_row6_col0\" class=\"data row6 col0\" >202.00</td>\n",
       "            </tr>\n",
       "            <tr>\n",
       "                        <th id=\"T_6cd47_level0_row7\" class=\"row_heading level0 row7\" >max</th>\n",
       "                        <td id=\"T_6cd47_row7_col0\" class=\"data row7 col0\" >730.00</td>\n",
       "            </tr>\n",
       "    </tbody></table>"
      ],
      "text/plain": [
       "<pandas.io.formats.style.Styler at 0x148863e70d0>"
      ]
     },
     "execution_count": 53,
     "metadata": {},
     "output_type": "execute_result"
    }
   ],
   "source": [
    "# формирование датафрейма без редких значений\n",
    "good_df = good_df.drop(np.where(good_df\n",
    "    ['days_exposition'] < 2)[0]).reset_index(drop=True)\n",
    "good_df = good_df.drop(np.where(good_df\n",
    "    ['days_exposition'] > 731)[0]).reset_index(drop=True)\n",
    "\n",
    "# изменение типа данных столбца\n",
    "good_df['days_exposition'] = (\n",
    "    good_df.days_exposition\n",
    "    .convert_dtypes().astype('Int32')\n",
    ")\n",
    "# получение нового числового описания\n",
    "good_df.days_exposition.describe().to_frame().style.format('{:.2f}')"
   ]
  },
  {
   "cell_type": "markdown",
   "id": "15f782db",
   "metadata": {},
   "source": [
    "**Промежуточные итоги**\n",
    "\n",
    "Было изучено распределение значений основных параметров квартир. Объявления с выбросами и редкими значениями в соответствующих параметрах были убраны для использования более характерных случаев продаж для дальнейшего анализа данных. Определённые же редкие значения были оставлены с учётом характера соответствующего параметра. "
   ]
  },
  {
   "cell_type": "markdown",
   "id": "0954a202",
   "metadata": {},
   "source": [
    "### Зависимость стоимости квартиры от различных факторов"
   ]
  },
  {
   "cell_type": "markdown",
   "id": "4fe09bb8",
   "metadata": {},
   "source": [
    "Изучим то, какие факторы больше прочих влияют на стоимость квартир. Рассмотрим следующие параметры:\n",
    "1. площадь квартиры;\n",
    "2. число комнат;\n",
    "3. удалённость от центра;\n",
    "4. этаж квартиры;\n",
    "5. дата размещения объявления.\n",
    "\n",
    "Используем матрицу корреляции и диаграммы рассеяния."
   ]
  },
  {
   "cell_type": "code",
   "execution_count": 54,
   "id": "ea03020e",
   "metadata": {},
   "outputs": [
    {
     "data": {
      "text/html": [
       "<div>\n",
       "<style scoped>\n",
       "    .dataframe tbody tr th:only-of-type {\n",
       "        vertical-align: middle;\n",
       "    }\n",
       "\n",
       "    .dataframe tbody tr th {\n",
       "        vertical-align: top;\n",
       "    }\n",
       "\n",
       "    .dataframe thead th {\n",
       "        text-align: right;\n",
       "    }\n",
       "</style>\n",
       "<table border=\"1\" class=\"dataframe\">\n",
       "  <thead>\n",
       "    <tr style=\"text-align: right;\">\n",
       "      <th></th>\n",
       "      <th>last_price</th>\n",
       "      <th>total_area</th>\n",
       "      <th>rooms</th>\n",
       "      <th>m_to_city_center</th>\n",
       "    </tr>\n",
       "  </thead>\n",
       "  <tbody>\n",
       "    <tr>\n",
       "      <th>last_price</th>\n",
       "      <td>1.000000</td>\n",
       "      <td>0.759946</td>\n",
       "      <td>0.472122</td>\n",
       "      <td>-0.343660</td>\n",
       "    </tr>\n",
       "    <tr>\n",
       "      <th>total_area</th>\n",
       "      <td>0.759946</td>\n",
       "      <td>1.000000</td>\n",
       "      <td>0.795203</td>\n",
       "      <td>-0.180561</td>\n",
       "    </tr>\n",
       "    <tr>\n",
       "      <th>rooms</th>\n",
       "      <td>0.472122</td>\n",
       "      <td>0.795203</td>\n",
       "      <td>1.000000</td>\n",
       "      <td>-0.115837</td>\n",
       "    </tr>\n",
       "    <tr>\n",
       "      <th>m_to_city_center</th>\n",
       "      <td>-0.343660</td>\n",
       "      <td>-0.180561</td>\n",
       "      <td>-0.115837</td>\n",
       "      <td>1.000000</td>\n",
       "    </tr>\n",
       "  </tbody>\n",
       "</table>\n",
       "</div>"
      ],
      "text/plain": [
       "                  last_price  total_area     rooms  m_to_city_center\n",
       "last_price          1.000000    0.759946  0.472122         -0.343660\n",
       "total_area          0.759946    1.000000  0.795203         -0.180561\n",
       "rooms               0.472122    0.795203  1.000000         -0.115837\n",
       "m_to_city_center   -0.343660   -0.180561 -0.115837          1.000000"
      ]
     },
     "execution_count": 54,
     "metadata": {},
     "output_type": "execute_result"
    }
   ],
   "source": [
    "# получение матрицы корреляции для первых параметров\n",
    "first_factors = good_df[\n",
    "    ['last_price',\n",
    "    'total_area',\n",
    "    'rooms',\n",
    "    'm_to_city_center']\n",
    "]\n",
    "first_factors.corr()"
   ]
  },
  {
   "cell_type": "code",
   "execution_count": 55,
   "id": "7ce4fd5a-67e7-42b3-8529-cd35b9f54459",
   "metadata": {},
   "outputs": [
    {
     "data": {
      "image/png": "[encoded data removed]",
      "text/plain": [
       "<Figure size 720x720 with 16 Axes>"
      ]
     },
     "metadata": {
      "needs_background": "light"
     },
     "output_type": "display_data"
    }
   ],
   "source": [
    "# получение матрицы рассеяния для первых параметров\n",
    "pd.plotting.scatter_matrix(first_factors, figsize=(10, 10))\n",
    "plt.show()"
   ]
  },
  {
   "cell_type": "markdown",
   "id": "a72f0bcd",
   "metadata": {},
   "source": [
    "Видно достаточно сильную положительную корреляцию между стоимостью квартиры и её общей площадью.\n",
    "Изучим оставшиеся параметры."
   ]
  },
  {
   "cell_type": "code",
   "execution_count": 56,
   "id": "f2e1618f",
   "metadata": {},
   "outputs": [
    {
     "data": {
      "image/png": "[encoded data removed]",
      "text/plain": [
       "<Figure size 432x288 with 1 Axes>"
      ]
     },
     "metadata": {
      "needs_background": "light"
     },
     "output_type": "display_data"
    },
    {
     "data": {
      "image/png": "[encoded data removed]",
      "text/plain": [
       "<Figure size 432x288 with 1 Axes>"
      ]
     },
     "metadata": {
      "needs_background": "light"
     },
     "output_type": "display_data"
    },
    {
     "data": {
      "image/png": "[encoded data removed]",
      "text/plain": [
       "<Figure size 432x288 with 1 Axes>"
      ]
     },
     "metadata": {
      "needs_background": "light"
     },
     "output_type": "display_data"
    }
   ],
   "source": [
    "# получение распределения значений стоимости квартир по разным этажам\n",
    "for floor, group_data in good_df.groupby('floor_category'):\n",
    "    group_data.plot(\n",
    "        y='last_price',\n",
    "        title=floor,\n",
    "        kind='hist',\n",
    "        grid=True,\n",
    "        bins=50\n",
    "    )"
   ]
  },
  {
   "cell_type": "markdown",
   "id": "c7482648",
   "metadata": {},
   "source": [
    "Какой-либо разницы в распределении цены квартир в зависимости от этажа не наблюдается."
   ]
  },
  {
   "cell_type": "code",
   "execution_count": 57,
   "id": "ad156d57",
   "metadata": {},
   "outputs": [
    {
     "data": {
      "image/png": "[encoded data removed]",
      "text/plain": [
       "<Figure size 432x288 with 1 Axes>"
      ]
     },
     "metadata": {
      "needs_background": "light"
     },
     "output_type": "display_data"
    },
    {
     "data": {
      "image/png": "[encoded data removed]",
      "text/plain": [
       "<Figure size 432x288 with 1 Axes>"
      ]
     },
     "metadata": {
      "needs_background": "light"
     },
     "output_type": "display_data"
    },
    {
     "data": {
      "image/png": "[encoded data removed]",
      "text/plain": [
       "<Figure size 432x288 with 1 Axes>"
      ]
     },
     "metadata": {
      "needs_background": "light"
     },
     "output_type": "display_data"
    }
   ],
   "source": [
    "#получение матриц рассеяния по параметрам времени публикации объявлений\n",
    "second_factors = good_df[\n",
    "    ['day_of_week_exposition',\n",
    "    'month_exposition',\n",
    "    'year_exposition']\n",
    "]\n",
    "for factor in second_factors:\n",
    "    good_df.plot(\n",
    "        x=factor,\n",
    "        y='last_price',\n",
    "        kind='scatter',\n",
    "        alpha=0.02\n",
    "    )\n",
    "    plt.show()"
   ]
  },
  {
   "cell_type": "markdown",
   "id": "1a115de8",
   "metadata": {},
   "source": [
    "Видно некоторое изменение частоты, но возможно, это зависит просто от количества соответствующих объявлений. Проверим."
   ]
  },
  {
   "cell_type": "code",
   "execution_count": 58,
   "id": "9996a851",
   "metadata": {},
   "outputs": [
    {
     "data": {
      "text/html": [
       "<div>\n",
       "<style scoped>\n",
       "    .dataframe tbody tr th:only-of-type {\n",
       "        vertical-align: middle;\n",
       "    }\n",
       "\n",
       "    .dataframe tbody tr th {\n",
       "        vertical-align: top;\n",
       "    }\n",
       "\n",
       "    .dataframe thead th {\n",
       "        text-align: right;\n",
       "    }\n",
       "</style>\n",
       "<table border=\"1\" class=\"dataframe\">\n",
       "  <thead>\n",
       "    <tr style=\"text-align: right;\">\n",
       "      <th></th>\n",
       "      <th>last_price</th>\n",
       "    </tr>\n",
       "    <tr>\n",
       "      <th>day_of_week_exposition</th>\n",
       "      <th></th>\n",
       "    </tr>\n",
       "  </thead>\n",
       "  <tbody>\n",
       "    <tr>\n",
       "      <th>0</th>\n",
       "      <td>3282</td>\n",
       "    </tr>\n",
       "    <tr>\n",
       "      <th>1</th>\n",
       "      <td>3806</td>\n",
       "    </tr>\n",
       "    <tr>\n",
       "      <th>2</th>\n",
       "      <td>3565</td>\n",
       "    </tr>\n",
       "    <tr>\n",
       "      <th>3</th>\n",
       "      <td>3863</td>\n",
       "    </tr>\n",
       "    <tr>\n",
       "      <th>4</th>\n",
       "      <td>3673</td>\n",
       "    </tr>\n",
       "    <tr>\n",
       "      <th>5</th>\n",
       "      <td>1758</td>\n",
       "    </tr>\n",
       "    <tr>\n",
       "      <th>6</th>\n",
       "      <td>1541</td>\n",
       "    </tr>\n",
       "  </tbody>\n",
       "</table>\n",
       "</div>"
      ],
      "text/plain": [
       "                        last_price\n",
       "day_of_week_exposition            \n",
       "0                             3282\n",
       "1                             3806\n",
       "2                             3565\n",
       "3                             3863\n",
       "4                             3673\n",
       "5                             1758\n",
       "6                             1541"
      ]
     },
     "metadata": {},
     "output_type": "display_data"
    },
    {
     "data": {
      "text/html": [
       "<div>\n",
       "<style scoped>\n",
       "    .dataframe tbody tr th:only-of-type {\n",
       "        vertical-align: middle;\n",
       "    }\n",
       "\n",
       "    .dataframe tbody tr th {\n",
       "        vertical-align: top;\n",
       "    }\n",
       "\n",
       "    .dataframe thead th {\n",
       "        text-align: right;\n",
       "    }\n",
       "</style>\n",
       "<table border=\"1\" class=\"dataframe\">\n",
       "  <thead>\n",
       "    <tr style=\"text-align: right;\">\n",
       "      <th></th>\n",
       "      <th>last_price</th>\n",
       "    </tr>\n",
       "    <tr>\n",
       "      <th>month_exposition</th>\n",
       "      <th></th>\n",
       "    </tr>\n",
       "  </thead>\n",
       "  <tbody>\n",
       "    <tr>\n",
       "      <th>1</th>\n",
       "      <td>1344</td>\n",
       "    </tr>\n",
       "    <tr>\n",
       "      <th>2</th>\n",
       "      <td>2401</td>\n",
       "    </tr>\n",
       "    <tr>\n",
       "      <th>3</th>\n",
       "      <td>2314</td>\n",
       "    </tr>\n",
       "    <tr>\n",
       "      <th>4</th>\n",
       "      <td>2191</td>\n",
       "    </tr>\n",
       "    <tr>\n",
       "      <th>5</th>\n",
       "      <td>1144</td>\n",
       "    </tr>\n",
       "    <tr>\n",
       "      <th>6</th>\n",
       "      <td>1581</td>\n",
       "    </tr>\n",
       "    <tr>\n",
       "      <th>7</th>\n",
       "      <td>1516</td>\n",
       "    </tr>\n",
       "    <tr>\n",
       "      <th>8</th>\n",
       "      <td>1615</td>\n",
       "    </tr>\n",
       "    <tr>\n",
       "      <th>9</th>\n",
       "      <td>1800</td>\n",
       "    </tr>\n",
       "    <tr>\n",
       "      <th>10</th>\n",
       "      <td>1958</td>\n",
       "    </tr>\n",
       "    <tr>\n",
       "      <th>11</th>\n",
       "      <td>2170</td>\n",
       "    </tr>\n",
       "    <tr>\n",
       "      <th>12</th>\n",
       "      <td>1454</td>\n",
       "    </tr>\n",
       "  </tbody>\n",
       "</table>\n",
       "</div>"
      ],
      "text/plain": [
       "                  last_price\n",
       "month_exposition            \n",
       "1                       1344\n",
       "2                       2401\n",
       "3                       2314\n",
       "4                       2191\n",
       "5                       1144\n",
       "6                       1581\n",
       "7                       1516\n",
       "8                       1615\n",
       "9                       1800\n",
       "10                      1958\n",
       "11                      2170\n",
       "12                      1454"
      ]
     },
     "metadata": {},
     "output_type": "display_data"
    },
    {
     "data": {
      "text/html": [
       "<div>\n",
       "<style scoped>\n",
       "    .dataframe tbody tr th:only-of-type {\n",
       "        vertical-align: middle;\n",
       "    }\n",
       "\n",
       "    .dataframe tbody tr th {\n",
       "        vertical-align: top;\n",
       "    }\n",
       "\n",
       "    .dataframe thead th {\n",
       "        text-align: right;\n",
       "    }\n",
       "</style>\n",
       "<table border=\"1\" class=\"dataframe\">\n",
       "  <thead>\n",
       "    <tr style=\"text-align: right;\">\n",
       "      <th></th>\n",
       "      <th>last_price</th>\n",
       "    </tr>\n",
       "    <tr>\n",
       "      <th>year_exposition</th>\n",
       "      <th></th>\n",
       "    </tr>\n",
       "  </thead>\n",
       "  <tbody>\n",
       "    <tr>\n",
       "      <th>2014</th>\n",
       "      <td>50</td>\n",
       "    </tr>\n",
       "    <tr>\n",
       "      <th>2015</th>\n",
       "      <td>693</td>\n",
       "    </tr>\n",
       "    <tr>\n",
       "      <th>2016</th>\n",
       "      <td>2331</td>\n",
       "    </tr>\n",
       "    <tr>\n",
       "      <th>2017</th>\n",
       "      <td>7672</td>\n",
       "    </tr>\n",
       "    <tr>\n",
       "      <th>2018</th>\n",
       "      <td>8049</td>\n",
       "    </tr>\n",
       "    <tr>\n",
       "      <th>2019</th>\n",
       "      <td>2693</td>\n",
       "    </tr>\n",
       "  </tbody>\n",
       "</table>\n",
       "</div>"
      ],
      "text/plain": [
       "                 last_price\n",
       "year_exposition            \n",
       "2014                     50\n",
       "2015                    693\n",
       "2016                   2331\n",
       "2017                   7672\n",
       "2018                   8049\n",
       "2019                   2693"
      ]
     },
     "metadata": {},
     "output_type": "display_data"
    }
   ],
   "source": [
    "# получение количества объявлений по разным датам\n",
    "for factor in second_factors:\n",
    "    display(good_df.groupby(factor)\n",
    "            ['last_price'].count().to_frame())"
   ]
  },
  {
   "cell_type": "markdown",
   "id": "31328171",
   "metadata": {},
   "source": [
    "Так и есть. Разница обусловлена тем, что в определённые временные периоды было опубликовано большее количество объявлений.\n",
    "\n",
    "Взглянем на отличие медианной цены квартир по различным датам."
   ]
  },
  {
   "cell_type": "code",
   "execution_count": 59,
   "id": "995c93b4",
   "metadata": {},
   "outputs": [
    {
     "data": {
      "text/html": [
       "<style  type=\"text/css\" >\n",
       "</style><table id=\"T_de714_\" ><thead>    <tr>        <th class=\"blank level0\" ></th>        <th class=\"col_heading level0 col0\" >last_price</th>    </tr>    <tr>        <th class=\"index_name level0\" >day_of_week_exposition</th>        <th class=\"blank\" ></th>    </tr></thead><tbody>\n",
       "                <tr>\n",
       "                        <th id=\"T_de714_level0_row0\" class=\"row_heading level0 row0\" >0</th>\n",
       "                        <td id=\"T_de714_row0_col0\" class=\"data row0 col0\" >4537000</td>\n",
       "            </tr>\n",
       "            <tr>\n",
       "                        <th id=\"T_de714_level0_row1\" class=\"row_heading level0 row1\" >1</th>\n",
       "                        <td id=\"T_de714_row1_col0\" class=\"data row1 col0\" >4600000</td>\n",
       "            </tr>\n",
       "            <tr>\n",
       "                        <th id=\"T_de714_level0_row2\" class=\"row_heading level0 row2\" >2</th>\n",
       "                        <td id=\"T_de714_row2_col0\" class=\"data row2 col0\" >4580000</td>\n",
       "            </tr>\n",
       "            <tr>\n",
       "                        <th id=\"T_de714_level0_row3\" class=\"row_heading level0 row3\" >3</th>\n",
       "                        <td id=\"T_de714_row3_col0\" class=\"data row3 col0\" >4500000</td>\n",
       "            </tr>\n",
       "            <tr>\n",
       "                        <th id=\"T_de714_level0_row4\" class=\"row_heading level0 row4\" >4</th>\n",
       "                        <td id=\"T_de714_row4_col0\" class=\"data row4 col0\" >4500000</td>\n",
       "            </tr>\n",
       "            <tr>\n",
       "                        <th id=\"T_de714_level0_row5\" class=\"row_heading level0 row5\" >5</th>\n",
       "                        <td id=\"T_de714_row5_col0\" class=\"data row5 col0\" >4500000</td>\n",
       "            </tr>\n",
       "            <tr>\n",
       "                        <th id=\"T_de714_level0_row6\" class=\"row_heading level0 row6\" >6</th>\n",
       "                        <td id=\"T_de714_row6_col0\" class=\"data row6 col0\" >4500000</td>\n",
       "            </tr>\n",
       "    </tbody></table>"
      ],
      "text/plain": [
       "<pandas.io.formats.style.Styler at 0x148863d3400>"
      ]
     },
     "metadata": {},
     "output_type": "display_data"
    },
    {
     "data": {
      "text/html": [
       "<style  type=\"text/css\" >\n",
       "</style><table id=\"T_7b662_\" ><thead>    <tr>        <th class=\"blank level0\" ></th>        <th class=\"col_heading level0 col0\" >last_price</th>    </tr>    <tr>        <th class=\"index_name level0\" >month_exposition</th>        <th class=\"blank\" ></th>    </tr></thead><tbody>\n",
       "                <tr>\n",
       "                        <th id=\"T_7b662_level0_row0\" class=\"row_heading level0 row0\" >1</th>\n",
       "                        <td id=\"T_7b662_row0_col0\" class=\"data row0 col0\" >4500000</td>\n",
       "            </tr>\n",
       "            <tr>\n",
       "                        <th id=\"T_7b662_level0_row1\" class=\"row_heading level0 row1\" >2</th>\n",
       "                        <td id=\"T_7b662_row1_col0\" class=\"data row1 col0\" >4550000</td>\n",
       "            </tr>\n",
       "            <tr>\n",
       "                        <th id=\"T_7b662_level0_row2\" class=\"row_heading level0 row2\" >3</th>\n",
       "                        <td id=\"T_7b662_row2_col0\" class=\"data row2 col0\" >4518500</td>\n",
       "            </tr>\n",
       "            <tr>\n",
       "                        <th id=\"T_7b662_level0_row3\" class=\"row_heading level0 row3\" >4</th>\n",
       "                        <td id=\"T_7b662_row3_col0\" class=\"data row3 col0\" >4700000</td>\n",
       "            </tr>\n",
       "            <tr>\n",
       "                        <th id=\"T_7b662_level0_row4\" class=\"row_heading level0 row4\" >5</th>\n",
       "                        <td id=\"T_7b662_row4_col0\" class=\"data row4 col0\" >4450000</td>\n",
       "            </tr>\n",
       "            <tr>\n",
       "                        <th id=\"T_7b662_level0_row5\" class=\"row_heading level0 row5\" >6</th>\n",
       "                        <td id=\"T_7b662_row5_col0\" class=\"data row5 col0\" >4300000</td>\n",
       "            </tr>\n",
       "            <tr>\n",
       "                        <th id=\"T_7b662_level0_row6\" class=\"row_heading level0 row6\" >7</th>\n",
       "                        <td id=\"T_7b662_row6_col0\" class=\"data row6 col0\" >4500000</td>\n",
       "            </tr>\n",
       "            <tr>\n",
       "                        <th id=\"T_7b662_level0_row7\" class=\"row_heading level0 row7\" >8</th>\n",
       "                        <td id=\"T_7b662_row7_col0\" class=\"data row7 col0\" >4500000</td>\n",
       "            </tr>\n",
       "            <tr>\n",
       "                        <th id=\"T_7b662_level0_row8\" class=\"row_heading level0 row8\" >9</th>\n",
       "                        <td id=\"T_7b662_row8_col0\" class=\"data row8 col0\" >4585000</td>\n",
       "            </tr>\n",
       "            <tr>\n",
       "                        <th id=\"T_7b662_level0_row9\" class=\"row_heading level0 row9\" >10</th>\n",
       "                        <td id=\"T_7b662_row9_col0\" class=\"data row9 col0\" >4500000</td>\n",
       "            </tr>\n",
       "            <tr>\n",
       "                        <th id=\"T_7b662_level0_row10\" class=\"row_heading level0 row10\" >11</th>\n",
       "                        <td id=\"T_7b662_row10_col0\" class=\"data row10 col0\" >4580000</td>\n",
       "            </tr>\n",
       "            <tr>\n",
       "                        <th id=\"T_7b662_level0_row11\" class=\"row_heading level0 row11\" >12</th>\n",
       "                        <td id=\"T_7b662_row11_col0\" class=\"data row11 col0\" >4577500</td>\n",
       "            </tr>\n",
       "    </tbody></table>"
      ],
      "text/plain": [
       "<pandas.io.formats.style.Styler at 0x148865f4820>"
      ]
     },
     "metadata": {},
     "output_type": "display_data"
    },
    {
     "data": {
      "text/html": [
       "<style  type=\"text/css\" >\n",
       "</style><table id=\"T_57b7c_\" ><thead>    <tr>        <th class=\"blank level0\" ></th>        <th class=\"col_heading level0 col0\" >last_price</th>    </tr>    <tr>        <th class=\"index_name level0\" >year_exposition</th>        <th class=\"blank\" ></th>    </tr></thead><tbody>\n",
       "                <tr>\n",
       "                        <th id=\"T_57b7c_level0_row0\" class=\"row_heading level0 row0\" >2014</th>\n",
       "                        <td id=\"T_57b7c_row0_col0\" class=\"data row0 col0\" >7500000</td>\n",
       "            </tr>\n",
       "            <tr>\n",
       "                        <th id=\"T_57b7c_level0_row1\" class=\"row_heading level0 row1\" >2015</th>\n",
       "                        <td id=\"T_57b7c_row1_col0\" class=\"data row1 col0\" >4900000</td>\n",
       "            </tr>\n",
       "            <tr>\n",
       "                        <th id=\"T_57b7c_level0_row2\" class=\"row_heading level0 row2\" >2016</th>\n",
       "                        <td id=\"T_57b7c_row2_col0\" class=\"data row2 col0\" >4400000</td>\n",
       "            </tr>\n",
       "            <tr>\n",
       "                        <th id=\"T_57b7c_level0_row3\" class=\"row_heading level0 row3\" >2017</th>\n",
       "                        <td id=\"T_57b7c_row3_col0\" class=\"data row3 col0\" >4400000</td>\n",
       "            </tr>\n",
       "            <tr>\n",
       "                        <th id=\"T_57b7c_level0_row4\" class=\"row_heading level0 row4\" >2018</th>\n",
       "                        <td id=\"T_57b7c_row4_col0\" class=\"data row4 col0\" >4500000</td>\n",
       "            </tr>\n",
       "            <tr>\n",
       "                        <th id=\"T_57b7c_level0_row5\" class=\"row_heading level0 row5\" >2019</th>\n",
       "                        <td id=\"T_57b7c_row5_col0\" class=\"data row5 col0\" >4990000</td>\n",
       "            </tr>\n",
       "    </tbody></table>"
      ],
      "text/plain": [
       "<pandas.io.formats.style.Styler at 0x148865aa3d0>"
      ]
     },
     "metadata": {},
     "output_type": "display_data"
    }
   ],
   "source": [
    "# получение медианной цены\n",
    "for factor in second_factors:\n",
    "    display(good_df.groupby(factor)\n",
    "        ['last_price'].median().to_frame().style.format('{:.0f}'))"
   ]
  },
  {
   "cell_type": "markdown",
   "id": "602c85ab",
   "metadata": {},
   "source": [
    "Какое-то значительное отличие есть только для объявлений от 2014 года, но вероятно, это так также по причине слишком малого количества самих объявлений."
   ]
  },
  {
   "cell_type": "markdown",
   "id": "97d186e9",
   "metadata": {},
   "source": [
    "**Промежуточные выводы**\n",
    "\n",
    "После рассмотрения взаимосвязей различных параметров из всех рассмотренных факторов только один ощутимо влияет на цену квартиры, а именно её площадь. Какой-либо заменой корелляции между остальными параметрами и стоимостью выявить не удалось."
   ]
  },
  {
   "cell_type": "markdown",
   "id": "6acd109e",
   "metadata": {},
   "source": [
    "### Выборка характерных населённых пунктов"
   ]
  },
  {
   "cell_type": "markdown",
   "id": "05d8b6cc",
   "metadata": {},
   "source": [
    "Рассмотрим характерные для данного датасета населённые пункты — топ-10 с наибольшим количеством объявлений, из которых выделим пункты с самой высокой и самой низкой стоимостью за кв. м."
   ]
  },
  {
   "cell_type": "code",
   "execution_count": 60,
   "id": "94da67dc",
   "metadata": {},
   "outputs": [
    {
     "data": {
      "text/html": [
       "<div>\n",
       "<style scoped>\n",
       "    .dataframe tbody tr th:only-of-type {\n",
       "        vertical-align: middle;\n",
       "    }\n",
       "\n",
       "    .dataframe tbody tr th {\n",
       "        vertical-align: top;\n",
       "    }\n",
       "\n",
       "    .dataframe thead th {\n",
       "        text-align: right;\n",
       "    }\n",
       "</style>\n",
       "<table border=\"1\" class=\"dataframe\">\n",
       "  <thead>\n",
       "    <tr style=\"text-align: right;\">\n",
       "      <th></th>\n",
       "      <th>price_square_m</th>\n",
       "      <th>count</th>\n",
       "    </tr>\n",
       "    <tr>\n",
       "      <th>locality_name</th>\n",
       "      <th></th>\n",
       "      <th></th>\n",
       "    </tr>\n",
       "  </thead>\n",
       "  <tbody>\n",
       "    <tr>\n",
       "      <th>санкт-петербург</th>\n",
       "      <td>103550.0</td>\n",
       "      <td>14118</td>\n",
       "    </tr>\n",
       "    <tr>\n",
       "      <th>пушкин</th>\n",
       "      <td>99725.0</td>\n",
       "      <td>338</td>\n",
       "    </tr>\n",
       "    <tr>\n",
       "      <th>деревня кудрово</th>\n",
       "      <td>91831.5</td>\n",
       "      <td>280</td>\n",
       "    </tr>\n",
       "    <tr>\n",
       "      <th>посёлок парголово</th>\n",
       "      <td>91428.0</td>\n",
       "      <td>319</td>\n",
       "    </tr>\n",
       "    <tr>\n",
       "      <th>посёлок мурино</th>\n",
       "      <td>85878.0</td>\n",
       "      <td>500</td>\n",
       "    </tr>\n",
       "    <tr>\n",
       "      <th>посёлок шушары</th>\n",
       "      <td>76747.5</td>\n",
       "      <td>426</td>\n",
       "    </tr>\n",
       "    <tr>\n",
       "      <th>колпино</th>\n",
       "      <td>74468.0</td>\n",
       "      <td>331</td>\n",
       "    </tr>\n",
       "    <tr>\n",
       "      <th>гатчина</th>\n",
       "      <td>67860.0</td>\n",
       "      <td>290</td>\n",
       "    </tr>\n",
       "    <tr>\n",
       "      <th>всеволожск</th>\n",
       "      <td>65789.0</td>\n",
       "      <td>380</td>\n",
       "    </tr>\n",
       "    <tr>\n",
       "      <th>выборг</th>\n",
       "      <td>58416.5</td>\n",
       "      <td>216</td>\n",
       "    </tr>\n",
       "  </tbody>\n",
       "</table>\n",
       "</div>"
      ],
      "text/plain": [
       "                   price_square_m  count\n",
       "locality_name                           \n",
       "санкт-петербург          103550.0  14118\n",
       "пушкин                    99725.0    338\n",
       "деревня кудрово           91831.5    280\n",
       "посёлок парголово         91428.0    319\n",
       "посёлок мурино            85878.0    500\n",
       "посёлок шушары            76747.5    426\n",
       "колпино                   74468.0    331\n",
       "гатчина                   67860.0    290\n",
       "всеволожск                65789.0    380\n",
       "выборг                    58416.5    216"
      ]
     },
     "execution_count": 60,
     "metadata": {},
     "output_type": "execute_result"
    }
   ],
   "source": [
    "# получение пунктов с наибольшим количеством объявлений\n",
    "top_10_by_advertisement = good_df.pivot_table(\n",
    "    index='locality_name',\n",
    "    values='price_square_m',\n",
    "    aggfunc=['median', 'count']\n",
    ")\n",
    "top_10_by_advertisement.columns=['price_square_m', 'count']\n",
    "top_10_by_advertisement = top_10_by_advertisement.sort_values(\n",
    "    by=['count'], ascending=False).head(10)\n",
    "\n",
    "# отображение пунктов с градацией по цене\n",
    "top_10_by_advertisement = top_10_by_advertisement.sort_values(\n",
    "    by=['price_square_m'], ascending=False)\n",
    "top_10_by_advertisement"
   ]
  },
  {
   "cell_type": "code",
   "execution_count": 61,
   "id": "3b75fa3f",
   "metadata": {},
   "outputs": [
    {
     "name": "stdout",
     "output_type": "stream",
     "text": [
      "Населённый пункт с самой высокой ценой — санкт-петербург\n",
      "Населённый пункт с самой низкой ценой — выборг\n"
     ]
    }
   ],
   "source": [
    "# отображение пунктов с максимальным и минимальным значением\n",
    "i = top_10_by_advertisement.index[0]\n",
    "y = top_10_by_advertisement.index[-1]\n",
    "print(f'Населённый пункт с самой высокой ценой — {i}')\n",
    "print(f'Населённый пункт с самой низкой ценой — {y}')\n"
   ]
  },
  {
   "cell_type": "markdown",
   "id": "8634bfa5",
   "metadata": {},
   "source": [
    "**Промежуточные выводы**\n",
    "\n",
    "Из наиболее активных по продажам регионов населённый пункт с самой высокой ценой за кв. м. жилья — Санкт-Петербург, а с самой низкой — Выборг."
   ]
  },
  {
   "cell_type": "markdown",
   "id": "61162bca",
   "metadata": {},
   "source": [
    "### Определение границ центральной зоны"
   ]
  },
  {
   "cell_type": "markdown",
   "id": "9cf4c93e",
   "metadata": {},
   "source": [
    "Среди параметров квартир есть расстояние, указывающее, в скольких метрах от центра находится конкретная квартира. Определимся с границами центральной области. Для анализа возьмём квартиры из Санкт-Петербурга."
   ]
  },
  {
   "cell_type": "code",
   "execution_count": 62,
   "id": "8a4041e8",
   "metadata": {},
   "outputs": [],
   "source": [
    "# создание среза с квартирами в Санкт-Петербурге\n",
    "spb_apartments = good_df.query('locality_name == \"санкт-петербург\"')\n",
    "\n",
    "# получение столбца со значениями расстояния в километрах\n",
    "spb_apartments = spb_apartments.assign(\n",
    "    km_to_city_center = (spb_apartments.m_to_city_center / 1000)\n",
    ")\n",
    "spb_apartments.km_to_city_center = (\n",
    "    spb_apartments.km_to_city_center.convert_dtypes().astype('Int32')\n",
    ")"
   ]
  },
  {
   "cell_type": "code",
   "execution_count": 63,
   "id": "25d1f6df-a63f-42b6-88ca-be83f164be2d",
   "metadata": {},
   "outputs": [
    {
     "data": {
      "text/html": [
       "<div>\n",
       "<style scoped>\n",
       "    .dataframe tbody tr th:only-of-type {\n",
       "        vertical-align: middle;\n",
       "    }\n",
       "\n",
       "    .dataframe tbody tr th {\n",
       "        vertical-align: top;\n",
       "    }\n",
       "\n",
       "    .dataframe thead th {\n",
       "        text-align: right;\n",
       "    }\n",
       "</style>\n",
       "<table border=\"1\" class=\"dataframe\">\n",
       "  <thead>\n",
       "    <tr style=\"text-align: right;\">\n",
       "      <th></th>\n",
       "      <th>last_price</th>\n",
       "    </tr>\n",
       "    <tr>\n",
       "      <th>km_to_city_center</th>\n",
       "      <th></th>\n",
       "    </tr>\n",
       "  </thead>\n",
       "  <tbody>\n",
       "    <tr>\n",
       "      <th>0</th>\n",
       "      <td>9000000</td>\n",
       "    </tr>\n",
       "    <tr>\n",
       "      <th>1</th>\n",
       "      <td>9200000</td>\n",
       "    </tr>\n",
       "    <tr>\n",
       "      <th>2</th>\n",
       "      <td>8418000</td>\n",
       "    </tr>\n",
       "    <tr>\n",
       "      <th>3</th>\n",
       "      <td>7800000</td>\n",
       "    </tr>\n",
       "    <tr>\n",
       "      <th>4</th>\n",
       "      <td>8500000</td>\n",
       "    </tr>\n",
       "    <tr>\n",
       "      <th>5</th>\n",
       "      <td>7810000</td>\n",
       "    </tr>\n",
       "    <tr>\n",
       "      <th>6</th>\n",
       "      <td>6900000</td>\n",
       "    </tr>\n",
       "    <tr>\n",
       "      <th>7</th>\n",
       "      <td>6900000</td>\n",
       "    </tr>\n",
       "    <tr>\n",
       "      <th>8</th>\n",
       "      <td>6200000</td>\n",
       "    </tr>\n",
       "    <tr>\n",
       "      <th>9</th>\n",
       "      <td>4990000</td>\n",
       "    </tr>\n",
       "    <tr>\n",
       "      <th>10</th>\n",
       "      <td>4950000</td>\n",
       "    </tr>\n",
       "    <tr>\n",
       "      <th>11</th>\n",
       "      <td>4950000</td>\n",
       "    </tr>\n",
       "    <tr>\n",
       "      <th>12</th>\n",
       "      <td>5000000</td>\n",
       "    </tr>\n",
       "    <tr>\n",
       "      <th>13</th>\n",
       "      <td>5150000</td>\n",
       "    </tr>\n",
       "    <tr>\n",
       "      <th>14</th>\n",
       "      <td>4870000</td>\n",
       "    </tr>\n",
       "    <tr>\n",
       "      <th>15</th>\n",
       "      <td>4800000</td>\n",
       "    </tr>\n",
       "    <tr>\n",
       "      <th>16</th>\n",
       "      <td>4600000</td>\n",
       "    </tr>\n",
       "    <tr>\n",
       "      <th>17</th>\n",
       "      <td>4350000</td>\n",
       "    </tr>\n",
       "    <tr>\n",
       "      <th>18</th>\n",
       "      <td>4300000</td>\n",
       "    </tr>\n",
       "    <tr>\n",
       "      <th>19</th>\n",
       "      <td>4474500</td>\n",
       "    </tr>\n",
       "    <tr>\n",
       "      <th>20</th>\n",
       "      <td>5990000</td>\n",
       "    </tr>\n",
       "    <tr>\n",
       "      <th>21</th>\n",
       "      <td>4697500</td>\n",
       "    </tr>\n",
       "    <tr>\n",
       "      <th>22</th>\n",
       "      <td>5000000</td>\n",
       "    </tr>\n",
       "    <tr>\n",
       "      <th>23</th>\n",
       "      <td>3930000</td>\n",
       "    </tr>\n",
       "    <tr>\n",
       "      <th>24</th>\n",
       "      <td>3480000</td>\n",
       "    </tr>\n",
       "    <tr>\n",
       "      <th>25</th>\n",
       "      <td>3499500</td>\n",
       "    </tr>\n",
       "    <tr>\n",
       "      <th>26</th>\n",
       "      <td>3975000</td>\n",
       "    </tr>\n",
       "    <tr>\n",
       "      <th>27</th>\n",
       "      <td>8300000</td>\n",
       "    </tr>\n",
       "    <tr>\n",
       "      <th>28</th>\n",
       "      <td>4850000</td>\n",
       "    </tr>\n",
       "    <tr>\n",
       "      <th>29</th>\n",
       "      <td>3325000</td>\n",
       "    </tr>\n",
       "  </tbody>\n",
       "</table>\n",
       "</div>"
      ],
      "text/plain": [
       "                   last_price\n",
       "km_to_city_center            \n",
       "0                     9000000\n",
       "1                     9200000\n",
       "2                     8418000\n",
       "3                     7800000\n",
       "4                     8500000\n",
       "5                     7810000\n",
       "6                     6900000\n",
       "7                     6900000\n",
       "8                     6200000\n",
       "9                     4990000\n",
       "10                    4950000\n",
       "11                    4950000\n",
       "12                    5000000\n",
       "13                    5150000\n",
       "14                    4870000\n",
       "15                    4800000\n",
       "16                    4600000\n",
       "17                    4350000\n",
       "18                    4300000\n",
       "19                    4474500\n",
       "20                    5990000\n",
       "21                    4697500\n",
       "22                    5000000\n",
       "23                    3930000\n",
       "24                    3480000\n",
       "25                    3499500\n",
       "26                    3975000\n",
       "27                    8300000\n",
       "28                    4850000\n",
       "29                    3325000"
      ]
     },
     "execution_count": 63,
     "metadata": {},
     "output_type": "execute_result"
    }
   ],
   "source": [
    "# получение средней цены для каждого километра\n",
    "price_by_km = spb_apartments.pivot_table(\n",
    "    index='km_to_city_center',\n",
    "    values='last_price',\n",
    "    aggfunc='median'\n",
    ")\n",
    "\n",
    "# проосмотр значений\n",
    "price_by_km"
   ]
  },
  {
   "cell_type": "code",
   "execution_count": 64,
   "id": "934e08c1-fa19-4683-b078-d29f0d0d7680",
   "metadata": {},
   "outputs": [
    {
     "data": {
      "image/png": "[encoded data removed]",
      "text/plain": [
       "<Figure size 864x432 with 1 Axes>"
      ]
     },
     "metadata": {
      "needs_background": "light"
     },
     "output_type": "display_data"
    }
   ],
   "source": [
    "# получение графика для нахождения границы с сильным изменением стоимости\n",
    "ax = price_by_km.plot(\n",
    "    style='o-',\n",
    "    grid=True,\n",
    "    figsize=(12, 6)\n",
    ")\n",
    "ax.set_xlabel('Километры до центра')\n",
    "ax.set_ylabel('Цена квартиры, млн')\n",
    "plt.show()"
   ]
  },
  {
   "cell_type": "markdown",
   "id": "899c295a-b060-4a1a-baec-d70813086310",
   "metadata": {},
   "source": [
    "**Промежуточные выводы**\n",
    "\n",
    "По полученным данным видно, что средняя цена квартир становится стабильно ниже после 9 км от центра. Примем это расстояние за границу центральной области."
   ]
  },
  {
   "cell_type": "markdown",
   "id": "c25550ce",
   "metadata": {},
   "source": [
    "### Сопоставление данных для квартир в центре и всего датасета"
   ]
  },
  {
   "cell_type": "markdown",
   "id": "977bdc23",
   "metadata": {},
   "source": [
    "Выделим квартиры в центре, снова изучим распределения значений основных параметров, а также факторы, в первую очередь влияющие на стоимость квартиры. Сравним полученные выводы с выводами по всей базе."
   ]
  },
  {
   "cell_type": "markdown",
   "id": "aa57de6d-083e-4145-b59d-8ee44f288417",
   "metadata": {},
   "source": [
    "#### Изучение параметров"
   ]
  },
  {
   "cell_type": "code",
   "execution_count": 65,
   "id": "a85ccd79-3e19-426b-9c39-bfec43fd7ce4",
   "metadata": {},
   "outputs": [
    {
     "data": {
      "text/html": [
       "<style  type=\"text/css\" >\n",
       "</style><table id=\"T_e021d_\" ><thead>    <tr>        <th class=\"blank level0\" ></th>        <th class=\"col_heading level0 col0\" >last_price</th>    </tr></thead><tbody>\n",
       "                <tr>\n",
       "                        <th id=\"T_e021d_level0_row0\" class=\"row_heading level0 row0\" >count</th>\n",
       "                        <td id=\"T_e021d_row0_col0\" class=\"data row0 col0\" >3287.00</td>\n",
       "            </tr>\n",
       "            <tr>\n",
       "                        <th id=\"T_e021d_level0_row1\" class=\"row_heading level0 row1\" >mean</th>\n",
       "                        <td id=\"T_e021d_row1_col0\" class=\"data row1 col0\" >8430023.83</td>\n",
       "            </tr>\n",
       "            <tr>\n",
       "                        <th id=\"T_e021d_level0_row2\" class=\"row_heading level0 row2\" >std</th>\n",
       "                        <td id=\"T_e021d_row2_col0\" class=\"data row2 col0\" >3646191.14</td>\n",
       "            </tr>\n",
       "            <tr>\n",
       "                        <th id=\"T_e021d_level0_row3\" class=\"row_heading level0 row3\" >min</th>\n",
       "                        <td id=\"T_e021d_row3_col0\" class=\"data row3 col0\" >1600000.00</td>\n",
       "            </tr>\n",
       "            <tr>\n",
       "                        <th id=\"T_e021d_level0_row4\" class=\"row_heading level0 row4\" >25%</th>\n",
       "                        <td id=\"T_e021d_row4_col0\" class=\"data row4 col0\" >5771378.50</td>\n",
       "            </tr>\n",
       "            <tr>\n",
       "                        <th id=\"T_e021d_level0_row5\" class=\"row_heading level0 row5\" >50%</th>\n",
       "                        <td id=\"T_e021d_row5_col0\" class=\"data row5 col0\" >7700000.00</td>\n",
       "            </tr>\n",
       "            <tr>\n",
       "                        <th id=\"T_e021d_level0_row6\" class=\"row_heading level0 row6\" >75%</th>\n",
       "                        <td id=\"T_e021d_row6_col0\" class=\"data row6 col0\" >10450000.00</td>\n",
       "            </tr>\n",
       "            <tr>\n",
       "                        <th id=\"T_e021d_level0_row7\" class=\"row_heading level0 row7\" >max</th>\n",
       "                        <td id=\"T_e021d_row7_col0\" class=\"data row7 col0\" >20000000.00</td>\n",
       "            </tr>\n",
       "    </tbody></table>"
      ],
      "text/plain": [
       "<pandas.io.formats.style.Styler at 0x14886982d60>"
      ]
     },
     "execution_count": 65,
     "metadata": {},
     "output_type": "execute_result"
    }
   ],
   "source": [
    "# создание среза квартир в центре\n",
    "central_apartments = good_df.query('m_to_city_center < 9000')\n",
    "\n",
    "# получение числового описания\n",
    "central_apartments.last_price.describe().to_frame().style.format('{:.2f}')"
   ]
  },
  {
   "cell_type": "code",
   "execution_count": 66,
   "id": "d450b522-8c30-49e1-9643-761809523dec",
   "metadata": {},
   "outputs": [
    {
     "data": {
      "image/png": "[encoded data removed]",
      "text/plain": [
       "<Figure size 432x288 with 1 Axes>"
      ]
     },
     "metadata": {
      "needs_background": "light"
     },
     "output_type": "display_data"
    }
   ],
   "source": [
    "# формирование гистограммы\n",
    "central_apartments['last_price'].plot(\n",
    "    kind='hist',\n",
    "    grid=True,\n",
    "    bins=30,\n",
    "    title='Цена',\n",
    "    legend=True\n",
    ")\n",
    "plt.show()"
   ]
  },
  {
   "cell_type": "code",
   "execution_count": 67,
   "id": "b2bf1b44-78ac-4ca8-8e4a-60cac7828195",
   "metadata": {},
   "outputs": [
    {
     "name": "stdout",
     "output_type": "stream",
     "text": [
      "Средняя цена квартир всего датасета 4500000\n",
      "Средняя цена квартир в центре 7700000\n",
      "Разница составляет 71.11%\n"
     ]
    }
   ],
   "source": [
    "# оотоображение разницы средних показателей целого датасета и среза\n",
    "i = good_df['last_price'].median()\n",
    "y = central_apartments['last_price'].median()\n",
    "k = (y-i)/i\n",
    "print(f'Средняя цена квартир всего датасета {i:.0f}')\n",
    "print(f'Средняя цена квартир в центре {y:.0f}')\n",
    "print(f'Разница составляет {k:.2%}')"
   ]
  },
  {
   "cell_type": "markdown",
   "id": "1c1e3e55-29e6-47a0-a771-2eee4b4e598e",
   "metadata": {},
   "source": [
    "Cредняя стоимость квартир в центре значительно выросла по сравнению со средней ценой для всего датасета."
   ]
  },
  {
   "cell_type": "code",
   "execution_count": 68,
   "id": "51344803-7d5f-4ca6-9021-40cc5384237c",
   "metadata": {},
   "outputs": [
    {
     "data": {
      "text/html": [
       "<style  type=\"text/css\" >\n",
       "</style><table id=\"T_9ba55_\" ><thead>    <tr>        <th class=\"blank level0\" ></th>        <th class=\"col_heading level0 col0\" >total_area</th>    </tr></thead><tbody>\n",
       "                <tr>\n",
       "                        <th id=\"T_9ba55_level0_row0\" class=\"row_heading level0 row0\" >count</th>\n",
       "                        <td id=\"T_9ba55_row0_col0\" class=\"data row0 col0\" >3287.00</td>\n",
       "            </tr>\n",
       "            <tr>\n",
       "                        <th id=\"T_9ba55_level0_row1\" class=\"row_heading level0 row1\" >mean</th>\n",
       "                        <td id=\"T_9ba55_row1_col0\" class=\"data row1 col0\" >69.94</td>\n",
       "            </tr>\n",
       "            <tr>\n",
       "                        <th id=\"T_9ba55_level0_row2\" class=\"row_heading level0 row2\" >std</th>\n",
       "                        <td id=\"T_9ba55_row2_col0\" class=\"data row2 col0\" >26.43</td>\n",
       "            </tr>\n",
       "            <tr>\n",
       "                        <th id=\"T_9ba55_level0_row3\" class=\"row_heading level0 row3\" >min</th>\n",
       "                        <td id=\"T_9ba55_row3_col0\" class=\"data row3 col0\" >20.00</td>\n",
       "            </tr>\n",
       "            <tr>\n",
       "                        <th id=\"T_9ba55_level0_row4\" class=\"row_heading level0 row4\" >25%</th>\n",
       "                        <td id=\"T_9ba55_row4_col0\" class=\"data row4 col0\" >48.00</td>\n",
       "            </tr>\n",
       "            <tr>\n",
       "                        <th id=\"T_9ba55_level0_row5\" class=\"row_heading level0 row5\" >50%</th>\n",
       "                        <td id=\"T_9ba55_row5_col0\" class=\"data row5 col0\" >67.00</td>\n",
       "            </tr>\n",
       "            <tr>\n",
       "                        <th id=\"T_9ba55_level0_row6\" class=\"row_heading level0 row6\" >75%</th>\n",
       "                        <td id=\"T_9ba55_row6_col0\" class=\"data row6 col0\" >86.50</td>\n",
       "            </tr>\n",
       "            <tr>\n",
       "                        <th id=\"T_9ba55_level0_row7\" class=\"row_heading level0 row7\" >max</th>\n",
       "                        <td id=\"T_9ba55_row7_col0\" class=\"data row7 col0\" >150.00</td>\n",
       "            </tr>\n",
       "    </tbody></table>"
      ],
      "text/plain": [
       "<pandas.io.formats.style.Styler at 0x14886b882e0>"
      ]
     },
     "execution_count": 68,
     "metadata": {},
     "output_type": "execute_result"
    }
   ],
   "source": [
    "# получение числового описания\n",
    "central_apartments.total_area.describe().to_frame().style.format('{:.2f}')"
   ]
  },
  {
   "cell_type": "code",
   "execution_count": 69,
   "id": "f03c07a4-3b6b-4d07-97e3-aad2b5c99567",
   "metadata": {},
   "outputs": [
    {
     "data": {
      "image/png": "[encoded data removed]",
      "text/plain": [
       "<Figure size 432x288 with 1 Axes>"
      ]
     },
     "metadata": {
      "needs_background": "light"
     },
     "output_type": "display_data"
    }
   ],
   "source": [
    "# формирование гистограммы\n",
    "central_apartments['total_area'].plot(\n",
    "    kind='hist',\n",
    "    grid=True,\n",
    "    bins=30,\n",
    "    title='Общая площадь',\n",
    "    legend=True\n",
    ")\n",
    "plt.show()"
   ]
  },
  {
   "cell_type": "code",
   "execution_count": 70,
   "id": "157ac19f-fbf8-46b6-ab10-3c65ad9fc275",
   "metadata": {},
   "outputs": [
    {
     "name": "stdout",
     "output_type": "stream",
     "text": [
      "Средняя площадь квартир всего датасета 50\n",
      "Средняя площадь квартир в центре 67\n",
      "Разница составляет 32.67%\n"
     ]
    }
   ],
   "source": [
    "# оотоображение разницы средних показателей целого датасета и среза\n",
    "i = good_df['total_area'].median()\n",
    "y = central_apartments['total_area'].median()\n",
    "k = (y-i)/i\n",
    "print(f'Средняя площадь квартир всего датасета {i:.0f}')\n",
    "print(f'Средняя площадь квартир в центре {y:.0f}')\n",
    "print(f'Разница составляет {k:.2%}')"
   ]
  },
  {
   "cell_type": "markdown",
   "id": "00e780b6-2e04-43b1-85c8-6621fe99190c",
   "metadata": {},
   "source": [
    "Средняя площадь центральных квартир также увеличилась."
   ]
  },
  {
   "cell_type": "code",
   "execution_count": 71,
   "id": "6685f706-cfe0-4432-8007-00adf61630ba",
   "metadata": {},
   "outputs": [
    {
     "data": {
      "text/html": [
       "<style  type=\"text/css\" >\n",
       "</style><table id=\"T_c7f60_\" ><thead>    <tr>        <th class=\"blank level0\" ></th>        <th class=\"col_heading level0 col0\" >rooms</th>    </tr></thead><tbody>\n",
       "                <tr>\n",
       "                        <th id=\"T_c7f60_level0_row0\" class=\"row_heading level0 row0\" >count</th>\n",
       "                        <td id=\"T_c7f60_row0_col0\" class=\"data row0 col0\" >3287.00</td>\n",
       "            </tr>\n",
       "            <tr>\n",
       "                        <th id=\"T_c7f60_level0_row1\" class=\"row_heading level0 row1\" >mean</th>\n",
       "                        <td id=\"T_c7f60_row1_col0\" class=\"data row1 col0\" >2.38</td>\n",
       "            </tr>\n",
       "            <tr>\n",
       "                        <th id=\"T_c7f60_level0_row2\" class=\"row_heading level0 row2\" >std</th>\n",
       "                        <td id=\"T_c7f60_row2_col0\" class=\"data row2 col0\" >1.02</td>\n",
       "            </tr>\n",
       "            <tr>\n",
       "                        <th id=\"T_c7f60_level0_row3\" class=\"row_heading level0 row3\" >min</th>\n",
       "                        <td id=\"T_c7f60_row3_col0\" class=\"data row3 col0\" >0.00</td>\n",
       "            </tr>\n",
       "            <tr>\n",
       "                        <th id=\"T_c7f60_level0_row4\" class=\"row_heading level0 row4\" >25%</th>\n",
       "                        <td id=\"T_c7f60_row4_col0\" class=\"data row4 col0\" >2.00</td>\n",
       "            </tr>\n",
       "            <tr>\n",
       "                        <th id=\"T_c7f60_level0_row5\" class=\"row_heading level0 row5\" >50%</th>\n",
       "                        <td id=\"T_c7f60_row5_col0\" class=\"data row5 col0\" >2.00</td>\n",
       "            </tr>\n",
       "            <tr>\n",
       "                        <th id=\"T_c7f60_level0_row6\" class=\"row_heading level0 row6\" >75%</th>\n",
       "                        <td id=\"T_c7f60_row6_col0\" class=\"data row6 col0\" >3.00</td>\n",
       "            </tr>\n",
       "            <tr>\n",
       "                        <th id=\"T_c7f60_level0_row7\" class=\"row_heading level0 row7\" >max</th>\n",
       "                        <td id=\"T_c7f60_row7_col0\" class=\"data row7 col0\" >5.00</td>\n",
       "            </tr>\n",
       "    </tbody></table>"
      ],
      "text/plain": [
       "<pandas.io.formats.style.Styler at 0x148866abe80>"
      ]
     },
     "execution_count": 71,
     "metadata": {},
     "output_type": "execute_result"
    }
   ],
   "source": [
    "# получение числового описания\n",
    "central_apartments.rooms.describe().to_frame().style.format('{:.2f}')"
   ]
  },
  {
   "cell_type": "code",
   "execution_count": 72,
   "id": "32fd982e-43c0-4740-83cc-8d4d57fcc641",
   "metadata": {},
   "outputs": [
    {
     "data": {
      "image/png": "[encoded data removed]",
      "text/plain": [
       "<Figure size 432x288 with 1 Axes>"
      ]
     },
     "metadata": {
      "needs_background": "light"
     },
     "output_type": "display_data"
    }
   ],
   "source": [
    "# формирование гистограммы\n",
    "central_apartments['rooms'].plot(\n",
    "    kind='hist',\n",
    "    grid=True,\n",
    "    bins=5,\n",
    "    title='Количество комнат',\n",
    "    legend=True\n",
    ")\n",
    "plt.show()"
   ]
  },
  {
   "cell_type": "code",
   "execution_count": 73,
   "id": "ac4c4720-9bcb-4c35-acb6-178f9e578284",
   "metadata": {},
   "outputs": [
    {
     "name": "stdout",
     "output_type": "stream",
     "text": [
      "Среднее количество комнат для всего датасета 2\n",
      "Среднее количество комнат для квартир в центре 2\n",
      "Разница составляет 0.00%\n"
     ]
    }
   ],
   "source": [
    "# оотоображение разницы средних показателей целого датасета и среза\n",
    "i = good_df['rooms'].median()\n",
    "y = central_apartments['rooms'].median()\n",
    "k = (y-i)/i\n",
    "print(f'Среднее количество комнат для всего датасета {i:.0f}')\n",
    "print(f'Среднее количество комнат для квартир в центре {y:.0f}')\n",
    "print(f'Разница составляет {k:.2%}')"
   ]
  },
  {
   "cell_type": "markdown",
   "id": "5ef074e7-c9cd-4152-b95c-0e28f024de1d",
   "metadata": {},
   "source": [
    "По распределению количества комнат изменений нет."
   ]
  },
  {
   "cell_type": "code",
   "execution_count": 74,
   "id": "8098e21a-8fde-4fb6-8145-354aab2d14a9",
   "metadata": {},
   "outputs": [
    {
     "data": {
      "text/html": [
       "<style  type=\"text/css\" >\n",
       "</style><table id=\"T_69317_\" ><thead>    <tr>        <th class=\"blank level0\" ></th>        <th class=\"col_heading level0 col0\" >ceiling_height</th>    </tr></thead><tbody>\n",
       "                <tr>\n",
       "                        <th id=\"T_69317_level0_row0\" class=\"row_heading level0 row0\" >count</th>\n",
       "                        <td id=\"T_69317_row0_col0\" class=\"data row0 col0\" >2083.00</td>\n",
       "            </tr>\n",
       "            <tr>\n",
       "                        <th id=\"T_69317_level0_row1\" class=\"row_heading level0 row1\" >mean</th>\n",
       "                        <td id=\"T_69317_row1_col0\" class=\"data row1 col0\" >2.94</td>\n",
       "            </tr>\n",
       "            <tr>\n",
       "                        <th id=\"T_69317_level0_row2\" class=\"row_heading level0 row2\" >std</th>\n",
       "                        <td id=\"T_69317_row2_col0\" class=\"data row2 col0\" >0.27</td>\n",
       "            </tr>\n",
       "            <tr>\n",
       "                        <th id=\"T_69317_level0_row3\" class=\"row_heading level0 row3\" >min</th>\n",
       "                        <td id=\"T_69317_row3_col0\" class=\"data row3 col0\" >2.40</td>\n",
       "            </tr>\n",
       "            <tr>\n",
       "                        <th id=\"T_69317_level0_row4\" class=\"row_heading level0 row4\" >25%</th>\n",
       "                        <td id=\"T_69317_row4_col0\" class=\"data row4 col0\" >2.73</td>\n",
       "            </tr>\n",
       "            <tr>\n",
       "                        <th id=\"T_69317_level0_row5\" class=\"row_heading level0 row5\" >50%</th>\n",
       "                        <td id=\"T_69317_row5_col0\" class=\"data row5 col0\" >3.00</td>\n",
       "            </tr>\n",
       "            <tr>\n",
       "                        <th id=\"T_69317_level0_row6\" class=\"row_heading level0 row6\" >75%</th>\n",
       "                        <td id=\"T_69317_row6_col0\" class=\"data row6 col0\" >3.11</td>\n",
       "            </tr>\n",
       "            <tr>\n",
       "                        <th id=\"T_69317_level0_row7\" class=\"row_heading level0 row7\" >max</th>\n",
       "                        <td id=\"T_69317_row7_col0\" class=\"data row7 col0\" >3.50</td>\n",
       "            </tr>\n",
       "    </tbody></table>"
      ],
      "text/plain": [
       "<pandas.io.formats.style.Styler at 0x1488676ac40>"
      ]
     },
     "execution_count": 74,
     "metadata": {},
     "output_type": "execute_result"
    }
   ],
   "source": [
    "# получение числового описания\n",
    "central_apartments.ceiling_height.describe().to_frame().style.format('{:.2f}')"
   ]
  },
  {
   "cell_type": "code",
   "execution_count": 75,
   "id": "9f427600-89af-402e-9540-9ca422130f44",
   "metadata": {},
   "outputs": [
    {
     "data": {
      "image/png": "[encoded data removed]",
      "text/plain": [
       "<Figure size 432x288 with 1 Axes>"
      ]
     },
     "metadata": {
      "needs_background": "light"
     },
     "output_type": "display_data"
    }
   ],
   "source": [
    "# формирование гистограммы\n",
    "central_apartments['ceiling_height'].plot(\n",
    "    kind='hist',\n",
    "    grid=True,\n",
    "    bins=15,\n",
    "    title='Высота потолков',\n",
    "    legend=True\n",
    ")\n",
    "plt.show()"
   ]
  },
  {
   "cell_type": "code",
   "execution_count": 76,
   "id": "1245d11c-cf5f-44cd-8dd2-285f6f738629",
   "metadata": {},
   "outputs": [
    {
     "name": "stdout",
     "output_type": "stream",
     "text": [
      "Средняя высота потолков квартир всего датасета 3\n",
      "Средняя высота потолков квартир в центре 3\n",
      "Разница составляет 13.64%\n"
     ]
    }
   ],
   "source": [
    "# оотоображение разницы средних показателей целого датасета и среза\n",
    "i = good_df['ceiling_height'].median()\n",
    "y = central_apartments['ceiling_height'].median()\n",
    "k = (y-i)/i\n",
    "print(f'Средняя высота потолков квартир всего датасета {i:.0f}')\n",
    "print(f'Средняя высота потолков квартир в центре {y:.0f}')\n",
    "print(f'Разница составляет {k:.2%}')"
   ]
  },
  {
   "cell_type": "markdown",
   "id": "87752f67-4b35-43b5-8ed0-129ae62b8f78",
   "metadata": {},
   "source": [
    "Высота потолков также практически не изменилась, но распределение стало более хаотичным."
   ]
  },
  {
   "cell_type": "code",
   "execution_count": 77,
   "id": "0cdd35fe-7cd4-4776-ac34-e14765b06583",
   "metadata": {},
   "outputs": [
    {
     "data": {
      "text/html": [
       "<style  type=\"text/css\" >\n",
       "</style><table id=\"T_6439e_\" ><thead>    <tr>        <th class=\"blank level0\" ></th>        <th class=\"col_heading level0 col0\" >days_exposition</th>    </tr></thead><tbody>\n",
       "                <tr>\n",
       "                        <th id=\"T_6439e_level0_row0\" class=\"row_heading level0 row0\" >count</th>\n",
       "                        <td id=\"T_6439e_row0_col0\" class=\"data row0 col0\" >2807.00</td>\n",
       "            </tr>\n",
       "            <tr>\n",
       "                        <th id=\"T_6439e_level0_row1\" class=\"row_heading level0 row1\" >mean</th>\n",
       "                        <td id=\"T_6439e_row1_col0\" class=\"data row1 col0\" >174.79</td>\n",
       "            </tr>\n",
       "            <tr>\n",
       "                        <th id=\"T_6439e_level0_row2\" class=\"row_heading level0 row2\" >std</th>\n",
       "                        <td id=\"T_6439e_row2_col0\" class=\"data row2 col0\" >173.46</td>\n",
       "            </tr>\n",
       "            <tr>\n",
       "                        <th id=\"T_6439e_level0_row3\" class=\"row_heading level0 row3\" >min</th>\n",
       "                        <td id=\"T_6439e_row3_col0\" class=\"data row3 col0\" >3.00</td>\n",
       "            </tr>\n",
       "            <tr>\n",
       "                        <th id=\"T_6439e_level0_row4\" class=\"row_heading level0 row4\" >25%</th>\n",
       "                        <td id=\"T_6439e_row4_col0\" class=\"data row4 col0\" >47.50</td>\n",
       "            </tr>\n",
       "            <tr>\n",
       "                        <th id=\"T_6439e_level0_row5\" class=\"row_heading level0 row5\" >50%</th>\n",
       "                        <td id=\"T_6439e_row5_col0\" class=\"data row5 col0\" >106.00</td>\n",
       "            </tr>\n",
       "            <tr>\n",
       "                        <th id=\"T_6439e_level0_row6\" class=\"row_heading level0 row6\" >75%</th>\n",
       "                        <td id=\"T_6439e_row6_col0\" class=\"data row6 col0\" >252.00</td>\n",
       "            </tr>\n",
       "            <tr>\n",
       "                        <th id=\"T_6439e_level0_row7\" class=\"row_heading level0 row7\" >max</th>\n",
       "                        <td id=\"T_6439e_row7_col0\" class=\"data row7 col0\" >730.00</td>\n",
       "            </tr>\n",
       "    </tbody></table>"
      ],
      "text/plain": [
       "<pandas.io.formats.style.Styler at 0x14886c276d0>"
      ]
     },
     "execution_count": 77,
     "metadata": {},
     "output_type": "execute_result"
    }
   ],
   "source": [
    "# получение числового описания\n",
    "central_apartments.days_exposition.describe().to_frame().style.format('{:.2f}')"
   ]
  },
  {
   "cell_type": "code",
   "execution_count": 78,
   "id": "14a2249f-a7ad-4f7e-8300-b73e0e7f9679",
   "metadata": {},
   "outputs": [
    {
     "data": {
      "image/png": "[encoded data removed]",
      "text/plain": [
       "<Figure size 432x288 with 1 Axes>"
      ]
     },
     "metadata": {
      "needs_background": "light"
     },
     "output_type": "display_data"
    }
   ],
   "source": [
    "# формирование гистограммы\n",
    "central_apartments['days_exposition'].plot(\n",
    "    kind='hist',\n",
    "    grid=True,\n",
    "    bins=50,\n",
    "    title='Время продажи',\n",
    "    legend=True\n",
    ")\n",
    "plt.show()"
   ]
  },
  {
   "cell_type": "code",
   "execution_count": 79,
   "id": "50cc255f-8e34-45e8-9921-9749ab8b0d51",
   "metadata": {},
   "outputs": [
    {
     "name": "stdout",
     "output_type": "stream",
     "text": [
      "Среднее время продажи квартир всего датасета 90\n",
      "Среднее время продажи квартир в центре 106\n",
      "Разница составляет 17.78%\n"
     ]
    }
   ],
   "source": [
    "# отображение разницы средних показателей целого датасета и среза\n",
    "i = good_df['days_exposition'].median()\n",
    "y = central_apartments['days_exposition'].median()\n",
    "k = (y-i)/i\n",
    "print(f'Среднее время продажи квартир всего датасета {i:.0f}')\n",
    "print(f'Среднее время продажи квартир в центре {y:.0f}')\n",
    "print(f'Разница составляет {k:.2%}')"
   ]
  },
  {
   "cell_type": "markdown",
   "id": "5ec1122c-97e9-4b7a-bb53-c91cba758e95",
   "metadata": {},
   "source": [
    "Квартиры в центре в среднем продаются чуть дольше, но характер распределения значений по сравнению со всей базой не поменялся, большинство квартир также продаются в первые 3-3,5 месяца."
   ]
  },
  {
   "cell_type": "markdown",
   "id": "32aa3526-a943-465f-962a-90d4b9ee59ed",
   "metadata": {},
   "source": [
    "#### Зависимость стоимости квартиры от различных факторов"
   ]
  },
  {
   "cell_type": "code",
   "execution_count": 80,
   "id": "cde03a75-245b-4eb5-a293-11b51e99d66e",
   "metadata": {},
   "outputs": [
    {
     "data": {
      "text/html": [
       "<div>\n",
       "<style scoped>\n",
       "    .dataframe tbody tr th:only-of-type {\n",
       "        vertical-align: middle;\n",
       "    }\n",
       "\n",
       "    .dataframe tbody tr th {\n",
       "        vertical-align: top;\n",
       "    }\n",
       "\n",
       "    .dataframe thead th {\n",
       "        text-align: right;\n",
       "    }\n",
       "</style>\n",
       "<table border=\"1\" class=\"dataframe\">\n",
       "  <thead>\n",
       "    <tr style=\"text-align: right;\">\n",
       "      <th></th>\n",
       "      <th>last_price</th>\n",
       "      <th>total_area</th>\n",
       "      <th>rooms</th>\n",
       "      <th>m_to_city_center</th>\n",
       "    </tr>\n",
       "  </thead>\n",
       "  <tbody>\n",
       "    <tr>\n",
       "      <th>last_price</th>\n",
       "      <td>1.000000</td>\n",
       "      <td>0.737852</td>\n",
       "      <td>0.461974</td>\n",
       "      <td>-0.189872</td>\n",
       "    </tr>\n",
       "    <tr>\n",
       "      <th>total_area</th>\n",
       "      <td>0.737852</td>\n",
       "      <td>1.000000</td>\n",
       "      <td>0.795914</td>\n",
       "      <td>-0.239232</td>\n",
       "    </tr>\n",
       "    <tr>\n",
       "      <th>rooms</th>\n",
       "      <td>0.461974</td>\n",
       "      <td>0.795914</td>\n",
       "      <td>1.000000</td>\n",
       "      <td>-0.228273</td>\n",
       "    </tr>\n",
       "    <tr>\n",
       "      <th>m_to_city_center</th>\n",
       "      <td>-0.189872</td>\n",
       "      <td>-0.239232</td>\n",
       "      <td>-0.228273</td>\n",
       "      <td>1.000000</td>\n",
       "    </tr>\n",
       "  </tbody>\n",
       "</table>\n",
       "</div>"
      ],
      "text/plain": [
       "                  last_price  total_area     rooms  m_to_city_center\n",
       "last_price          1.000000    0.737852  0.461974         -0.189872\n",
       "total_area          0.737852    1.000000  0.795914         -0.239232\n",
       "rooms               0.461974    0.795914  1.000000         -0.228273\n",
       "m_to_city_center   -0.189872   -0.239232 -0.228273          1.000000"
      ]
     },
     "execution_count": 80,
     "metadata": {},
     "output_type": "execute_result"
    }
   ],
   "source": [
    "# получение матрицы корреляции для первых параметров\n",
    "first_factors = central_apartments[\n",
    "    ['last_price',\n",
    "    'total_area',\n",
    "    'rooms',\n",
    "    'm_to_city_center']\n",
    "]\n",
    "first_factors.corr()"
   ]
  },
  {
   "cell_type": "markdown",
   "id": "a8f77abd-1d18-4596-88ed-2be936c32166",
   "metadata": {},
   "source": [
    "Влияние первых параметров на стоимость квартиры осталось неизменным: значительно цена зависит только от общей площади помещения."
   ]
  },
  {
   "cell_type": "code",
   "execution_count": 81,
   "id": "2219fb37-be67-4016-8bf2-774363b54c3e",
   "metadata": {},
   "outputs": [
    {
     "data": {
      "image/png": "[encoded data removed]",
      "text/plain": [
       "<Figure size 432x288 with 1 Axes>"
      ]
     },
     "metadata": {
      "needs_background": "light"
     },
     "output_type": "display_data"
    },
    {
     "data": {
      "image/png": "[encoded data removed]",
      "text/plain": [
       "<Figure size 432x288 with 1 Axes>"
      ]
     },
     "metadata": {
      "needs_background": "light"
     },
     "output_type": "display_data"
    },
    {
     "data": {
      "image/png": "[encoded data removed]",
      "text/plain": [
       "<Figure size 432x288 with 1 Axes>"
      ]
     },
     "metadata": {
      "needs_background": "light"
     },
     "output_type": "display_data"
    }
   ],
   "source": [
    "# получение распределения значений стоимости квартир по разным этажам\n",
    "for floor, group_data in central_apartments.groupby('floor_category'):\n",
    "    group_data.plot(\n",
    "        y='last_price',\n",
    "        title=floor,\n",
    "        kind='hist',\n",
    "        grid=True,\n",
    "        bins=30\n",
    "    )"
   ]
  },
  {
   "cell_type": "markdown",
   "id": "a3993b15-28c2-4f7a-b57b-ae477611b31e",
   "metadata": {},
   "source": [
    "Можно сделать вывод, что этаж квартиры по-прежнему практически не влияет на её стоимость."
   ]
  },
  {
   "cell_type": "code",
   "execution_count": 82,
   "id": "cb11b7f4-4e66-41ab-9b03-c3115dc75693",
   "metadata": {},
   "outputs": [
    {
     "data": {
      "image/png": "[encoded data removed]",
      "text/plain": [
       "<Figure size 432x288 with 1 Axes>"
      ]
     },
     "metadata": {
      "needs_background": "light"
     },
     "output_type": "display_data"
    },
    {
     "data": {
      "image/png": "[encoded data removed]",
      "text/plain": [
       "<Figure size 432x288 with 1 Axes>"
      ]
     },
     "metadata": {
      "needs_background": "light"
     },
     "output_type": "display_data"
    },
    {
     "data": {
      "image/png": "[encoded data removed]",
      "text/plain": [
       "<Figure size 432x288 with 1 Axes>"
      ]
     },
     "metadata": {
      "needs_background": "light"
     },
     "output_type": "display_data"
    }
   ],
   "source": [
    "#получение матриц рассеяния по параметрам времени публикации объявлений\n",
    "second_factors = central_apartments[\n",
    "    ['day_of_week_exposition',\n",
    "    'month_exposition',\n",
    "    'year_exposition']\n",
    "]\n",
    "for factor in second_factors:\n",
    "    central_apartments.plot(\n",
    "        x=factor,\n",
    "        y='last_price',\n",
    "        kind='scatter',\n",
    "        alpha=0.05\n",
    "    )\n",
    "    plt.show()"
   ]
  },
  {
   "cell_type": "code",
   "execution_count": 83,
   "id": "bfca74c5-27cc-4034-83db-d32d2c65f0b2",
   "metadata": {},
   "outputs": [
    {
     "data": {
      "text/html": [
       "<div>\n",
       "<style scoped>\n",
       "    .dataframe tbody tr th:only-of-type {\n",
       "        vertical-align: middle;\n",
       "    }\n",
       "\n",
       "    .dataframe tbody tr th {\n",
       "        vertical-align: top;\n",
       "    }\n",
       "\n",
       "    .dataframe thead th {\n",
       "        text-align: right;\n",
       "    }\n",
       "</style>\n",
       "<table border=\"1\" class=\"dataframe\">\n",
       "  <thead>\n",
       "    <tr style=\"text-align: right;\">\n",
       "      <th></th>\n",
       "      <th>last_price</th>\n",
       "    </tr>\n",
       "    <tr>\n",
       "      <th>day_of_week_exposition</th>\n",
       "      <th></th>\n",
       "    </tr>\n",
       "  </thead>\n",
       "  <tbody>\n",
       "    <tr>\n",
       "      <th>0</th>\n",
       "      <td>486</td>\n",
       "    </tr>\n",
       "    <tr>\n",
       "      <th>1</th>\n",
       "      <td>568</td>\n",
       "    </tr>\n",
       "    <tr>\n",
       "      <th>2</th>\n",
       "      <td>561</td>\n",
       "    </tr>\n",
       "    <tr>\n",
       "      <th>3</th>\n",
       "      <td>657</td>\n",
       "    </tr>\n",
       "    <tr>\n",
       "      <th>4</th>\n",
       "      <td>570</td>\n",
       "    </tr>\n",
       "    <tr>\n",
       "      <th>5</th>\n",
       "      <td>258</td>\n",
       "    </tr>\n",
       "    <tr>\n",
       "      <th>6</th>\n",
       "      <td>187</td>\n",
       "    </tr>\n",
       "  </tbody>\n",
       "</table>\n",
       "</div>"
      ],
      "text/plain": [
       "                        last_price\n",
       "day_of_week_exposition            \n",
       "0                              486\n",
       "1                              568\n",
       "2                              561\n",
       "3                              657\n",
       "4                              570\n",
       "5                              258\n",
       "6                              187"
      ]
     },
     "metadata": {},
     "output_type": "display_data"
    },
    {
     "data": {
      "text/html": [
       "<div>\n",
       "<style scoped>\n",
       "    .dataframe tbody tr th:only-of-type {\n",
       "        vertical-align: middle;\n",
       "    }\n",
       "\n",
       "    .dataframe tbody tr th {\n",
       "        vertical-align: top;\n",
       "    }\n",
       "\n",
       "    .dataframe thead th {\n",
       "        text-align: right;\n",
       "    }\n",
       "</style>\n",
       "<table border=\"1\" class=\"dataframe\">\n",
       "  <thead>\n",
       "    <tr style=\"text-align: right;\">\n",
       "      <th></th>\n",
       "      <th>last_price</th>\n",
       "    </tr>\n",
       "    <tr>\n",
       "      <th>month_exposition</th>\n",
       "      <th></th>\n",
       "    </tr>\n",
       "  </thead>\n",
       "  <tbody>\n",
       "    <tr>\n",
       "      <th>1</th>\n",
       "      <td>195</td>\n",
       "    </tr>\n",
       "    <tr>\n",
       "      <th>2</th>\n",
       "      <td>335</td>\n",
       "    </tr>\n",
       "    <tr>\n",
       "      <th>3</th>\n",
       "      <td>350</td>\n",
       "    </tr>\n",
       "    <tr>\n",
       "      <th>4</th>\n",
       "      <td>322</td>\n",
       "    </tr>\n",
       "    <tr>\n",
       "      <th>5</th>\n",
       "      <td>197</td>\n",
       "    </tr>\n",
       "    <tr>\n",
       "      <th>6</th>\n",
       "      <td>260</td>\n",
       "    </tr>\n",
       "    <tr>\n",
       "      <th>7</th>\n",
       "      <td>246</td>\n",
       "    </tr>\n",
       "    <tr>\n",
       "      <th>8</th>\n",
       "      <td>261</td>\n",
       "    </tr>\n",
       "    <tr>\n",
       "      <th>9</th>\n",
       "      <td>296</td>\n",
       "    </tr>\n",
       "    <tr>\n",
       "      <th>10</th>\n",
       "      <td>287</td>\n",
       "    </tr>\n",
       "    <tr>\n",
       "      <th>11</th>\n",
       "      <td>323</td>\n",
       "    </tr>\n",
       "    <tr>\n",
       "      <th>12</th>\n",
       "      <td>215</td>\n",
       "    </tr>\n",
       "  </tbody>\n",
       "</table>\n",
       "</div>"
      ],
      "text/plain": [
       "                  last_price\n",
       "month_exposition            \n",
       "1                        195\n",
       "2                        335\n",
       "3                        350\n",
       "4                        322\n",
       "5                        197\n",
       "6                        260\n",
       "7                        246\n",
       "8                        261\n",
       "9                        296\n",
       "10                       287\n",
       "11                       323\n",
       "12                       215"
      ]
     },
     "metadata": {},
     "output_type": "display_data"
    },
    {
     "data": {
      "text/html": [
       "<div>\n",
       "<style scoped>\n",
       "    .dataframe tbody tr th:only-of-type {\n",
       "        vertical-align: middle;\n",
       "    }\n",
       "\n",
       "    .dataframe tbody tr th {\n",
       "        vertical-align: top;\n",
       "    }\n",
       "\n",
       "    .dataframe thead th {\n",
       "        text-align: right;\n",
       "    }\n",
       "</style>\n",
       "<table border=\"1\" class=\"dataframe\">\n",
       "  <thead>\n",
       "    <tr style=\"text-align: right;\">\n",
       "      <th></th>\n",
       "      <th>last_price</th>\n",
       "    </tr>\n",
       "    <tr>\n",
       "      <th>year_exposition</th>\n",
       "      <th></th>\n",
       "    </tr>\n",
       "  </thead>\n",
       "  <tbody>\n",
       "    <tr>\n",
       "      <th>2014</th>\n",
       "      <td>12</td>\n",
       "    </tr>\n",
       "    <tr>\n",
       "      <th>2015</th>\n",
       "      <td>153</td>\n",
       "    </tr>\n",
       "    <tr>\n",
       "      <th>2016</th>\n",
       "      <td>408</td>\n",
       "    </tr>\n",
       "    <tr>\n",
       "      <th>2017</th>\n",
       "      <td>1223</td>\n",
       "    </tr>\n",
       "    <tr>\n",
       "      <th>2018</th>\n",
       "      <td>1120</td>\n",
       "    </tr>\n",
       "    <tr>\n",
       "      <th>2019</th>\n",
       "      <td>371</td>\n",
       "    </tr>\n",
       "  </tbody>\n",
       "</table>\n",
       "</div>"
      ],
      "text/plain": [
       "                 last_price\n",
       "year_exposition            \n",
       "2014                     12\n",
       "2015                    153\n",
       "2016                    408\n",
       "2017                   1223\n",
       "2018                   1120\n",
       "2019                    371"
      ]
     },
     "metadata": {},
     "output_type": "display_data"
    }
   ],
   "source": [
    "# получение количества объявлений по разным датам\n",
    "for factor in second_factors:\n",
    "    display(central_apartments.groupby(factor)\n",
    "            ['last_price'].count().to_frame())"
   ]
  },
  {
   "cell_type": "code",
   "execution_count": 84,
   "id": "e423691b-395b-49d9-ab62-5575728462be",
   "metadata": {},
   "outputs": [
    {
     "data": {
      "text/html": [
       "<style  type=\"text/css\" >\n",
       "</style><table id=\"T_c6690_\" ><thead>    <tr>        <th class=\"blank level0\" ></th>        <th class=\"col_heading level0 col0\" >last_price</th>    </tr>    <tr>        <th class=\"index_name level0\" >day_of_week_exposition</th>        <th class=\"blank\" ></th>    </tr></thead><tbody>\n",
       "                <tr>\n",
       "                        <th id=\"T_c6690_level0_row0\" class=\"row_heading level0 row0\" >0</th>\n",
       "                        <td id=\"T_c6690_row0_col0\" class=\"data row0 col0\" >7770000</td>\n",
       "            </tr>\n",
       "            <tr>\n",
       "                        <th id=\"T_c6690_level0_row1\" class=\"row_heading level0 row1\" >1</th>\n",
       "                        <td id=\"T_c6690_row1_col0\" class=\"data row1 col0\" >7554300</td>\n",
       "            </tr>\n",
       "            <tr>\n",
       "                        <th id=\"T_c6690_level0_row2\" class=\"row_heading level0 row2\" >2</th>\n",
       "                        <td id=\"T_c6690_row2_col0\" class=\"data row2 col0\" >8000000</td>\n",
       "            </tr>\n",
       "            <tr>\n",
       "                        <th id=\"T_c6690_level0_row3\" class=\"row_heading level0 row3\" >3</th>\n",
       "                        <td id=\"T_c6690_row3_col0\" class=\"data row3 col0\" >7650000</td>\n",
       "            </tr>\n",
       "            <tr>\n",
       "                        <th id=\"T_c6690_level0_row4\" class=\"row_heading level0 row4\" >4</th>\n",
       "                        <td id=\"T_c6690_row4_col0\" class=\"data row4 col0\" >7610000</td>\n",
       "            </tr>\n",
       "            <tr>\n",
       "                        <th id=\"T_c6690_level0_row5\" class=\"row_heading level0 row5\" >5</th>\n",
       "                        <td id=\"T_c6690_row5_col0\" class=\"data row5 col0\" >7525000</td>\n",
       "            </tr>\n",
       "            <tr>\n",
       "                        <th id=\"T_c6690_level0_row6\" class=\"row_heading level0 row6\" >6</th>\n",
       "                        <td id=\"T_c6690_row6_col0\" class=\"data row6 col0\" >8000000</td>\n",
       "            </tr>\n",
       "    </tbody></table>"
      ],
      "text/plain": [
       "<pandas.io.formats.style.Styler at 0x148869e02b0>"
      ]
     },
     "metadata": {},
     "output_type": "display_data"
    },
    {
     "data": {
      "text/html": [
       "<style  type=\"text/css\" >\n",
       "</style><table id=\"T_86dff_\" ><thead>    <tr>        <th class=\"blank level0\" ></th>        <th class=\"col_heading level0 col0\" >last_price</th>    </tr>    <tr>        <th class=\"index_name level0\" >month_exposition</th>        <th class=\"blank\" ></th>    </tr></thead><tbody>\n",
       "                <tr>\n",
       "                        <th id=\"T_86dff_level0_row0\" class=\"row_heading level0 row0\" >1</th>\n",
       "                        <td id=\"T_86dff_row0_col0\" class=\"data row0 col0\" >7800000</td>\n",
       "            </tr>\n",
       "            <tr>\n",
       "                        <th id=\"T_86dff_level0_row1\" class=\"row_heading level0 row1\" >2</th>\n",
       "                        <td id=\"T_86dff_row1_col0\" class=\"data row1 col0\" >7700000</td>\n",
       "            </tr>\n",
       "            <tr>\n",
       "                        <th id=\"T_86dff_level0_row2\" class=\"row_heading level0 row2\" >3</th>\n",
       "                        <td id=\"T_86dff_row2_col0\" class=\"data row2 col0\" >7900000</td>\n",
       "            </tr>\n",
       "            <tr>\n",
       "                        <th id=\"T_86dff_level0_row3\" class=\"row_heading level0 row3\" >4</th>\n",
       "                        <td id=\"T_86dff_row3_col0\" class=\"data row3 col0\" >7625000</td>\n",
       "            </tr>\n",
       "            <tr>\n",
       "                        <th id=\"T_86dff_level0_row4\" class=\"row_heading level0 row4\" >5</th>\n",
       "                        <td id=\"T_86dff_row4_col0\" class=\"data row4 col0\" >7500000</td>\n",
       "            </tr>\n",
       "            <tr>\n",
       "                        <th id=\"T_86dff_level0_row5\" class=\"row_heading level0 row5\" >6</th>\n",
       "                        <td id=\"T_86dff_row5_col0\" class=\"data row5 col0\" >7500000</td>\n",
       "            </tr>\n",
       "            <tr>\n",
       "                        <th id=\"T_86dff_level0_row6\" class=\"row_heading level0 row6\" >7</th>\n",
       "                        <td id=\"T_86dff_row6_col0\" class=\"data row6 col0\" >8000000</td>\n",
       "            </tr>\n",
       "            <tr>\n",
       "                        <th id=\"T_86dff_level0_row7\" class=\"row_heading level0 row7\" >8</th>\n",
       "                        <td id=\"T_86dff_row7_col0\" class=\"data row7 col0\" >7600000</td>\n",
       "            </tr>\n",
       "            <tr>\n",
       "                        <th id=\"T_86dff_level0_row8\" class=\"row_heading level0 row8\" >9</th>\n",
       "                        <td id=\"T_86dff_row8_col0\" class=\"data row8 col0\" >8425000</td>\n",
       "            </tr>\n",
       "            <tr>\n",
       "                        <th id=\"T_86dff_level0_row9\" class=\"row_heading level0 row9\" >10</th>\n",
       "                        <td id=\"T_86dff_row9_col0\" class=\"data row9 col0\" >7500000</td>\n",
       "            </tr>\n",
       "            <tr>\n",
       "                        <th id=\"T_86dff_level0_row10\" class=\"row_heading level0 row10\" >11</th>\n",
       "                        <td id=\"T_86dff_row10_col0\" class=\"data row10 col0\" >7950000</td>\n",
       "            </tr>\n",
       "            <tr>\n",
       "                        <th id=\"T_86dff_level0_row11\" class=\"row_heading level0 row11\" >12</th>\n",
       "                        <td id=\"T_86dff_row11_col0\" class=\"data row11 col0\" >6850000</td>\n",
       "            </tr>\n",
       "    </tbody></table>"
      ],
      "text/plain": [
       "<pandas.io.formats.style.Styler at 0x14886b25250>"
      ]
     },
     "metadata": {},
     "output_type": "display_data"
    },
    {
     "data": {
      "text/html": [
       "<style  type=\"text/css\" >\n",
       "</style><table id=\"T_f6e2e_\" ><thead>    <tr>        <th class=\"blank level0\" ></th>        <th class=\"col_heading level0 col0\" >last_price</th>    </tr>    <tr>        <th class=\"index_name level0\" >year_exposition</th>        <th class=\"blank\" ></th>    </tr></thead><tbody>\n",
       "                <tr>\n",
       "                        <th id=\"T_f6e2e_level0_row0\" class=\"row_heading level0 row0\" >2014</th>\n",
       "                        <td id=\"T_f6e2e_row0_col0\" class=\"data row0 col0\" >10245000</td>\n",
       "            </tr>\n",
       "            <tr>\n",
       "                        <th id=\"T_f6e2e_level0_row1\" class=\"row_heading level0 row1\" >2015</th>\n",
       "                        <td id=\"T_f6e2e_row1_col0\" class=\"data row1 col0\" >7400000</td>\n",
       "            </tr>\n",
       "            <tr>\n",
       "                        <th id=\"T_f6e2e_level0_row2\" class=\"row_heading level0 row2\" >2016</th>\n",
       "                        <td id=\"T_f6e2e_row2_col0\" class=\"data row2 col0\" >7774500</td>\n",
       "            </tr>\n",
       "            <tr>\n",
       "                        <th id=\"T_f6e2e_level0_row3\" class=\"row_heading level0 row3\" >2017</th>\n",
       "                        <td id=\"T_f6e2e_row3_col0\" class=\"data row3 col0\" >7500000</td>\n",
       "            </tr>\n",
       "            <tr>\n",
       "                        <th id=\"T_f6e2e_level0_row4\" class=\"row_heading level0 row4\" >2018</th>\n",
       "                        <td id=\"T_f6e2e_row4_col0\" class=\"data row4 col0\" >7755000</td>\n",
       "            </tr>\n",
       "            <tr>\n",
       "                        <th id=\"T_f6e2e_level0_row5\" class=\"row_heading level0 row5\" >2019</th>\n",
       "                        <td id=\"T_f6e2e_row5_col0\" class=\"data row5 col0\" >7950000</td>\n",
       "            </tr>\n",
       "    </tbody></table>"
      ],
      "text/plain": [
       "<pandas.io.formats.style.Styler at 0x1488683a9d0>"
      ]
     },
     "metadata": {},
     "output_type": "display_data"
    }
   ],
   "source": [
    "# получение медианной цены\n",
    "for factor in second_factors:\n",
    "    display(central_apartments.groupby(factor)\n",
    "            ['last_price'].median().to_frame().style.format('{:.0f}'))"
   ]
  },
  {
   "cell_type": "markdown",
   "id": "dbb452ad-f753-4965-b327-d8180ca40a11",
   "metadata": {},
   "source": [
    "И снова полученные данные по сути идентичны аналогичным данным по всей базе. Средняя стоимость квартиры значительно отличается только для первого года объявлений датасета, вероятно, по причине их сильно малого количества. В целом стоимость и квартир в центре не зависит от даты публикации объявления."
   ]
  },
  {
   "cell_type": "markdown",
   "id": "e64decfe-15f5-4758-ab2f-4660f832e5f7",
   "metadata": {},
   "source": [
    "**Промежуточные выводы**\n",
    "\n",
    "Рассмотренные особенности параметров квартир в центре, а также определение факторов, в первую очередь влияющих на их цену, в целом подтверждают выводы по итогам подобного анализа всего датасета. Каких-либо значительных отличий, кроме увеличения средней площади, а скорее всего, как следствие, и средней стоимости центральных квартир, не обнаружено."
   ]
  },
  {
   "cell_type": "markdown",
   "id": "d7f01cb1",
   "metadata": {},
   "source": [
    "## Итоговый вывод"
   ]
  },
  {
   "cell_type": "markdown",
   "id": "20337be8",
   "metadata": {},
   "source": [
    "В рамках исследовния была произведена следующая работа. Для корректного взаимодействия с данными были решены проблемы с их качеством: обработаны пропуски, изменены типы данных, переименованы столбцы, строковые значения приведены к одному регистру. Для более эффективной работы с таблицей были созданы дополнительные столбцы.\n",
    "\n",
    "На этапе анализа данных были изучены особенности основных параметров квартир, а также отсеяны выбросы и редкие значения для дальнейшей работы с более характерными данными. Далее была проанализирована степень влияния различных факторов на стоимость квартир, что и являлось основной целью исследования.\n",
    "Дополнительно была выделена группа объектов в центре, для которой были изучены те же параметры и определена зависимость цены от факторов, аналогичных общему перечню помещений. Выводы по общей базе и по отдельному срезу данных в итоге совпали, что указывает в том числе на их достоверность.\n",
    "\n",
    "Формулируя итоговый вывод, можно сказать, что из всех рассмотренных факторов по сути единственным, определённо влияющим на стоимость квартиры, является её площадь. Остальные факторы не продемонстрировали какой-либо значительной связи с ценой помещений. \n",
    "\n",
    "В качестве дополнительной рекомендации для компании в целом по работе с данными/датасетами можно указать на необходимоость обратить внимание на большое количество пропусков относительно параметров, связанных с территориальным расположением объектов. Возможно, стоит собирать больше данных о точноой геолокации квартир. Также, вероятно, следует сделать более точной фильтрацию данных, так как в предоставленном датасете о квартирах можно было заметить значения параметров, явно не соответствующие жилым помещениям.\n"
   ]
  }
 ],
 "metadata": {
  "ExecuteTimeLog": [
   {
    "duration": 140,
    "start_time": "2022-04-28T21:38:53.875Z"
   },
   {
    "duration": 132,
    "start_time": "2022-04-28T21:45:15.506Z"
   },
   {
    "duration": 460,
    "start_time": "2022-04-28T22:08:35.901Z"
   },
   {
    "duration": 21,
    "start_time": "2022-04-28T22:08:36.363Z"
   },
   {
    "duration": 15,
    "start_time": "2022-04-28T22:08:36.385Z"
   },
   {
    "duration": 15,
    "start_time": "2022-04-28T22:08:36.403Z"
   },
   {
    "duration": 15,
    "start_time": "2022-04-28T22:08:36.420Z"
   },
   {
    "duration": 21,
    "start_time": "2022-04-28T22:08:36.437Z"
   },
   {
    "duration": 15,
    "start_time": "2022-04-28T22:08:36.460Z"
   },
   {
    "duration": 7,
    "start_time": "2022-04-28T22:08:36.476Z"
   },
   {
    "duration": 31,
    "start_time": "2022-04-28T22:08:36.484Z"
   },
   {
    "duration": 1346,
    "start_time": "2022-04-28T22:08:36.519Z"
   },
   {
    "duration": 11,
    "start_time": "2022-04-28T22:08:37.867Z"
   },
   {
    "duration": 17,
    "start_time": "2022-04-28T22:08:37.880Z"
   },
   {
    "duration": 9,
    "start_time": "2022-04-28T22:08:37.898Z"
   },
   {
    "duration": 15,
    "start_time": "2022-04-28T22:08:37.909Z"
   },
   {
    "duration": 4290,
    "start_time": "2022-04-28T22:08:37.926Z"
   },
   {
    "duration": 31,
    "start_time": "2022-04-28T22:08:42.217Z"
   },
   {
    "duration": 49,
    "start_time": "2022-04-28T22:08:42.250Z"
   },
   {
    "duration": 10,
    "start_time": "2022-04-28T22:08:42.301Z"
   },
   {
    "duration": 12,
    "start_time": "2022-04-28T22:08:42.312Z"
   },
   {
    "duration": 12,
    "start_time": "2022-04-28T22:08:42.325Z"
   },
   {
    "duration": 12,
    "start_time": "2022-04-28T22:08:42.339Z"
   },
   {
    "duration": 12,
    "start_time": "2022-04-28T22:08:42.353Z"
   },
   {
    "duration": 27,
    "start_time": "2022-04-28T22:08:42.366Z"
   },
   {
    "duration": 32,
    "start_time": "2022-04-28T22:08:42.394Z"
   },
   {
    "duration": 7,
    "start_time": "2022-04-28T22:08:42.428Z"
   },
   {
    "duration": 15,
    "start_time": "2022-04-28T22:08:42.437Z"
   },
   {
    "duration": 12,
    "start_time": "2022-04-28T22:08:42.453Z"
   },
   {
    "duration": 14,
    "start_time": "2022-04-28T22:08:42.495Z"
   },
   {
    "duration": 10,
    "start_time": "2022-04-28T22:08:42.511Z"
   },
   {
    "duration": 9,
    "start_time": "2022-04-28T22:08:42.523Z"
   },
   {
    "duration": 22,
    "start_time": "2022-04-28T22:08:42.533Z"
   },
   {
    "duration": 37,
    "start_time": "2022-04-28T22:08:42.557Z"
   },
   {
    "duration": 8,
    "start_time": "2022-04-28T22:08:42.596Z"
   },
   {
    "duration": 27,
    "start_time": "2022-04-28T22:08:42.605Z"
   },
   {
    "duration": 6,
    "start_time": "2022-04-28T22:08:42.633Z"
   },
   {
    "duration": 10,
    "start_time": "2022-04-28T22:08:42.640Z"
   },
   {
    "duration": 5,
    "start_time": "2022-04-28T22:08:42.652Z"
   },
   {
    "duration": 18,
    "start_time": "2022-04-28T22:08:42.693Z"
   },
   {
    "duration": 471,
    "start_time": "2022-04-28T22:08:42.713Z"
   },
   {
    "duration": 8,
    "start_time": "2022-04-28T22:08:43.186Z"
   },
   {
    "duration": 21,
    "start_time": "2022-04-28T22:08:43.195Z"
   },
   {
    "duration": 8,
    "start_time": "2022-04-28T22:08:43.218Z"
   },
   {
    "duration": 20,
    "start_time": "2022-04-28T22:08:43.227Z"
   },
   {
    "duration": 47,
    "start_time": "2022-04-28T22:08:43.248Z"
   },
   {
    "duration": 520,
    "start_time": "2022-04-29T17:35:10.502Z"
   },
   {
    "duration": 23,
    "start_time": "2022-04-29T17:35:11.024Z"
   },
   {
    "duration": 17,
    "start_time": "2022-04-29T17:35:11.048Z"
   },
   {
    "duration": 15,
    "start_time": "2022-04-29T17:35:11.067Z"
   },
   {
    "duration": 6,
    "start_time": "2022-04-29T17:35:11.084Z"
   },
   {
    "duration": 11,
    "start_time": "2022-04-29T17:35:11.092Z"
   },
   {
    "duration": 11,
    "start_time": "2022-04-29T17:35:11.104Z"
   },
   {
    "duration": 43,
    "start_time": "2022-04-29T17:35:11.116Z"
   },
   {
    "duration": 43,
    "start_time": "2022-04-29T17:35:11.161Z"
   },
   {
    "duration": 1661,
    "start_time": "2022-04-29T17:35:11.210Z"
   },
   {
    "duration": 19,
    "start_time": "2022-04-29T17:35:12.874Z"
   },
   {
    "duration": 12,
    "start_time": "2022-04-29T17:35:12.895Z"
   },
   {
    "duration": 37,
    "start_time": "2022-04-29T17:35:12.909Z"
   },
   {
    "duration": 36,
    "start_time": "2022-04-29T17:35:12.948Z"
   },
   {
    "duration": 5632,
    "start_time": "2022-04-29T17:35:12.986Z"
   },
   {
    "duration": 48,
    "start_time": "2022-04-29T17:35:18.620Z"
   },
   {
    "duration": 50,
    "start_time": "2022-04-29T17:35:18.670Z"
   },
   {
    "duration": 11,
    "start_time": "2022-04-29T17:35:18.722Z"
   },
   {
    "duration": 34,
    "start_time": "2022-04-29T17:35:18.734Z"
   },
   {
    "duration": 18,
    "start_time": "2022-04-29T17:35:18.770Z"
   },
   {
    "duration": 17,
    "start_time": "2022-04-29T17:35:18.790Z"
   },
   {
    "duration": 15,
    "start_time": "2022-04-29T17:35:18.808Z"
   },
   {
    "duration": 6,
    "start_time": "2022-04-29T17:35:18.825Z"
   },
   {
    "duration": 59,
    "start_time": "2022-04-29T17:35:18.833Z"
   },
   {
    "duration": 9,
    "start_time": "2022-04-29T17:35:18.894Z"
   },
   {
    "duration": 18,
    "start_time": "2022-04-29T17:35:18.905Z"
   },
   {
    "duration": 39,
    "start_time": "2022-04-29T17:35:18.924Z"
   },
   {
    "duration": 18,
    "start_time": "2022-04-29T17:35:18.966Z"
   },
   {
    "duration": 10,
    "start_time": "2022-04-29T17:35:18.986Z"
   },
   {
    "duration": 10,
    "start_time": "2022-04-29T17:35:18.997Z"
   },
   {
    "duration": 63,
    "start_time": "2022-04-29T17:35:19.008Z"
   },
   {
    "duration": 10,
    "start_time": "2022-04-29T17:35:19.073Z"
   },
   {
    "duration": 14,
    "start_time": "2022-04-29T17:35:19.085Z"
   },
   {
    "duration": 59,
    "start_time": "2022-04-29T17:35:19.100Z"
   },
   {
    "duration": 6,
    "start_time": "2022-04-29T17:35:19.161Z"
   },
   {
    "duration": 10,
    "start_time": "2022-04-29T17:35:19.169Z"
   },
   {
    "duration": 6,
    "start_time": "2022-04-29T17:35:19.180Z"
   },
   {
    "duration": 24,
    "start_time": "2022-04-29T17:35:19.187Z"
   },
   {
    "duration": 533,
    "start_time": "2022-04-29T17:35:19.213Z"
   },
   {
    "duration": 12,
    "start_time": "2022-04-29T17:35:19.748Z"
   },
   {
    "duration": 24,
    "start_time": "2022-04-29T17:35:19.763Z"
   },
   {
    "duration": 10,
    "start_time": "2022-04-29T17:35:19.789Z"
   },
   {
    "duration": 19,
    "start_time": "2022-04-29T17:35:19.801Z"
   },
   {
    "duration": 58,
    "start_time": "2022-04-29T17:35:19.822Z"
   },
   {
    "duration": 136,
    "start_time": "2022-05-02T13:13:37.648Z"
   },
   {
    "duration": 755,
    "start_time": "2022-05-02T13:13:40.554Z"
   },
   {
    "duration": 35,
    "start_time": "2022-05-02T13:13:41.312Z"
   },
   {
    "duration": 35,
    "start_time": "2022-05-02T13:13:41.351Z"
   },
   {
    "duration": 1113,
    "start_time": "2022-05-02T13:13:41.390Z"
   },
   {
    "duration": 26,
    "start_time": "2022-05-02T13:13:42.505Z"
   },
   {
    "duration": 9,
    "start_time": "2022-05-02T13:13:42.534Z"
   },
   {
    "duration": 19,
    "start_time": "2022-05-02T13:13:42.546Z"
   },
   {
    "duration": 10,
    "start_time": "2022-05-02T13:13:42.569Z"
   },
   {
    "duration": 82,
    "start_time": "2022-05-02T13:13:42.582Z"
   },
   {
    "duration": 108,
    "start_time": "2022-05-02T13:13:42.669Z"
   },
   {
    "duration": 24,
    "start_time": "2022-05-02T13:13:42.782Z"
   },
   {
    "duration": 22,
    "start_time": "2022-05-02T13:13:42.809Z"
   },
   {
    "duration": 30,
    "start_time": "2022-05-02T13:13:42.835Z"
   },
   {
    "duration": 20,
    "start_time": "2022-05-02T13:13:42.868Z"
   },
   {
    "duration": 95,
    "start_time": "2022-05-02T13:13:42.891Z"
   },
   {
    "duration": 99,
    "start_time": "2022-05-02T13:13:42.989Z"
   },
   {
    "duration": 65,
    "start_time": "2022-05-02T13:13:43.092Z"
   },
   {
    "duration": 193,
    "start_time": "2022-05-02T13:13:43.160Z"
   },
   {
    "duration": 17,
    "start_time": "2022-05-02T13:13:43.368Z"
   },
   {
    "duration": 46,
    "start_time": "2022-05-02T13:13:43.393Z"
   },
   {
    "duration": 36,
    "start_time": "2022-05-02T13:13:43.443Z"
   },
   {
    "duration": 9069,
    "start_time": "2022-05-02T13:13:43.482Z"
   },
   {
    "duration": 80,
    "start_time": "2022-05-02T13:13:52.554Z"
   },
   {
    "duration": 56,
    "start_time": "2022-05-02T13:13:52.637Z"
   },
   {
    "duration": 31,
    "start_time": "2022-05-02T13:13:52.696Z"
   },
   {
    "duration": 26,
    "start_time": "2022-05-02T13:13:52.730Z"
   },
   {
    "duration": 27,
    "start_time": "2022-05-02T13:13:52.759Z"
   },
   {
    "duration": 42,
    "start_time": "2022-05-02T13:13:52.795Z"
   },
   {
    "duration": 31,
    "start_time": "2022-05-02T13:13:52.840Z"
   },
   {
    "duration": 87,
    "start_time": "2022-05-02T13:13:52.874Z"
   },
   {
    "duration": 17,
    "start_time": "2022-05-02T13:13:52.964Z"
   },
   {
    "duration": 46,
    "start_time": "2022-05-02T13:13:52.985Z"
   },
   {
    "duration": 24,
    "start_time": "2022-05-02T13:13:53.034Z"
   },
   {
    "duration": 29,
    "start_time": "2022-05-02T13:13:53.061Z"
   },
   {
    "duration": 46,
    "start_time": "2022-05-02T13:13:53.094Z"
   },
   {
    "duration": 17,
    "start_time": "2022-05-02T13:13:53.142Z"
   },
   {
    "duration": 85,
    "start_time": "2022-05-02T13:13:53.161Z"
   },
   {
    "duration": 18,
    "start_time": "2022-05-02T13:13:53.248Z"
   },
   {
    "duration": 22,
    "start_time": "2022-05-02T13:13:53.269Z"
   },
   {
    "duration": 96,
    "start_time": "2022-05-02T13:13:53.293Z"
   },
   {
    "duration": 15,
    "start_time": "2022-05-02T13:13:53.392Z"
   },
   {
    "duration": 19,
    "start_time": "2022-05-02T13:13:53.413Z"
   },
   {
    "duration": 25,
    "start_time": "2022-05-02T13:13:53.434Z"
   },
   {
    "duration": 9,
    "start_time": "2022-05-02T13:13:53.462Z"
   },
   {
    "duration": 51,
    "start_time": "2022-05-02T13:13:53.474Z"
   },
   {
    "duration": 33,
    "start_time": "2022-05-02T13:13:53.528Z"
   },
   {
    "duration": 14,
    "start_time": "2022-05-02T13:13:53.565Z"
   },
   {
    "duration": 66,
    "start_time": "2022-05-02T13:13:53.582Z"
   },
   {
    "duration": 36,
    "start_time": "2022-05-02T13:13:53.651Z"
   },
   {
    "duration": 53,
    "start_time": "2022-05-02T13:13:53.690Z"
   },
   {
    "duration": 65,
    "start_time": "2022-05-02T13:19:51.252Z"
   },
   {
    "duration": 24,
    "start_time": "2022-05-02T13:20:24.978Z"
   },
   {
    "duration": 49,
    "start_time": "2022-05-02T17:32:09.990Z"
   },
   {
    "duration": 1030,
    "start_time": "2022-05-15T18:20:53.192Z"
   },
   {
    "duration": 36,
    "start_time": "2022-05-15T18:20:54.308Z"
   },
   {
    "duration": 16,
    "start_time": "2022-05-15T18:20:56.366Z"
   },
   {
    "duration": 96,
    "start_time": "2022-05-15T18:20:56.626Z"
   },
   {
    "duration": 16,
    "start_time": "2022-05-15T18:21:21.115Z"
   },
   {
    "duration": 60,
    "start_time": "2022-05-15T18:21:26.159Z"
   },
   {
    "duration": 3,
    "start_time": "2022-05-15T18:22:42.827Z"
   },
   {
    "duration": 23,
    "start_time": "2022-05-15T18:22:49.522Z"
   },
   {
    "duration": 13,
    "start_time": "2022-05-15T18:22:53.134Z"
   },
   {
    "duration": 17,
    "start_time": "2022-05-15T18:23:02.443Z"
   },
   {
    "duration": 14,
    "start_time": "2022-05-15T18:23:38.590Z"
   },
   {
    "duration": 13,
    "start_time": "2022-05-15T18:23:40.088Z"
   },
   {
    "duration": 22,
    "start_time": "2022-05-15T18:25:36.379Z"
   },
   {
    "duration": 10,
    "start_time": "2022-05-15T18:26:23.522Z"
   },
   {
    "duration": 5,
    "start_time": "2022-05-15T18:26:29.040Z"
   },
   {
    "duration": 17,
    "start_time": "2022-05-15T18:26:30.547Z"
   },
   {
    "duration": 41,
    "start_time": "2022-05-15T18:26:31.869Z"
   },
   {
    "duration": 6,
    "start_time": "2022-05-15T18:26:38.431Z"
   },
   {
    "duration": 5,
    "start_time": "2022-05-15T18:26:49.105Z"
   },
   {
    "duration": 14,
    "start_time": "2022-05-15T18:26:55.617Z"
   },
   {
    "duration": 29,
    "start_time": "2022-05-15T18:26:57.924Z"
   },
   {
    "duration": 19,
    "start_time": "2022-05-15T18:27:07.691Z"
   },
   {
    "duration": 10,
    "start_time": "2022-05-15T18:27:08.740Z"
   },
   {
    "duration": 364,
    "start_time": "2022-05-15T18:27:11.793Z"
   },
   {
    "duration": 29,
    "start_time": "2022-05-15T18:27:12.985Z"
   },
   {
    "duration": 9,
    "start_time": "2022-05-15T18:27:18.827Z"
   },
   {
    "duration": 257,
    "start_time": "2022-05-15T18:27:18.918Z"
   },
   {
    "duration": 12,
    "start_time": "2022-05-15T18:27:22.436Z"
   },
   {
    "duration": 22,
    "start_time": "2022-05-15T18:27:22.845Z"
   },
   {
    "duration": 9,
    "start_time": "2022-05-15T18:27:24.476Z"
   },
   {
    "duration": 179,
    "start_time": "2022-05-15T18:27:25.609Z"
   },
   {
    "duration": 9,
    "start_time": "2022-05-15T18:27:26.749Z"
   },
   {
    "duration": 24,
    "start_time": "2022-05-15T18:27:28.151Z"
   },
   {
    "duration": 11,
    "start_time": "2022-05-15T18:27:36.398Z"
   },
   {
    "duration": 150,
    "start_time": "2022-05-15T18:27:37.527Z"
   },
   {
    "duration": 15,
    "start_time": "2022-05-15T18:27:51.576Z"
   },
   {
    "duration": 7,
    "start_time": "2022-05-15T18:27:57.320Z"
   },
   {
    "duration": 18,
    "start_time": "2022-05-15T18:27:58.209Z"
   },
   {
    "duration": 12,
    "start_time": "2022-05-15T18:27:59.439Z"
   },
   {
    "duration": 195,
    "start_time": "2022-05-15T18:28:02.369Z"
   },
   {
    "duration": 9,
    "start_time": "2022-05-15T18:28:03.186Z"
   },
   {
    "duration": 25,
    "start_time": "2022-05-15T18:28:04.172Z"
   },
   {
    "duration": 9,
    "start_time": "2022-05-15T18:28:04.419Z"
   },
   {
    "duration": 222,
    "start_time": "2022-05-15T18:28:06.108Z"
   },
   {
    "duration": 8,
    "start_time": "2022-05-15T18:29:22.701Z"
   },
   {
    "duration": 44,
    "start_time": "2022-05-15T18:29:23.257Z"
   },
   {
    "duration": 16,
    "start_time": "2022-05-15T18:30:33.391Z"
   },
   {
    "duration": 1847,
    "start_time": "2022-05-15T18:30:34.433Z"
   },
   {
    "duration": 717,
    "start_time": "2022-05-15T18:32:06.830Z"
   },
   {
    "duration": 660,
    "start_time": "2022-05-15T18:32:11.042Z"
   },
   {
    "duration": 23,
    "start_time": "2022-05-15T18:32:16.235Z"
   },
   {
    "duration": 28,
    "start_time": "2022-05-15T18:32:23.030Z"
   },
   {
    "duration": 33,
    "start_time": "2022-05-15T18:33:01.957Z"
   },
   {
    "duration": 4,
    "start_time": "2022-05-15T18:33:03.428Z"
   },
   {
    "duration": 23,
    "start_time": "2022-05-15T18:33:07.257Z"
   },
   {
    "duration": 15,
    "start_time": "2022-05-15T18:33:07.418Z"
   },
   {
    "duration": 177,
    "start_time": "2022-05-15T18:33:07.631Z"
   },
   {
    "duration": 13,
    "start_time": "2022-05-15T18:33:14.960Z"
   },
   {
    "duration": 300,
    "start_time": "2022-05-15T18:33:19.705Z"
   },
   {
    "duration": 8,
    "start_time": "2022-05-15T18:33:20.007Z"
   },
   {
    "duration": 11,
    "start_time": "2022-05-15T18:33:21.266Z"
   },
   {
    "duration": 207,
    "start_time": "2022-05-15T18:33:21.557Z"
   },
   {
    "duration": 7,
    "start_time": "2022-05-15T18:33:21.931Z"
   },
   {
    "duration": 9,
    "start_time": "2022-05-15T18:33:23.257Z"
   },
   {
    "duration": 155,
    "start_time": "2022-05-15T18:33:24.137Z"
   },
   {
    "duration": 6,
    "start_time": "2022-05-15T18:33:25.082Z"
   },
   {
    "duration": 9,
    "start_time": "2022-05-15T18:33:27.067Z"
   },
   {
    "duration": 167,
    "start_time": "2022-05-15T18:33:28.421Z"
   },
   {
    "duration": 7,
    "start_time": "2022-05-15T18:33:30.981Z"
   },
   {
    "duration": 10,
    "start_time": "2022-05-15T18:33:36.914Z"
   },
   {
    "duration": 209,
    "start_time": "2022-05-15T18:33:39.166Z"
   },
   {
    "duration": 8,
    "start_time": "2022-05-15T18:33:40.336Z"
   },
   {
    "duration": 15,
    "start_time": "2022-05-15T18:33:42.498Z"
   },
   {
    "duration": 599,
    "start_time": "2022-05-15T18:33:43.516Z"
   },
   {
    "duration": 539,
    "start_time": "2022-05-15T18:33:44.581Z"
   },
   {
    "duration": 26,
    "start_time": "2022-05-15T18:33:45.122Z"
   },
   {
    "duration": 17,
    "start_time": "2022-05-15T18:33:45.494Z"
   }
  ],
  "interpreter": {
   "hash": "611799ef0f8765e26f9d77387c84787955d18d7593b809f6b7fc458551147fbf"
  },
  "kernelspec": {
   "display_name": "Python 3 (ipykernel)",
   "language": "python",
   "name": "python3"
  },
  "language_info": {
   "codemirror_mode": {
    "name": "ipython",
    "version": 3
   },
   "file_extension": ".py",
   "mimetype": "text/x-python",
   "name": "python",
   "nbconvert_exporter": "python",
   "pygments_lexer": "ipython3",
   "version": "3.9.12"
  },
  "toc": {
   "base_numbering": 1,
   "nav_menu": {},
   "number_sections": true,
   "sideBar": true,
   "skip_h1_title": true,
   "title_cell": "Содержание",
   "title_sidebar": "Contents",
   "toc_cell": true,
   "toc_position": {
    "height": "calc(100% - 180px)",
    "left": "10px",
    "top": "150px",
    "width": "272px"
   },
   "toc_section_display": true,
   "toc_window_display": true
  },
  "widgets": {
   "application/vnd.jupyter.widget-state+json": {
    "state": {},
    "version_major": 2,
    "version_minor": 0
   }
  }
 },
 "nbformat": 4,
 "nbformat_minor": 5
}
